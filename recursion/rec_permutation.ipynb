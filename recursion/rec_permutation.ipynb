{
 "cells": [
  {
   "cell_type": "markdown",
   "metadata": {
    "graffitiCellId": "id_op9zwiy"
   },
   "source": [
    "# Permutation using recursion"
   ]
  },
  {
   "cell_type": "markdown",
   "metadata": {
    "graffitiCellId": "id_h4gumy5"
   },
   "source": [
    "Let's use recursion to help us solve this permutation problem. \n",
    "\n",
    "Given a list of items, the goal is to find all of the permutations of that list. For example if given a list like: [\"apple\", \"water\"], you could create two permuations from it. One in the form of the original input and one in the reversed order like so: [\"water\",\"apple\"]"
   ]
  },
  {
   "cell_type": "code",
   "execution_count": 33,
   "metadata": {
    "graffitiCellId": "id_45biddl"
   },
   "outputs": [],
   "source": [
    "# Code\n",
    "\n",
    "import copy\n",
    "\n",
    "def permute(l):\n",
    "    \"\"\"\n",
    "    Return a list of permutations\n",
    "    \n",
    "    Examples:\n",
    "       permute([0, 1]) returns [ [0, 1], [1, 0] ]\n",
    "    \n",
    "    Args:\n",
    "      l(list): list of items to be permuted\n",
    "    \n",
    "    Returns:\n",
    "      list of permutation with each permuted item being represented by a list\n",
    "    \"\"\"\n",
    "    perm = []\n",
    "    if len(l) == 0:\n",
    "        perm.append([])\n",
    "    else:\n",
    "        first_element = l[0]\n",
    "        after_first = slice(1, None)\n",
    "        print(\"first_element\",first_element)\n",
    "        print(\"after_first\",after_first)\n",
    "        sub_permutes = permute(l[after_first])\n",
    "        print(\"sub_permutes\",sub_permutes)\n",
    "        for p in sub_permutes:\n",
    "            print(\"\\np\",p)\n",
    "            for j in range(0, len(p) + 1):\n",
    "                r = copy.deepcopy(p)\n",
    "                r.insert(j, first_element)\n",
    "                perm.append(r)\n",
    "                print(\"\\nr\",r)\n",
    "                print(\"perm\",perm)\n",
    "    return perm\n"
   ]
  },
  {
   "cell_type": "code",
   "execution_count": 34,
   "metadata": {
    "graffitiCellId": "id_9kv3248"
   },
   "outputs": [
    {
     "name": "stdout",
     "output_type": "stream",
     "text": [
      "first_element 0\n",
      "after_first slice(1, None, None)\n",
      "first_element 1\n",
      "after_first slice(1, None, None)\n",
      "sub_permutes [[]]\n",
      "\n",
      "p []\n",
      "\n",
      "r [1]\n",
      "perm [[1]]\n",
      "sub_permutes [[1]]\n",
      "\n",
      "p [1]\n",
      "\n",
      "r [0, 1]\n",
      "perm [[0, 1]]\n",
      "\n",
      "r [1, 0]\n",
      "perm [[0, 1], [1, 0]]\n",
      "o [[0, 1], [1, 0]]\n",
      "e [[0, 1], [1, 0]]\n",
      "Pass\n"
     ]
    }
   ],
   "source": [
    "# Test Cases \n",
    "\n",
    "# Helper Function\n",
    "def check_output(output, expected_output):\n",
    "    \"\"\"\n",
    "    Return True if output and expected_output\n",
    "    contains the same lists, False otherwise.\n",
    "    \n",
    "    Note that the ordering of the list is not important.\n",
    "    \n",
    "    Examples:\n",
    "        check_output([ [0, 1], [1, 0] ] ], [ [1, 0], [0, 1] ]) returns True\n",
    "\n",
    "    Args:\n",
    "        output(list): list of list\n",
    "        expected_output(list): list of list\n",
    "    \n",
    "    Returns:\n",
    "        bool\n",
    "    \"\"\"\n",
    "    o = copy.deepcopy(output)  # so that we don't mutate input\n",
    "    print(\"o\",o)\n",
    "    e = copy.deepcopy(expected_output)  # so that we don't mutate input\n",
    "    print(\"e\",e)\n",
    "    o.sort()\n",
    "    e.sort()\n",
    "    return o == e\n",
    "\n",
    "#print (\"Pass\" if  (check_output(permute([]), [[]])) else \"Fail\")\n",
    "#print (\"Pass\" if  (check_output(permute([0]), [[0]])) else \"Fail\")\n",
    "print (\"Pass\" if  (check_output(permute([0, 1]), [[0, 1], [1, 0]])) else \"Fail\")\n",
    "#print (\"Pass\" if  (check_output(permute([0, 1, 2]), [[0, 1, 2], [0, 2, 1], [1, 0, 2], [1, 2, 0], [2, 0, 1], [2, 1, 0]])) else \"Fail\")"
   ]
  },
  {
   "cell_type": "code",
   "execution_count": 32,
   "metadata": {},
   "outputs": [],
   "source": [
    "# Code\n",
    "\n",
    "import copy\n",
    "\n",
    "def permute(l):\n",
    "    \"\"\"\n",
    "    Return a list of permutations\n",
    "    \n",
    "    Examples:\n",
    "       permute([0, 1]) returns [ [0, 1], [1, 0] ]\n",
    "    \n",
    "    Args:\n",
    "      l(list): list of items to be permuted\n",
    "    \n",
    "    Returns:\n",
    "      list of permutation with each permuted item being represented by a list\n",
    "    \"\"\"\n",
    "    perm = []\n",
    "    if len(l) == 0:\n",
    "        perm.append([])\n",
    "    else:\n",
    "        first_element = l[0]\n",
    "        after_first = slice(1, None)\n",
    "        sub_permutes = permute(l[after_first])\n",
    "        for p in sub_permutes:\n",
    "            for j in range(0, len(p) + 1):\n",
    "                r = copy.deepcopy(p)\n",
    "                r.insert(j, first_element)\n",
    "                perm.append(r)\n",
    "    return perm\n"
   ]
  },
  {
   "cell_type": "code",
   "execution_count": null,
   "metadata": {},
   "outputs": [],
   "source": []
  }
 ],
 "metadata": {
  "graffiti": {
   "firstAuthorId": "10694620118",
   "id": "id_gm7n621",
   "language": "EN"
  },
  "kernelspec": {
   "display_name": "Python 3",
   "language": "python",
   "name": "python3"
  },
  "language_info": {
   "codemirror_mode": {
    "name": "ipython",
    "version": 3
   },
   "file_extension": ".py",
   "mimetype": "text/x-python",
   "name": "python",
   "nbconvert_exporter": "python",
   "pygments_lexer": "ipython3",
   "version": "3.7.0"
  }
 },
 "nbformat": 4,
 "nbformat_minor": 2
}
