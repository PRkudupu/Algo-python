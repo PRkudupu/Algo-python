{
 "cells": [
  {
   "cell_type": "markdown",
   "metadata": {
    "graffitiCellId": "id_vwxoyg1"
   },
   "source": [
    "# Reversing a String"
   ]
  },
  {
   "cell_type": "markdown",
   "metadata": {
    "graffitiCellId": "id_b24w32i"
   },
   "source": [
    "The goal in this notebook will be to get practice with a problem that is frequently solved by recursion: Reversing a string.\n",
    "\n",
    "Note that Python has a built-in function that you could use for this, but the goal here is to avoid that and understand how it can be done using recursion instead."
   ]
  },
  {
   "cell_type": "code",
   "execution_count": 7,
   "metadata": {
    "graffitiCellId": "id_ericocu"
   },
   "outputs": [
    {
     "name": "stdout",
     "output_type": "stream",
     "text": [
      "\n",
      "first_char a\n",
      "the_rest slice(1, None, None)\n",
      "sub_string bc\n",
      "\n",
      "first_char b\n",
      "the_rest slice(1, None, None)\n",
      "sub_string c\n",
      "\n",
      "first_char c\n",
      "the_rest slice(1, None, None)\n",
      "sub_string \n",
      "reversed_substring \n",
      "reversed_substring c\n",
      "reversed_substring cb\n",
      "Pass\n"
     ]
    }
   ],
   "source": [
    "# Code with comments\n",
    "\n",
    "def reverse_string(input):\n",
    "    \"\"\"\n",
    "    Return reversed input string\n",
    "    \n",
    "    Examples:\n",
    "       reverse_string(\"abc\") returns \"cba\"\n",
    "    \n",
    "    Args:\n",
    "      input(str): string to be reversed\n",
    "    \n",
    "    Returns:\n",
    "      a string that is the reverse of input\n",
    "    \"\"\"\n",
    "    \n",
    "    if len(input) == 0:\n",
    "        return \"\"\n",
    "    else:\n",
    "        first_char = input[0]\n",
    "        the_rest = slice(1, None)\n",
    "        print(\"\\nfirst_char\",first_char)\n",
    "        print(\"the_rest\",the_rest)\n",
    "        sub_string = input[the_rest]\n",
    "        print(\"sub_string\",sub_string)\n",
    "        reversed_substring = reverse_string(sub_string)\n",
    "        print(\"reversed_substring\",reversed_substring)\n",
    "        \n",
    "        return reversed_substring + first_char\n",
    "\n",
    "print (\"Pass\" if  (\"cba\" == reverse_string(\"abc\")) else \"Fail\")"
   ]
  },
  {
   "cell_type": "code",
   "execution_count": 8,
   "metadata": {},
   "outputs": [
    {
     "name": "stdout",
     "output_type": "stream",
     "text": [
      "Pass\n"
     ]
    }
   ],
   "source": [
    "# Code with comments\n",
    "\n",
    "def reverse_string(input):\n",
    "    \"\"\"\n",
    "    Return reversed input string\n",
    "    \n",
    "    Examples:\n",
    "       reverse_string(\"abc\") returns \"cba\"\n",
    "    \n",
    "    Args:\n",
    "      input(str): string to be reversed\n",
    "    \n",
    "    Returns:\n",
    "      a string that is the reverse of input\n",
    "    \"\"\"\n",
    "    \n",
    "    if len(input) == 0:\n",
    "        return \"\"\n",
    "    else:\n",
    "        first_char = input[0]\n",
    "        the_rest = slice(1, None)\n",
    "        sub_string = input[the_rest]\n",
    "        reversed_substring = reverse_string(sub_string)\n",
    "        \n",
    "        return reversed_substring + first_char\n",
    "\n",
    "print (\"Pass\" if  (\"cba\" == reverse_string(\"abc\")) else \"Fail\")"
   ]
  },
  {
   "cell_type": "code",
   "execution_count": 2,
   "metadata": {
    "graffitiCellId": "id_0zqr9ts"
   },
   "outputs": [
    {
     "name": "stdout",
     "output_type": "stream",
     "text": [
      "Pass\n",
      "Pass\n"
     ]
    }
   ],
   "source": [
    "# Test Cases\n",
    "    \n",
    "print (\"Pass\" if  (\"\" == reverse_string(\"\")) else \"Fail\")\n",
    "print (\"Pass\" if  (\"cba\" == reverse_string(\"abc\")) else \"Fail\")"
   ]
  },
  {
   "cell_type": "code",
   "execution_count": null,
   "metadata": {
    "graffitiCellId": "id_t9umiev"
   },
   "outputs": [],
   "source": []
  }
 ],
 "metadata": {
  "graffiti": {
   "firstAuthorId": "10694620118",
   "id": "id_engua4l",
   "language": "EN"
  },
  "kernelspec": {
   "display_name": "Python 3",
   "language": "python",
   "name": "python3"
  },
  "language_info": {
   "codemirror_mode": {
    "name": "ipython",
    "version": 3
   },
   "file_extension": ".py",
   "mimetype": "text/x-python",
   "name": "python",
   "nbconvert_exporter": "python",
   "pygments_lexer": "ipython3",
   "version": "3.7.0"
  }
 },
 "nbformat": 4,
 "nbformat_minor": 2
}
