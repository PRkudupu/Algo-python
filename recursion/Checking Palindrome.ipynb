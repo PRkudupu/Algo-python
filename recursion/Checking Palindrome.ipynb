{
 "cells": [
  {
   "cell_type": "markdown",
   "metadata": {
    "graffitiCellId": "id_0635rqb"
   },
   "source": [
    "# Palindrome"
   ]
  },
  {
   "cell_type": "markdown",
   "metadata": {
    "graffitiCellId": "id_5r6hrt5"
   },
   "source": [
    "A **palindrome** is a word that is the reverse of itself—that is, it is the same word when read forwards and backwards.\n",
    "\n",
    "For example:\n",
    "*  \"madam\" is a palindrome\n",
    "* \"abba\" is a palindrome\n",
    "*  \"cat\" is not\n",
    "*  \"a\" is a trivial case of a palindrome\n",
    "\n",
    "The goal of this exercise is to use recursion to write a function `is_palindrome` that takes a string as input and checks whether that string is a palindrome. (Note that this problem can also be solved with a non-recursive solution, but that's not the point of this exercise.)"
   ]
  },
  {
   "cell_type": "code",
   "execution_count": 17,
   "metadata": {
    "graffitiCellId": "id_35uigpa"
   },
   "outputs": [
    {
     "name": "stdout",
     "output_type": "stream",
     "text": [
      "\n",
      "length input 5\n",
      "first_char m\n",
      "last_char m\n",
      "sub_input ada\n",
      "\n",
      "length input 3\n",
      "first_char a\n",
      "last_char a\n",
      "sub_input d\n",
      "\n",
      "length input 1\n",
      "Pass\n"
     ]
    }
   ],
   "source": [
    "#solution with print\n",
    "def is_palindrome(ls):\n",
    "    \"\"\"\n",
    "    Return True if input is palindrome, False otherwise.\n",
    "    \n",
    "    Args:\n",
    "       input(str): input to be checked if it is palindrome\n",
    "    \"\"\"\n",
    "    print('\\nlength input',len(ls))\n",
    "    if len(ls) <= 1:\n",
    "        return True\n",
    "    else:\n",
    "        first_char = ls[0]\n",
    "        last_char = ls[-1]\n",
    "        print('first_char',first_char)\n",
    "        print('last_char',last_char)\n",
    "        \n",
    "        # sub_input is input with first and last char removed\n",
    "        sub_input = ls[1:-1]\n",
    "        print('sub_input',sub_input)\n",
    "        return (first_char == last_char) and is_palindrome(sub_input)\n",
    "print (\"Pass\" if  (is_palindrome(\"madam\")) else \"Fail\")"
   ]
  },
  {
   "cell_type": "code",
   "execution_count": 21,
   "metadata": {},
   "outputs": [],
   "source": [
    "#solution with print\n",
    "def is_palindrome(ls):\n",
    "    \"\"\"\n",
    "    Return True if input is palindrome, False otherwise.\n",
    "    \n",
    "    Args:\n",
    "       input(str): input to be checked if it is palindrome\n",
    "    \"\"\"\n",
    "    if len(ls) <= 1:\n",
    "        return True\n",
    "    else:\n",
    "        first_char = ls[0]\n",
    "        last_char = ls[-1]\n",
    "         # sub_input is input with first and last char removed\n",
    "        sub_input = ls[1:-1]\n",
    "        return (first_char == last_char) and is_palindrome(sub_input)\n"
   ]
  },
  {
   "cell_type": "code",
   "execution_count": 24,
   "metadata": {
    "graffitiCellId": "id_p59j5se"
   },
   "outputs": [
    {
     "name": "stdout",
     "output_type": "stream",
     "text": [
      "Pass\n",
      "Pass\n",
      "Pass\n",
      "Pass\n",
      "Pass\n"
     ]
    }
   ],
   "source": [
    "# Test Cases\n",
    "\n",
    "print (\"Pass\" if  (is_palindrome(\"\")) else \"Fail\")\n",
    "print (\"Pass\" if  (is_palindrome(\"a\")) else \"Fail\")\n",
    "print (\"Pass\" if  (is_palindrome(\"madam\")) else \"Fail\")\n",
    "print (\"Pass\" if  (is_palindrome(\"abba\")) else \"Fail\")\n",
    "print (\"Pass\" if not (is_palindrome(\"Udacity\")) else \"Fail\")\n"
   ]
  },
  {
   "cell_type": "code",
   "execution_count": null,
   "metadata": {
    "graffitiCellId": "id_t47cckc"
   },
   "outputs": [],
   "source": []
  }
 ],
 "metadata": {
  "graffiti": {
   "firstAuthorId": "10694620118",
   "id": "id_vgdsias",
   "language": "EN"
  },
  "kernelspec": {
   "display_name": "Python 3",
   "language": "python",
   "name": "python3"
  },
  "language_info": {
   "codemirror_mode": {
    "name": "ipython",
    "version": 3
   },
   "file_extension": ".py",
   "mimetype": "text/x-python",
   "name": "python",
   "nbconvert_exporter": "python",
   "pygments_lexer": "ipython3",
   "version": "3.7.0"
  }
 },
 "nbformat": 4,
 "nbformat_minor": 2
}
