{
 "cells": [
  {
   "cell_type": "markdown",
   "metadata": {},
   "source": [
    "You are climbing a stair case. It takes n steps to reach to the top.\n",
    "\n",
    "Each time you can either climb 1 or 2 steps. In how many distinct ways can you climb to the top?\n",
    "\n",
    "Example 1:\n",
    "\n",
    "<b>Input: 2<br>\n",
    "Output: 2<br></b>\n",
    "Explanation: There are two ways to climb to the top.<br>\n",
    "1. 1 step + 1 step<br>\n",
    "2. 2 steps<br>\n",
    "Example 2:\n",
    "\n",
    "<b>Input: 3<br>\n",
    "Output: 3<br></b>\n",
    "Explanation: There are three ways to climb to the top.<br>\n",
    "1. 1 step + 1 step + 1 step<br>\n",
    "2. 1 step + 2 steps<br>\n",
    "3. 2 steps + 1 step<br>\n",
    " \n",
    "\n",
    "Constraints:\n",
    "\n",
    "1 <= n <= 45"
   ]
  },
  {
   "cell_type": "markdown",
   "metadata": {},
   "source": [
    "### Problem\n",
    "![](image/climbingstairs.jpg)"
   ]
  },
  {
   "cell_type": "code",
   "execution_count": 16,
   "metadata": {},
   "outputs": [
    {
     "name": "stdout",
     "output_type": "stream",
     "text": [
      "3\n"
     ]
    }
   ],
   "source": [
    "def climb_stairs(n):\n",
    "    ##base case\n",
    "    if n==0:\n",
    "        return 0\n",
    "    if n==1:\n",
    "        return 1\n",
    "    if n==2:\n",
    "        return 2\n",
    "    dic={1:1,2:2}\n",
    "    for i in range(3,n+1):\n",
    "        dic[i]=dic[i-1]+dic[i-2]\n",
    "    return dic[n]\n",
    "print(climb_stairs(3))"
   ]
  },
  {
   "cell_type": "markdown",
   "metadata": {},
   "source": [
    "Time complexity= <b>O(n)</b> <br>\n",
    "Space complexity =<b>O(n)</b>\n"
   ]
  },
  {
   "cell_type": "code",
   "execution_count": 24,
   "metadata": {},
   "outputs": [
    {
     "name": "stdout",
     "output_type": "stream",
     "text": [
      "\n",
      "i 3\n",
      "dic {1: 1, 2: 2}\n",
      "dic[i-1] 2\n",
      "dic[i-2] 1\n",
      "after dic {1: 1, 2: 2, 3: 3}\n",
      "\n",
      "i 4\n",
      "dic {1: 1, 2: 2, 3: 3}\n",
      "dic[i-1] 3\n",
      "dic[i-2] 2\n",
      "after dic {1: 1, 2: 2, 3: 3, 4: 5}\n",
      "\n",
      "i 5\n",
      "dic {1: 1, 2: 2, 3: 3, 4: 5}\n",
      "dic[i-1] 5\n",
      "dic[i-2] 3\n",
      "after dic {1: 1, 2: 2, 3: 3, 4: 5, 5: 8}\n",
      "8\n"
     ]
    }
   ],
   "source": [
    "def climb_stairs(n):\n",
    "    ##base case\n",
    "    if n==0:\n",
    "        return 0\n",
    "    if n==1:\n",
    "        return 1\n",
    "    if n==2:\n",
    "        return 2\n",
    "    dic={1:1,2:2}\n",
    "    # In range function we have to go 1step forward to get the next element\n",
    "    for i in range(3,n+1):\n",
    "        # here we are taking values one step before and 2 steps b4\n",
    "        print(\"\\ni\",i)\n",
    "        print(\"dic\",dic)\n",
    "        print(\"dic[i-1]\",dic[i-1])\n",
    "        print(\"dic[i-2]\",dic[i-2])\n",
    "        dic[i]=dic[i-1]+dic[i-2]\n",
    "        print(\"after dic\",dic)\n",
    "    # return the value that is stored at the end of the dictionary\n",
    "    return dic[n]\n",
    "print(climb_stairs(5))"
   ]
  },
  {
   "cell_type": "code",
   "execution_count": null,
   "metadata": {},
   "outputs": [],
   "source": []
  }
 ],
 "metadata": {
  "kernelspec": {
   "display_name": "Python 3",
   "language": "python",
   "name": "python3"
  },
  "language_info": {
   "codemirror_mode": {
    "name": "ipython",
    "version": 3
   },
   "file_extension": ".py",
   "mimetype": "text/x-python",
   "name": "python",
   "nbconvert_exporter": "python",
   "pygments_lexer": "ipython3",
   "version": "3.7.0"
  }
 },
 "nbformat": 4,
 "nbformat_minor": 2
}
