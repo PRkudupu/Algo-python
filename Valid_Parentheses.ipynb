{
 "cells": [
  {
   "cell_type": "markdown",
   "metadata": {},
   "source": [
    "## Given a string containing just the characters '(', ')', '{', '}', '[' and ']', determine if the input string is valid.\n",
    "\n",
    "An input string is valid if:\n",
    "\n",
    "Open brackets must be closed by the same type of brackets.\n",
    "Open brackets must be closed in the correct order.\n",
    "Note that an empty string is also considered valid.\n",
    "\n",
    "<b>Example 1:</b>\n",
    "\n",
    "Input: \"()\"\n",
    "Output: true\n",
    "\n",
    "<b>Example 2:</b>\n",
    "\n",
    "Input: \"()[]{}\"\n",
    "Output: true\n",
    "<b>Example 3:</b>\n",
    "\n",
    "Input: \"(]\"\n",
    "Output: false\n",
    "\n",
    "<b>Example 4:</b>\n",
    "\n",
    "Input: \"([)]\"\n",
    "Output: false\n",
    "\n",
    "<b>Example 5:</b>\n",
    "\n",
    "Input: \"{[]}\"\n",
    "\n",
    "<b>Output: true</b>"
   ]
  },
  {
   "cell_type": "markdown",
   "metadata": {},
   "source": [
    "#### Simple Python solution with stack"
   ]
  },
  {
   "cell_type": "code",
   "execution_count": 16,
   "metadata": {},
   "outputs": [
    {
     "data": {
      "text/plain": [
       "True"
      ]
     },
     "execution_count": 16,
     "metadata": {},
     "output_type": "execute_result"
    }
   ],
   "source": [
    "def is_valid_parentheses(s):\n",
    "    stack = []\n",
    "    dict = {\"]\":\"[\", \"}\":\"{\", \")\":\"(\"}\n",
    "    for char in s:\n",
    "        if char in dict.values():\n",
    "            stack.append(char)\n",
    "        elif char in dict.keys():\n",
    "            if stack == [] or dict[char] != stack.pop():\n",
    "                return False\n",
    "        else:\n",
    "            return False\n",
    "    return stack == []\n",
    "is_valid_parentheses(\"()\")"
   ]
  },
  {
   "cell_type": "code",
   "execution_count": 80,
   "metadata": {},
   "outputs": [
    {
     "data": {
      "text/plain": [
       "True"
      ]
     },
     "execution_count": 80,
     "metadata": {},
     "output_type": "execute_result"
    }
   ],
   "source": [
    "def is_valid_parentheses(s):\n",
    "    stack = []\n",
    "    dict = {\"]\":\"[\", \"}\":\"{\", \")\":\"(\"}\n",
    "    if s ! =str\n",
    "    for char in s:\n",
    "        print(\"char {}\".format(char))\n",
    "        print(\"stack {}\".format(stack))\n",
    "        print(\"index {}\".format(s.index(char)))\n",
    "        if char in dict.values():\n",
    "            stack.append(char)\n",
    "            print(\"inside if char {}\".format(char))\n",
    "            print(\"inside if stack {}\".format(stack))\n",
    "        elif char in dict.keys():\n",
    "            print(\"elif stack {}\".format(stack))\n",
    "            #print(\"pop {}\".format(stack.pop()))\n",
    "            stack.pop()\n",
    "        else:\n",
    "            print(\"else\")\n",
    "            return False\n",
    "    return stack == []\n",
    "is_valid_parentheses(\"\")"
   ]
  },
  {
   "cell_type": "code",
   "execution_count": null,
   "metadata": {},
   "outputs": [],
   "source": []
  }
 ],
 "metadata": {
  "kernelspec": {
   "display_name": "Python 3",
   "language": "python",
   "name": "python3"
  },
  "language_info": {
   "codemirror_mode": {
    "name": "ipython",
    "version": 3
   },
   "file_extension": ".py",
   "mimetype": "text/x-python",
   "name": "python",
   "nbconvert_exporter": "python",
   "pygments_lexer": "ipython3",
   "version": "3.6.4"
  }
 },
 "nbformat": 4,
 "nbformat_minor": 2
}
