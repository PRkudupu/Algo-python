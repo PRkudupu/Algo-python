{
 "cells": [
  {
   "cell_type": "code",
   "execution_count": 1,
   "metadata": {},
   "outputs": [],
   "source": [
    "class Solution:\n",
    "    def validate_IPv4(self, IP: str) -> str:\n",
    "        nums = IP.split('.')\n",
    "        for x in nums:\n",
    "            # Validate integer in range (0, 255):\n",
    "            # 1. length of chunk is between 1 and 3\n",
    "            if len(x) == 0 or len(x) > 3:\n",
    "                return \"Neither\"\n",
    "            # 2. no extra leading zeros\n",
    "            # 3. only digits are allowed\n",
    "            # 4. less than 255\n",
    "            if x[0] == '0' and len(x) != 1 or not x.isdigit() or int(x) > 255:\n",
    "                return \"Neither\"\n",
    "        return \"IPv4\"\n",
    "    \n",
    "    def validate_IPv6(self, IP: str) -> str:\n",
    "        nums = IP.split(':')\n",
    "        hexdigits = '0123456789abcdefABCDEF'\n",
    "        for x in nums:\n",
    "            # Validate hexadecimal in range (0, 2**16):\n",
    "            # 1. at least one and not more than 4 hexdigits in one chunk\n",
    "            # 2. only hexdigits are allowed: 0-9, a-f, A-F\n",
    "            if len(x) == 0 or len(x) > 4 or not all(c in hexdigits for c in x):\n",
    "                return \"Neither\"\n",
    "        return \"IPv6\"\n",
    "        \n",
    "    def validIPAddress(self, IP: str) -> str:\n",
    "        if IP.count('.') == 3:\n",
    "            return self.validate_IPv4(IP)\n",
    "        elif IP.count(':') == 7:\n",
    "            return self.validate_IPv6(IP)\n",
    "        else:\n",
    "            return \"Neither\""
   ]
  },
  {
   "cell_type": "code",
   "execution_count": 4,
   "metadata": {},
   "outputs": [
    {
     "data": {
      "text/plain": [
       "True"
      ]
     },
     "execution_count": 4,
     "metadata": {},
     "output_type": "execute_result"
    }
   ],
   "source": [
    "# valid ipv4\n",
    "def valid_ipv4(ip):\n",
    "    nums=ip.split(\".\")\n",
    "    for x in nums:\n",
    "        if len(x) ==0 or len(x) >3:\n",
    "            return False\n",
    "        if x[0] ==0 and len[x] != 1 or not x.isdigit() or int(x) >255:\n",
    "            return False\n",
    "    return True\n",
    "valid_ipv4('175.12.124.1')"
   ]
  },
  {
   "cell_type": "code",
   "execution_count": null,
   "metadata": {},
   "outputs": [],
   "source": []
  }
 ],
 "metadata": {
  "kernelspec": {
   "display_name": "Python 3",
   "language": "python",
   "name": "python3"
  },
  "language_info": {
   "codemirror_mode": {
    "name": "ipython",
    "version": 3
   },
   "file_extension": ".py",
   "mimetype": "text/x-python",
   "name": "python",
   "nbconvert_exporter": "python",
   "pygments_lexer": "ipython3",
   "version": "3.7.0"
  }
 },
 "nbformat": 4,
 "nbformat_minor": 2
}
