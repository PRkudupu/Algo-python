{
 "cells": [
  {
   "cell_type": "markdown",
   "metadata": {},
   "source": [
    "Rotate a matrix by 90 degree without using any extra space | Set 2\n",
    "Given a square matrix, turn it by 90 degrees in anti-clockwise direction without using any extra space.\n",
    "\n",
    "Examples:\n",
    "\n",
    "Input<br>\n",
    " [1 ,  2 , 3,<br>\n",
    " 4 , 5 , 6 <br>\n",
    " 7 , 8 , 9]<br>\n",
    "\n",
    "Output: <br>\n",
    " [3 , 6 , 9 <br>\n",
    " 2  ,5  ,8  <br>\n",
    " 1 , 4 , 7] <br>\n",
    "\n",
    "Input: <br>\n",
    " [1,  2,  3 , 4 <br>\n",
    " 5,  6 , 7,  8 <br>\n",
    " 9, 10, 11, 12 <br>\n",
    "13, 14, 15, 16] \n",
    "\n",
    "Output: <br>\n",
    " [4 , 8 ,12, 16 <br>\n",
    " 3  ,7 ,11 ,15  <br>\n",
    " 2  ,6 ,10, 14 <br>\n",
    " 1  ,5  ,9 ,13]\n",
    " \n",
    "#### Rotate AntiClockwise\n",
    "* If matrix is none and length(matrix) is less than 1 then return\n",
    "* If length of the matrix is 1 then return"
   ]
  },
  {
   "cell_type": "code",
   "execution_count": 70,
   "metadata": {},
   "outputs": [
    {
     "name": "stdout",
     "output_type": "stream",
     "text": [
      "4 8 12 16 \n",
      "3 7 11 15 \n",
      "2 6 10 14 \n",
      "1 5 9 13 \n"
     ]
    }
   ],
   "source": [
    "r=4\n",
    "c=4\n",
    "\n",
    "#driver\n",
    "arr = [[1, 2, 3, 4], \n",
    "    [5, 6, 7, 8], \n",
    "    [9, 10, 11, 12], \n",
    "    [13, 14, 15, 16] \n",
    "]; \n",
    "#function to reverse\n",
    "def reverseColumns(arr):\n",
    "    for i in range(c):\n",
    "        j=0\n",
    "        k=c-1\n",
    "        #print('initial k',k)\n",
    "        while j < k:\n",
    "            t=arr[j][i]\n",
    "            arr[j][i]=arr[k][i]\n",
    "            arr[k][i]=t\n",
    "            j +=1\n",
    "            k -=1\n",
    "            #print('k',k)\n",
    "\n",
    "#function to transpose\n",
    "def transpose(arr):\n",
    "    for i in range(r):\n",
    "        for j in range(i,c):\n",
    "            t=arr[i][j]\n",
    "            arr[i][j]=arr[j][i]\n",
    "            arr[j][i]=t \n",
    "\n",
    "#Function to printMatrix\n",
    "def printMatrix(arr):\n",
    "    for i in range(r):\n",
    "        for j in range(c):\n",
    "            print(str(arr[i][j]), end =\" \") \n",
    "        print()  \n",
    "\n",
    "def rotate90(arr): \n",
    "    transpose(arr) \n",
    "    reverseColumns(arr) \n",
    "    \n",
    "   \n",
    "rotate90(arr) \n",
    "printMatrix(arr) "
   ]
  },
  {
   "cell_type": "code",
   "execution_count": 49,
   "metadata": {},
   "outputs": [
    {
     "name": "stdout",
     "output_type": "stream",
     "text": [
      "2\n",
      "1\n",
      "0\n"
     ]
    }
   ],
   "source": []
  },
  {
   "cell_type": "code",
   "execution_count": null,
   "metadata": {},
   "outputs": [],
   "source": []
  }
 ],
 "metadata": {
  "kernelspec": {
   "display_name": "Python 3",
   "language": "python",
   "name": "python3"
  },
  "language_info": {
   "codemirror_mode": {
    "name": "ipython",
    "version": 3
   },
   "file_extension": ".py",
   "mimetype": "text/x-python",
   "name": "python",
   "nbconvert_exporter": "python",
   "pygments_lexer": "ipython3",
   "version": "3.7.0"
  }
 },
 "nbformat": 4,
 "nbformat_minor": 2
}
