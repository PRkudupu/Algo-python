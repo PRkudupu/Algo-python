{
 "cells": [
  {
   "cell_type": "markdown",
   "metadata": {},
   "source": [
    "Rotate a matrix by 90 degree without using any extra space | Set 2\n",
    "Given a square matrix, turn it by 90 degrees in anti-clockwise direction without using any extra space.\n",
    "\n",
    "Examples:\n",
    "\n",
    "Input<br>\n",
    " [1 ,  2 , 3,<br>\n",
    " 4 , 5 , 6 <br>\n",
    " 7 , 8 , 9]<br>\n",
    "\n",
    "Output: <br>\n",
    " [3 , 6 , 9 <br>\n",
    " 2  ,5  ,8  <br>\n",
    " 1 , 4 , 7] <br>\n",
    "\n",
    "Input: <br>\n",
    " [1,  2,  3 , 4 <br>\n",
    " 5,  6 , 7,  8 <br>\n",
    " 9, 10, 11, 12 <br>\n",
    "13, 14, 15, 16] \n",
    "\n",
    "Output: <br>\n",
    " [4 , 8 ,12, 16 <br>\n",
    " 3  ,7 ,11 ,15  <br>\n",
    " 2  ,6 ,10, 14 <br>\n",
    " 1  ,5  ,9 ,13]\n",
    " \n",
    "#### Rotate Clockwise\n",
    "* If matrix is none and length(matrix) is less than 1 then return\n",
    "* If length of the matrix is 1 then return"
   ]
  },
  {
   "cell_type": "code",
   "execution_count": 30,
   "metadata": {},
   "outputs": [
    {
     "name": "stdout",
     "output_type": "stream",
     "text": [
      "3\n",
      "0\n",
      "1\n",
      "2\n"
     ]
    }
   ],
   "source": [
    "a =[ [1,2,3], [5,6,7], [8,9,10]]\n",
    "print(len(a))\n",
    "for i in range(0,len(a)):\n",
    "    print(i)\n",
    " "
   ]
  },
  {
   "cell_type": "code",
   "execution_count": 49,
   "metadata": {},
   "outputs": [
    {
     "name": "stdout",
     "output_type": "stream",
     "text": [
      "2\n",
      "1\n",
      "0\n"
     ]
    }
   ],
   "source": []
  },
  {
   "cell_type": "code",
   "execution_count": null,
   "metadata": {},
   "outputs": [],
   "source": []
  }
 ],
 "metadata": {
  "kernelspec": {
   "display_name": "Python 3",
   "language": "python",
   "name": "python3"
  },
  "language_info": {
   "codemirror_mode": {
    "name": "ipython",
    "version": 3
   },
   "file_extension": ".py",
   "mimetype": "text/x-python",
   "name": "python",
   "nbconvert_exporter": "python",
   "pygments_lexer": "ipython3",
   "version": "3.7.0"
  }
 },
 "nbformat": 4,
 "nbformat_minor": 2
}
