{
 "cells": [
  {
   "cell_type": "markdown",
   "metadata": {},
   "source": [
    "### Processing and printing"
   ]
  },
  {
   "cell_type": "code",
   "execution_count": 36,
   "metadata": {},
   "outputs": [
    {
     "name": "stdout",
     "output_type": "stream",
     "text": [
      "a: [[1, 2, 3], [4, 5, 6]] \n",
      "a[0]: [1, 2, 3] \n",
      "a[1]: [4, 5, 6]\n"
     ]
    }
   ],
   "source": [
    "#Processing and printing\n",
    "a =[[1,2,3,],[4,5,6]]\n",
    "\n",
    "print('a:',a,'\\na[0]:',a[0],'\\na[1]:',a[1])"
   ]
  },
  {
   "cell_type": "code",
   "execution_count": 15,
   "metadata": {},
   "outputs": [
    {
     "name": "stdout",
     "output_type": "stream",
     "text": [
      "a[0][1] : 2\n"
     ]
    }
   ],
   "source": [
    "#Print specific element in an list\n",
    "print('a[0][1] :',a[0][1])"
   ]
  },
  {
   "cell_type": "code",
   "execution_count": 24,
   "metadata": {},
   "outputs": [
    {
     "name": "stdout",
     "output_type": "stream",
     "text": [
      "a[i],[j] 1\n",
      "a[i],[j] 2\n",
      "a[i],[j] 3\n",
      "a[i],[j] 4\n",
      "a[i],[j] 5\n",
      "a[i],[j] 6\n"
     ]
    }
   ],
   "source": [
    "# Process 2 dimensional array\n",
    "for i in range(len(a)):\n",
    "    for j in range(len(a[i])):\n",
    "        print('a[i],[j]',a[i][j])\n",
    "   "
   ]
  },
  {
   "cell_type": "code",
   "execution_count": 41,
   "metadata": {},
   "outputs": [
    {
     "name": "stdout",
     "output_type": "stream",
     "text": [
      "10\n",
      "20\n",
      "40\n",
      "20\n",
      "400\n",
      "200\n"
     ]
    }
   ],
   "source": [
    "### Handy feature to print\n",
    "for i in a:\n",
    "    for elem in i:\n",
    "        print(elem)"
   ]
  },
  {
   "cell_type": "markdown",
   "metadata": {},
   "source": [
    "### Sum of all elements in an array"
   ]
  },
  {
   "cell_type": "code",
   "execution_count": 27,
   "metadata": {},
   "outputs": [
    {
     "name": "stdout",
     "output_type": "stream",
     "text": [
      "sum 21\n"
     ]
    }
   ],
   "source": [
    "# sum of all the elements in the list\n",
    "sum=0\n",
    "for i in a:\n",
    "    for elem in i:\n",
    "        sum += elem\n",
    "print('sum',sum)\n",
    "        "
   ]
  },
  {
   "cell_type": "markdown",
   "metadata": {},
   "source": [
    "### Create new 2 dimensional array "
   ]
  },
  {
   "cell_type": "code",
   "execution_count": 35,
   "metadata": {},
   "outputs": [
    {
     "name": "stdout",
     "output_type": "stream",
     "text": [
      "[0] [0]\n",
      "m 4\n",
      "[0] [0]\n",
      "m 4\n",
      "[0] [0]\n",
      "m 4\n",
      "[[0, 0, 0, 0], [0, 0, 0, 0], [0, 0, 0, 0]]\n"
     ]
    }
   ],
   "source": [
    "# Create 2 dimensional list based on m *n with 0\n",
    "# Create an empty list and append new elements\n",
    "n =3\n",
    "m =4\n",
    "a =[]\n",
    "for i in range(n):\n",
    "    print('[0]',[0])\n",
    "    print('m',m)\n",
    "    a.append([0] * m )\n",
    "print(a)"
   ]
  },
  {
   "cell_type": "markdown",
   "metadata": {},
   "source": [
    "### Using generators\n",
    "#### Python provides generator functions as a convenient shortcut to building iterators"
   ]
  },
  {
   "cell_type": "code",
   "execution_count": null,
   "metadata": {},
   "outputs": [],
   "source": [
    "n=3\n",
    "m=4\n",
    "for i in range():"
   ]
  },
  {
   "cell_type": "markdown",
   "metadata": {},
   "source": [
    "### Find max in 2 dimensional aray"
   ]
  },
  {
   "cell_type": "code",
   "execution_count": 40,
   "metadata": {},
   "outputs": [
    {
     "name": "stdout",
     "output_type": "stream",
     "text": [
      "10\n",
      "20\n",
      "40\n",
      "20\n",
      "400\n",
      "200\n",
      "maximum 400\n"
     ]
    }
   ],
   "source": [
    "m=0\n",
    "a= [[10,20,40],[20,400,200]]\n",
    "for i in a:\n",
    "    for elem in i:\n",
    "        if elem > m:\n",
    "            m=elem\n",
    "        print(elem)\n",
    "print('maximum',m)"
   ]
  },
  {
   "cell_type": "markdown",
   "metadata": {},
   "source": []
  }
 ],
 "metadata": {
  "kernelspec": {
   "display_name": "Python 3",
   "language": "python",
   "name": "python3"
  },
  "language_info": {
   "codemirror_mode": {
    "name": "ipython",
    "version": 3
   },
   "file_extension": ".py",
   "mimetype": "text/x-python",
   "name": "python",
   "nbconvert_exporter": "python",
   "pygments_lexer": "ipython3",
   "version": "3.7.0"
  }
 },
 "nbformat": 4,
 "nbformat_minor": 2
}
