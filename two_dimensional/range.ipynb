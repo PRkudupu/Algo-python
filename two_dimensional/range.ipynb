{
 "cells": [
  {
   "cell_type": "code",
   "execution_count": 15,
   "metadata": {},
   "outputs": [
    {
     "name": "stdout",
     "output_type": "stream",
     "text": [
      "length 3\n",
      "length-1 2\n",
      "7\n",
      "6\n",
      "3\n"
     ]
    }
   ],
   "source": [
    "a = [3,6,7]\n",
    "# First arg for range is start, stop and step, default is 1\n",
    "# Decreement. We need the index so we need to have len(a)-1\n",
    "print('length',len(a))\n",
    "print('length-1',len(a)-1)\n",
    "for i in range(len(a)-1,-1,-1):\n",
    "    print(a[i])\n",
    "    "
   ]
  },
  {
   "cell_type": "code",
   "execution_count": 16,
   "metadata": {},
   "outputs": [
    {
     "name": "stdout",
     "output_type": "stream",
     "text": [
      "3\n",
      "6\n",
      "7\n"
     ]
    }
   ],
   "source": [
    "a = [3,6,7]\n",
    "# First arg for range is start, stop and step, default is 1\n",
    "# Increement\n",
    "for i in range(0,len(a),1):\n",
    "    print(a[i])"
   ]
  },
  {
   "cell_type": "code",
   "execution_count": 18,
   "metadata": {},
   "outputs": [
    {
     "name": "stdout",
     "output_type": "stream",
     "text": [
      "7\n",
      "6\n",
      "3\n"
     ]
    }
   ],
   "source": [
    "#Extended slicing\n",
    "a = [3,6,7]\n",
    "for i in a[::-1]:\n",
    "    print(i)"
   ]
  },
  {
   "cell_type": "code",
   "execution_count": null,
   "metadata": {},
   "outputs": [],
   "source": []
  }
 ],
 "metadata": {
  "kernelspec": {
   "display_name": "Python 3",
   "language": "python",
   "name": "python3"
  },
  "language_info": {
   "codemirror_mode": {
    "name": "ipython",
    "version": 3
   },
   "file_extension": ".py",
   "mimetype": "text/x-python",
   "name": "python",
   "nbconvert_exporter": "python",
   "pygments_lexer": "ipython3",
   "version": "3.7.0"
  }
 },
 "nbformat": 4,
 "nbformat_minor": 2
}
