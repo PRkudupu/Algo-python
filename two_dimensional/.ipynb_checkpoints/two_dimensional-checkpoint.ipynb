{
 "cells": [
  {
   "cell_type": "code",
   "execution_count": 11,
   "metadata": {},
   "outputs": [
    {
     "name": "stdout",
     "output_type": "stream",
     "text": [
      "a: [[1, 2, 3], [4, 5, 6]] \n",
      "a[0]: [1, 2, 3] \n",
      "a[1]: [4, 5, 6]\n"
     ]
    }
   ],
   "source": [
    "#Processing and printing\n",
    "a =[[1,2,3,],[4,5,6]]\n",
    "\n",
    "print('a:',a,'\\na[0]:',a[0],'\\na[1]:',a[1])"
   ]
  },
  {
   "cell_type": "code",
   "execution_count": 15,
   "metadata": {},
   "outputs": [
    {
     "name": "stdout",
     "output_type": "stream",
     "text": [
      "a[0][1] : 2\n"
     ]
    }
   ],
   "source": [
    "#Print specific element in an list\n",
    "print('a[0][1] :',a[0][1])"
   ]
  },
  {
   "cell_type": "code",
   "execution_count": null,
   "metadata": {},
   "outputs": [],
   "source": [
    "# Process 2 dimensional array\n"
   ]
  }
 ],
 "metadata": {
  "kernelspec": {
   "display_name": "Python 3",
   "language": "python",
   "name": "python3"
  },
  "language_info": {
   "codemirror_mode": {
    "name": "ipython",
    "version": 3
   },
   "file_extension": ".py",
   "mimetype": "text/x-python",
   "name": "python",
   "nbconvert_exporter": "python",
   "pygments_lexer": "ipython3",
   "version": "3.7.0"
  }
 },
 "nbformat": 4,
 "nbformat_minor": 2
}
