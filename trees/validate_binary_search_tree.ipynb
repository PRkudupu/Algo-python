{
 "cells": [
  {
   "cell_type": "code",
   "execution_count": 1,
   "metadata": {},
   "outputs": [
    {
     "name": "stdout",
     "output_type": "stream",
     "text": [
      "Not a BST\n"
     ]
    }
   ],
   "source": [
    "class newNode:  \n",
    "    def __init__(self, key):  \n",
    "        self.data = key \n",
    "        self.left = None\n",
    "        self.right = None\n",
    "\n",
    "# Returns true if given tree is BST.  \n",
    "def isBST(root, l = None, r = None):  \n",
    "    # Base condition  \n",
    "    if (root == None) : \n",
    "        return True\n",
    "    # if left node exist then check it has  \n",
    "    # correct data or not i.e. left node's data  \n",
    "    # should be less than root's data  \n",
    "    if (l != None and root.data <= l.data) : \n",
    "        return False\n",
    "    # if right node exist then check it has  \n",
    "    # correct data or not i.e. right node's data  \n",
    "    # should be greater than root's data  \n",
    "    if (r != None and root.data >= r.data) : \n",
    "        return False\n",
    "    # check recursively for every node.  \n",
    "    return isBST(root.left, l, root) and isBST(root.right, root, r)  \n",
    "  \n",
    "# Driver Code  \n",
    "if __name__ == '__main__': \n",
    "    root = newNode(3)  \n",
    "    root.left = newNode(2)  \n",
    "    root.right = newNode(5)  \n",
    "    root.right.left = newNode(1)  \n",
    "    root.right.right = newNode(4)  \n",
    "    #root.right.left.left = newNode(40) \n",
    "    if (isBST(root,None,None)): \n",
    "        print(\"Is BST\") \n",
    "    else: \n",
    "        print(\"Not a BST\") "
   ]
  },
  {
   "cell_type": "code",
   "execution_count": null,
   "metadata": {},
   "outputs": [],
   "source": []
  }
 ],
 "metadata": {
  "kernelspec": {
   "display_name": "Python 3",
   "language": "python",
   "name": "python3"
  },
  "language_info": {
   "codemirror_mode": {
    "name": "ipython",
    "version": 3
   },
   "file_extension": ".py",
   "mimetype": "text/x-python",
   "name": "python",
   "nbconvert_exporter": "python",
   "pygments_lexer": "ipython3",
   "version": "3.7.0"
  }
 },
 "nbformat": 4,
 "nbformat_minor": 2
}
