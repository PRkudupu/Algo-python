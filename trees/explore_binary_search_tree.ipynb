{
 "cells": [
  {
   "cell_type": "markdown",
   "metadata": {
    "graffitiCellId": "id_me1k2qb"
   },
   "source": [
    "# Explore Binary Search Tree"
   ]
  },
  {
   "cell_type": "markdown",
   "metadata": {
    "graffitiCellId": "id_jq3coch"
   },
   "source": [
    "Now try implementing a BST on your own. You'll use the same Node class as before:\n",
    "\n",
    "```python\n",
    "class Node(object):\n",
    "    def __init__(self, value):\n",
    "        self.value = value\n",
    "        self.left = None\n",
    "        self.right = None\n",
    "```        \n",
    "        \n",
    "This time, you'll implement search() and insert(). You should rewrite search() and not use your code from the last exercise so it takes advantage of BST properties. Feel free to make any helper functions you feel like you need, including the print_tree() function from earlier for debugging. You can assume that two nodes with the same value won't be inserted into the tree. \n",
    "\n",
    "Beware of all the complications discussed in the videos!"
   ]
  },
  {
   "cell_type": "markdown",
   "metadata": {
    "graffitiCellId": "id_5to5bry"
   },
   "source": [
    "#### Try yourself here"
   ]
  },
  {
   "cell_type": "code",
   "execution_count": 1,
   "metadata": {
    "graffitiCellId": "id_mrqpudz"
   },
   "outputs": [],
   "source": [
    "class Node(object):\n",
    "    def __init__(self, value):\n",
    "        self.value = value\n",
    "        self.left = None\n",
    "        self.right = None\n",
    "\n",
    "class BST(object):\n",
    "    def __init__(self, root):\n",
    "        self.root = Node(root)\n",
    "\n",
    "    def insert(self, new_val):\n",
    "        self.insert_helper(self.root, new_val)\n",
    "\n",
    "    def insert_helper(self, current, new_val):\n",
    "        if current.value < new_val:\n",
    "            if current.right:\n",
    "                self.insert_helper(current.right, new_val)\n",
    "            else:\n",
    "                current.right = Node(new_val)\n",
    "        else:\n",
    "            if current.left:\n",
    "                self.insert_helper(current.left, new_val)\n",
    "            else:\n",
    "                current.left = Node(new_val)\n",
    "\n",
    "    def search(self, find_val):\n",
    "        return self.search_helper(self.root, find_val)\n",
    "\n",
    "    def search_helper(self, current, find_val):\n",
    "        if current:\n",
    "            if current.value == find_val:\n",
    "                return True\n",
    "            elif current.value < find_val:\n",
    "                return self.search_helper(current.right, find_val)\n",
    "            else:\n",
    "                return self.search_helper(current.left, find_val)\n",
    "        return False"
   ]
  },
  {
   "cell_type": "markdown",
   "metadata": {
    "graffitiCellId": "id_u3f2xrq"
   },
   "source": [
    "#### Test Cases"
   ]
  },
  {
   "cell_type": "code",
   "execution_count": 2,
   "metadata": {
    "graffitiCellId": "id_85ajz4s"
   },
   "outputs": [
    {
     "name": "stdout",
     "output_type": "stream",
     "text": [
      "Pass\n",
      "Pass\n"
     ]
    }
   ],
   "source": [
    "# Set up tree\n",
    "tree = BST(4)\n",
    "\n",
    "# Insert elements\n",
    "tree.insert(2)\n",
    "tree.insert(1)\n",
    "tree.insert(3)\n",
    "tree.insert(5)\n",
    "\n",
    "# Check search\n",
    "print (\"Pass\" if tree.search(4) else \"Fail\")\n",
    "print (\"Pass\" if not tree.search(6) else \"Fail\")"
   ]
  }
 ],
 "metadata": {
  "graffiti": {
   "firstAuthorId": "10694620118",
   "id": "id_chxezy4",
   "language": "EN"
  },
  "kernelspec": {
   "display_name": "Python 3",
   "language": "python",
   "name": "python3"
  },
  "language_info": {
   "codemirror_mode": {
    "name": "ipython",
    "version": 3
   },
   "file_extension": ".py",
   "mimetype": "text/x-python",
   "name": "python",
   "nbconvert_exporter": "python",
   "pygments_lexer": "ipython3",
   "version": "3.7.0"
  },
  "widgets": {
   "state": {},
   "version": "1.1.2"
  }
 },
 "nbformat": 4,
 "nbformat_minor": 2
}
