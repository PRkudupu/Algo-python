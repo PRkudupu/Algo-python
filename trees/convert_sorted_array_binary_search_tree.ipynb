{
 "cells": [
  {
   "cell_type": "markdown",
   "metadata": {},
   "source": [
    "Given an array where elements are sorted in ascending order, convert it to a height balanced BST.\n",
    "\n",
    "For this problem, a height-balanced binary tree is defined as a binary tree in which the depth of the two subtrees of every node never differ by more than 1.<br>\n",
    "\n",
    "Example:\n",
    "\n",
    "Given the sorted array: [-10,-3,0,5,9],\n",
    "\n",
    "One possible answer is: [0,-3,9,-10,null,5], which represents the following height balanced BST:\n",
    "\n",
    "      0\n",
    "     / \\\n",
    "   -3   9\n",
    "   /   /\n",
    " -10  5 "
   ]
  },
  {
   "cell_type": "markdown",
   "metadata": {},
   "source": [
    "### Balance binary tree: \n",
    "* A balanced binary tree, also referred to as a height-balanced binary tree, is defined as a binary tree in which the height of the left and right subtree of any node differ by not more than 1.<br>\n",
    "* This type of binary search tree would adjust itself in order to maintian a low (logarithmic) height allowing for faster opertations such as insertions and deletions\n",
    "\n",
    "<b>Leaf Node</b>: Left and right node would be null\n",
    "\n",
    "<b>Following are the conditions for a height-balanced binary tree:<b>\n",
    "\n",
    "* Difference between the left and the right subtree for any node is not more than one\n",
    "* The left subtree is balanced\n",
    "* The right subtree is balanced\n",
    "\n",
    "\n",
    "![](images/balanced_subtree.jpg)"
   ]
  },
  {
   "cell_type": "markdown",
   "metadata": {},
   "source": [
    "### Solution\n",
    "* Everything that we do in a tree can be done recursively.\n",
    "* Element are sorted array the middle element would be the <b>root</b> of the array.\n",
    "* <b>Left</b> and <b>right side</b> of the root would be called <b>recursively</b>.\n",
    "* If left is <b> greater than right </b> then return None\n"
   ]
  },
  {
   "cell_type": "code",
   "execution_count": 3,
   "metadata": {},
   "outputs": [
    {
     "name": "stdout",
     "output_type": "stream",
     "text": [
      "None\n"
     ]
    }
   ],
   "source": [
    "class TreeNode:\n",
    "    def __init__(self, val=0, left=None, right=None):\n",
    "        self.val = val\n",
    "        self.left = left\n",
    "        self.right = right\n",
    "        \n",
    "def sorted_array_BST(nums):\n",
    "     def helper(left, right):\n",
    "        if left > right:\n",
    "            return None\n",
    "\n",
    "        # always choose left middle node as a root\n",
    "        mid= (left + right) // 2\n",
    "\n",
    "        # preorder traversal: node -> left -> right\n",
    "        root = TreeNode(nums[mid])\n",
    "        root.left = helper(left, mid - 1)\n",
    "        root.right = helper(mid + 1, right)\n",
    "        return root\n",
    "        \n",
    "        \n",
    "print(sorted_array_BST([-10,-3,0,5,9]))     "
   ]
  },
  {
   "cell_type": "code",
   "execution_count": null,
   "metadata": {},
   "outputs": [],
   "source": []
  }
 ],
 "metadata": {
  "kernelspec": {
   "display_name": "Python 3",
   "language": "python",
   "name": "python3"
  },
  "language_info": {
   "codemirror_mode": {
    "name": "ipython",
    "version": 3
   },
   "file_extension": ".py",
   "mimetype": "text/x-python",
   "name": "python",
   "nbconvert_exporter": "python",
   "pygments_lexer": "ipython3",
   "version": "3.7.0"
  }
 },
 "nbformat": 4,
 "nbformat_minor": 2
}
