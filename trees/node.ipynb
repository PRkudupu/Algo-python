{
 "cells": [
  {
   "cell_type": "code",
   "execution_count": 41,
   "metadata": {},
   "outputs": [],
   "source": [
    "#DEFINE A CLASS  THAT IS DERIVED FROM OBJECTS\n",
    "#BUILD A NODE\n",
    "class Node(object):\n",
    "     def __init__(self,value=None):\n",
    "        self.value = value\n",
    "        self.left = None\n",
    "        self.right = None\n",
    " "
   ]
  },
  {
   "cell_type": "code",
   "execution_count": 42,
   "metadata": {},
   "outputs": [
    {
     "name": "stdout",
     "output_type": "stream",
     "text": [
      "\n",
      " value: None\n",
      " left: None\n",
      " right: None\n",
      "\n",
      "\n",
      " value: apple\n",
      " left: None\n",
      " right: None\n",
      "\n"
     ]
    }
   ],
   "source": [
    "#ADD A CONSTRUCTOR THAT TAKES VALUE AS PARAMETERS\n",
    "node0= Node()\n",
    "print(f\"\"\"\n",
    " value: {node0.value}\n",
    " left: {node0.left}\n",
    " right: {node0.right}\n",
    "\"\"\")\n",
    "\n",
    "node0= Node(\"apple\")\n",
    "print(f\"\"\"\n",
    " value: {node0.value}\n",
    " left: {node0.left}\n",
    " right: {node0.right}\n",
    "\"\"\")\n"
   ]
  },
  {
   "cell_type": "code",
   "execution_count": 52,
   "metadata": {},
   "outputs": [],
   "source": [
    "#ADD FUNCTIONS TO SET AND GET THE VALUE OF THE NODE\n",
    "class Node(object):\n",
    "    def __init__(self,value=None):\n",
    "        self.value = value\n",
    "        self.left = None\n",
    "        self.right = None\n",
    "    def set_value(self,value):\n",
    "        self.value=value\n",
    "    \n",
    "    def get_value(self,value):\n",
    "        return self.value"
   ]
  },
  {
   "cell_type": "code",
   "execution_count": 58,
   "metadata": {},
   "outputs": [],
   "source": [
    "#ADD FUNCTIONS THAT ASSIGN LEFT AND RIGHT CHILD\n",
    "class Node(object):\n",
    "    def __init__(self,value=None):\n",
    "        self.value = value\n",
    "        self.left = None\n",
    "        self.right = None\n",
    "    def set_value(self,value):\n",
    "        self.value=value\n",
    "    \n",
    "    def get_value(self,value):\n",
    "        return self.value\n",
    "    \n",
    "    def set_left_child(self,left):\n",
    "        self.left=left\n",
    "    \n",
    "    def set_right_child(self,right):\n",
    "        self.right=right\n",
    "    \n",
    "    def get_left_child(self):\n",
    "        return self.left\n",
    "    \n",
    "    def get_right_child(self):\n",
    "        return self.right"
   ]
  },
  {
   "cell_type": "code",
   "execution_count": 59,
   "metadata": {},
   "outputs": [],
   "source": [
    "#VALIDATE SET AND GET\n",
    "node0 =Node(\"apple\")\n",
    "node1 =Node(\"banana\")\n",
    "node2=Node(\"orange\")\n",
    "\n",
    "node0.set_le\n",
    "#SET LEFT AND RIGHT CHILD\n",
    "print(f\"\"\"\n",
    " node 0 : {node0.value} \n",
    " node 1  left child: {node0.left.value}\n",
    " node 2 : right child: {node0.right.value}\n",
    " \"\"\")"
   ]
  },
  {
   "cell_type": "code",
   "execution_count": null,
   "metadata": {},
   "outputs": [],
   "source": []
  }
 ],
 "metadata": {
  "kernelspec": {
   "display_name": "Python 3",
   "language": "python",
   "name": "python3"
  },
  "language_info": {
   "codemirror_mode": {
    "name": "ipython",
    "version": 3
   },
   "file_extension": ".py",
   "mimetype": "text/x-python",
   "name": "python",
   "nbconvert_exporter": "python",
   "pygments_lexer": "ipython3",
   "version": "3.7.0"
  }
 },
 "nbformat": 4,
 "nbformat_minor": 2
}
