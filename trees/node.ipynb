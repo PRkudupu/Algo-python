{
 "cells": [
  {
   "cell_type": "code",
   "execution_count": 41,
   "metadata": {},
   "outputs": [],
   "source": [
    "#DEFINE A CLASS  THAT IS DERIVED FROM OBJECTS\n",
    "#BUILD A NODE\n",
    "class Node(object):\n",
    "     def __init__(self,value=None):\n",
    "        self.value = value\n",
    "        self.left = None\n",
    "        self.right = None\n",
    " "
   ]
  },
  {
   "cell_type": "code",
   "execution_count": 42,
   "metadata": {},
   "outputs": [
    {
     "name": "stdout",
     "output_type": "stream",
     "text": [
      "\n",
      " value: None\n",
      " left: None\n",
      " right: None\n",
      "\n",
      "\n",
      " value: apple\n",
      " left: None\n",
      " right: None\n",
      "\n"
     ]
    }
   ],
   "source": [
    "#ADD A CONSTRUCTOR THAT TAKES VALUE AS PARAMETERS\n",
    "node0= Node()\n",
    "print(f\"\"\"\n",
    " value: {node0.value}\n",
    " left: {node0.left}\n",
    " right: {node0.right}\n",
    "\"\"\")\n",
    "\n",
    "node0= Node(\"apple\")\n",
    "print(f\"\"\"\n",
    " value: {node0.value}\n",
    " left: {node0.left}\n",
    " right: {node0.right}\n",
    "\"\"\")\n"
   ]
  },
  {
   "cell_type": "code",
   "execution_count": 52,
   "metadata": {},
   "outputs": [],
   "source": [
    "#ADD FUNCTIONS TO SET AND GET THE VALUE OF THE NODE\n",
    "class Node(object):\n",
    "    def __init__(self,value=None):\n",
    "        self.value = value\n",
    "        self.left = None\n",
    "        self.right = None\n",
    "    def set_value(self,value):\n",
    "        self.value=value\n",
    "    \n",
    "    def get_value(self,value):\n",
    "        return self.value"
   ]
  },
  {
   "cell_type": "code",
   "execution_count": 53,
   "metadata": {},
   "outputs": [],
   "source": [
    "#ADD FUNCTIONS THAT ASSIGN LEFT AND RIGHT CHILD\n",
    "class Node(object):\n",
    "    def __init__(self,value=None):\n",
    "        self.value = value\n",
    "        self.left = None\n",
    "        self.right = None\n",
    "    def set_value(self,value):\n",
    "        self.value=value\n",
    "    \n",
    "    def get_value(self,value):\n",
    "        return self.value"
   ]
  },
  {
   "cell_type": "code",
   "execution_count": null,
   "metadata": {},
   "outputs": [],
   "source": []
  }
 ],
 "metadata": {
  "kernelspec": {
   "display_name": "Python 3",
   "language": "python",
   "name": "python3"
  },
  "language_info": {
   "codemirror_mode": {
    "name": "ipython",
    "version": 3
   },
   "file_extension": ".py",
   "mimetype": "text/x-python",
   "name": "python",
   "nbconvert_exporter": "python",
   "pygments_lexer": "ipython3",
   "version": "3.7.0"
  }
 },
 "nbformat": 4,
 "nbformat_minor": 2
}
