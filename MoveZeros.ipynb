{
 "cells": [
  {
   "cell_type": "markdown",
   "metadata": {},
   "source": [
    "### Traverse and swap last 0 and non 0\n",
    "ar =[0,0,4,7,0,10]\n",
    "def move_zeros(nums):\n",
    "    last0=0;\n",
    "    #move the non zero numbers to the left\n",
    "    for i in range(0,len(nums)):\n",
    "        if(nums[i]!=0):\n",
    "            print(\"nums[last0] {}\".format(nums[last0]))\n",
    "            nums[i],nums[last0]=nums[last0],nums[i]\n",
    "            print(\"nums[i] {}\".format(nums[i]))\n",
    "            print(\"nums[last0] {}\".format(nums[last0]))\n",
    "            last0+=1\n",
    "            print(last0)\n",
    "            print(\"array {}\".format(nums))\n",
    "     \n",
    "    return nums\n",
    "move_zeros(ar)   "
   ]
  },
  {
   "cell_type": "code",
   "execution_count": 34,
   "metadata": {},
   "outputs": [
    {
     "data": {
      "text/plain": [
       "[4, 7, 10, 0, 0, 0]"
      ]
     },
     "execution_count": 34,
     "metadata": {},
     "output_type": "execute_result"
    }
   ],
   "source": [
    "ar =[0,0,4,7,0,10]\n",
    "def move_zeros(nums):\n",
    "    last0=0;\n",
    "    #move the non zero numbers to the left\n",
    "    for i in range(0,len(nums)):\n",
    "        if(nums[i]!=0):\n",
    "            nums[i],nums[last0]=nums[last0],nums[i]\n",
    "            last0+=1\n",
    "    return nums\n",
    "move_zeros(ar)   "
   ]
  },
  {
   "cell_type": "code",
   "execution_count": null,
   "metadata": {},
   "outputs": [],
   "source": []
  }
 ],
 "metadata": {
  "kernelspec": {
   "display_name": "Python 3",
   "language": "python",
   "name": "python3"
  },
  "language_info": {
   "codemirror_mode": {
    "name": "ipython",
    "version": 3
   },
   "file_extension": ".py",
   "mimetype": "text/x-python",
   "name": "python",
   "nbconvert_exporter": "python",
   "pygments_lexer": "ipython3",
   "version": "3.6.4"
  }
 },
 "nbformat": 4,
 "nbformat_minor": 2
}
