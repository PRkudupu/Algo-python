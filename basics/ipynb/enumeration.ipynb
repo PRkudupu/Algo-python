{
 "cells": [
  {
   "cell_type": "markdown",
   "metadata": {},
   "source": [
    "<b>Python enumerate()</b><br>\n",
    "The enumerate() method adds counter to an iterable and returns it (the enumerate object).\n",
    "\n",
    "The syntax of enumerate() is:\n",
    "\n",
    "enumerate(iterable, start=0)<br>\n",
    "<b>enumerate() Parameters</b><br>\n",
    "enumerate() method takes two parameters:\n",
    "\n",
    "<b>iterable</b> - a sequence, an iterator, or objects that supports iteration<br>\n",
    "<b>start (optional)</b> - enumerate() starts counting from this number. If start is omitted, 0 is taken as start.<br>\n",
    "<b>Return Value from enumerate()</b><br>\n",
    "enumerate() method adds counter to an iterable and returns it. The returned object is a enumerate object.<br>\n",
    "\n",
    "You can convert enumerate objects to list and tuple using list() and tuple() method respectively."
   ]
  },
  {
   "cell_type": "code",
   "execution_count": 8,
   "metadata": {},
   "outputs": [
    {
     "name": "stdout",
     "output_type": "stream",
     "text": [
      "0 bread\n",
      "1 milk\n",
      "2 butter\n"
     ]
    }
   ],
   "source": [
    "grocery=['bread','milk','butter']\n",
    "for x,y in enumerate(grocery):\n",
    "    print(x,y)\n"
   ]
  },
  {
   "cell_type": "markdown",
   "metadata": {},
   "source": [
    "#### specify starting position"
   ]
  },
  {
   "cell_type": "code",
   "execution_count": 10,
   "metadata": {},
   "outputs": [
    {
     "name": "stdout",
     "output_type": "stream",
     "text": [
      "1 bread\n",
      "2 milk\n",
      "3 butter\n"
     ]
    }
   ],
   "source": [
    "grocery=['bread','milk','butter']\n",
    "for x,y in enumerate(grocery,1):\n",
    "    print(x,y)"
   ]
  },
  {
   "cell_type": "code",
   "execution_count": null,
   "metadata": {},
   "outputs": [],
   "source": []
  }
 ],
 "metadata": {
  "kernelspec": {
   "display_name": "Python 3",
   "language": "python",
   "name": "python3"
  },
  "language_info": {
   "codemirror_mode": {
    "name": "ipython",
    "version": 3
   },
   "file_extension": ".py",
   "mimetype": "text/x-python",
   "name": "python",
   "nbconvert_exporter": "python",
   "pygments_lexer": "ipython3",
   "version": "3.7.0"
  }
 },
 "nbformat": 4,
 "nbformat_minor": 2
}
