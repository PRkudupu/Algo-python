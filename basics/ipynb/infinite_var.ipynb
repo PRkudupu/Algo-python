{
 "cells": [
  {
   "cell_type": "code",
   "execution_count": 1,
   "metadata": {},
   "outputs": [
    {
     "name": "stdout",
     "output_type": "stream",
     "text": [
      "test>1 True\n",
      "test>10 True\n",
      "test>10 True\n"
     ]
    }
   ],
   "source": [
    "test=float('inf')\n",
    "print('test>1',test>1)\n",
    "print('test>10',test>10)\n",
    "print('test>10',test>100)\n"
   ]
  },
  {
   "cell_type": "code",
   "execution_count": 7,
   "metadata": {},
   "outputs": [
    {
     "name": "stdout",
     "output_type": "stream",
     "text": [
      "n_inf True\n"
     ]
    }
   ],
   "source": [
    "#To represent positive and negative infinity:\n",
    "# positive infinity\n",
    "p_inf = float(\"inf\")\n",
    "# negative infinity\n",
    "n_inf = float(\"-inf\")\n",
    "print(\"n_inf\",n_inf <-10)"
   ]
  },
  {
   "cell_type": "code",
   "execution_count": null,
   "metadata": {},
   "outputs": [],
   "source": []
  }
 ],
 "metadata": {
  "kernelspec": {
   "display_name": "Python 3",
   "language": "python",
   "name": "python3"
  },
  "language_info": {
   "codemirror_mode": {
    "name": "ipython",
    "version": 3
   },
   "file_extension": ".py",
   "mimetype": "text/x-python",
   "name": "python",
   "nbconvert_exporter": "python",
   "pygments_lexer": "ipython3",
   "version": "3.7.0"
  }
 },
 "nbformat": 4,
 "nbformat_minor": 2
}
