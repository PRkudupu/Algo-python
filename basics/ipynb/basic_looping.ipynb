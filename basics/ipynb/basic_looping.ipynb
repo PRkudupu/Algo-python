{
 "cells": [
  {
   "cell_type": "code",
   "execution_count": 1,
   "metadata": {},
   "outputs": [
    {
     "name": "stdout",
     "output_type": "stream",
     "text": [
      "first : 3 0\n",
      "first : 2 1\n",
      "first : 2 2\n",
      "first : 1 3\n",
      "second : 3 0\n",
      "second : 2 1\n",
      "second : 2 2\n",
      "second : 1 3\n",
      "second : 0 4\n",
      "third : 3\n",
      "third : 2\n",
      "third : 2\n",
      "third : 1\n",
      "third : 0\n",
      "Increement by 2 : 0\n",
      "Increement by 2 : 2\n",
      "Increement by 2 : 4\n",
      "Traverse from the tail : 0 4\n",
      "Traverse from the tail : 1 3\n",
      "Traverse from the tail : 2 2\n",
      "Traverse from the tail : 2 1\n",
      "Traverse from the tail decrement by 2 : 0 4\n",
      "Traverse from the tail decrement by 2 : 2 2\n",
      "Head : 0 tail 4\n",
      "Head : 1 tail 3\n",
      "Head : 2 tail 2\n",
      "[0, 1, 2, 2, 3]\n",
      "None\n"
     ]
    }
   ],
   "source": [
    "def basic_looping(nums,ans):\n",
    "    # Loop through till last except the last element in the list\n",
    "    for i in range(0,len(nums)-1):\n",
    "        print(\"first :\",nums[i],i) \n",
    "     # loop through all the elements in the list without range\n",
    "    for j in range(0,len(nums)):\n",
    "        print(\"second :\",nums[j],j) \n",
    "     # loop through all the elements in the list without range\n",
    "    for k in nums:\n",
    "        print(\"third :\",k) \n",
    "    # loop through and increement by 2\n",
    "    for l in range(0,len(nums),2):\n",
    "        print(\"Increement by 2 :\",l) \n",
    "    # Traverse from the end of the list\n",
    "    for m in range(len(nums)-1,0,-1):\n",
    "        print(\"Traverse from the tail :\",nums[m],m) \n",
    "    # Traverse from the tail decrement by 2 \n",
    "    for n in range(len(nums)-1,0,-2):\n",
    "        print(\"Traverse from the tail decrement by 2 :\",nums[n],n)    \n",
    "    # Traverse from the head and tail using while loop\n",
    "    head = 0\n",
    "    tail =len(nums)-1\n",
    "    # Note here = to sign is needed as if the no is odd it would miss the mid point\n",
    "    while head <= tail:\n",
    "        print(\"Head :\",head, \"tail\",tail)\n",
    "        # increement the head\n",
    "        head +=1\n",
    "        # Decrement the tail\n",
    "        tail -=1\n",
    "    #reverse a list\n",
    "    print(nums[::-1])\n",
    "    \n",
    "print(basic_looping([3,2,2,1,0],7)) "
   ]
  },
  {
   "cell_type": "code",
   "execution_count": null,
   "metadata": {},
   "outputs": [],
   "source": []
  }
 ],
 "metadata": {
  "kernelspec": {
   "display_name": "Python 3",
   "language": "python",
   "name": "python3"
  },
  "language_info": {
   "codemirror_mode": {
    "name": "ipython",
    "version": 3
   },
   "file_extension": ".py",
   "mimetype": "text/x-python",
   "name": "python",
   "nbconvert_exporter": "python",
   "pygments_lexer": "ipython3",
   "version": "3.7.0"
  }
 },
 "nbformat": 4,
 "nbformat_minor": 2
}
