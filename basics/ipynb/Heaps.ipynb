{
 "cells": [
  {
   "cell_type": "markdown",
   "metadata": {},
   "source": [
    "* Heap data structure is mainly used to represent a priority queue. In Python, it is available using “heapq” module. \n",
    "* The property of this data structure in Python is that each time the smallest of heap element is popped(min heap). Whenever elements are pushed or popped, heap structure in maintained. \n",
    "* The heap[0] element also returns the smallest element each time.\n",
    "\n",
    "Let’s see various Operations on heap :\n",
    "\n",
    "\n",
    "<b>heapify(iterable)</b> :- This function is used to convert the iterable into a heap data structure. i.e. in heap order.\n",
    "\n",
    "<b>heappush(heap, ele)</b> :- This function is used to insert the element mentioned in its arguments into heap. The order is <br>adjusted, so as heap structure is maintained.\n",
    "\n",
    "<b>heappop(heap)</b> :- This function is used to remove and return the smallest element from heap. The order is adjusted, so as heap structure is maintained"
   ]
  },
  {
   "cell_type": "markdown",
   "metadata": {},
   "source": [
    "### hepify"
   ]
  },
  {
   "cell_type": "code",
   "execution_count": 31,
   "metadata": {},
   "outputs": [
    {
     "name": "stdout",
     "output_type": "stream",
     "text": [
      "[2, 10, 20, 15, 14, 21, 32]\n"
     ]
    }
   ],
   "source": [
    "#Min heap\n",
    "import heapq\n",
    "ls=[20,14,2,15,10,21,32]\n",
    "heapq.heapify(ls)\n",
    "print(ls)"
   ]
  },
  {
   "cell_type": "markdown",
   "metadata": {},
   "source": [
    "### Get k largest\n",
    "[we need to speify which element do we need the result ]\n"
   ]
  },
  {
   "cell_type": "code",
   "execution_count": 48,
   "metadata": {},
   "outputs": [
    {
     "data": {
      "text/plain": [
       "21"
      ]
     },
     "execution_count": 48,
     "metadata": {},
     "output_type": "execute_result"
    }
   ],
   "source": [
    "k=2\n",
    "heapq.nlargest(k,ls)[-1]"
   ]
  },
  {
   "cell_type": "markdown",
   "metadata": {},
   "source": [
    "### Min heap push & pop"
   ]
  },
  {
   "cell_type": "code",
   "execution_count": 20,
   "metadata": {},
   "outputs": [
    {
     "name": "stdout",
     "output_type": "stream",
     "text": [
      "[2, 10, 5, 20, 15, 14]\n",
      "[5, 10, 14, 20, 15]\n"
     ]
    }
   ],
   "source": [
    "\n",
    "ls=[] \n",
    "heapq.heappush(ls,20)\n",
    "heapq.heappush(ls,14)\n",
    "heapq.heappush(ls,5)\n",
    "heapq.heappush(ls,15)\n",
    "heapq.heappush(ls,10)\n",
    "heapq.heappush(ls,2)\n",
    "#assigned in the sequence added\n",
    "print(ls)\n",
    "\n",
    "#heap pop\n",
    "heapq.heappop(ls)\n",
    "print(ls)"
   ]
  },
  {
   "cell_type": "markdown",
   "metadata": {},
   "source": [
    "### pushpop"
   ]
  },
  {
   "cell_type": "code",
   "execution_count": 21,
   "metadata": {},
   "outputs": [
    {
     "name": "stdout",
     "output_type": "stream",
     "text": [
      "[10, 15, 14, 20, 18]\n"
     ]
    }
   ],
   "source": [
    "#would remove the min heap and add 18\n",
    "heapq.heappushpop(ls,18)\n",
    "print(ls)"
   ]
  },
  {
   "cell_type": "markdown",
   "metadata": {},
   "source": [
    "### return the n largest"
   ]
  },
  {
   "cell_type": "code",
   "execution_count": 35,
   "metadata": {},
   "outputs": [
    {
     "data": {
      "text/plain": [
       "21"
      ]
     },
     "execution_count": 35,
     "metadata": {},
     "output_type": "execute_result"
    }
   ],
   "source": [
    "heapq.nlargest(3,ls)"
   ]
  },
  {
   "cell_type": "markdown",
   "metadata": {},
   "source": [
    "### return the n smallest"
   ]
  },
  {
   "cell_type": "code",
   "execution_count": 23,
   "metadata": {},
   "outputs": [
    {
     "data": {
      "text/plain": [
       "[10, 14, 15]"
      ]
     },
     "execution_count": 23,
     "metadata": {},
     "output_type": "execute_result"
    }
   ],
   "source": [
    "heapq.nsmallest(3,ls)"
   ]
  },
  {
   "cell_type": "code",
   "execution_count": null,
   "metadata": {},
   "outputs": [],
   "source": []
  }
 ],
 "metadata": {
  "kernelspec": {
   "display_name": "Python 3",
   "language": "python",
   "name": "python3"
  },
  "language_info": {
   "codemirror_mode": {
    "name": "ipython",
    "version": 3
   },
   "file_extension": ".py",
   "mimetype": "text/x-python",
   "name": "python",
   "nbconvert_exporter": "python",
   "pygments_lexer": "ipython3",
   "version": "3.7.0"
  }
 },
 "nbformat": 4,
 "nbformat_minor": 2
}
