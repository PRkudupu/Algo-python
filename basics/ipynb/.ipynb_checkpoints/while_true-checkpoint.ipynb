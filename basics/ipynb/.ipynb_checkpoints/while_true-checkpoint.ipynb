{
 "cells": [
  {
   "cell_type": "markdown",
   "metadata": {},
   "source": [
    "### While True is True.\n",
    "\n",
    "The while loop will run as long as the conditional expression evaluates to True.\n",
    "\n",
    "Since True always evaluates to True, the loop will run indefinitely, until something within the loop returns or breaks.\n",
    "\n",
    "#### Note:\n",
    "    \n",
    " In the example below, we have a while loop, <br>\n",
    "    which would only run indefinately, <br>\n",
    "    <b> untill n==8  or </b><br>\n",
    "    <b>n is a negative number </b><br>\n",
    "    <b> else n would be incremented </b>\n",
    "     "
   ]
  },
  {
   "cell_type": "code",
   "execution_count": 3,
   "metadata": {},
   "outputs": [
    {
     "name": "stdout",
     "output_type": "stream",
     "text": [
      "None\n"
     ]
    }
   ],
   "source": [
    "def while_true(n):\n",
    "    while(True):\n",
    "        if n == 8:\n",
    "            return n\n",
    "        elif n < 0:\n",
    "             break\n",
    "        else:\n",
    "            n+=1\n",
    "print(while_true(-1))"
   ]
  },
  {
   "cell_type": "code",
   "execution_count": null,
   "metadata": {},
   "outputs": [],
   "source": [
    " \"\"\"elif n < 0:\n",
    "        break\"\"\"\n",
    "   "
   ]
  }
 ],
 "metadata": {
  "kernelspec": {
   "display_name": "Python 3",
   "language": "python",
   "name": "python3"
  },
  "language_info": {
   "codemirror_mode": {
    "name": "ipython",
    "version": 3
   },
   "file_extension": ".py",
   "mimetype": "text/x-python",
   "name": "python",
   "nbconvert_exporter": "python",
   "pygments_lexer": "ipython3",
   "version": "3.7.0"
  }
 },
 "nbformat": 4,
 "nbformat_minor": 2
}
