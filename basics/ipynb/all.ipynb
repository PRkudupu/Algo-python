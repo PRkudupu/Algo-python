{
 "cells": [
  {
   "cell_type": "markdown",
   "metadata": {},
   "source": [
    "The all() function returns True if all items in an iterable are true, otherwise it returns False.\n",
    "\n",
    "If the iterable object is empty, the all() function also returns True."
   ]
  },
  {
   "cell_type": "code",
   "execution_count": 4,
   "metadata": {},
   "outputs": [
    {
     "name": "stdout",
     "output_type": "stream",
     "text": [
      "True\n"
     ]
    }
   ],
   "source": [
    "def all_use(ls):\n",
    "    return all(ls)\n",
    "print(all_use([True,True,True]))"
   ]
  },
  {
   "cell_type": "code",
   "execution_count": 18,
   "metadata": {},
   "outputs": [
    {
     "name": "stdout",
     "output_type": "stream",
     "text": [
      "True\n",
      "[True, False]\n",
      "False\n",
      "[True, False, True, False]\n",
      "False\n",
      "[True, False, True, False, True, False]\n",
      "False\n"
     ]
    }
   ],
   "source": [
    "def all_use(ls):\n",
    "    stack = []\n",
    "    for i in ls:\n",
    "        if i%2 == 0:\n",
    "            stack.append(True)\n",
    "            print(all(stack))\n",
    "        #Here we are appending 3 to the list. This no is not even.\n",
    "        stack.append(False)\n",
    "        print(stack)\n",
    "    return all(stack)\n",
    "print(all_use([2,4,6]))"
   ]
  }
 ],
 "metadata": {
  "kernelspec": {
   "display_name": "Python 3",
   "language": "python",
   "name": "python3"
  },
  "language_info": {
   "codemirror_mode": {
    "name": "ipython",
    "version": 3
   },
   "file_extension": ".py",
   "mimetype": "text/x-python",
   "name": "python",
   "nbconvert_exporter": "python",
   "pygments_lexer": "ipython3",
   "version": "3.7.0"
  }
 },
 "nbformat": 4,
 "nbformat_minor": 2
}
