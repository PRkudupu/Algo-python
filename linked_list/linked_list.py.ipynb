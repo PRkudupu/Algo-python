{
 "cells": [
  {
   "cell_type": "markdown",
   "metadata": {},
   "source": [
    "![alt text](def_linked_List.JPG)"
   ]
  },
  {
   "cell_type": "code",
   "execution_count": 6,
   "metadata": {},
   "outputs": [],
   "source": [
    "#Data element or node would be passed to this node in the constructor\n",
    "#By default it would be set to none\n",
    "#This would be sub class\n",
    "class node:\n",
    "    def __init__(self,data=None,next_Node=None):\n",
    "        #Store the data point\n",
    "        self.data = data\n",
    "        #Store the pointer to the nex node\n",
    "        self.next_node = next_Node\n",
    "   \n",
    "    #helper functions\n",
    "    def get_data(self):\n",
    "        return self.data\n",
    "    def set_data(self,value):\n",
    "        self.data=value\n",
    "    def get_next(self):\n",
    "        return self.next_node\n",
    "    def set_next(self,new_next):\n",
    "        self.next_node =new_next\n",
    "    \n",
    "class LinkedList(object):\n",
    "    def __init__(self, head=None):\n",
    "        self.head = head\n",
    "    def insert(self, data):\n",
    "        new_node = node(data)\n",
    "        new_node.set_next(self.head)\n",
    "        self.head = new_node\n",
    "    def display(self)\n",
    "        elems = []\n",
    "        "
   ]
  },
  {
   "cell_type": "markdown",
   "metadata": {},
   "source": [
    "![alt text](LinkedList.JPG)"
   ]
  },
  {
   "cell_type": "code",
   "execution_count": 7,
   "metadata": {},
   "outputs": [
    {
     "name": "stdout",
     "output_type": "stream",
     "text": [
      "node1.data 24\n",
      "node2.data 48\n",
      "node1.next_node <__main__.node object at 0x0000022B23707DA0>\n",
      "node2.next_node None\n",
      "<__main__.node object at 0x0000022B23707DA0>\n"
     ]
    }
   ],
   "source": [
    "# first node\n",
    "node1 = node(24)\n",
    "# second node\n",
    "node2 = node(48)\n",
    "\n",
    "#Assign node 1 pointer to the next node\n",
    "node1.next_node =node2\n",
    "\n",
    "print(\"node1.data {}\".format(node1.data))\n",
    "print(\"node2.data {}\".format(node2.data))\n",
    "\n",
    "print(\"node1.next_node {}\".format(node1.next_node))\n",
    "print(\"node2.next_node {}\".format(node2.next_node))\n",
    "\n",
    "print(node1.next_node)\n"
   ]
  },
  {
   "cell_type": "code",
   "execution_count": 14,
   "metadata": {},
   "outputs": [],
   "source": [
    "class Node(object):\n",
    "\n",
    "    def __init__(self, val):\n",
    "        self.val = val\n",
    "        self.next = None\n",
    "\n",
    "\n",
    "class MyLinkedList(object):\n",
    "\n",
    "    def __init__(self):\n",
    "        \"\"\"\n",
    "        Initialize your data structure here.\n",
    "        \"\"\"\n",
    "        self.head = None\n",
    "        self.size = 0\n",
    "\n",
    "    def get(self, index):\n",
    "        \"\"\"\n",
    "        Get the value of the index-th node in the linked list. If the index is invalid, return -1.\n",
    "        :type index: int\n",
    "        :rtype: int\n",
    "        \"\"\"\n",
    "        if index < 0 or index >= self.size:\n",
    "            return -1\n",
    "\n",
    "        if self.head is None:\n",
    "            return -1\n",
    "\n",
    "        curr = self.head\n",
    "        for i in range(index):\n",
    "            curr = curr.next\n",
    "        return curr.val\n",
    "\n",
    "    def addAtHead(self, val):\n",
    "        \"\"\"\n",
    "        Add a node of value val before the first element of the linked list.\n",
    "        After the insertion, the new node will be the first node of the linked list.\n",
    "        :type val: int\n",
    "        :rtype: void\n",
    "        \"\"\"\n",
    "        node = Node(val)\n",
    "        node.next = self.head\n",
    "        self.head = node\n",
    "\n",
    "        self.size += 1\n",
    "\n",
    "    def addAtTail(self, val):\n",
    "        \"\"\"\n",
    "        Append a node of value val to the last element of the linked list.\n",
    "        :type val: int\n",
    "        :rtype: void\n",
    "        \"\"\"\n",
    "        curr = self.head\n",
    "        if curr is None:\n",
    "            self.head = Node(val)\n",
    "        else:\n",
    "            while curr.next is not None:\n",
    "                curr = curr.next\n",
    "            curr.next = Node(val)\n",
    "\n",
    "        self.size += 1\n",
    "\n",
    "    def addAtIndex(self, index, val):\n",
    "        \"\"\"\n",
    "        Add a node of value val before the index-th node in the linked list.\n",
    "        If index equals to the length of linked list, the node will be appended to the end of linked list.\n",
    "        If index is greater than the length, the node will not be inserted.\n",
    "        :type index: int\n",
    "        :type val: int\n",
    "        :rtype: void\n",
    "        \"\"\"\n",
    "        if index < 0 or index > self.size:\n",
    "            return\n",
    "\n",
    "        if index == 0:\n",
    "            self.addAtHead(val)\n",
    "        else:\n",
    "            curr = self.head\n",
    "            for i in range(index - 1):\n",
    "                curr = curr.next\n",
    "            node = Node(val)\n",
    "            node.next = curr.next\n",
    "            curr.next = node\n",
    "\n",
    "            self.size += 1\n",
    "\n",
    "    def deleteAtIndex(self, index):\n",
    "        \"\"\"\n",
    "        Delete the index-th node in the linked list, if the index is valid.\n",
    "        :type index: int\n",
    "        :rtype: void\n",
    "        \"\"\"\n",
    "        if index < 0 or index >= self.size:\n",
    "            return\n",
    "\n",
    "        curr = self.head\n",
    "        if index == 0:\n",
    "            self.head = curr.next\n",
    "        else:\n",
    "            for i in range(index - 1):\n",
    "                curr = curr.next\n",
    "            curr.next = curr.next.next\n",
    "\n",
    "        self.size -= 1"
   ]
  },
  {
   "cell_type": "code",
   "execution_count": 22,
   "metadata": {},
   "outputs": [
    {
     "data": {
      "text/plain": [
       "2"
      ]
     },
     "execution_count": 22,
     "metadata": {},
     "output_type": "execute_result"
    }
   ],
   "source": [
    "#Create intance of the linked list\n",
    "my_list = MyLinkedList()\n",
    "my_list.addAtHead(10)\n",
    "my_list.addAtHead(20)\n",
    "my_list.get(0)\n",
    "my_list.size"
   ]
  },
  {
   "cell_type": "code",
   "execution_count": null,
   "metadata": {},
   "outputs": [],
   "source": []
  }
 ],
 "metadata": {
  "kernelspec": {
   "display_name": "Python 3",
   "language": "python",
   "name": "python3"
  },
  "language_info": {
   "codemirror_mode": {
    "name": "ipython",
    "version": 3
   },
   "file_extension": ".py",
   "mimetype": "text/x-python",
   "name": "python",
   "nbconvert_exporter": "python",
   "pygments_lexer": "ipython3",
   "version": "3.6.4"
  }
 },
 "nbformat": 4,
 "nbformat_minor": 2
}
