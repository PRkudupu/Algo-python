{
 "cells": [
  {
   "cell_type": "code",
   "execution_count": 1,
   "metadata": {},
   "outputs": [
    {
     "name": "stdout",
     "output_type": "stream",
     "text": [
      "[10, 20, 30]\n",
      "20\n",
      "[20, 10, None]\n"
     ]
    }
   ],
   "source": [
    "Add a method that returns kth from last element of linked list.\n",
    "# def kth_from_last(self, k)\n",
    "# Ex - For list -> 2, 3, 4, 7, 0, 9\n",
    "# k = 2 would return 0\n",
    "# k = 1 would return 9"
   ]
  },
  {
   "cell_type": "code",
   "execution_count": 2,
   "metadata": {},
   "outputs": [
    {
     "name": "stdout",
     "output_type": "stream",
     "text": [
      "[10, 20, 30]\n",
      "20\n",
      "[20, 10, None]\n"
     ]
    }
   ],
   "source": [
    "class Node:\n",
    "    def __init__(self,data=None):\n",
    "        self.data=data\n",
    "        self.next=None\n",
    "        \n",
    "class Linked_list:\n",
    "    def __init__(self):\n",
    "        self.head=Node()\n",
    "    \n",
    "    def append(self,data):\n",
    "        cur=self.head\n",
    "        new_node=Node(data)\n",
    "        while cur.next != None:\n",
    "            cur=cur.next\n",
    "        cur.next=new_node\n",
    "    \n",
    "    def display(self):\n",
    "        cur=self.head\n",
    "        array =[]\n",
    "        while cur.next != None:\n",
    "            cur=cur.next\n",
    "            array.append(cur.data)\n",
    "        print(array)\n",
    "    \n",
    "    def reverse(self):\n",
    "        cur=self.head\n",
    "        prev=None\n",
    "        while cur:\n",
    "            nxt= cur.next\n",
    "            cur.next =prev\n",
    "            prev =cur\n",
    "            cur =nxt\n",
    "        self.head = prev\n",
    "    \n",
    "    def kth_from_last(self,k):\n",
    "            self.reverse()\n",
    "            cur=self.head\n",
    "            prev=None\n",
    "            count=1\n",
    "            while cur:\n",
    "                cur=cur.next\n",
    "                if k == count:\n",
    "                    return cur.data\n",
    "                count+=1\n",
    "                                   \n",
    "            \n",
    "ll=Linked_list()\n",
    "ll.append(10)\n",
    "ll.append(20)\n",
    "ll.append(30)\n",
    "ll.display()\n",
    "print(ll.kth_from_last(1))\n",
    "ll.display()"
   ]
  },
  {
   "cell_type": "code",
   "execution_count": null,
   "metadata": {},
   "outputs": [],
   "source": [
    "[10, 20, 30]\n",
    "20\n",
    "[20, 10, None]\n"
   ]
  }
 ],
 "metadata": {
  "kernelspec": {
   "display_name": "Python 3",
   "language": "python",
   "name": "python3"
  },
  "language_info": {
   "codemirror_mode": {
    "name": "ipython",
    "version": 3
   },
   "file_extension": ".py",
   "mimetype": "text/x-python",
   "name": "python",
   "nbconvert_exporter": "python",
   "pygments_lexer": "ipython3",
   "version": "3.7.0"
  }
 },
 "nbformat": 4,
 "nbformat_minor": 2
}
