{
 "cells": [
  {
   "cell_type": "code",
   "execution_count": 10,
   "metadata": {},
   "outputs": [],
   "source": [
    "#Data element or node would be passed to this node in the constructor\n",
    "#By default it would be set to none\n",
    "#This would be sub class\n",
    "class node:\n",
    "    def __init__(self,data=None):\n",
    "        #Store the data point\n",
    "        self.data = data\n",
    "        #Store the pointer to the nex node\n",
    "        self.next = None\n",
    "#Wrapper class\n",
    "class linked_list:\n",
    "    def __int__(self):\n",
    "        #Head node would not contain any actual data\n",
    "        #Head node would not be indexible\n",
    "        #Used as the place holder to allow us to point to the first node\n",
    "        #First element would be of length 0\n",
    "        self.head = node()\n",
    "        \n",
    "        #Adding new data point to the end of the current list\n",
    "    def append(self,data):\n",
    "        #This is the new node of the class node\n",
    "        new_node = node(data)\n",
    "        #Variable to look at the node that we are currently looking\n",
    "        cur=self.head\n",
    "        #Iterate through each node in the list.\n",
    "        #We look for the node where current node =None\n",
    "        while cur.next!=None:\n",
    "            cur = cur.next\n",
    "            #Last node is set as new node\n",
    "        cur.next =new_node\n",
    "    #Find the length of the list    \n",
    "    def length(self):\n",
    "        cur = self.head\n",
    "        total = 0\n",
    "        #iterate through the node\n",
    "        while cur.next!=None:\n",
    "            total+=1\n",
    "            cur = cur.next\n",
    "        return total\n",
    "    #Helper function for display\n",
    "    def display(self):\n",
    "        #List for elements\n",
    "        elems = []\n",
    "        cur_node =self.head\n",
    "        while cur_node.next!=None:\n",
    "            cur_node = cur_node.next\n",
    "            elems.append(cur_node.data)\n",
    "        print(elems)        "
   ]
  },
  {
   "cell_type": "code",
   "execution_count": null,
   "metadata": {},
   "outputs": [],
   "source": []
  },
  {
   "cell_type": "code",
   "execution_count": 21,
   "metadata": {},
   "outputs": [
    {
     "name": "stdout",
     "output_type": "stream",
     "text": [
      "node1.data 24\n",
      "node2.data 48\n",
      "node1.next <__main__.node object at 0x000002BEF488D240>\n",
      "node2.next None\n",
      "<__main__.node object at 0x000002BEF488D240>\n"
     ]
    }
   ],
   "source": [
    "#Create intance of the linked list\n",
    "#my_list = linked_list()\n",
    "#my_list.length()\n",
    "# first node\n",
    "node1 = node(24)\n",
    "# second node\n",
    "node2 = node(48)\n",
    "\n",
    "#Assign node 1 pointer to the next node\n",
    "node1.next =node2\n",
    "\n",
    "print(\"node1.data {}\".format(node1.data))\n",
    "print(\"node2.data {}\".format(node2.data))\n",
    "\n",
    "print(\"node1.next {}\".format(node1.next))\n",
    "print(\"node2.next {}\".format(node2.next))\n",
    "\n",
    "print(node1.next)\n"
   ]
  },
  {
   "cell_type": "code",
   "execution_count": null,
   "metadata": {},
   "outputs": [],
   "source": []
  }
 ],
 "metadata": {
  "kernelspec": {
   "display_name": "Python 3",
   "language": "python",
   "name": "python3"
  },
  "language_info": {
   "codemirror_mode": {
    "name": "ipython",
    "version": 3
   },
   "file_extension": ".py",
   "mimetype": "text/x-python",
   "name": "python",
   "nbconvert_exporter": "python",
   "pygments_lexer": "ipython3",
   "version": "3.6.4"
  }
 },
 "nbformat": 4,
 "nbformat_minor": 2
}
