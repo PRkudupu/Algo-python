{
 "cells": [
  {
   "cell_type": "code",
   "execution_count": 10,
   "metadata": {},
   "outputs": [
    {
     "name": "stdout",
     "output_type": "stream",
     "text": [
      "[10, 20, 30]\n",
      "[20, 10, None]\n"
     ]
    }
   ],
   "source": [
    "class Node:\n",
    "    def __init__(self,data=None):\n",
    "        self.data=data\n",
    "        self.next=None\n",
    "\n",
    "class Linked_list:\n",
    "    def __init__(self):\n",
    "        self.head=Node()\n",
    "    \n",
    "    def append(self,data):\n",
    "        cur=self.head\n",
    "        new_node =Node(data)\n",
    "        while cur.next!= None:\n",
    "            cur=cur.next\n",
    "        cur.next=new_node\n",
    "    def display(self):\n",
    "        cur=self.head\n",
    "        array = []\n",
    "        while cur.next!= None:\n",
    "            cur=cur.next\n",
    "            array.append(cur.data)\n",
    "        print(array)\n",
    "    \n",
    "    def reverse(self):\n",
    "        cur=self.head\n",
    "        prev=None\n",
    "        while cur:\n",
    "            print(\"nxt {}\".format(nxt))\n",
    "            print(\"prev {}\".format(prev))\n",
    "            print(\"cur.next {}\".format(cur.next))\n",
    "            nxt= cur.next\n",
    "            cur.next =prev;\n",
    "            prev =cur\n",
    "            cur =nxt\n",
    "            print(\"nxt {}\".format(nxt))\n",
    "            print(\"prev {}\".format(prev))\n",
    "            print(\"cur.next {}\".format(cur.next))\n",
    "        self.head = prev\n",
    "ll = Linked_list()\n",
    "ll.append(10)\n",
    "ll.append(20)\n",
    "ll.append(30)\n",
    "ll.display()\n",
    "ll.reverse()\n",
    "ll.display()"
   ]
  },
  {
   "cell_type": "code",
   "execution_count": null,
   "metadata": {},
   "outputs": [],
   "source": []
  }
 ],
 "metadata": {
  "kernelspec": {
   "display_name": "Python 3",
   "language": "python",
   "name": "python3"
  },
  "language_info": {
   "codemirror_mode": {
    "name": "ipython",
    "version": 3
   },
   "file_extension": ".py",
   "mimetype": "text/x-python",
   "name": "python",
   "nbconvert_exporter": "python",
   "pygments_lexer": "ipython3",
   "version": "3.6.4"
  }
 },
 "nbformat": 4,
 "nbformat_minor": 2
}
