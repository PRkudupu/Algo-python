{
 "cells": [
  {
   "cell_type": "code",
   "execution_count": 22,
   "metadata": {},
   "outputs": [
    {
     "name": "stdout",
     "output_type": "stream",
     "text": [
      "4\n"
     ]
    }
   ],
   "source": [
    "#stocks\n",
    "# Time Complexity O(n)\n",
    "# Space Complexity 0(1)\n",
    "stocks=[7,1,5,2,4]\n",
    "   \n",
    "def buy_sell_once(s):\n",
    "    maxprofit=0\n",
    "    #first loop\n",
    "    for i in range(len(s)-1):\n",
    "        for j in range(i+1,len(s)):\n",
    "            if s[j] - s[i] > maxprofit:\n",
    "                maxprofit=s[j] - s[i]\n",
    "    return maxprofit\n",
    "\n",
    "m=buy_sell_once(stocks)\n",
    "print(m)"
   ]
  },
  {
   "cell_type": "code",
   "execution_count": null,
   "metadata": {},
   "outputs": [],
   "source": []
  }
 ],
 "metadata": {
  "kernelspec": {
   "display_name": "Python 3",
   "language": "python",
   "name": "python3"
  },
  "language_info": {
   "codemirror_mode": {
    "name": "ipython",
    "version": 3
   },
   "file_extension": ".py",
   "mimetype": "text/x-python",
   "name": "python",
   "nbconvert_exporter": "python",
   "pygments_lexer": "ipython3",
   "version": "3.6.4"
  }
 },
 "nbformat": 4,
 "nbformat_minor": 2
}
