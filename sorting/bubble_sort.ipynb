{
 "cells": [
  {
   "cell_type": "markdown",
   "metadata": {
    "graffitiCellId": "id_cje9nsj"
   },
   "source": [
    "# Bubble Sort Exercises\n",
    "Now that you know how about bubble sort works, you'll implement bubble sort for two exercises."
   ]
  },
  {
   "cell_type": "markdown",
   "metadata": {},
   "source": [
    "![bubble_sort](images/bubble_sort.jpg \"Tree\")\n",
    "![bubble_sort](images/bubble_sort_1.jpg \"Tree\")\n",
    "![bubble_sort](images/bubble_sort_2.jpg \"Tree\")\n",
    "![bubble_sort](images/bubble_sort_3.jpg \"Tree\")\n",
    "![bubble_sort](images/bubble_sort_4.jpg \"Tree\")"
   ]
  },
  {
   "cell_type": "markdown",
   "metadata": {
    "graffitiCellId": "id_t9tqtch"
   },
   "source": [
    "## Exercise 1"
   ]
  },
  {
   "cell_type": "markdown",
   "metadata": {
    "graffitiCellId": "id_gqzp0au"
   },
   "source": [
    "Sam records when they wake up every morning. Assuming Sam always wakes up in the same hour, use bubble sort to sort by earliest to latest.\n",
    "\n"
   ]
  },
  {
   "cell_type": "code",
   "execution_count": 8,
   "metadata": {
    "graffitiCellId": "id_5lff1yj"
   },
   "outputs": [
    {
     "name": "stdout",
     "output_type": "stream",
     "text": [
      "Pass\n"
     ]
    }
   ],
   "source": [
    "wakeup_times = [16,49,3,12,56,49,55,22,13,46,19,55,46,13,25,56,9,48,45]\n",
    "def bubble_sort_1(l):\n",
    "     for iteration in range(len(l)):\n",
    "        for index in range(1, len(l)):\n",
    "            this = l[index]\n",
    "            prev = l[index - 1]\n",
    "\n",
    "            if prev <= this:\n",
    "                continue\n",
    "\n",
    "            l[index] = prev\n",
    "            l[index - 1] = this\n",
    "\n",
    "bubble_sort_1(wakeup_times)\n",
    "print (\"Pass\" if (wakeup_times[0] == 3) else \"Fail\")"
   ]
  },
  {
   "cell_type": "code",
   "execution_count": 10,
   "metadata": {},
   "outputs": [
    {
     "name": "stdout",
     "output_type": "stream",
     "text": [
      "\n",
      "outside wakeup_times [16, 49, 3, 12]\n",
      "this 49\n",
      "prev 16\n",
      "this 3\n",
      "prev 49\n",
      "inside wakeup_times [16, 3, 49, 12]\n",
      "this 12\n",
      "prev 49\n",
      "inside wakeup_times [16, 3, 12, 49]\n",
      "\n",
      "outside wakeup_times [16, 3, 12, 49]\n",
      "this 3\n",
      "prev 16\n",
      "inside wakeup_times [3, 16, 12, 49]\n",
      "this 12\n",
      "prev 16\n",
      "inside wakeup_times [3, 12, 16, 49]\n",
      "this 49\n",
      "prev 16\n",
      "\n",
      "outside wakeup_times [3, 12, 16, 49]\n",
      "this 12\n",
      "prev 3\n",
      "this 16\n",
      "prev 12\n",
      "this 49\n",
      "prev 16\n",
      "\n",
      "outside wakeup_times [3, 12, 16, 49]\n",
      "this 12\n",
      "prev 3\n",
      "this 16\n",
      "prev 12\n",
      "this 49\n",
      "prev 16\n",
      "Pass\n"
     ]
    }
   ],
   "source": [
    "#Same problem with less inputs and print statement\n",
    "wakeup_times = [16,49,3,12]\n",
    "def bubble_sort_1(l):\n",
    "     for iteration in range(len(l)):\n",
    "        print('\\noutside wakeup_times',wakeup_times)\n",
    "        for index in range(1, len(l)):\n",
    "            this = l[index]\n",
    "            prev = l[index - 1]\n",
    "            print('this',this)\n",
    "            print('prev',prev)\n",
    "            if prev <= this:\n",
    "                continue\n",
    "\n",
    "            l[index] = prev\n",
    "            l[index - 1] = this\n",
    "            print('inside wakeup_times',wakeup_times)\n",
    "bubble_sort_1(wakeup_times)\n",
    "print (\"Pass\" if (wakeup_times[0] == 3) else \"Fail\")"
   ]
  },
  {
   "cell_type": "markdown",
   "metadata": {
    "graffitiCellId": "id_qeyh6km"
   },
   "source": [
    "## Exercise 2"
   ]
  },
  {
   "cell_type": "markdown",
   "metadata": {
    "graffitiCellId": "id_yapmadk"
   },
   "source": [
    "Sam doesn't always go to sleep in the same hour. Given the following times Sam has gone to sleep, sort the times from latest to earliest."
   ]
  },
  {
   "cell_type": "code",
   "execution_count": 2,
   "metadata": {
    "graffitiCellId": "id_dx34e9v"
   },
   "outputs": [
    {
     "name": "stdout",
     "output_type": "stream",
     "text": [
      "Pass\n"
     ]
    }
   ],
   "source": [
    "# Entries are (h, m) where h is the hour and m is the minute\n",
    "sleep_times = [(24,13), (21,55), (23,20), (22,5), (24,23), (21,58), (24,3)]\n",
    "\n",
    "def bubble_sort_2(l):\n",
    "    for iteration in range(len(l)):\n",
    "        for index in range(1, len(l)):\n",
    "            this_hour, this_min = l[index]\n",
    "            prev_hour, prev_min = l[index - 1]\n",
    "\n",
    "            if prev_hour > this_hour or (prev_hour == this_hour and prev_min > this_min):\n",
    "                continue\n",
    "\n",
    "            l[index] = (prev_hour, prev_min)\n",
    "            l[index - 1] = (this_hour, this_min)\n",
    "\n",
    "bubble_sort_2(sleep_times)\n",
    "print (\"Pass\" if (sleep_times == [(24,23), (24,13), (24,3), (23,20), (22,5), (21,58), (21,55)]) else \"Fail\")"
   ]
  },
  {
   "cell_type": "markdown",
   "metadata": {},
   "source": [
    "### Time complexity\n",
    "![bubble sort](images/bubble_sort_time_1.jpg \"Bubble sort\")\n",
    "![bubble sort](images/bubble_sort_itme_2.jpg \"Bubble sort\")\n",
    "![bubble sort](images/bubble_sort_time_3.jpg \"Bubble sort\")\n"
   ]
  },
  {
   "cell_type": "code",
   "execution_count": null,
   "metadata": {},
   "outputs": [],
   "source": []
  }
 ],
 "metadata": {
  "graffiti": {
   "firstAuthorId": "10694620118",
   "id": "id_0hd22kb",
   "language": "EN"
  },
  "kernelspec": {
   "display_name": "Python 3",
   "language": "python",
   "name": "python3"
  },
  "language_info": {
   "codemirror_mode": {
    "name": "ipython",
    "version": 3
   },
   "file_extension": ".py",
   "mimetype": "text/x-python",
   "name": "python",
   "nbconvert_exporter": "python",
   "pygments_lexer": "ipython3",
   "version": "3.7.0"
  }
 },
 "nbformat": 4,
 "nbformat_minor": 2
}
