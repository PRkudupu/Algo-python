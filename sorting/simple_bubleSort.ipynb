{
 "cells": [
  {
   "cell_type": "code",
   "execution_count": 2,
   "metadata": {},
   "outputs": [
    {
     "name": "stdout",
     "output_type": "stream",
     "text": [
      "ls[x] 3\n",
      "ls[y] 1 \n",
      "\n",
      "ls[x] 1\n",
      "ls[y] 8 \n",
      "\n",
      "ls[x] 1\n",
      "ls[y] 7 \n",
      "\n",
      "ls[x] 1\n",
      "ls[y] 0 \n",
      "\n",
      "ls[x] 3\n",
      "ls[y] 8 \n",
      "\n",
      "ls[x] 3\n",
      "ls[y] 7 \n",
      "\n",
      "ls[x] 3\n",
      "ls[y] 1 \n",
      "\n",
      "ls[x] 8\n",
      "ls[y] 7 \n",
      "\n",
      "ls[x] 7\n",
      "ls[y] 3 \n",
      "\n",
      "ls[x] 8\n",
      "ls[y] 7 \n",
      "\n",
      "[0, 1, 3, 7, 8]\n"
     ]
    }
   ],
   "source": [
    "#Naive method of implementing bubble sort\n",
    "def bubble_sort(ls):\n",
    "    for x in range(len(ls)-1):\n",
    "        for y in range(x+1,len(ls)):\n",
    "            print(\"ls[x]\",ls[x])\n",
    "            print(\"ls[y]\",ls[y],\"\\n\")\n",
    "            if ls[x] >ls[y]:\n",
    "                temp=ls[x]\n",
    "                ls[x]=ls[y]\n",
    "                ls[y]=temp\n",
    "    return ls\n",
    "\n",
    "print(bubble_sort([3,1,8,7,0]))"
   ]
  },
  {
   "cell_type": "code",
   "execution_count": 4,
   "metadata": {},
   "outputs": [
    {
     "name": "stdout",
     "output_type": "stream",
     "text": [
      "ls[x] 3\n",
      "ls[y] 1 \n",
      "\n",
      "ls[x] 1\n",
      "ls[y] 8 \n",
      "\n",
      "ls[x] 1\n",
      "ls[y] 7 \n",
      "\n",
      "ls[x] 1\n",
      "ls[y] 0 \n",
      "\n",
      "ls[x] 3\n",
      "ls[y] 8 \n",
      "\n",
      "ls[x] 3\n",
      "ls[y] 7 \n",
      "\n",
      "ls[x] 3\n",
      "ls[y] 1 \n",
      "\n",
      "ls[x] 8\n",
      "ls[y] 7 \n",
      "\n",
      "ls[x] 7\n",
      "ls[y] 3 \n",
      "\n",
      "ls[x] 8\n",
      "ls[y] 7 \n",
      "\n",
      "[0, 1, 3, 7, 8]\n"
     ]
    }
   ],
   "source": [
    "#Naive method of implementing bubble sort.swaping without using temporary variable.\n",
    "def bubble_sort(ls):\n",
    "    for x in range(len(ls)-1):\n",
    "        for y in range(x+1,len(ls)):\n",
    "            print(\"ls[x]\",ls[x])\n",
    "            print(\"ls[y]\",ls[y],\"\\n\")\n",
    "            if ls[x] >ls[y]:\n",
    "                ls[x],ls[y]=ls[y],ls[x]\n",
    "    return ls\n",
    "\n",
    "print(bubble_sort([3,1,8,7,0]))"
   ]
  },
  {
   "cell_type": "code",
   "execution_count": null,
   "metadata": {},
   "outputs": [],
   "source": []
  },
  {
   "cell_type": "code",
   "execution_count": null,
   "metadata": {},
   "outputs": [],
   "source": []
  }
 ],
 "metadata": {
  "kernelspec": {
   "display_name": "Python 3",
   "language": "python",
   "name": "python3"
  },
  "language_info": {
   "codemirror_mode": {
    "name": "ipython",
    "version": 3
   },
   "file_extension": ".py",
   "mimetype": "text/x-python",
   "name": "python",
   "nbconvert_exporter": "python",
   "pygments_lexer": "ipython3",
   "version": "3.7.0"
  }
 },
 "nbformat": 4,
 "nbformat_minor": 2
}
