{
 "cells": [
  {
   "cell_type": "markdown",
   "metadata": {},
   "source": [
    "### Find the median for an odd set of numbers\n",
    "Sample question: Find the median for the following data set:\n",
    "102, 56, 34, 99, 89, 101, 10.\n",
    "\n",
    "Step 1: Place the data in ascending order. In other words, sort your data from the smallest number to the highest number. For this sample data set, the order is:\n",
    "10, 34, 56, 89, 99, 101, 102.\n",
    "\n",
    "Step 2: Find the number in the middle (where there are an equal number of data points above and below the number):\n",
    "10, 34, 56, <b>89</b>, 99, 101, 102.\n",
    "<b>The median is 89.</b>\n",
    "\n",
    "Tip: If you have a large data set, divide the number in the set by two. That tells you how many numbers should be above and how many numbers should be below. \n",
    "For example, <b>101/2 = 55.5.</b> Ignore the decimal: 55 numbers should be above and 55 below.\n",
    "\n",
    "### Find the median for an even set of numbers\n",
    "Sample question: Find the median for the following data set:\n",
    "102, 56, 34, 99, 89, 101, 10, 54.\n",
    "\n",
    "Step 1: Place the data in ascending order (smallest to highest).\n",
    "10, 34, 54, 56, 89, 99, 101, 102.\n",
    "\n",
    "Step 2: Find the TWO numbers in the middle (where there are an equal number of data points above and below the two middle numbers).\n",
    "10, 34, 54, 56, 89, 99, 101, 102\n",
    "\n",
    "Step 3: Add the two middle numbers and then divide by two, to get the average:\n",
    "<b>56 + 89 = 145 </b>\n",
    "145 / 2 = 72.5.\n",
    "The median is 72.5.\n",
    "Tip: For large data sets, divide the number of items by 2, then subtract 1 to find the number that should be above and the number that should be below. \n",
    "<b>For example, 100/2 = 50. 50 – 1 = 49.</b> The middle two numbers will have 49 "
   ]
  },
  {
   "cell_type": "code",
   "execution_count": 11,
   "metadata": {},
   "outputs": [
    {
     "name": "stdout",
     "output_type": "stream",
     "text": [
      "3\n"
     ]
    }
   ],
   "source": [
    "def med(nums):\n",
    "    ls=sorted(nums)\n",
    "    l=len(nums)\n",
    "    mid=int((l-1)/2)\n",
    "    mid_plus_one=int((l+1)/2)\n",
    "    if l % 2 == 0:\n",
    "        return int((ls[mid] + ls[mid_plus_one])/2)\n",
    "    else:\n",
    "        return ls[mid]\n",
    "\n",
    "print(med([1,2,3,4,5]))"
   ]
  },
  {
   "cell_type": "markdown",
   "metadata": {},
   "source": [
    "### Using in built library"
   ]
  },
  {
   "cell_type": "code",
   "execution_count": 12,
   "metadata": {},
   "outputs": [
    {
     "name": "stdout",
     "output_type": "stream",
     "text": [
      "3\n"
     ]
    }
   ],
   "source": [
    "def med(nums):\n",
    "    import statistics\n",
    "    return statistics.median(nums)\n",
    "print(med([1,2,3,4,5]))"
   ]
  }
 ],
 "metadata": {
  "kernelspec": {
   "display_name": "Python 3",
   "language": "python",
   "name": "python3"
  },
  "language_info": {
   "codemirror_mode": {
    "name": "ipython",
    "version": 3
   },
   "file_extension": ".py",
   "mimetype": "text/x-python",
   "name": "python",
   "nbconvert_exporter": "python",
   "pygments_lexer": "ipython3",
   "version": "3.7.0"
  }
 },
 "nbformat": 4,
 "nbformat_minor": 2
}
