{
 "cells": [
  {
   "cell_type": "code",
   "execution_count": 7,
   "metadata": {},
   "outputs": [
    {
     "name": "stdout",
     "output_type": "stream",
     "text": [
      "False\n",
      "True\n",
      "False\n"
     ]
    }
   ],
   "source": [
    "def confirm_repeated_sub_string(ls,k):\n",
    "    seen=set()\n",
    "    j=1\n",
    "    if len(ls)%k!=0:\n",
    "        return False\n",
    "    for i in range(len(ls)):\n",
    "        ch=\"\"\n",
    "        ch=ch+ls[i]\n",
    "        if j==k:\n",
    "            if len(seen)!=0 and ch not in seen:\n",
    "                return False\n",
    "            seen.add(ch)\n",
    "            j=0\n",
    "        j+=1\n",
    "    return True\n",
    "print(confirm_repeated_sub_string(\"ababdf\",2))\n",
    "print(confirm_repeated_sub_string(\"abab\",2))\n",
    "print(confirm_repeated_sub_string(\"abac\",2))"
   ]
  },
  {
   "cell_type": "code",
   "execution_count": null,
   "metadata": {},
   "outputs": [],
   "source": []
  }
 ],
 "metadata": {
  "kernelspec": {
   "display_name": "Python 3",
   "language": "python",
   "name": "python3"
  },
  "language_info": {
   "codemirror_mode": {
    "name": "ipython",
    "version": 3
   },
   "file_extension": ".py",
   "mimetype": "text/x-python",
   "name": "python",
   "nbconvert_exporter": "python",
   "pygments_lexer": "ipython3",
   "version": "3.8.5"
  }
 },
 "nbformat": 4,
 "nbformat_minor": 2
}
