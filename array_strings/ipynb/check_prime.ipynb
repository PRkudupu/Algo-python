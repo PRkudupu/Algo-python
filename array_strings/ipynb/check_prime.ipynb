{
 "cells": [
  {
   "cell_type": "markdown",
   "metadata": {},
   "source": [
    "#### Validate if a given number is a prime number\n",
    "A prime number is a natural number greater than 1 that cannot be formed by multiplying two smaller natural numbers.\n",
    "\n",
    "The first few prime numbers are\n",
    "<b> 2, 3, 5, 7, 11, 13, 17, 19, 23 and 29 </b>\n",
    "\n",
    "Example\n",
    "\n",
    "<b>Input </b> : 8\n",
    "\n",
    "<b>Output</b> : False\n",
    "\n",
    "<b>Input </b> : 7\n",
    "\n",
    "<b>Output</b> : True\n",
    "        "
   ]
  },
  {
   "cell_type": "code",
   "execution_count": 38,
   "metadata": {},
   "outputs": [
    {
     "name": "stdout",
     "output_type": "stream",
     "text": [
      "True\n"
     ]
    }
   ],
   "source": [
    "def check_prime(num):\n",
    "    mid = int(num/2)\n",
    "    for i in range(2,mid):\n",
    "        if num % i == 0:\n",
    "            return False\n",
    "    return True\n",
    "print(check_prime(4))"
   ]
  },
  {
   "cell_type": "code",
   "execution_count": null,
   "metadata": {},
   "outputs": [],
   "source": []
  }
 ],
 "metadata": {
  "kernelspec": {
   "display_name": "Python 3",
   "language": "python",
   "name": "python3"
  },
  "language_info": {
   "codemirror_mode": {
    "name": "ipython",
    "version": 3
   },
   "file_extension": ".py",
   "mimetype": "text/x-python",
   "name": "python",
   "nbconvert_exporter": "python",
   "pygments_lexer": "ipython3",
   "version": "3.7.0"
  }
 },
 "nbformat": 4,
 "nbformat_minor": 2
}
