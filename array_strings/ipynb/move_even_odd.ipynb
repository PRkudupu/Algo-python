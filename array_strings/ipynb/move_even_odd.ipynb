{
 "cells": [
  {
   "cell_type": "markdown",
   "metadata": {},
   "source": [
    "Segregate Even and Odd numbers\n",
    "Given an array A[], write a function that segregates even and odd numbers. The functions should put all even numbers first, and then odd numbers.\n",
    "Example:\n",
    "\n",
    "Input  = {12, 34, 45, 9, 8, 90, 3}\n",
    "Output = {12, 34, 8, 90, 45, 9, 3}\n",
    "In the output, the order of numbers can be changed, i.e., in the above example, 34 can come before 12 and 3 can come before 9."
   ]
  },
  {
   "cell_type": "code",
   "execution_count": 2,
   "metadata": {},
   "outputs": [
    {
     "name": "stdout",
     "output_type": "stream",
     "text": [
      "[5, 5, 8, 10, 11, 11, 45, 12, 16, 16]\n"
     ]
    }
   ],
   "source": [
    "def move_even_odd(ls):\n",
    "    for i in range(0,len(ls)-1):\n",
    "        j=i+1\n",
    "        if ls[i] %2==0:\n",
    "            ls[i]=ls[j]\n",
    "            j+=1\n",
    "    return ls            \n",
    "print(move_even_odd([4,5,6,8,10,11,45,10,12,16]))"
   ]
  },
  {
   "cell_type": "code",
   "execution_count": null,
   "metadata": {},
   "outputs": [],
   "source": []
  }
 ],
 "metadata": {
  "kernelspec": {
   "display_name": "Python 3",
   "language": "python",
   "name": "python3"
  },
  "language_info": {
   "codemirror_mode": {
    "name": "ipython",
    "version": 3
   },
   "file_extension": ".py",
   "mimetype": "text/x-python",
   "name": "python",
   "nbconvert_exporter": "python",
   "pygments_lexer": "ipython3",
   "version": "3.7.0"
  }
 },
 "nbformat": 4,
 "nbformat_minor": 2
}
