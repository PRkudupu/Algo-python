{
 "cells": [
  {
   "cell_type": "markdown",
   "metadata": {},
   "source": [
    "Write a function to count the number of times each character appears in a string and rewrite the string in that format. <br>\n",
    "Eg. <b>\"I am back.\"</b> <br>\n",
    "should become <b>\"i1 2a2m1b1c1k1.1\" </b>"
   ]
  },
  {
   "cell_type": "code",
   "execution_count": 2,
   "metadata": {},
   "outputs": [
    {
     "name": "stdout",
     "output_type": "stream",
     "text": [
      "I1 2a2m1b1c1k1\n"
     ]
    }
   ],
   "source": [
    "s=\"I am back\"\n",
    "def number_times(s):\n",
    "    chars = list(s)\n",
    "    dic = {}\n",
    "    for ch in chars:\n",
    "        dic[c] = dCount.get(c, 0) +1\n",
    "    string = \"\"\n",
    "    for k, v in dCount.items():\n",
    "        string += k+str(v)\n",
    "    return string\n",
    "print(number_times(s))"
   ]
  },
  {
   "cell_type": "code",
   "execution_count": null,
   "metadata": {},
   "outputs": [],
   "source": []
  }
 ],
 "metadata": {
  "kernelspec": {
   "display_name": "Python 3",
   "language": "python",
   "name": "python3"
  },
  "language_info": {
   "codemirror_mode": {
    "name": "ipython",
    "version": 3
   },
   "file_extension": ".py",
   "mimetype": "text/x-python",
   "name": "python",
   "nbconvert_exporter": "python",
   "pygments_lexer": "ipython3",
   "version": "3.8.5"
  }
 },
 "nbformat": 4,
 "nbformat_minor": 4
}
