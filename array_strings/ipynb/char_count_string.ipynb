{
 "cells": [
  {
   "cell_type": "markdown",
   "metadata": {},
   "source": [
    "Count the character in a string. The character would contain empty string <br>\n",
    " input= <b>\"adaadw dd\" </b> <br>\n",
    " output = <b>8</b>"
   ]
  },
  {
   "cell_type": "code",
   "execution_count": 3,
   "metadata": {},
   "outputs": [
    {
     "name": "stdout",
     "output_type": "stream",
     "text": [
      "8\n"
     ]
    }
   ],
   "source": [
    "def char_count(ls):\n",
    "    count=0\n",
    "    items =ls.split()\n",
    "    for ch in items:\n",
    "        count +=len(ch)\n",
    "    return count\n",
    "print(char_count(\"adaadw dd\"))"
   ]
  },
  {
   "cell_type": "code",
   "execution_count": 5,
   "metadata": {},
   "outputs": [
    {
     "name": "stdout",
     "output_type": "stream",
     "text": [
      "8\n"
     ]
    }
   ],
   "source": [
    "def char_count(ls):\n",
    "    count=0\n",
    "    for ch in ls:\n",
    "        if ch != \" \":\n",
    "            count+=1\n",
    "    return count\n",
    "print(char_count(\"adaadw dd\"))"
   ]
  }
 ],
 "metadata": {
  "kernelspec": {
   "display_name": "Python 3",
   "language": "python",
   "name": "python3"
  },
  "language_info": {
   "codemirror_mode": {
    "name": "ipython",
    "version": 3
   },
   "file_extension": ".py",
   "mimetype": "text/x-python",
   "name": "python",
   "nbconvert_exporter": "python",
   "pygments_lexer": "ipython3",
   "version": "3.8.5"
  }
 },
 "nbformat": 4,
 "nbformat_minor": 2
}
