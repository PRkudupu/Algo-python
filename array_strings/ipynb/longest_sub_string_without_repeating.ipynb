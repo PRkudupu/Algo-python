{
 "cells": [
  {
   "cell_type": "markdown",
   "metadata": {},
   "source": [
    "Given a string, find the length of the longest substring without repeating characters.\n",
    "\n",
    "Example 1:\n",
    "\n",
    "Input: \"abcabcbb\"\n",
    "Output: 3 \n",
    "Explanation: The answer is \"abc\", with the length of 3. \n",
    "Example 2:\n",
    "\n",
    "Input: \"bbbbb\"\n",
    "Output: 1\n",
    "Explanation: The answer is \"b\", with the length of 1.\n",
    "Example 3:\n",
    "\n",
    "Input: \"pwwkew\"\n",
    "Output: 3\n",
    "Explanation: The answer is \"wke\", with the length of 3. \n",
    "             Note that the answer must be a substring, \"pwke\" is a subsequence and not a substring."
   ]
  },
  {
   "cell_type": "code",
   "execution_count": 15,
   "metadata": {},
   "outputs": [
    {
     "name": "stdout",
     "output_type": "stream",
     "text": [
      "3\n"
     ]
    }
   ],
   "source": [
    "def long_sub_string(ls):\n",
    "    sub_set =\"\"\n",
    "    dic ={}\n",
    "    s = set()\n",
    "    maxi=0\n",
    "    for i in ls:\n",
    "        if i not in s:\n",
    "            s.add(i)\n",
    "            sub_set =sub_set+i\n",
    "        else:\n",
    "            dic[sub_set]=len(sub_set)\n",
    "            sub_set =\"\"\n",
    "            sub_set =sub_set+i\n",
    "            s=set()\n",
    "            s.add(i)\n",
    "        dic[sub_set]=len(sub_set)\n",
    "        maxi=max(maxi,dic[sub_set])\n",
    "    return maxi\n",
    "print(long_sub_string('pwwkew'))"
   ]
  },
  {
   "cell_type": "code",
   "execution_count": 9,
   "metadata": {},
   "outputs": [
    {
     "name": "stdout",
     "output_type": "stream",
     "text": [
      "9\n"
     ]
    }
   ],
   "source": [
    "def lengthOfLongestSubstring(s):\n",
    "        start = maxLength = 0\n",
    "        usedChar = {}\n",
    "        \n",
    "        for i in range(len(s)):\n",
    "            if s[i] in usedChar and start <= usedChar[s[i]]:\n",
    "                start = usedChar[s[i]] + 1\n",
    "            else:\n",
    "                # Here i-strat is where we are removing the index from previous sub string\n",
    "                # +1 is added as index starts from 0\n",
    "                maxLength = max(maxLength, i - start + 1)\n",
    "\n",
    "            usedChar[s[i]] = i\n",
    "\n",
    "        return maxLength\n",
    "print(lengthOfLongestSubstring('abcdakujgbna'))"
   ]
  },
  {
   "cell_type": "code",
   "execution_count": 1,
   "metadata": {},
   "outputs": [
    {
     "name": "stdout",
     "output_type": "stream",
     "text": [
      "else\n",
      "\n",
      "i -> 0\n",
      "ls[i] a\n",
      "start -> 0\n",
      "dic[ls[i]] -> 0\n",
      "dic -> {'a': 0}\n",
      "maxlength 1\n",
      "else\n",
      "\n",
      "i -> 1\n",
      "ls[i] b\n",
      "start -> 0\n",
      "dic[ls[i]] -> 1\n",
      "dic -> {'a': 0, 'b': 1}\n",
      "maxlength 2\n",
      "if\n",
      "\n",
      "i -> 2\n",
      "ls[i] a\n",
      "start -> 1\n",
      "dic[ls[i]] -> 2\n",
      "dic -> {'a': 2, 'b': 1}\n",
      "maxlength 2\n",
      "if\n",
      "\n",
      "i -> 3\n",
      "ls[i] b\n",
      "start -> 2\n",
      "dic[ls[i]] -> 3\n",
      "dic -> {'a': 2, 'b': 3}\n",
      "maxlength 2\n",
      "else\n",
      "\n",
      "i -> 4\n",
      "ls[i] c\n",
      "start -> 2\n",
      "dic[ls[i]] -> 4\n",
      "dic -> {'a': 2, 'b': 3, 'c': 4}\n",
      "maxlength 3\n",
      "if\n",
      "\n",
      "i -> 5\n",
      "ls[i] a\n",
      "start -> 3\n",
      "dic[ls[i]] -> 5\n",
      "dic -> {'a': 5, 'b': 3, 'c': 4}\n",
      "maxlength 3\n",
      "if\n",
      "\n",
      "i -> 6\n",
      "ls[i] b\n",
      "start -> 4\n",
      "dic[ls[i]] -> 6\n",
      "dic -> {'a': 5, 'b': 6, 'c': 4}\n",
      "maxlength 3\n",
      "if\n",
      "\n",
      "i -> 7\n",
      "ls[i] c\n",
      "start -> 5\n",
      "dic[ls[i]] -> 7\n",
      "dic -> {'a': 5, 'b': 6, 'c': 7}\n",
      "maxlength 3\n",
      "else\n",
      "\n",
      "i -> 8\n",
      "ls[i] d\n",
      "start -> 5\n",
      "dic[ls[i]] -> 8\n",
      "dic -> {'a': 5, 'b': 6, 'c': 7, 'd': 8}\n",
      "maxlength 4\n",
      "4\n"
     ]
    }
   ],
   "source": [
    "def len_longest_sub(ls):\n",
    "    start = maxLength = 0\n",
    "    dic = {}\n",
    "    for i in range(len(ls)):\n",
    "        if ls[i] in dic and start <= dic[ls[i]]:\n",
    "            print(\"if\")\n",
    "            start = dic[ls[i]] + 1\n",
    "        else:\n",
    "            print(\"else\")\n",
    "            maxLength = max(maxLength, i - start + 1)\n",
    "        dic[ls[i]] = i\n",
    "        print(\"\\ni ->\",i)\n",
    "        print(\"ls[i]\",ls[i])\n",
    "        print(\"start ->\",start)\n",
    "        print(\"dic[ls[i]] ->\",dic[ls[i]])\n",
    "        print(\"dic ->\",dic)\n",
    "        print(\"maxlength\",maxLength)\n",
    "    return maxLength\n",
    "print(len_longest_sub(\"ababcabcd\"))"
   ]
  },
  {
   "cell_type": "code",
   "execution_count": null,
   "metadata": {},
   "outputs": [],
   "source": []
  }
 ],
 "metadata": {
  "kernelspec": {
   "display_name": "Python 3",
   "language": "python",
   "name": "python3"
  },
  "language_info": {
   "codemirror_mode": {
    "name": "ipython",
    "version": 3
   },
   "file_extension": ".py",
   "mimetype": "text/x-python",
   "name": "python",
   "nbconvert_exporter": "python",
   "pygments_lexer": "ipython3",
   "version": "3.7.0"
  }
 },
 "nbformat": 4,
 "nbformat_minor": 2
}
