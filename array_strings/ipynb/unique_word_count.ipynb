{
 "cells": [
  {
   "cell_type": "code",
   "execution_count": 2,
   "metadata": {},
   "outputs": [
    {
     "name": "stdout",
     "output_type": "stream",
     "text": [
      "{'my': 2, 'name': 1, 'prathap': 1}\n"
     ]
    }
   ],
   "source": [
    "def uniq(ls):\n",
    "    words=ls.split()\n",
    "    dic={}\n",
    "    for w in words:\n",
    "        if w in dic:\n",
    "            continue\n",
    "        else:\n",
    "            dic[w]=ls.count(w)\n",
    "    return dic\n",
    "print(uniq(\"my my name prathap\"))"
   ]
  }
 ],
 "metadata": {
  "kernelspec": {
   "display_name": "Python 3",
   "language": "python",
   "name": "python3"
  },
  "language_info": {
   "codemirror_mode": {
    "name": "ipython",
    "version": 3
   },
   "file_extension": ".py",
   "mimetype": "text/x-python",
   "name": "python",
   "nbconvert_exporter": "python",
   "pygments_lexer": "ipython3",
   "version": "3.7.0"
  }
 },
 "nbformat": 4,
 "nbformat_minor": 2
}
