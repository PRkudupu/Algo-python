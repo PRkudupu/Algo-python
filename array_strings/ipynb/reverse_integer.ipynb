{
 "cells": [
  {
   "cell_type": "markdown",
   "metadata": {},
   "source": [
    "Given a 32-bit signed integer, reverse digits of an integer.<br>\n",
    "\n",
    "Note:<br>\n",
    "Assume we are dealing with an environment that could only store integers within the 32-bit signed integer range: [−231,  <br>231 − 1]. For the purpose of this problem, assume that your function returns 0 when the reversed integer overflows.<br><br>\n",
    "\n",
    " \n",
    "\n",
    "<b>Example 1:</b><br>\n",
    "\n",
    "Input: x = 123<br>\n",
    "Output: 321<br>\n",
    "\n",
    "<b>Example 2:</b>\n",
    "\n",
    "Input: x = -123<br>\n",
    "Output: -321<br>\n",
    "\n",
    "<b>Example 3:</b><br>\n",
    "\n",
    "Input: x = 120<br>\n",
    "Output: 21<br>\n",
    "\n",
    "<b>Example 4:</b>\n",
    "\n",
    "Input: x = 0<br>\n",
    "Output: 0<br><br>\n",
    " \n",
    "\n",
    "Constraints:<br>\n",
    "\n",
    "-231 <= x <= 231 - 1<br>"
   ]
  },
  {
   "attachments": {},
   "cell_type": "markdown",
   "metadata": {},
   "source": [
    "<b>Solution<b>\n",
    "![](image/rev_integer.jpg)\n",
    "    \n",
    "<br><br>\n",
    "2 steps solution\n",
    "![](image/rev_integer_2.jpg)"
   ]
  },
  {
   "cell_type": "code",
   "execution_count": 15,
   "metadata": {},
   "outputs": [],
   "source": [
    "def rev_integer(num):\n",
    "    sum=0\n",
    "    sign=1\n",
    "    #check if the give value is negative if it is negative\n",
    "    #store the sign in a variable \n",
    "    #convert the -ve value into +ve value\n",
    "    if num <0:\n",
    "        sign=-1\n",
    "        num=num*-1\n",
    "    #loop through all the values in the current integer value\n",
    "    while num >0:\n",
    "        #Mod would give the remainder ex 321 would give 1\n",
    "        rem=num%10\n",
    "        #First value needs to be move to the right, multiply the value with 10 and add num\n",
    "        sum=sum*10+rem\n",
    "        #remove the last value by dividing it in the first iteration it would be 32\n",
    "        num=num//10\n",
    "    #Check for constraints   \n",
    "    if sum >=2**31 -1 or sum <=-2**31:\n",
    "        return 0\n",
    "    #Add the sign value to the sum\n",
    "    return sum*sign\n",
    "\n"
   ]
  },
  {
   "cell_type": "code",
   "execution_count": 16,
   "metadata": {},
   "outputs": [
    {
     "name": "stdout",
     "output_type": "stream",
     "text": [
      "-321\n"
     ]
    }
   ],
   "source": [
    "print(rev_integer(-123))"
   ]
  },
  {
   "cell_type": "code",
   "execution_count": null,
   "metadata": {},
   "outputs": [],
   "source": []
  }
 ],
 "metadata": {
  "kernelspec": {
   "display_name": "Python 3",
   "language": "python",
   "name": "python3"
  },
  "language_info": {
   "codemirror_mode": {
    "name": "ipython",
    "version": 3
   },
   "file_extension": ".py",
   "mimetype": "text/x-python",
   "name": "python",
   "nbconvert_exporter": "python",
   "pygments_lexer": "ipython3",
   "version": "3.7.0"
  }
 },
 "nbformat": 4,
 "nbformat_minor": 2
}
