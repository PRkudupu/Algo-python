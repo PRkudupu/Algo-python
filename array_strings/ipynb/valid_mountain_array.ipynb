{
 "cells": [
  {
   "cell_type": "markdown",
   "metadata": {},
   "source": [
    "Given an array of integers arr, return true if and only if it is a valid mountain array.\n",
    "\n",
    "Recall that arr is a mountain array if and only if:\n",
    "\n",
    "arr.length >= 3 <br>\n",
    "There exists some i with 0 < i < arr.length - 1 such that:<br>\n",
    "arr[0] < arr[1] < ... < arr[i - 1] < A[i] <br>\n",
    "arr[i] > arr[i + 1] > ... > arr[arr.length - 1]\n",
    "![](image/valid_mountain_array.jpg)    "
   ]
  },
  {
   "cell_type": "code",
   "execution_count": 4,
   "metadata": {},
   "outputs": [
    {
     "name": "stdout",
     "output_type": "stream",
     "text": [
      "True\n"
     ]
    }
   ],
   "source": [
    "def validMountainArray(ls):\n",
    "    i=0\n",
    "    # walk up\n",
    "    while i+1 < len(ls) and ls[i] <ls[i+1]:\n",
    "        i+=1\n",
    "    #peak cant be first or last\n",
    "    if i == 0 or i ==len(ls)-1:\n",
    "        return False\n",
    "    # walk down\n",
    "    while i+1 < len(ls) and ls[i]>ls[i+1]:\n",
    "        i+=1\n",
    "    return i==len(ls)-1\n",
    "\n",
    "print(validMountainArray([1,2,3,2,1]))"
   ]
  },
  {
   "cell_type": "markdown",
   "metadata": {},
   "source": [
    "### Complexity Analysis\n",
    "#### Time Complexity : O(N) , Where N is the length of N\n",
    "#### Space complexity: O(1) \n"
   ]
  },
  {
   "cell_type": "code",
   "execution_count": 3,
   "metadata": {},
   "outputs": [
    {
     "name": "stdout",
     "output_type": "stream",
     "text": [
      "max_moutain 1\n",
      "1\n",
      "False\n"
     ]
    }
   ],
   "source": [
    "#brute force method some of the test case would not work\n",
    "def valid_mountain_array(ls):\n",
    "    if len(ls)<3:\n",
    "        return False\n",
    "    max_flag=False\n",
    "    for i in range(len(ls)):\n",
    "        if ls[i]>ls[i+1]:\n",
    "            max_mountain=i\n",
    "            print(\"max_moutain\",max_mountain)\n",
    "            max_flag=True\n",
    "            break;\n",
    "        elif max_flag==False and ls[i]>ls[i+1]:\n",
    "            return False\n",
    "    print(max_mountain)\n",
    "    for j in range(i,len(ls)-1):\n",
    "        if ls[j]<ls[j+1]:\n",
    "            return False\n",
    "    return True\n",
    "            \n",
    "            \n",
    "       \n",
    "print(valid_mountain_array([0,3,2,10]))                \n",
    "#print(valid_mountain_array([3,5,5]))     "
   ]
  },
  {
   "cell_type": "code",
   "execution_count": null,
   "metadata": {},
   "outputs": [],
   "source": []
  },
  {
   "cell_type": "code",
   "execution_count": null,
   "metadata": {},
   "outputs": [],
   "source": []
  }
 ],
 "metadata": {
  "kernelspec": {
   "display_name": "Python 3",
   "language": "python",
   "name": "python3"
  },
  "language_info": {
   "codemirror_mode": {
    "name": "ipython",
    "version": 3
   },
   "file_extension": ".py",
   "mimetype": "text/x-python",
   "name": "python",
   "nbconvert_exporter": "python",
   "pygments_lexer": "ipython3",
   "version": "3.7.0"
  }
 },
 "nbformat": 4,
 "nbformat_minor": 2
}
