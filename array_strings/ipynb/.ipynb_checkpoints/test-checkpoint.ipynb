{
 "cells": [
  {
   "cell_type": "code",
   "execution_count": 69,
   "metadata": {},
   "outputs": [
    {
     "name": "stdout",
     "output_type": "stream",
     "text": [
      "2\n"
     ]
    }
   ],
   "source": [
    "def word_len(ls):\n",
    "    words =ls.strip().split(\" \")\n",
    "    total=0\n",
    "    for word in words:\n",
    "        total+=len(word)\n",
    "    return int(total/len(words))\n",
    "print(word_len(\"my my my\"))"
   ]
  },
  {
   "cell_type": "code",
   "execution_count": 68,
   "metadata": {},
   "outputs": [
    {
     "name": "stdout",
     "output_type": "stream",
     "text": [
      "{'A': 3, 'B': 2, 'R': 1, 'S': 0, 'P': 0}\n"
     ]
    }
   ],
   "source": [
    "def friend(ls):\n",
    "    dic={}\n",
    "    for items in ls:\n",
    "        if items[0] not in dic.keys():\n",
    "            dic[items[0]]=len(items)-1\n",
    "        elif items[0] in dic.keys():\n",
    "            dic[items[0]]+=len(items)-1\n",
    "    return dic\n",
    "items=[['A','B'],['A','C'],['B','D'],['B','C'],['R','M'], ['S'],['P'], ['A'],['A','E']]\n",
    "print(friend_tree(items))\n",
    "        \n",
    "\n",
    "    "
   ]
  },
  {
   "cell_type": "code",
   "execution_count": null,
   "metadata": {},
   "outputs": [],
   "source": []
  }
 ],
 "metadata": {
  "kernelspec": {
   "display_name": "Python 3",
   "language": "python",
   "name": "python3"
  },
  "language_info": {
   "codemirror_mode": {
    "name": "ipython",
    "version": 3
   },
   "file_extension": ".py",
   "mimetype": "text/x-python",
   "name": "python",
   "nbconvert_exporter": "python",
   "pygments_lexer": "ipython3",
   "version": "3.7.0"
  }
 },
 "nbformat": 4,
 "nbformat_minor": 2
}
