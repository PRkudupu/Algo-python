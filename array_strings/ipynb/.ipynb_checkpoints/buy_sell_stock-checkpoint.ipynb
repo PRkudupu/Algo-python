{
 "cells": [
  {
   "cell_type": "markdown",
   "metadata": {},
   "source": [
    "## Time Complexity O(n)^2\n",
    "## Space Complexity 0(1)"
   ]
  },
  {
   "cell_type": "code",
   "execution_count": 6,
   "metadata": {},
   "outputs": [
    {
     "name": "stdout",
     "output_type": "stream",
     "text": [
      "i 0\n",
      "s[i] 7\n",
      "j 1\n",
      "s[j] 1\n",
      "j 2\n",
      "s[j] 5\n",
      "j 3\n",
      "s[j] 2\n",
      "j 4\n",
      "s[j] 4\n",
      "i 1\n",
      "s[i] 1\n",
      "j 2\n",
      "s[j] 5\n",
      "j 3\n",
      "s[j] 2\n",
      "j 4\n",
      "s[j] 4\n",
      "i 2\n",
      "s[i] 5\n",
      "j 3\n",
      "s[j] 2\n",
      "j 4\n",
      "s[j] 4\n",
      "i 3\n",
      "s[i] 2\n",
      "j 4\n",
      "s[j] 4\n",
      "4\n"
     ]
    }
   ],
   "source": [
    "stocks=[7,1,5,2,4]\n",
    "   \n",
    "def buy_sell_once(s):\n",
    "    maxprofit=0\n",
    "    #first loop\n",
    "    for i in range(len(s)-1):\n",
    "        print(\"i {}\".format(i))\n",
    "        print(\"s[i] {}\".format(s[i]))\n",
    "        for j in range(i+1,len(s)):\n",
    "            print(\"j {}\".format(j))\n",
    "            print(\"s[j] {}\".format(s[j]))\n",
    "            if s[j] - s[i] > maxprofit:\n",
    "                maxprofit=s[j] - s[i]\n",
    "    return maxprofit\n",
    "\n",
    "m=buy_sell_once(stocks)\n",
    "print(m)"
   ]
  },
  {
   "cell_type": "markdown",
   "metadata": {},
   "source": [
    "## Time Complexity O(n)\n",
    "## Space Complexity 0(1)"
   ]
  },
  {
   "cell_type": "code",
   "execution_count": 1,
   "metadata": {},
   "outputs": [
    {
     "ename": "NameError",
     "evalue": "name 'buy_sell_once' is not defined",
     "output_type": "error",
     "traceback": [
      "\u001b[1;31m---------------------------------------------------------------------------\u001b[0m",
      "\u001b[1;31mNameError\u001b[0m                                 Traceback (most recent call last)",
      "\u001b[1;32m<ipython-input-1-ed70679e219e>\u001b[0m in \u001b[0;36m<module>\u001b[1;34m()\u001b[0m\n\u001b[0;32m      9\u001b[0m         \u001b[0mmax_profit\u001b[0m\u001b[1;33m=\u001b[0m\u001b[0mmax\u001b[0m\u001b[1;33m(\u001b[0m\u001b[0mprofit\u001b[0m\u001b[1;33m,\u001b[0m\u001b[0mmax_profit\u001b[0m\u001b[1;33m)\u001b[0m\u001b[1;33m\u001b[0m\u001b[0m\n\u001b[0;32m     10\u001b[0m     \u001b[1;32mreturn\u001b[0m \u001b[0mmax_profit\u001b[0m\u001b[1;33m\u001b[0m\u001b[0m\n\u001b[1;32m---> 11\u001b[1;33m \u001b[0mm\u001b[0m\u001b[1;33m=\u001b[0m\u001b[0mbuy_sell_once\u001b[0m\u001b[1;33m(\u001b[0m\u001b[0mstocks\u001b[0m\u001b[1;33m)\u001b[0m\u001b[1;33m\u001b[0m\u001b[0m\n\u001b[0m\u001b[0;32m     12\u001b[0m \u001b[0mprint\u001b[0m\u001b[1;33m(\u001b[0m\u001b[0mm\u001b[0m\u001b[1;33m)\u001b[0m\u001b[1;33m\u001b[0m\u001b[0m\n",
      "\u001b[1;31mNameError\u001b[0m: name 'buy_sell_once' is not defined"
     ]
    }
   ],
   "source": [
    "stocks =\n",
    "\n",
    "def buy_sell_once_ef(s):\n",
    "    max_profit=0\n",
    "    min_price=stocks[0]\n",
    "    for price in range(len(stocks)-1):\n",
    "        min_price = min(min_price,price)\n",
    "        profit    =(price-min_price)\n",
    "        max_profit=max(profit,max_profit)\n",
    "    return max_profit\n",
    "m=buy_sell_once(stocks)\n",
    "print(m)"
   ]
  },
  {
   "cell_type": "code",
   "execution_count": null,
   "metadata": {},
   "outputs": [],
   "source": []
  }
 ],
 "metadata": {
  "kernelspec": {
   "display_name": "Python 3",
   "language": "python",
   "name": "python3"
  },
  "language_info": {
   "codemirror_mode": {
    "name": "ipython",
    "version": 3
   },
   "file_extension": ".py",
   "mimetype": "text/x-python",
   "name": "python",
   "nbconvert_exporter": "python",
   "pygments_lexer": "ipython3",
   "version": "3.7.0"
  }
 },
 "nbformat": 4,
 "nbformat_minor": 2
}
