{
 "cells": [
  {
   "cell_type": "markdown",
   "metadata": {},
   "source": [
    "#### Facebook Friend Tree\n",
    "You have a 2-D array of friends like  [[A,B],[A,C],[B,D],[B,C],[R,M], [S],[P], [A]] Write a function that creates a dictionary of how many friends each person has. \n",
    "* People can have 0 to many friends. \n",
    "* However, there won't be repeat relationships like [A,B] and [B,A] and neither will there be more than 2 people in a relationship\n",
    "\n",
    "<b>Solution:</b>\n",
    " * We can use dictionary to store friends and count details\n",
    " * We would only consider the keys and not the values for counting the no of friends. Due to no repeat relationship\n",
    "     [A,B] and [B,A]\n",
    " * In the 2 dimensional array if there is only one entry in the rows. Then it is not considered as friends\n",
    "   To achieve this condition, we can validate the length of the item(rows) in the array -1 \n",
    " * If there are more entries for a friend (key\n",
    "   "
   ]
  },
  {
   "cell_type": "code",
   "execution_count": 15,
   "metadata": {},
   "outputs": [],
   "source": [
    "def friend_tree(items):\n",
    "    results ={} # we can also declare results = dic()\n",
    "    for item in items:\n",
    "        if item[0] not in results:\n",
    "            results[item[0]] =len(item)-1\n",
    "        elif item[0] in results:\n",
    "            results[item[0]] +=len(item)-1\n",
    "    return results\n"
   ]
  },
  {
   "cell_type": "code",
   "execution_count": 16,
   "metadata": {},
   "outputs": [
    {
     "name": "stdout",
     "output_type": "stream",
     "text": [
      "{'A': 3, 'B': 2, 'R': 1, 'S': 0, 'P': 0}\n"
     ]
    }
   ],
   "source": [
    "items=[['A','B'],['A','C'],['B','D'],['B','C'],['R','M'], ['S'],['P'], ['A'],['A','E']]\n",
    "print(friend_tree(items))"
   ]
  },
  {
   "cell_type": "code",
   "execution_count": 17,
   "metadata": {},
   "outputs": [
    {
     "name": "stdout",
     "output_type": "stream",
     "text": [
      "\n",
      "result {}\n",
      "item: ['A', 'B']\n",
      "items[0] A\n",
      "len(item) 2\n",
      "len(item) 1\n",
      "### NOTIN\n",
      "\n",
      "result {'A': 1}\n",
      "item: ['A', 'C']\n",
      "items[0] A\n",
      "len(item) 2\n",
      "len(item) 1\n",
      "in\n",
      "\n",
      "result {'A': 2}\n",
      "item: ['B', 'D']\n",
      "items[0] B\n",
      "len(item) 2\n",
      "len(item) 1\n",
      "### NOTIN\n",
      "\n",
      "result {'A': 2, 'B': 1}\n",
      "item: ['B', 'C']\n",
      "items[0] B\n",
      "len(item) 2\n",
      "len(item) 1\n",
      "in\n",
      "\n",
      "result {'A': 2, 'B': 2}\n",
      "item: ['R', 'M']\n",
      "items[0] R\n",
      "len(item) 2\n",
      "len(item) 1\n",
      "### NOTIN\n",
      "\n",
      "result {'A': 2, 'B': 2, 'R': 1}\n",
      "item: ['S']\n",
      "items[0] S\n",
      "len(item) 1\n",
      "len(item) 0\n",
      "### NOTIN\n",
      "\n",
      "result {'A': 2, 'B': 2, 'R': 1, 'S': 0}\n",
      "item: ['P']\n",
      "items[0] P\n",
      "len(item) 1\n",
      "len(item) 0\n",
      "### NOTIN\n",
      "\n",
      "result {'A': 2, 'B': 2, 'R': 1, 'S': 0, 'P': 0}\n",
      "item: ['A']\n",
      "items[0] A\n",
      "len(item) 1\n",
      "len(item) 0\n",
      "in\n",
      "\n",
      "result {'A': 2, 'B': 2, 'R': 1, 'S': 0, 'P': 0}\n",
      "item: ['A', 'E']\n",
      "items[0] A\n",
      "len(item) 2\n",
      "len(item) 1\n",
      "in\n",
      "{'A': 3, 'B': 2, 'R': 1, 'S': 0, 'P': 0}\n"
     ]
    }
   ],
   "source": [
    "def friend_tree(items):\n",
    "    result=dict()\n",
    "    count =1\n",
    "    for item in items:\n",
    "        print('\\nresult',result)\n",
    "        print('item:',item)\n",
    "        print('items[0]',item[0])\n",
    "        print('len(item)',len(item))\n",
    "        print('len(item)',len(item)-1)\n",
    "        if item[0] not in result.keys():\n",
    "            result[item[0]]=len(item)-1\n",
    "            print('### NOTIN')\n",
    "        elif item[0] in result.keys():\n",
    "            print('in')\n",
    "            result[item[0]]+=len(item)-1\n",
    "    return result\n",
    "items=[['A','B'],['A','C'],['B','D'],['B','C'],['R','M'], ['S'],['P'], ['A'],['A','E']]\n",
    "\n",
    "print(friend_tree(items))"
   ]
  },
  {
   "cell_type": "code",
   "execution_count": null,
   "metadata": {},
   "outputs": [],
   "source": []
  }
 ],
 "metadata": {
  "kernelspec": {
   "display_name": "Python 3",
   "language": "python",
   "name": "python3"
  },
  "language_info": {
   "codemirror_mode": {
    "name": "ipython",
    "version": 3
   },
   "file_extension": ".py",
   "mimetype": "text/x-python",
   "name": "python",
   "nbconvert_exporter": "python",
   "pygments_lexer": "ipython3",
   "version": "3.7.0"
  }
 },
 "nbformat": 4,
 "nbformat_minor": 2
}
