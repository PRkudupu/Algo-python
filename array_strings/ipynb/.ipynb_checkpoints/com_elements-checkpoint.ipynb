{
 "cells": [
  {
   "cell_type": "markdown",
   "metadata": {},
   "source": [
    "### Given 2 list, return common elements from both the list\n",
    "Input \n",
    "s1=[1,2,3], s2=[3,4,5]\n",
    "\n",
    "<b>output</b> \n",
    "[1,2,4,5]"
   ]
  },
  {
   "cell_type": "code",
   "execution_count": 2,
   "metadata": {},
   "outputs": [
    {
     "name": "stdout",
     "output_type": "stream",
     "text": [
      "[3]\n"
     ]
    }
   ],
   "source": [
    "def com_elem(s1,s2):\n",
    "    new_list = []\n",
    "    for i in s1:\n",
    "        if i in s2:\n",
    "            new_list.append(i)\n",
    "    return new_list\n",
    "print(com_elem([1,2,3],[3,4,6]))"
   ]
  }
 ],
 "metadata": {
  "kernelspec": {
   "display_name": "Python 3",
   "language": "python",
   "name": "python3"
  },
  "language_info": {
   "codemirror_mode": {
    "name": "ipython",
    "version": 3
   },
   "file_extension": ".py",
   "mimetype": "text/x-python",
   "name": "python",
   "nbconvert_exporter": "python",
   "pygments_lexer": "ipython3",
   "version": "3.7.0"
  }
 },
 "nbformat": 4,
 "nbformat_minor": 2
}
