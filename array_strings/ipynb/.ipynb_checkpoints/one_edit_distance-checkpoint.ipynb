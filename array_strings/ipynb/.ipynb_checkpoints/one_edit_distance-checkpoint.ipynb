{
 "cells": [
  {
   "cell_type": "markdown",
   "metadata": {},
   "source": [
    "#### Given two strings s and t, determine if they are both one edit distance apart.\n",
    "\n",
    "Note: \n",
    "\n",
    "There are 3 possiblities to satisify one edit distance apart:\n",
    "\n",
    "Insert a character into s to get t\n",
    "Delete a character from s to get t\n",
    "Replace a character of s to get t\n",
    "Example 1:\n",
    "<code>\n",
    "<b>Input: s = \"ab\", t = \"acb\"\n",
    "Output: true</b>\n",
    "Explanation: We can insert 'c' into s to get t.\n",
    "Example 2:\n",
    "</code>\n",
    "\n",
    "<code>\n",
    "<b>Input: s = \"cab\", t = \"ad\"\n",
    "Output: false</b>\n",
    "Explanation: We cannot get t from s by only one step.\n",
    "Example 3:\n",
    "</code>\n",
    "\n",
    "<code>\n",
    "<b>Input: s = \"1203\", t = \"1213\"\n",
    "Output: true</b>\n",
    "Explanation: We can replace '0' with '1' to get t.\n",
    "</code>"
   ]
  },
  {
   "attachments": {},
   "cell_type": "markdown",
   "metadata": {},
   "source": [
    "#### Approach 1: One pass algorithm\n",
    "Intuition\n",
    "\n",
    "First of all, let's ensure that the string lengths are not too far from each other. If the length difference is 2 or more characters, then s and t couldn't be one edit away strings.\n",
    "\n",
    "![](image/OneEditDistance.jpg)\n",
    "\n",
    "For the next let's assume that s is always shorter or the same length as t. If not, one could always call isOneEditDistance(t, s) to inverse the string order.\n",
    "\n",
    "Now it's time to pass along the strings and to look for the first different character.\n",
    "\n",
    "If there is no differences between the first len(s) characters, only two situations are possible :\n",
    "\n",
    "<i>1)The strings are equal.\n",
    "\n",
    "2)The strings are one edit away distance.</i>\n",
    "\n",
    "\n",
    "\n",
    "Now what if there is a different character so that s[i] != t[i].\n",
    "\n",
    "If the strings are of the same length, all next characters should be equal to keep one edit away distance. To verify it, one has to compare the substrings of s and t both starting from the i + 1th character.\n",
    "\n",
    "If t is one character longer than s, the additional character t[i] should be the only difference between both strings. To verify it, one has to compare a substring of s starting from the ith character and a substring of t starting from the i + 1th character."
   ]
  },
  {
   "cell_type": "code",
   "execution_count": 3,
   "metadata": {},
   "outputs": [
    {
     "name": "stdout",
     "output_type": "stream",
     "text": [
      "False\n",
      "True\n",
      "False\n",
      "True\n"
     ]
    }
   ],
   "source": [
    "def one_edit_distance(ls,t):\n",
    "    ns, nt = len(ls), len(t)\n",
    "    if ns > nt:\n",
    "        return False\n",
    "    if nt - ns > 1:\n",
    "        return False\n",
    "\n",
    "    for i in range(ns):\n",
    "        if ls[i] != t[i]:\n",
    "            if ns == nt:\n",
    "                return ls[i + 1:] == t[i + 1:]\n",
    "            else:\n",
    "                return ls[i:] == t[i + 1:]\n",
    "    return ns + 1 == nt\n",
    "\n",
    "print(one_edit_distance('abc','abhh'))\n",
    "print(one_edit_distance('ab','acb'))\n",
    "print(one_edit_distance('cab','ad'))\n",
    "print(one_edit_distance('1203','1213'))"
   ]
  },
  {
   "cell_type": "code",
   "execution_count": 1,
   "metadata": {},
   "outputs": [
    {
     "name": "stdout",
     "output_type": "stream",
     "text": [
      "ns 3\n",
      "nt 4\n",
      "\n",
      "ls[i] a\n",
      "t[i] a\n",
      "ls[i:] abc\n",
      "ls[i + 1:] bc\n",
      "t[i + 1:] bhh\n",
      "\n",
      "ls[i] b\n",
      "t[i] b\n",
      "ls[i:] bc\n",
      "ls[i + 1:] c\n",
      "t[i + 1:] hh\n",
      "\n",
      "ls[i] c\n",
      "t[i] h\n",
      "ls[i:] c\n",
      "False\n"
     ]
    }
   ],
   "source": [
    "#olution with print and commit\n",
    "def one_edit_distance(ls,t):\n",
    "    ns, nt = len(ls), len(t)\n",
    "    print('ns',ns)\n",
    "    print('nt',nt)\n",
    " \n",
    "    # Ensure that s is shorter than t.\n",
    "    if ns > nt:\n",
    "        return False\n",
    "    \n",
    "    # The strings are NOT one edit away distance  \n",
    "    # if the length diff is more than 1.\n",
    "    if nt - ns > 1:\n",
    "        return False\n",
    "\n",
    "    for i in range(ns):\n",
    "        print('\\nls[i]',ls[i])\n",
    "        print('t[i]',t[i])\n",
    "        print('ls[i:]',ls[i:] )\n",
    "        if ls[i] != t[i]:\n",
    "            # if strings have the same length\n",
    "            if ns == nt:\n",
    "                return ls[i + 1:] == t[i + 1:]\n",
    "            # if strings have different lengths\n",
    "            else:\n",
    "                return ls[i:] == t[i + 1:]\n",
    "        print('ls[i + 1:]',ls[i + 1:])\n",
    "        print('t[i + 1:]',t[i + 1:])\n",
    "        \n",
    "\n",
    "    # If there is no diffs on ns distance\n",
    "    # the strings are one edit away only if\n",
    "    # t has one more character. \n",
    "    return ns + 1 == nt\n",
    "\n",
    "print(one_edit_distance('abc','abhh'))"
   ]
  },
  {
   "cell_type": "code",
   "execution_count": null,
   "metadata": {},
   "outputs": [],
   "source": []
  }
 ],
 "metadata": {
  "kernelspec": {
   "display_name": "Python 3",
   "language": "python",
   "name": "python3"
  },
  "language_info": {
   "codemirror_mode": {
    "name": "ipython",
    "version": 3
   },
   "file_extension": ".py",
   "mimetype": "text/x-python",
   "name": "python",
   "nbconvert_exporter": "python",
   "pygments_lexer": "ipython3",
   "version": "3.7.0"
  }
 },
 "nbformat": 4,
 "nbformat_minor": 2
}
