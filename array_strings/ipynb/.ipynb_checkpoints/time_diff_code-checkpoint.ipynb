{
 "cells": [
  {
   "cell_type": "code",
   "execution_count": 1,
   "metadata": {},
   "outputs": [],
   "source": [
    "def execute_memo():\n",
    "    import time\n",
    "    start_time = time.time()\n",
    "    print('fib_memo(4)',fib_memo(4))\n",
    "    print(\"--- %s seconds ---\" % (time.time() - start_time))\n",
    "    start_time = time.time()\n",
    "    print('fib_memo(20)',fib_memo(20))\n",
    "    print(\"--- %s seconds ---\" % (time.time() - start_time))\n",
    "    start_time = time.time()\n",
    "    print('fib_memo(35)',fib_memo(35))\n",
    "    print(\"--- %s seconds ---\" % (time.time() - start_time))"
   ]
  },
  {
   "cell_type": "code",
   "execution_count": null,
   "metadata": {},
   "outputs": [],
   "source": []
  }
 ],
 "metadata": {
  "kernelspec": {
   "display_name": "Python 3",
   "language": "python",
   "name": "python3"
  },
  "language_info": {
   "codemirror_mode": {
    "name": "ipython",
    "version": 3
   },
   "file_extension": ".py",
   "mimetype": "text/x-python",
   "name": "python",
   "nbconvert_exporter": "python",
   "pygments_lexer": "ipython3",
   "version": "3.7.0"
  }
 },
 "nbformat": 4,
 "nbformat_minor": 2
}
