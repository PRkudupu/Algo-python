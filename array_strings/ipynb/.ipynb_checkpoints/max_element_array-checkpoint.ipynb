{
 "cells": [
  {
   "cell_type": "markdown",
   "metadata": {},
   "source": [
    "<b>O (n) </b>"
   ]
  },
  {
   "cell_type": "code",
   "execution_count": 3,
   "metadata": {},
   "outputs": [
    {
     "data": {
      "text/plain": [
       "100"
      ]
     },
     "execution_count": 3,
     "metadata": {},
     "output_type": "execute_result"
    }
   ],
   "source": [
    "def max_array(arr):\n",
    "    max_num=0\n",
    "    for i in range(len(arr)):\n",
    "        if arr[i] > max_num:\n",
    "            max_num=arr[i]\n",
    "    return max_num\n",
    "max_array([20,40,60,80,100])"
   ]
  },
  {
   "cell_type": "markdown",
   "metadata": {},
   "source": [
    "<b> Using built in function </b>"
   ]
  },
  {
   "cell_type": "code",
   "execution_count": 4,
   "metadata": {},
   "outputs": [
    {
     "data": {
      "text/plain": [
       "100"
      ]
     },
     "execution_count": 4,
     "metadata": {},
     "output_type": "execute_result"
    }
   ],
   "source": [
    "def max_array_fn(arr):\n",
    "    return max(arr)\n",
    "max_array_fn([20,40,60,80,100])"
   ]
  },
  {
   "cell_type": "markdown",
   "metadata": {},
   "source": [
    "<b>O log n</b>"
   ]
  },
  {
   "cell_type": "code",
   "execution_count": 4,
   "metadata": {},
   "outputs": [
    {
     "name": "stdout",
     "output_type": "stream",
     "text": [
      "20000\n"
     ]
    }
   ],
   "source": [
    "def mx(ls):\n",
    "    max_num=0\n",
    "    m=0\n",
    "    head=0\n",
    "    tail=len(ls)-1\n",
    "    while head <= tail:\n",
    "        if ls[head] >=ls[tail]:\n",
    "            m=ls[head]\n",
    "        elif ls[tail] >=ls[head]:\n",
    "            m=ls[tail]\n",
    "        head+=1\n",
    "        tail-=1\n",
    "        max_num=max(m,max_num)\n",
    "    return max_num\n",
    "print(mx([1,500,10,20000]))       "
   ]
  },
  {
   "cell_type": "code",
   "execution_count": null,
   "metadata": {},
   "outputs": [],
   "source": []
  }
 ],
 "metadata": {
  "kernelspec": {
   "display_name": "Python 3",
   "language": "python",
   "name": "python3"
  },
  "language_info": {
   "codemirror_mode": {
    "name": "ipython",
    "version": 3
   },
   "file_extension": ".py",
   "mimetype": "text/x-python",
   "name": "python",
   "nbconvert_exporter": "python",
   "pygments_lexer": "ipython3",
   "version": "3.7.0"
  }
 },
 "nbformat": 4,
 "nbformat_minor": 2
}
