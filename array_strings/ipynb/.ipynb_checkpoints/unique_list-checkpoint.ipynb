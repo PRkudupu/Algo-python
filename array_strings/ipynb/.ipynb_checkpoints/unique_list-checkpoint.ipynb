{
 "cells": [
  {
   "cell_type": "markdown",
   "metadata": {},
   "source": [
    "### Given 2 lists,  return unique elements from both the list\n",
    "<b>Input</b>\n",
    "s1=[1,2,3]\n",
    "\n",
    "s2=[3,4,5]\n",
    "\n",
    "<b>output </b>\n",
    "[1,2,4,5]"
   ]
  },
  {
   "cell_type": "code",
   "execution_count": 5,
   "metadata": {},
   "outputs": [
    {
     "name": "stdout",
     "output_type": "stream",
     "text": [
      "[1, 2, 3]\n"
     ]
    }
   ],
   "source": [
    "def uniq(ls1,ls2):\n",
    "    ls =[]\n",
    "    for x in ls1:\n",
    "        ls.append(x)\n",
    "    for y in ls2:\n",
    "        if y not in ls:\n",
    "            ls.append(y)\n",
    "    return ls        \n",
    "   \n",
    "print(uniq([1,2],[1,2,3]))\n",
    "            "
   ]
  },
  {
   "cell_type": "code",
   "execution_count": 6,
   "metadata": {},
   "outputs": [
    {
     "name": "stdout",
     "output_type": "stream",
     "text": [
      "[1, 2, 3, 4, 5]\n"
     ]
    }
   ],
   "source": [
    "def unique_list(ls1,ls2):\n",
    "    s = set()\n",
    "    for x in ls1:\n",
    "        s.add(x)\n",
    "    for y in ls2:\n",
    "        s.add(y)\n",
    "    return list(s)\n",
    "\n",
    "print(unique_list([1,2,3],[3,4,5]))"
   ]
  },
  {
   "cell_type": "code",
   "execution_count": null,
   "metadata": {},
   "outputs": [],
   "source": []
  }
 ],
 "metadata": {
  "kernelspec": {
   "display_name": "Python 3",
   "language": "python",
   "name": "python3"
  },
  "language_info": {
   "codemirror_mode": {
    "name": "ipython",
    "version": 3
   },
   "file_extension": ".py",
   "mimetype": "text/x-python",
   "name": "python",
   "nbconvert_exporter": "python",
   "pygments_lexer": "ipython3",
   "version": "3.7.0"
  }
 },
 "nbformat": 4,
 "nbformat_minor": 2
}
