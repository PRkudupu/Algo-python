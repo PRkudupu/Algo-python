{
 "cells": [
  {
   "cell_type": "code",
   "execution_count": 509,
   "metadata": {},
   "outputs": [
    {
     "data": {
      "text/plain": [
       "'{\\n  “fruit”: “apple”  \\n}'"
      ]
     },
     "execution_count": 509,
     "metadata": {},
     "output_type": "execute_result"
    }
   ],
   "source": [
    "def remove_comments(line, sep):\n",
    "    ls=[]\n",
    "    items=[]\n",
    "    items=line.split(sep)\n",
    "    for s in items:\n",
    "        if s.find('//') !=-1:\n",
    "            comments= s.strip().split(\"\\n\")\n",
    "            for cm in comments:\n",
    "                if len(cm) > 1:\n",
    "                    if cm.strip()[0] == \"{\" or  cm.strip()[0] == \"}\":\n",
    "                        continue\n",
    "                    if cm.strip()[0] != '/' and cm.strip()[1] != '/':\n",
    "                        if cm.find('//')!=-1:\n",
    "                            ls.append(cm[0:cm.find('//')])\n",
    "                        else:\n",
    "                            ls.append(cm)\n",
    "                            \n",
    "                         \n",
    "        else:\n",
    "            ls.append(s)\n",
    "    return '{\\n'+','.join(ls) + '\\n}'\n",
    "input= \"\"\"\n",
    "{ \n",
    "  “fruit”: “apple”  // this is an apple  // this fruit has an id of 1 “Id”: 1\n",
    "}\"\"\"\n",
    "remove_comments(input,\",\")"
   ]
  },
  {
   "cell_type": "code",
   "execution_count": 511,
   "metadata": {},
   "outputs": [
    {
     "data": {
      "text/plain": [
       "'{\\n\\n{\\n    “fruit”: “apple”,    “Id”: 1\\n}'"
      ]
     },
     "execution_count": 511,
     "metadata": {},
     "output_type": "execute_result"
    }
   ],
   "source": [
    "def remove_comments(line, sep):\n",
    "    ls=[]\n",
    "    items=[]\n",
    "    items=line.split(sep)\n",
    "    for s in items:\n",
    "        if s.find('//') !=-1:\n",
    "            comments= s.strip().split(\"\\n\")\n",
    "            for cm in comments:\n",
    "                if len(cm) > 1:\n",
    "                    if cm.strip()[0] == \"{\" or  cm.strip()[0] == \"}\":\n",
    "                        continue\n",
    "                    if cm.strip()[0] != '/' and cm.strip()[1] != '/':\n",
    "                        if cm.find('//')!=-1:\n",
    "                            ls.append(cm[0:cm.find('//')])\n",
    "                        else:\n",
    "                            ls.append(cm)\n",
    "        else:\n",
    "            ls.append(s)\n",
    "    return '{\\n'+','.join(ls) + '\\n}'\n",
    "\n",
    "input= \"\"\"\n",
    "{\n",
    "    “fruit”: “apple”, // this is an apple\n",
    "    // this fruit has an id of 1\n",
    "    “Id”: 1\n",
    "}\n",
    "\"\"\"\n",
    "remove_comments(input,\",\")"
   ]
  },
  {
   "cell_type": "code",
   "execution_count": null,
   "metadata": {},
   "outputs": [],
   "source": []
  }
 ],
 "metadata": {
  "kernelspec": {
   "display_name": "Python 3",
   "language": "python",
   "name": "python3"
  },
  "language_info": {
   "codemirror_mode": {
    "name": "ipython",
    "version": 3
   },
   "file_extension": ".py",
   "mimetype": "text/x-python",
   "name": "python",
   "nbconvert_exporter": "python",
   "pygments_lexer": "ipython3",
   "version": "3.7.0"
  }
 },
 "nbformat": 4,
 "nbformat_minor": 2
}
