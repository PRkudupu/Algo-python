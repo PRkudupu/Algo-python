{
 "cells": [
  {
   "cell_type": "markdown",
   "metadata": {},
   "source": [
    "## next_permutation\n",
    "Implement next permutation, which rearranges numbers into the lexicographically next greater permutation of numbers.\n",
    "\n",
    "If such arrangement is not possible, it must rearrange it as the lowest possible order (ie, sorted in ascending order).\n",
    "\n",
    "The replacement must be in-place and use only constant extra memory.\n",
    "\n",
    "Here are some examples. Inputs are in the left-hand column and its corresponding outputs are in the right-hand column.\n",
    "\n",
    "<b>1,2,3 → 1,3,2</b><br>\n",
    "<b>3,2,1 → 1,2,3</b><br>\n",
    "<b>1,1,5 → 1,5,1</b>\n",
    "\n",
    "\n"
   ]
  },
  {
   "cell_type": "code",
   "execution_count": 6,
   "metadata": {},
   "outputs": [
    {
     "name": "stdout",
     "output_type": "stream",
     "text": [
      "[1, 2, 3]\n",
      "[1, 3, 2]\n"
     ]
    }
   ],
   "source": [
    "def next_perm(ls):\n",
    "    # Check the max element in the list\n",
    "    max_num=max(ls)\n",
    "    min_num=min(ls)\n",
    "    head =0\n",
    "    tail =len(ls)-1\n",
    "    \n",
    "    #We know the max for the first element has been reached then swap the max element\n",
    "    if ls[0] == max_num:\n",
    "        temp= ls[-1]\n",
    "        ls[-1]=ls[0]\n",
    "        ls[0] =temp\n",
    "        return ls\n",
    "    while head <=tail:\n",
    "        if ls[tail] > ls[tail-1]:\n",
    "            temp= ls[tail]\n",
    "            ls[tail]=ls[tail-1]\n",
    "            ls[tail-1] =temp\n",
    "        return ls\n",
    "        head +=1\n",
    "        tail -=1\n",
    "    return ls\n",
    "    \n",
    "print(next_perm([3,2,1]))\n",
    "print(next_perm([1,2,3]))   "
   ]
  },
  {
   "cell_type": "markdown",
   "metadata": {},
   "source": [
    "\n",
    "![alt text](image/np.JPG)"
   ]
  },
  {
   "cell_type": "code",
   "execution_count": null,
   "metadata": {},
   "outputs": [],
   "source": []
  }
 ],
 "metadata": {
  "kernelspec": {
   "display_name": "Python 3",
   "language": "python",
   "name": "python3"
  },
  "language_info": {
   "codemirror_mode": {
    "name": "ipython",
    "version": 3
   },
   "file_extension": ".py",
   "mimetype": "text/x-python",
   "name": "python",
   "nbconvert_exporter": "python",
   "pygments_lexer": "ipython3",
   "version": "3.7.0"
  }
 },
 "nbformat": 4,
 "nbformat_minor": 2
}
