{
 "cells": [
  {
   "cell_type": "markdown",
   "metadata": {},
   "source": [
    "## Group Anagram\n",
    "![alt text](image/group_anagram.JPG)"
   ]
  },
  {
   "cell_type": "markdown",
   "metadata": {},
   "source": [
    "### Solution: Approach 1\n",
    "<pre>Maintain a map ans : {String -> List} where each key \\text{K}K is a sorted string, and each value is the list of strings from the initial input that when sorted, are equal to \\text{K}K.</pre>\n",
    "\n",
    "<b>store the key as a hashable tuple, eg. ('c', 'o', 'd', 'e')</b>\n",
    "![alt text](image/gpan.JPG)\n",
    "Complexity Analysis\n",
    "\n",
    "<b>Time Complexity:</b> O(NK \\log K)O(NKlogK), where NN is the length of strs, and KK is the maximum length of a string in strs. The outer loop has complexity O(N)O(N) as we iterate through each string. Then, we sort each string in O(K \\log K)O(KlogK) time.\n",
    "\n",
    "Space Complexity: O(NK)O(NK), the total information content stored in ans"
   ]
  },
  {
   "cell_type": "code",
   "execution_count": 9,
   "metadata": {},
   "outputs": [
    {
     "name": "stdout",
     "output_type": "stream",
     "text": [
      "\n",
      "s: eat\n",
      "ans: defaultdict(<class 'list'>, {('a', 'e', 't'): ['eat']})\n",
      "\n",
      "s: tea\n",
      "ans: defaultdict(<class 'list'>, {('a', 'e', 't'): ['eat', 'tea']})\n",
      "\n",
      "s: tan\n",
      "ans: defaultdict(<class 'list'>, {('a', 'e', 't'): ['eat', 'tea'], ('a', 'n', 't'): ['tan']})\n",
      "\n",
      "s: ate\n",
      "ans: defaultdict(<class 'list'>, {('a', 'e', 't'): ['eat', 'tea', 'ate'], ('a', 'n', 't'): ['tan']})\n",
      "\n",
      "s: nat\n",
      "ans: defaultdict(<class 'list'>, {('a', 'e', 't'): ['eat', 'tea', 'ate'], ('a', 'n', 't'): ['tan', 'nat']})\n",
      "\n",
      "s: bat\n",
      "ans: defaultdict(<class 'list'>, {('a', 'e', 't'): ['eat', 'tea', 'ate'], ('a', 'n', 't'): ['tan', 'nat'], ('a', 'b', 't'): ['bat']})\n",
      "dict_values([['eat', 'tea', 'ate'], ['tan', 'nat'], ['bat']])\n"
     ]
    }
   ],
   "source": [
    "#WITH COMMENTS AND PRINT\n",
    "import collections\n",
    "def anagram(ls):\n",
    "#defaultdict means that if a key is not found in the dictionary, then instead of a KeyError being thrown, a new entry is created\n",
    "    ans = collections.defaultdict(list)\n",
    "    for s in ls:\n",
    "        ans[tuple(sorted(s))].append(s)\n",
    "        print(\"\\ns:\",s)\n",
    "        print(\"ans:\",ans)\n",
    "    return ans.values()\n",
    "print(anagram([\"eat\", \"tea\", \"tan\", \"ate\", \"nat\", \"bat\"]))\n"
   ]
  },
  {
   "cell_type": "markdown",
   "metadata": {},
   "source": [
    "### Approach 2: Categorize by Count\n",
    "Intuition\n",
    "\n",
    "Two strings are anagrams if and only if their character counts (respective number of occurrences of each character) are the same.\n",
    "\n",
    "We can transform each string \\text{s}s into a character count, \\text{count}count, consisting of 26 non-negative integers representing the number of \\text{a}a's, \\text{b}b's, \\text{c}c's, etc. We use these counts as the basis for our hash map.\n",
    "\n",
    "In python, the representation will be a tuple of the counts. For example, abbccc will be (1, 2, 3, 0, 0, ..., 0), where again there are 26 entries total.\n",
    "\n",
    "![alt text](image/gp_ans.JPG)\n",
    "\n",
    "<b>Complexity Analysis</b>\n",
    "\n",
    "Time Complexity: O(NK)O(NK), where NN is the length of strs, and KK is the maximum length of a string in strs. Counting each string is linear in the size of the string, and we count every string.\n",
    "\n",
    "Space Complexity: O(NK)O(NK), the total information content stored in ans."
   ]
  },
  {
   "cell_type": "code",
   "execution_count": 10,
   "metadata": {},
   "outputs": [
    {
     "name": "stdout",
     "output_type": "stream",
     "text": [
      "dict_values([['eat', 'tea', 'ate'], ['tan', 'nat'], ['bat']])\n"
     ]
    }
   ],
   "source": [
    " def groupAnagrams(strs):\n",
    "        ans = collections.defaultdict(list)\n",
    "        for s in strs:\n",
    "            count = [0] * 26\n",
    "            for c in s:\n",
    "                count[ord(c) - ord('a')] += 1\n",
    "            ans[tuple(count)].append(s)\n",
    "        return ans.values()\n",
    "print(groupAnagrams([\"eat\", \"tea\", \"tan\", \"ate\", \"nat\", \"bat\"]))"
   ]
  },
  {
   "cell_type": "code",
   "execution_count": null,
   "metadata": {},
   "outputs": [],
   "source": []
  }
 ],
 "metadata": {
  "kernelspec": {
   "display_name": "Python 3",
   "language": "python",
   "name": "python3"
  },
  "language_info": {
   "codemirror_mode": {
    "name": "ipython",
    "version": 3
   },
   "file_extension": ".py",
   "mimetype": "text/x-python",
   "name": "python",
   "nbconvert_exporter": "python",
   "pygments_lexer": "ipython3",
   "version": "3.7.0"
  }
 },
 "nbformat": 4,
 "nbformat_minor": 2
}
