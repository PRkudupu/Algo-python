{
 "cells": [
  {
   "cell_type": "markdown",
   "metadata": {},
   "source": [
    "Given an array of size n, find the majority element. The majority element is the element that appears more than ⌊ n/2 ⌋ times.\n",
    "\n",
    "You may assume that the array is non-empty and the majority element always exist in the array.\n",
    "\n",
    "<b>Example 1:</b>\n",
    "\n",
    "Input: [3,2,3]<br>\n",
    "Output: 3<br>\n",
    "\n",
    "<b>Example 2:</b>\n",
    "\n",
    "Input: [2,2,1,1,1,2,2]<br>\n",
    "Output: 2"
   ]
  },
  {
   "cell_type": "code",
   "execution_count": 2,
   "metadata": {},
   "outputs": [
    {
     "name": "stdout",
     "output_type": "stream",
     "text": [
      "3\n",
      "2\n"
     ]
    }
   ],
   "source": [
    "def majority_element(ls):\n",
    "    dic ={}\n",
    "    for items in ls:\n",
    "        if items not in dic:\n",
    "            dic[items]=1\n",
    "        elif items in dic:\n",
    "            dic[items]+=1\n",
    "        if dic[items] > (len(ls))//2:\n",
    "            return items\n",
    "print(majority_element([3,2,3])) \n",
    "print(majority_element([2,2,1,1,1,2,2]))"
   ]
  },
  {
   "cell_type": "markdown",
   "metadata": {},
   "source": [
    "### Complexity analysis\n",
    "#### Time complexity : O(n) Space complexity :O(1)\n"
   ]
  },
  {
   "cell_type": "code",
   "execution_count": null,
   "metadata": {},
   "outputs": [],
   "source": []
  }
 ],
 "metadata": {
  "kernelspec": {
   "display_name": "Python 3",
   "language": "python",
   "name": "python3"
  },
  "language_info": {
   "codemirror_mode": {
    "name": "ipython",
    "version": 3
   },
   "file_extension": ".py",
   "mimetype": "text/x-python",
   "name": "python",
   "nbconvert_exporter": "python",
   "pygments_lexer": "ipython3",
   "version": "3.7.0"
  }
 },
 "nbformat": 4,
 "nbformat_minor": 2
}
