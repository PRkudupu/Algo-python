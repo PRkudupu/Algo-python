{
 "cells": [
  {
   "cell_type": "markdown",
   "metadata": {},
   "source": [
    "Given an array of integers arr, return true if and only if it is a valid mountain array.\n",
    "\n",
    "Recall that arr is a mountain array if and only if:\n",
    "\n",
    "arr.length >= 3 <br>\n",
    "There exists some i with 0 < i < arr.length - 1 such that:<br>\n",
    "arr[0] < arr[1] < ... < arr[i - 1] < A[i] <br>\n",
    "arr[i] > arr[i + 1] > ... > arr[arr.length - 1]\n",
    "![](image/valid_mountain_array.jpg)    "
   ]
  },
  {
   "cell_type": "code",
   "execution_count": 8,
   "metadata": {},
   "outputs": [
    {
     "name": "stdout",
     "output_type": "stream",
     "text": [
      "5\n",
      "True\n"
     ]
    }
   ],
   "source": [
    "def valid_mountain_array(ls):\n",
    "    if len(ls)<3:\n",
    "        return False\n",
    "    for i in range(len(ls)):\n",
    "        if ls[i]>ls[i+1]:\n",
    "            max_moutain=ls[i]\n",
    "            break;\n",
    "    print(max_moutain)\n",
    "    for j in range(max_moutain,len(ls)-1):\n",
    "        if ls[j]<ls[j+1]:\n",
    "            return False\n",
    "    return True\n",
    "            \n",
    "            \n",
    "       \n",
    "print(valid_mountain_array([0,2,3,4,5,2,1,0]))          \n",
    "    "
   ]
  },
  {
   "cell_type": "code",
   "execution_count": null,
   "metadata": {},
   "outputs": [],
   "source": []
  },
  {
   "cell_type": "code",
   "execution_count": null,
   "metadata": {},
   "outputs": [],
   "source": []
  }
 ],
 "metadata": {
  "kernelspec": {
   "display_name": "Python 3",
   "language": "python",
   "name": "python3"
  },
  "language_info": {
   "codemirror_mode": {
    "name": "ipython",
    "version": 3
   },
   "file_extension": ".py",
   "mimetype": "text/x-python",
   "name": "python",
   "nbconvert_exporter": "python",
   "pygments_lexer": "ipython3",
   "version": "3.7.0"
  }
 },
 "nbformat": 4,
 "nbformat_minor": 2
}
