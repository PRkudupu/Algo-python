{
 "cells": [
  {
   "cell_type": "markdown",
   "metadata": {},
   "source": [
    "### Remove Duplicates from Sorted Array\n",
    "Given a sorted array nums, remove the duplicates in-place such that each element appear only once and return the new length.\n",
    "\n",
    "Do not allocate extra space for another array, you must do this by modifying the input array in-place with <b>O(1)</b> extra memory.\n",
    "\n",
    "Example 1:\n",
    "\n",
    "<b>Given nums = [1,1,2],</b>\n",
    "\n",
    "Your function should return length = 2, with the first two elements of nums being 1 and 2 respectively.\n",
    "\n",
    "It doesn't matter what you leave beyond the returned length.\n",
    "Example 2:\n",
    "\n",
    "<b>Given nums = [0,0,1,1,1,2,2,3,3,4],</b>\n",
    "\n",
    "Your function should return length = 5, with the first five elements of nums being modified to <b>0, 1, 2, 3, and 4 </b>respectively.\n",
    "\n",
    "It doesn't matter what values are set beyond the returned length.\n",
    "Clarification:\n",
    "\n",
    "Confused why the returned value is an integer but your answer is an array?\n",
    "\n",
    "Note that the input array is passed in by reference, which means modification to the input array will be known to the caller as well.\n",
    "\n",
    "Internally you can think of this:\n",
    "\n",
    "![alt text](image/remdups.JPG)"
   ]
  },
  {
   "cell_type": "code",
   "execution_count": 9,
   "metadata": {},
   "outputs": [
    {
     "name": "stdout",
     "output_type": "stream",
     "text": [
      "5\n",
      "2\n"
     ]
    }
   ],
   "source": [
    "def removeDuplicates(ls):\n",
    "    if not ls:\n",
    "        return 0\n",
    "\n",
    "    newTail = 0\n",
    "\n",
    "    for i in range(1, len(ls)):\n",
    "        if ls[i] != ls[newTail]:\n",
    "            newTail += 1\n",
    "            ls[newTail] = ls[i]\n",
    "\n",
    "    return newTail + 1\n",
    "\n",
    "print(removeDuplicates([0,0,1,1,1,2,2,3,3,4]))\n",
    "print(removeDuplicates([1,1,2]))"
   ]
  },
  {
   "cell_type": "code",
   "execution_count": null,
   "metadata": {},
   "outputs": [],
   "source": []
  }
 ],
 "metadata": {
  "kernelspec": {
   "display_name": "Python 3",
   "language": "python",
   "name": "python3"
  },
  "language_info": {
   "codemirror_mode": {
    "name": "ipython",
    "version": 3
   },
   "file_extension": ".py",
   "mimetype": "text/x-python",
   "name": "python",
   "nbconvert_exporter": "python",
   "pygments_lexer": "ipython3",
   "version": "3.7.0"
  }
 },
 "nbformat": 4,
 "nbformat_minor": 2
}
