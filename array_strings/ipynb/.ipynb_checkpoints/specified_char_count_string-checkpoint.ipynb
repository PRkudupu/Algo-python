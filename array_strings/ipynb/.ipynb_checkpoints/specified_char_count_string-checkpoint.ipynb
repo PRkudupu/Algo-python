{
 "cells": [
  {
   "cell_type": "code",
   "execution_count": 1,
   "metadata": {},
   "outputs": [
    {
     "name": "stdout",
     "output_type": "stream",
     "text": [
      "None\n",
      "[]\n",
      "Length less than 4\n",
      "3\n"
     ]
    }
   ],
   "source": [
    "def count_sip(ls,k):\n",
    "    if ls == None:\n",
    "        return None\n",
    "    if len(ls) == 0:\n",
    "        return []\n",
    "    if len(ls) <4:\n",
    "        return 'Length less than 4'\n",
    "    count =0\n",
    "    for ch in ls:\n",
    "        if k == ch:\n",
    "            count +=1\n",
    "    return count\n",
    "\n",
    "print(count_sip(None,'s'))\n",
    "print(count_sip([],'s'))\n",
    "print(count_sip('mis','s'))\n",
    "print(count_sip('missisipi','s'))"
   ]
  },
  {
   "cell_type": "code",
   "execution_count": null,
   "metadata": {},
   "outputs": [],
   "source": []
  }
 ],
 "metadata": {
  "kernelspec": {
   "display_name": "Python 3",
   "language": "python",
   "name": "python3"
  },
  "language_info": {
   "codemirror_mode": {
    "name": "ipython",
    "version": 3
   },
   "file_extension": ".py",
   "mimetype": "text/x-python",
   "name": "python",
   "nbconvert_exporter": "python",
   "pygments_lexer": "ipython3",
   "version": "3.7.0"
  }
 },
 "nbformat": 4,
 "nbformat_minor": 2
}
