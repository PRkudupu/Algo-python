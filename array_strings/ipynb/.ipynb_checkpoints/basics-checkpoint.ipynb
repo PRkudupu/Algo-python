{
 "cells": [
  {
   "cell_type": "markdown",
   "metadata": {},
   "source": [
    "# LIST COMPREHENSION\n",
    "Offers compreshension offers a shorter syntax when you want to create a new list based on the values from an existing list"
   ]
  },
  {
   "cell_type": "markdown",
   "metadata": {},
   "source": [
    "### Simple List"
   ]
  },
  {
   "cell_type": "code",
   "execution_count": 10,
   "metadata": {},
   "outputs": [],
   "source": [
    "fruits =[\"apple\",\"orange\"]\n",
    "new_list=[]\n",
    "\n",
    "for items in fruits:\n",
    "    new_list.append(items)"
   ]
  },
  {
   "cell_type": "markdown",
   "metadata": {},
   "source": [
    "### List comprehesion"
   ]
  },
  {
   "cell_type": "code",
   "execution_count": 11,
   "metadata": {},
   "outputs": [
    {
     "name": "stdout",
     "output_type": "stream",
     "text": [
      "['apple', 'orange']\n"
     ]
    }
   ],
   "source": [
    "new_list_comp =[items for items in fruits]\n",
    "print((new_list_comp))"
   ]
  },
  {
   "cell_type": "markdown",
   "metadata": {},
   "source": [
    "### List comprehesion with condition"
   ]
  },
  {
   "cell_type": "code",
   "execution_count": 13,
   "metadata": {},
   "outputs": [
    {
     "name": "stdout",
     "output_type": "stream",
     "text": [
      "['apple']\n"
     ]
    }
   ],
   "source": [
    "new_list=[items for items in fruits if items ==\"apple\"]\n",
    "print(new_list)"
   ]
  },
  {
   "cell_type": "markdown",
   "metadata": {},
   "source": [
    "### List comprehesion with condition\n",
    " If item in list is <b>\"apple\"</b> then return <b>\"mango\"</b> else <b>strawberry</b>"
   ]
  },
  {
   "cell_type": "code",
   "execution_count": 24,
   "metadata": {},
   "outputs": [
    {
     "name": "stdout",
     "output_type": "stream",
     "text": [
      "['mango', 'strawberry']\n"
     ]
    }
   ],
   "source": [
    "new_list=[\"mango\" if items == \"apple\" else \"strawberry\" for items in fruits]\n",
    "print(new_list)"
   ]
  },
  {
   "cell_type": "markdown",
   "metadata": {},
   "source": [
    "### List comprehesion with condition\n",
    " set all values in the new list with new value"
   ]
  },
  {
   "cell_type": "code",
   "execution_count": 27,
   "metadata": {},
   "outputs": [
    {
     "name": "stdout",
     "output_type": "stream",
     "text": [
      "['grapes', 'grapes']\n"
     ]
    }
   ],
   "source": [
    "new_list =[\"grapes\" for items in fruits]\n",
    "print(new_list)"
   ]
  }
 ],
 "metadata": {
  "kernelspec": {
   "display_name": "Python 3",
   "language": "python",
   "name": "python3"
  },
  "language_info": {
   "codemirror_mode": {
    "name": "ipython",
    "version": 3
   },
   "file_extension": ".py",
   "mimetype": "text/x-python",
   "name": "python",
   "nbconvert_exporter": "python",
   "pygments_lexer": "ipython3",
   "version": "3.8.5"
  }
 },
 "nbformat": 4,
 "nbformat_minor": 4
}
