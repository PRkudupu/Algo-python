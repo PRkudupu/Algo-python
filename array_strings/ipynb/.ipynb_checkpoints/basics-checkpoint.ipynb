{
 "cells": [
  {
   "cell_type": "markdown",
   "metadata": {},
   "source": [
    "# Python basics"
   ]
  },
  {
   "cell_type": "markdown",
   "metadata": {},
   "source": [
    "### Simple List"
   ]
  },
  {
   "cell_type": "code",
   "execution_count": 41,
   "metadata": {},
   "outputs": [],
   "source": [
    "fruits =[\"apple\",\"orange\"]\n",
    "new_list=[]\n",
    "\n",
    "for items in fruits:\n",
    "    new_list.append(items)"
   ]
  },
  {
   "cell_type": "markdown",
   "metadata": {},
   "source": [
    "### List comprehesion"
   ]
  },
  {
   "cell_type": "code",
   "execution_count": 42,
   "metadata": {},
   "outputs": [
    {
     "name": "stdout",
     "output_type": "stream",
     "text": [
      "['apple', 'orange']\n"
     ]
    }
   ],
   "source": [
    "new_list_comp =[items for items in fruits]\n",
    "print((new_list_comp))"
   ]
  },
  {
   "cell_type": "markdown",
   "metadata": {},
   "source": [
    "### List comprehesion with condition"
   ]
  },
  {
   "cell_type": "code",
   "execution_count": 43,
   "metadata": {},
   "outputs": [
    {
     "name": "stdout",
     "output_type": "stream",
     "text": [
      "['apple']\n"
     ]
    }
   ],
   "source": [
    "new_list=[items for items in fruits if items ==\"apple\"]\n",
    "print(new_list)"
   ]
  },
  {
   "cell_type": "markdown",
   "metadata": {},
   "source": [
    "### List comprehesion with condition\n",
    " If item in list is <b>\"apple\"</b> then return <b>\"mango\"</b> else <b>strawberry</b>"
   ]
  },
  {
   "cell_type": "code",
   "execution_count": 44,
   "metadata": {},
   "outputs": [
    {
     "name": "stdout",
     "output_type": "stream",
     "text": [
      "['mango', 'strawberry']\n"
     ]
    }
   ],
   "source": [
    "new_list=[\"mango\" if items == \"apple\" else \"strawberry\" for items in fruits]\n",
    "print(new_list)"
   ]
  },
  {
   "cell_type": "markdown",
   "metadata": {},
   "source": [
    "### List comprehesion with condition\n",
    " set all values in the new list with new value"
   ]
  },
  {
   "cell_type": "code",
   "execution_count": 45,
   "metadata": {},
   "outputs": [
    {
     "name": "stdout",
     "output_type": "stream",
     "text": [
      "['grapes', 'grapes']\n"
     ]
    }
   ],
   "source": [
    "new_list =[\"grapes\" for items in fruits]\n",
    "print(new_list)"
   ]
  },
  {
   "cell_type": "markdown",
   "metadata": {},
   "source": [
    "### Get max value and max key from dictionaries\n"
   ]
  },
  {
   "cell_type": "code",
   "execution_count": 46,
   "metadata": {},
   "outputs": [
    {
     "name": "stdout",
     "output_type": "stream",
     "text": [
      "max values, 5\n"
     ]
    }
   ],
   "source": [
    "### List comprehesion with condition\n",
    "dic = {2: 5, 3: 1, 4: 1, 1: 1}\n",
    "print(\"max values,\",max(dic.values()))"
   ]
  },
  {
   "cell_type": "code",
   "execution_count": 47,
   "metadata": {},
   "outputs": [
    {
     "name": "stdout",
     "output_type": "stream",
     "text": [
      "max keys, 4\n"
     ]
    }
   ],
   "source": [
    "# max keys\n",
    "dic = {2: 3, 3: 1, 4: 1, 1: 1}\n",
    "print(\"max keys,\",max(dic.keys()))"
   ]
  },
  {
   "cell_type": "markdown",
   "metadata": {},
   "source": [
    "### Replace string"
   ]
  },
  {
   "cell_type": "code",
   "execution_count": 2,
   "metadata": {},
   "outputs": [
    {
     "name": "stdout",
     "output_type": "stream",
     "text": [
      "prathapkudupu\n"
     ]
    }
   ],
   "source": [
    "### Get Replace\n",
    "s=\"prathap.kudupu\"\n",
    "print(s.replace('.',''))"
   ]
  },
  {
   "cell_type": "markdown",
   "metadata": {},
   "source": [
    "### slice based on index value of a character\n"
   ]
  },
  {
   "cell_type": "code",
   "execution_count": 6,
   "metadata": {},
   "outputs": [
    {
     "name": "stdout",
     "output_type": "stream",
     "text": [
      "prathap\n"
     ]
    }
   ],
   "source": [
    "s=\"prathap+test\"\n",
    "print(s[:s.index('+')])"
   ]
  },
  {
   "cell_type": "markdown",
   "metadata": {},
   "source": [
    "### Split\n"
   ]
  },
  {
   "cell_type": "code",
   "execution_count": 8,
   "metadata": {},
   "outputs": [
    {
     "name": "stdout",
     "output_type": "stream",
     "text": [
      "prathap gmail.com\n"
     ]
    }
   ],
   "source": [
    "s=\"prathap@gmail.com\"\n",
    "name,domain=s.split('@')\n",
    "print(name,domain)"
   ]
  },
  {
   "cell_type": "markdown",
   "metadata": {},
   "source": [
    "### check for type\n"
   ]
  },
  {
   "cell_type": "code",
   "execution_count": 16,
   "metadata": {},
   "outputs": [
    {
     "name": "stdout",
     "output_type": "stream",
     "text": [
      "ls: [45, 20, 45, 25] \n",
      "dic: {'1': 'ad', '2': 'cd', '3': 'fe', '4': 'fg'} \n",
      "seen {2, 3}\n"
     ]
    }
   ],
   "source": [
    "ls=  [45,20,45,25]\n",
    "dic = {'1':'ad','2':'cd','3':'fe','4':'fg'}\n",
    "seen = {2,3,3}\n",
    "print('ls:',ls,'\\ndic:',dic,'\\nseen',seen)"
   ]
  },
  {
   "cell_type": "code",
   "execution_count": null,
   "metadata": {},
   "outputs": [],
   "source": []
  }
 ],
 "metadata": {
  "kernelspec": {
   "display_name": "Python 3",
   "language": "python",
   "name": "python3"
  },
  "language_info": {
   "codemirror_mode": {
    "name": "ipython",
    "version": 3
   },
   "file_extension": ".py",
   "mimetype": "text/x-python",
   "name": "python",
   "nbconvert_exporter": "python",
   "pygments_lexer": "ipython3",
   "version": "3.8.5"
  }
 },
 "nbformat": 4,
 "nbformat_minor": 4
}
