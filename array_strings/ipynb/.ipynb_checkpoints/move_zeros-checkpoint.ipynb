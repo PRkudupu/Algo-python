{
 "cells": [
  {
   "cell_type": "markdown",
   "metadata": {},
   "source": [
    "Given an array nums, write a function to move all 0's to the end of it while maintaining the relative order of the non-zero elements.\n",
    "\n",
    "Example:\n",
    "\n",
    "Input: [0,1,0,3,12]\n",
    "Output: [1,3,12,0,0]\n",
    "Note:\n",
    "\n",
    "You must do this in-place without making a copy of the array.\n",
    "Minimize the total number of operations."
   ]
  },
  {
   "cell_type": "code",
   "execution_count": 34,
   "metadata": {},
   "outputs": [
    {
     "data": {
      "text/plain": [
       "[4, 7, 10, 0, 0, 0]"
      ]
     },
     "execution_count": 34,
     "metadata": {},
     "output_type": "execute_result"
    }
   ],
   "source": [
    "ar =[0,0,4,7,0,10]\n",
    "def move_zeros(nums):\n",
    "    last0=0;\n",
    "    #move the non zero numbers to the left\n",
    "    for i in range(0,len(nums)):\n",
    "        if(nums[i]!=0):\n",
    "            nums[i],nums[last0]=nums[last0],nums[i]\n",
    "            last0+=1\n",
    "    return nums\n",
    "move_zeros(ar)   "
   ]
  },
  {
   "cell_type": "code",
   "execution_count": 2,
   "metadata": {},
   "outputs": [
    {
     "name": "stdout",
     "output_type": "stream",
     "text": [
      "i 1\n",
      "nums[i] 1\n",
      "nums[last0] 0\n",
      "[last0] 0\n",
      "after nums[i] 0\n",
      "after nums[last0] 1\n",
      "nums [1, 0, 0, 10]\n",
      "i 3\n",
      "nums[i] 10\n",
      "nums[last0] 0\n",
      "[last0] 1\n",
      "after nums[i] 0\n",
      "after nums[last0] 10\n",
      "nums [1, 10, 0, 0]\n",
      "[1, 10, 0, 0]\n"
     ]
    }
   ],
   "source": [
    "# move\n",
    "def move_zeros(nums):\n",
    "    last0=0\n",
    "    for i in range(0,len(nums)):\n",
    "        if(nums[i]!=0):\n",
    "            print(\"i\",i)\n",
    "            print(\"nums[i]\",nums[i])\n",
    "            print(\"nums[last0]\",nums[last0])\n",
    "            print(\"[last0]\",last0)\n",
    "            nums[i],nums[last0]=nums[last0],nums[i]\n",
    "            print(\"after nums[i]\",nums[i])\n",
    "            print(\"after nums[last0]\",nums[last0])\n",
    "            print(\"nums\",nums)\n",
    "            last0+=1\n",
    "    return nums\n",
    "print(move_zeros([0,1,0,10]))"
   ]
  },
  {
   "cell_type": "code",
   "execution_count": null,
   "metadata": {},
   "outputs": [],
   "source": []
  }
 ],
 "metadata": {
  "kernelspec": {
   "display_name": "Python 3",
   "language": "python",
   "name": "python3"
  },
  "language_info": {
   "codemirror_mode": {
    "name": "ipython",
    "version": 3
   },
   "file_extension": ".py",
   "mimetype": "text/x-python",
   "name": "python",
   "nbconvert_exporter": "python",
   "pygments_lexer": "ipython3",
   "version": "3.7.0"
  }
 },
 "nbformat": 4,
 "nbformat_minor": 2
}
