{
 "cells": [
  {
   "cell_type": "markdown",
   "metadata": {},
   "source": [
    "A peak element is an element that is greater than its neighbors.<br>\n",
    "Given an input array nums, where nums[i] ≠ nums[i+1], find a peak element and return its index.<br>\n",
    "\n",
    "The array may contain multiple peaks, in that case return the index to any one of the peaks is fine.<br>\n",
    "\n",
    "You may imagine that nums[-1] = nums[n] = -∞.<br>\n",
    "<b>Example 1:<br></b>\n",
    "Input: nums = [1,2,3,1]<br>\n",
    "<b>Output: 2</b><br>\n",
    "\n",
    "Explanation: 3 is a peak element and your function should return the index number 2.<br>\n",
    "\n",
    "<b>Example 2:</b>\n",
    "Input: nums = [1,2,1,3,5,6,4]<br>\n",
    "Output: 1 or 5 <br>\n",
    "Explanation: Your function can return either index number 1 where the peak element is 2, <br>\n",
    "             or index number 5 where the peak element is 6.<br>\n",
    "\n",
    "Follow up: Your solution should be in logarithmic complexity.<br>\n"
   ]
  },
  {
   "cell_type": "code",
   "execution_count": 8,
   "metadata": {},
   "outputs": [
    {
     "name": "stdout",
     "output_type": "stream",
     "text": [
      "0\n",
      "2\n",
      "1\n"
     ]
    }
   ],
   "source": [
    "def max_peak(ls):\n",
    "    for i in range(len(ls)-1):\n",
    "        if ls[i] >ls[i+1]:\n",
    "            return i\n",
    "    return len(ls)-1\n",
    "    print(max_peak([1]))\n",
    "    print(max_peak([1,2,3,1]))\n",
    "    print(max_peak([1,2]))"
   ]
  },
  {
   "cell_type": "markdown",
   "metadata": {},
   "source": [
    "### using Binary Search\n",
    "![](image/binary_search.jpg)"
   ]
  },
  {
   "cell_type": "code",
   "execution_count": 6,
   "metadata": {},
   "outputs": [
    {
     "name": "stdout",
     "output_type": "stream",
     "text": [
      "1\n",
      "2\n",
      "1\n"
     ]
    }
   ],
   "source": [
    "def find_peak_element(ls):\n",
    "    left=0\n",
    "    right=len(ls)-1\n",
    "    while left <right:\n",
    "        mid=(left+right)//2\n",
    "        if ls[mid] < ls[mid+1]:\n",
    "            left=mid+1\n",
    "        else:\n",
    "            right=mid\n",
    "    return left\n",
    "print(find_peak_element([1,2,1]))\n",
    "print(find_peak_element([1,2,3,1]))\n",
    "print(find_peak_element([1,2]))\n",
    "\n",
    "       "
   ]
  },
  {
   "cell_type": "markdown",
   "metadata": {},
   "source": [
    "### At the end of the binary search left=right=mid"
   ]
  },
  {
   "cell_type": "code",
   "execution_count": 3,
   "metadata": {},
   "outputs": [
    {
     "name": "stdout",
     "output_type": "stream",
     "text": [
      "\n",
      "left 0\n",
      "right 3\n",
      "mid 1\n",
      "ls[mid] 2\n",
      "\n",
      "left 2\n",
      "right 3\n",
      "mid 2\n",
      "ls[mid] 3\n",
      "2\n",
      "\n",
      "left 0\n",
      "right 2\n",
      "mid 1\n",
      "ls[mid] 2\n",
      "\n",
      "left 0\n",
      "right 1\n",
      "mid 0\n",
      "ls[mid] 1\n",
      "1\n",
      "\n",
      "left 0\n",
      "right 3\n",
      "mid 1\n",
      "ls[mid] 2\n",
      "\n",
      "left 2\n",
      "right 3\n",
      "mid 2\n",
      "ls[mid] 3\n",
      "2\n",
      "\n",
      "left 0\n",
      "right 1\n",
      "mid 0\n",
      "ls[mid] 1\n",
      "1\n"
     ]
    }
   ],
   "source": [
    "# with print statement\n",
    "def find_peak_element(ls):\n",
    "    left=0\n",
    "    right=len(ls)-1\n",
    "    while left <right:\n",
    "        mid=(left+right)//2\n",
    "        print(\"\\nleft\",left)\n",
    "        print(\"right\",right)\n",
    "        print(\"mid\",mid)\n",
    "        print(\"ls[mid]\",ls[mid])\n",
    "        if ls[mid] < ls[mid+1]:\n",
    "            left=mid+1\n",
    "        else:\n",
    "            right=mid\n",
    "    return left\n",
    "print(find_peak_element([1,2,3,1]))\n"
   ]
  },
  {
   "cell_type": "code",
   "execution_count": null,
   "metadata": {},
   "outputs": [],
   "source": []
  }
 ],
 "metadata": {
  "kernelspec": {
   "display_name": "Python 3",
   "language": "python",
   "name": "python3"
  },
  "language_info": {
   "codemirror_mode": {
    "name": "ipython",
    "version": 3
   },
   "file_extension": ".py",
   "mimetype": "text/x-python",
   "name": "python",
   "nbconvert_exporter": "python",
   "pygments_lexer": "ipython3",
   "version": "3.7.0"
  }
 },
 "nbformat": 4,
 "nbformat_minor": 2
}
