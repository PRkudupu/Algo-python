{
 "cells": [
  {
   "cell_type": "markdown",
   "metadata": {},
   "source": [
    "### Check if a string is substring of another\n",
    "Given two strings s1 and s2, find if s1 is substring of s2. If yes, return true of first occurrence, else return false.\n",
    "\n",
    "#### Examples :\n",
    "\n",
    "#### Input : s1 = \"sam\", s2 = \"I am sam\"\n",
    "Output : True\n",
    "String \"for\" is present as a substring\n",
    "of s2.\n",
    "\n",
    "#### Input : s1 = \"prathap\", s2 = \"I am sam\"\n",
    "Output : False."
   ]
  },
  {
   "cell_type": "code",
   "execution_count": null,
   "metadata": {},
   "outputs": [],
   "source": [
    "def sub(s1,s2):\n",
    "    if s1 in s2:\n",
    "        return True\n",
    "    else:\n",
    "        return False\n",
    "print(sub(\"sam\",\"I am sam\")) \n",
    "    "
   ]
  },
  {
   "cell_type": "code",
   "execution_count": 13,
   "metadata": {},
   "outputs": [
    {
     "name": "stdout",
     "output_type": "stream",
     "text": [
      "False\n"
     ]
    }
   ],
   "source": [
    "def sub(s1,s2):\n",
    "    if s2.find(s1) != -1:\n",
    "        return True\n",
    "    else:\n",
    "        return False\n",
    "print(sub(\"sam\",\"I am sam\"))"
   ]
  },
  {
   "cell_type": "code",
   "execution_count": 5,
   "metadata": {},
   "outputs": [
    {
     "name": "stdout",
     "output_type": "stream",
     "text": [
      "True\n"
     ]
    }
   ],
   "source": [
    "def sub(s1,s2):\n",
    "    sub_str=len(s1)\n",
    "    main_str=len(s2)\n",
    "    out_loop=main_str-sub_str+1\n",
    "    for i in range(out_loop):\n",
    "        for j in range(sub_str):\n",
    "            if s2[i+j] != s1[j]:\n",
    "                break;\n",
    "            if j+1 == sub_str:\n",
    "                return True\n",
    "    return False\n",
    "print(sub(\"sam\",\"I am sam\")) "
   ]
  },
  {
   "cell_type": "code",
   "execution_count": 4,
   "metadata": {},
   "outputs": [
    {
     "name": "stdout",
     "output_type": "stream",
     "text": [
      "sub_str 3\n",
      "main_str 8\n",
      "out_loop 6\n",
      "s2[i+j] I\n",
      "s1[j] s\n",
      "j+1 1\n",
      "sub_str 3\n",
      "s2[i+j]  \n",
      "s1[j] s\n",
      "j+1 1\n",
      "sub_str 3\n",
      "s2[i+j] a\n",
      "s1[j] s\n",
      "j+1 1\n",
      "sub_str 3\n",
      "s2[i+j] m\n",
      "s1[j] s\n",
      "j+1 1\n",
      "sub_str 3\n",
      "s2[i+j]  \n",
      "s1[j] s\n",
      "j+1 1\n",
      "sub_str 3\n",
      "s2[i+j] s\n",
      "s1[j] s\n",
      "j+1 1\n",
      "sub_str 3\n",
      "s2[i+j] a\n",
      "s1[j] a\n",
      "j+1 2\n",
      "sub_str 3\n",
      "s2[i+j] m\n",
      "s1[j] m\n",
      "j+1 3\n",
      "sub_str 3\n",
      "True\n"
     ]
    }
   ],
   "source": [
    "def sub(s1,s2):\n",
    "    sub_str=len(s1)\n",
    "    main_str=len(s2)\n",
    "    out_loop=main_str-sub_str+1\n",
    "    print(\"sub_str\",sub_str)\n",
    "    print(\"main_str\",main_str)\n",
    "    print(\"out_loop\",out_loop)\n",
    "  \n",
    "    for i in range(out_loop):\n",
    "        for j in range(sub_str):\n",
    "            print(\"s2[i+j]\",s2[i+j])\n",
    "            print(\"s1[j]\",s1[j])\n",
    "            print(\"j+1\",j+1)\n",
    "            print(\"sub_str\",sub_str)\n",
    "            if s2[i+j] != s1[j]:\n",
    "                break;\n",
    "            if j+1 == sub_str:\n",
    "                return True\n",
    "    return False\n",
    "print(sub(\"sam\",\"I am sam\"))   "
   ]
  },
  {
   "cell_type": "code",
   "execution_count": null,
   "metadata": {},
   "outputs": [],
   "source": []
  },
  {
   "cell_type": "code",
   "execution_count": null,
   "metadata": {},
   "outputs": [],
   "source": []
  }
 ],
 "metadata": {
  "kernelspec": {
   "display_name": "Python 3",
   "language": "python",
   "name": "python3"
  },
  "language_info": {
   "codemirror_mode": {
    "name": "ipython",
    "version": 3
   },
   "file_extension": ".py",
   "mimetype": "text/x-python",
   "name": "python",
   "nbconvert_exporter": "python",
   "pygments_lexer": "ipython3",
   "version": "3.7.0"
  }
 },
 "nbformat": 4,
 "nbformat_minor": 2
}
