{
 "cells": [
  {
   "cell_type": "code",
   "execution_count": 5,
   "metadata": {},
   "outputs": [
    {
     "name": "stdout",
     "output_type": "stream",
     "text": [
      "Largest element is: 45\n",
      "Smallest element is: 2\n",
      "Second Largest element is: 41\n",
      "Second Smallest element is: 4\n"
     ]
    }
   ],
   "source": [
    "def find_len(list1): \n",
    "    length = len(list1) \n",
    "    list1.sort() \n",
    "    print(\"Largest element is:\", list1[length-1]) \n",
    "    print(\"Smallest element is:\", list1[0]) \n",
    "    print(\"Second Largest element is:\", list1[length-2]) \n",
    "    print(\"Second Smallest element is:\", list1[1]) \n",
    "  \n",
    "# Driver Code \n",
    "list1=[12, 45, 2, 41, 31, 10, 8, 6, 4] \n",
    "Largest = find_len(list1)"
   ]
  },
  {
   "cell_type": "code",
   "execution_count": 10,
   "metadata": {},
   "outputs": [
    {
     "name": "stdout",
     "output_type": "stream",
     "text": [
      "largest 45\n",
      "first 2\n",
      "3rd largest 31\n"
     ]
    }
   ],
   "source": [
    "def larg(ls):\n",
    "    length=len(ls)\n",
    "    ls.sort()\n",
    "    print(\"largest\", ls[length-1])\n",
    "    print(\"first\",ls[0])\n",
    "    print(\"3rd largest\",ls[length-3])\n",
    "list1=[12, 45, 2, 41, 31, 10, 8, 6, 4] \n",
    "Largest = larg(list1)   "
   ]
  },
  {
   "cell_type": "code",
   "execution_count": null,
   "metadata": {},
   "outputs": [],
   "source": []
  }
 ],
 "metadata": {
  "kernelspec": {
   "display_name": "Python 3",
   "language": "python",
   "name": "python3"
  },
  "language_info": {
   "codemirror_mode": {
    "name": "ipython",
    "version": 3
   },
   "file_extension": ".py",
   "mimetype": "text/x-python",
   "name": "python",
   "nbconvert_exporter": "python",
   "pygments_lexer": "ipython3",
   "version": "3.7.0"
  }
 },
 "nbformat": 4,
 "nbformat_minor": 2
}
