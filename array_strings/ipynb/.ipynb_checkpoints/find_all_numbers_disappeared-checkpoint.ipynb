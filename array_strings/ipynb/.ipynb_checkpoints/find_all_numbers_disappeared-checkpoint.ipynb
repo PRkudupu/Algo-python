{
 "cells": [
  {
   "cell_type": "markdown",
   "metadata": {},
   "source": [
    "Given an array of integers where 1 ≤ a[i] ≤ n (n = size of array), some elements appear twice and others appear once.\n",
    "\n",
    "Find all the elements of [1, n] inclusive that do not appear in this array.\n",
    "\n",
    "Could you do it without extra space and in O(n) runtime? You may assume the returned list does not count as extra space.\n",
    "\n",
    "Example:\n",
    "\n",
    "<b>Input:<br></b>\n",
    "[4,3,2,7,8,2,3,1]\n",
    "\n",
    "Output:<br>\n",
    "[5,6]"
   ]
  },
  {
   "cell_type": "code",
   "execution_count": 57,
   "metadata": {},
   "outputs": [],
   "source": [
    "def find_all_numbers_disappeared(ls):\n",
    "    seen=set()\n",
    "    output=[]\n",
    "    for item in ls:\n",
    "        seen.add(item)\n",
    "    for i in range(1,len(ls)+1):\n",
    "        if i not in seen:\n",
    "            output.append(i)\n",
    "    return output\n"
   ]
  },
  {
   "cell_type": "code",
   "execution_count": 58,
   "metadata": {},
   "outputs": [
    {
     "name": "stdout",
     "output_type": "stream",
     "text": [
      "[5, 6]\n",
      "[2]\n"
     ]
    }
   ],
   "source": [
    "print(find_all_numbers_disappeared([4,3,2,7,8,2,3,1]))\n",
    "print(find_all_numbers_disappeared([1,1]))"
   ]
  },
  {
   "cell_type": "markdown",
   "metadata": {},
   "source": [
    "### Complexity Analysis\n",
    "\n",
    "Time Complexity : <b>O(N)</b><br>\n",
    "Space Complexity : <b>O(N)</b><br>\n"
   ]
  },
  {
   "cell_type": "code",
   "execution_count": 59,
   "metadata": {},
   "outputs": [],
   "source": [
    "def find_all_numbers_disappeared(ls):\n",
    "    seen=set()\n",
    "    output=[]\n",
    "    for item in ls:\n",
    "        seen.add(item)\n",
    "    print(seen)\n",
    "    for i in range(1,len(ls)+1):\n",
    "        print(\"\\ni\",i)\n",
    "        if i not in seen:\n",
    "            output.append(i)\n",
    "    return output"
   ]
  },
  {
   "cell_type": "code",
   "execution_count": 60,
   "metadata": {},
   "outputs": [
    {
     "name": "stdout",
     "output_type": "stream",
     "text": [
      "{1, 2, 3, 4, 7, 8}\n",
      "\n",
      "i 1\n",
      "\n",
      "i 2\n",
      "\n",
      "i 3\n",
      "\n",
      "i 4\n",
      "\n",
      "i 5\n",
      "\n",
      "i 6\n",
      "\n",
      "i 7\n",
      "\n",
      "i 8\n",
      "[5, 6]\n",
      "{1}\n",
      "\n",
      "i 1\n",
      "\n",
      "i 2\n",
      "[2]\n"
     ]
    }
   ],
   "source": [
    "print(find_all_numbers_disappeared([4,3,2,7,8,2,3,1]))\n",
    "print(find_all_numbers_disappeared([1,1]))"
   ]
  },
  {
   "cell_type": "code",
   "execution_count": null,
   "metadata": {},
   "outputs": [],
   "source": []
  }
 ],
 "metadata": {
  "kernelspec": {
   "display_name": "Python 3",
   "language": "python",
   "name": "python3"
  },
  "language_info": {
   "codemirror_mode": {
    "name": "ipython",
    "version": 3
   },
   "file_extension": ".py",
   "mimetype": "text/x-python",
   "name": "python",
   "nbconvert_exporter": "python",
   "pygments_lexer": "ipython3",
   "version": "3.7.0"
  }
 },
 "nbformat": 4,
 "nbformat_minor": 2
}
