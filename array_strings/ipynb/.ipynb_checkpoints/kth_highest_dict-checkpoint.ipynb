{
 "cells": [
  {
   "cell_type": "markdown",
   "metadata": {},
   "source": [
    "<p>Given a dictionary, print the key for nth highest value present in the dict. <br><br></p>\n",
    " <b>   dic ={'a':242,'b':10,'c':500} \n",
    "  k= 2\n",
    "<br>\n",
    " RETURN VALUE <br>\n",
    "     op = 242"
   ]
  },
  {
   "cell_type": "code",
   "execution_count": 23,
   "metadata": {},
   "outputs": [
    {
     "name": "stdout",
     "output_type": "stream",
     "text": [
      "242\n"
     ]
    }
   ],
   "source": [
    "def nth_highest(dic,k):\n",
    "    dic ={'a':242,'b':10,'c':500} \n",
    "    return sorted(dic.values())[-k]\n",
    "\n",
    "dic=dic ={'a':242,'b':10,'c':500} \n",
    "print(nth_highest(dic,2))"
   ]
  },
  {
   "cell_type": "markdown",
   "metadata": {},
   "source": [
    "Given a dictionary, print the key for nth highest value present in the dict. <br><br>\n",
    " <b>   dic ={'a':242,'b':10,'c':500} \n",
    "  k= 2\n",
    "<br>\n",
    "    op = a <br>\n",
    " RETURN KEY"
   ]
  },
  {
   "cell_type": "code",
   "execution_count": 25,
   "metadata": {},
   "outputs": [
    {
     "name": "stdout",
     "output_type": "stream",
     "text": [
      "c\n"
     ]
    }
   ],
   "source": [
    "# return Keys not values. In the above example we are returning keys\n",
    "def nth_highest(dic,k):\n",
    "    kth_value=sorted(dic.values())[-k]\n",
    "    for k,v in dic.items():\n",
    "        if v==kth_value:\n",
    "            return k\n",
    "dic=dic ={'a':242,'b':10,'c':500} \n",
    "print(nth_highest(dic,1))"
   ]
  },
  {
   "cell_type": "markdown",
   "metadata": {},
   "source": [
    "Given a dictionary, print the key for nth highest value present in the dict. If there are <b>more than 1 </b>record present for nth highest value then sort the key and print the first one.<br><br>\n",
    " <b>   {'a':500,'b':10,'c':500,'d':500}\n",
    "  k= 1\n",
    "<br>\n",
    "     op = a <br>\n",
    " RETURN KEY"
   ]
  },
  {
   "cell_type": "code",
   "execution_count": 29,
   "metadata": {},
   "outputs": [
    {
     "name": "stdout",
     "output_type": "stream",
     "text": [
      "a\n"
     ]
    }
   ],
   "source": [
    "def nth_highest(dic,k):\n",
    "    kth_value=sorted(dic.values())[-k]\n",
    "    for k,v in dic.items():\n",
    "        if v==kth_value:\n",
    "            return k\n",
    "dic=dic ={'a':500,'b':10,'c':500,'d':500} \n",
    "print(nth_highest(dic,1))"
   ]
  }
 ],
 "metadata": {
  "kernelspec": {
   "display_name": "Python 3",
   "language": "python",
   "name": "python3"
  },
  "language_info": {
   "codemirror_mode": {
    "name": "ipython",
    "version": 3
   },
   "file_extension": ".py",
   "mimetype": "text/x-python",
   "name": "python",
   "nbconvert_exporter": "python",
   "pygments_lexer": "ipython3",
   "version": "3.8.5"
  }
 },
 "nbformat": 4,
 "nbformat_minor": 4
}
