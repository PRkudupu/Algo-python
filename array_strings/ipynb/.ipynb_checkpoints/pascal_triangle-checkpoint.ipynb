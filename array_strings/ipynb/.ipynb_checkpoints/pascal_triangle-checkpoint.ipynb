{
 "cells": [
  {
   "cell_type": "markdown",
   "metadata": {},
   "source": [
    "Given a non-negative integer numRows, generate the first numRows of Pascal's triangle.\n",
    "\n",
    "Input: 5\n",
    "Output:\n",
    "[<br>\n",
    "     [1],<br>\n",
    "    [1,1],<br>\n",
    "   [1,2,1],<br>\n",
    "  [1,3,3,1],<br>\n",
    " [1,4,6,4,1]\n",
    "]\n",
    "\n",
    "![pascal Triangle](image/pasc.jpg \"pascal triangle\")"
   ]
  },
  {
   "cell_type": "code",
   "execution_count": null,
   "metadata": {},
   "outputs": [],
   "source": [
    "def pascal_triangle(n):\n",
    "    triangle=[]\n",
    "    for rows in range(n):\n",
    "        #Genrate list within a list\n",
    "        row =[None for _ in range(rows+1)]\n",
    "         # The first and last row elements are always 1.\n",
    "        row[0],row[-1]=1,1\n",
    "        # Each triangle element is equal to the sum of the elements\n",
    "        # above-and-to-the-left and above-and-to-the-right.\n",
    "        for j in range(1,len(row)-1):\n",
    "            row[j]=triangle[rows-1][j]+triangle[rows-1][j-1]\n",
    "        triangle.append(row)\n",
    "    return triangle\n",
    "print(pascal_triangle(5))"
   ]
  },
  {
   "cell_type": "code",
   "execution_count": 17,
   "metadata": {},
   "outputs": [
    {
     "name": "stdout",
     "output_type": "stream",
     "text": [
      "\n",
      "j 1\n",
      "len(row)-1 2\n",
      "triangle[rows-1][j] 1\n",
      "triangle[rows-1][j-1] 1\n",
      "\n",
      "j 1\n",
      "len(row)-1 3\n",
      "triangle[rows-1][j] 2\n",
      "triangle[rows-1][j-1] 1\n",
      "\n",
      "j 2\n",
      "len(row)-1 3\n",
      "triangle[rows-1][j] 1\n",
      "triangle[rows-1][j-1] 2\n",
      "\n",
      "j 1\n",
      "len(row)-1 4\n",
      "triangle[rows-1][j] 3\n",
      "triangle[rows-1][j-1] 1\n",
      "\n",
      "j 2\n",
      "len(row)-1 4\n",
      "triangle[rows-1][j] 3\n",
      "triangle[rows-1][j-1] 3\n",
      "\n",
      "j 3\n",
      "len(row)-1 4\n",
      "triangle[rows-1][j] 1\n",
      "triangle[rows-1][j-1] 3\n",
      "[[1], [1, 1], [1, 2, 1], [1, 3, 3, 1], [1, 4, 6, 4, 1]]\n"
     ]
    }
   ],
   "source": [
    "def pascal_triangle(n):\n",
    "    triangle=[]\n",
    "    for rows in range(n):\n",
    "        row =[None for _ in range(rows+1)]\n",
    "        row[0],row[-1]=1,1\n",
    "        for j in range(1,len(row)-1):\n",
    "            print(\"\\nj\",j)\n",
    "            print(\"len(row)-1\",len(row)-1)\n",
    "            print(\"triangle[rows-1][j]\",triangle[rows-1][j])\n",
    "            print(\"triangle[rows-1][j-1]\",triangle[rows-1][j-1])\n",
    "            row[j]=triangle[rows-1][j]+triangle[rows-1][j-1]\n",
    "        triangle.append(row)\n",
    "    return triangle\n",
    "print(pascal_triangle(5))"
   ]
  },
  {
   "cell_type": "code",
   "execution_count": null,
   "metadata": {},
   "outputs": [],
   "source": []
  }
 ],
 "metadata": {
  "kernelspec": {
   "display_name": "Python 3",
   "language": "python",
   "name": "python3"
  },
  "language_info": {
   "codemirror_mode": {
    "name": "ipython",
    "version": 3
   },
   "file_extension": ".py",
   "mimetype": "text/x-python",
   "name": "python",
   "nbconvert_exporter": "python",
   "pygments_lexer": "ipython3",
   "version": "3.7.0"
  }
 },
 "nbformat": 4,
 "nbformat_minor": 2
}
