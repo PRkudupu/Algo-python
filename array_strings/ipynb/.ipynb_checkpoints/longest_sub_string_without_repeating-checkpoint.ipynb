{
 "cells": [
  {
   "cell_type": "markdown",
   "metadata": {},
   "source": [
    "Given a string, find the length of the longest substring without repeating characters.\n",
    "\n",
    "Example 1:\n",
    "<b>Input: \"abcabcbb\"</b>\n",
    "Output: 3 \n",
    "Explanation: The answer is \"abc\", with the length of 3. \n",
    "\n",
    "<br>Example 2:\n",
    "<b>Input: \"bbbbb\"</b>\n",
    "Output: 1\n",
    "Explanation: The answer is \"b\", with the length of 1.\n",
    "\n",
    "<br>Example 3:\n",
    "<b>Input: \"pwwkew\"</b>\n",
    "Output: 3\n",
    "Explanation: The answer is \"wke\", with the length of 3. \n",
    "             Note that the answer must be a substring, \"pwke\" is a subsequence and not a substring."
   ]
  },
  {
   "cell_type": "markdown",
   "metadata": {},
   "source": [
    "![](images/longsub)"
   ]
  },
  {
   "cell_type": "code",
   "execution_count": 16,
   "metadata": {},
   "outputs": [
    {
     "name": "stdout",
     "output_type": "stream",
     "text": [
      "3\n"
     ]
    }
   ],
   "source": [
    "#BRUTEFORCE\n",
    "def long_sub_string(ls):\n",
    "    sub_set =\"\"\n",
    "    dic ={}\n",
    "    s = set()\n",
    "    maxi=0\n",
    "    for i in ls:\n",
    "        if i not in s:\n",
    "            s.add(i)\n",
    "            sub_set =sub_set+i\n",
    "        else:\n",
    "            dic[sub_set]=len(sub_set)\n",
    "            sub_set =\"\"\n",
    "            sub_set =sub_set+i\n",
    "            s=set()\n",
    "            s.add(i)\n",
    "        dic[sub_set]=len(sub_set)\n",
    "        maxi=max(maxi,dic[sub_set])\n",
    "    return maxi\n",
    "print(long_sub_string('pwwkew'))"
   ]
  },
  {
   "cell_type": "markdown",
   "metadata": {},
   "source": [
    "![title](image/longsub.jpg)"
   ]
  },
  {
   "cell_type": "code",
   "execution_count": 4,
   "metadata": {},
   "outputs": [
    {
     "name": "stdout",
     "output_type": "stream",
     "text": [
      "9\n",
      "4\n",
      "3\n",
      "5\n"
     ]
    }
   ],
   "source": [
    "def lengthOfLongestSubstring(ls):\n",
    "        start = maxLength = 0\n",
    "        dic = {}\n",
    "        \n",
    "        for i in range(len(ls)):\n",
    "            if ls[i] in dic and start <= dic[ls[i]]:\n",
    "                start = dic[ls[i]] + 1\n",
    "            else:\n",
    "                # Here i-start is where we are removing the index from previous sub string\n",
    "                # +1 is added as index starts from 0\n",
    "                maxLength = max(maxLength, i - start + 1)\n",
    "\n",
    "            dic[ls[i]] = i\n",
    "\n",
    "        return maxLength\n",
    "print(lengthOfLongestSubstring('abcdakujgbna'))\n",
    "print(lengthOfLongestSubstring('abcacde'))\n",
    "print(lengthOfLongestSubstring('abcabc'))\n",
    "print(lengthOfLongestSubstring('abcacbde'))"
   ]
  },
  {
   "cell_type": "code",
   "execution_count": 18,
   "metadata": {},
   "outputs": [
    {
     "name": "stdout",
     "output_type": "stream",
     "text": [
      "else\n",
      "\n",
      "i -> 0\n",
      "start <= dic[ls[i]] 0 0\n",
      "dic -> {'a': 0}\n",
      "maxlength 1\n",
      "else\n",
      "\n",
      "i -> 1\n",
      "start <= dic[ls[i]] 0 1\n",
      "dic -> {'a': 0, 'b': 1}\n",
      "maxlength 2\n",
      "if\n",
      "\n",
      "i -> 2\n",
      "start <= dic[ls[i]] 1 2\n",
      "dic -> {'a': 2, 'b': 1}\n",
      "maxlength 2\n",
      "else\n",
      "\n",
      "i -> 3\n",
      "start <= dic[ls[i]] 1 3\n",
      "dic -> {'a': 2, 'b': 1, 'd': 3}\n",
      "maxlength 3\n",
      "if\n",
      "\n",
      "i -> 4\n",
      "start <= dic[ls[i]] 2 4\n",
      "dic -> {'a': 2, 'b': 4, 'd': 3}\n",
      "maxlength 3\n",
      "else\n",
      "\n",
      "i -> 5\n",
      "start <= dic[ls[i]] 2 5\n",
      "dic -> {'a': 2, 'b': 4, 'd': 3, 'c': 5}\n",
      "maxlength 4\n",
      "4\n"
     ]
    }
   ],
   "source": [
    "#WITH PRINT\n",
    "def len_longest_sub(ls):\n",
    "    #start is used to track new substring. We increement start when duplicate is found\n",
    "    start = maxLength = 0\n",
    "    dic = {}\n",
    "    for i in range(len(ls)):\n",
    "        if ls[i] in dic and start <= dic[ls[i]]:\n",
    "            print(\"if\")\n",
    "            start = dic[ls[i]] + 1\n",
    "        else:\n",
    "            print(\"else\")\n",
    "            # I is the current pointer and start is the previous sub string.\n",
    "            # since i starts from 0 we need to increement by 1\n",
    "            maxLength = max(maxLength, i - start + 1)\n",
    "        dic[ls[i]] = i\n",
    "        print(\"\\ni ->\",i)\n",
    "        print(\"start <= dic[ls[i]]\",start ,dic[ls[i]])\n",
    "        print(\"dic ->\",dic)\n",
    "        print(\"maxlength\",maxLength)\n",
    "    return maxLength\n",
    "print(len_longest_sub(\"abadbc\"))"
   ]
  },
  {
   "cell_type": "code",
   "execution_count": null,
   "metadata": {},
   "outputs": [],
   "source": []
  }
 ],
 "metadata": {
  "kernelspec": {
   "display_name": "Python 3",
   "language": "python",
   "name": "python3"
  },
  "language_info": {
   "codemirror_mode": {
    "name": "ipython",
    "version": 3
   },
   "file_extension": ".py",
   "mimetype": "text/x-python",
   "name": "python",
   "nbconvert_exporter": "python",
   "pygments_lexer": "ipython3",
   "version": "3.7.0"
  }
 },
 "nbformat": 4,
 "nbformat_minor": 2
}
