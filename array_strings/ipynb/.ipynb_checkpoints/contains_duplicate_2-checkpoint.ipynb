{
 "cells": [
  {
   "cell_type": "markdown",
   "metadata": {},
   "source": [
    "Given an array of integers and an integer k, find out whether there are two distinct indices i and j in the array such that nums[i] = nums[j] and the absolute difference between i and j is at most k.\n",
    "\n",
    "<b>Example 1:</b><br>\n",
    "Input: nums = [1,2,3,1], k = 3 <br>\n",
    "Output: true <br>\n",
    "\n",
    "<b>Example 2:</b> <br>\n",
    "Input: nums = [1,0,1,1], k = 1 <br>\n",
    "Output: true <br>\n",
    "\n",
    "<b>Example 3:</b><br>\n",
    "Input: nums = [1,2,3,1,2,3], k = 2<br>\n",
    "Output: false"
   ]
  },
  {
   "cell_type": "markdown",
   "metadata": {},
   "source": [
    "### Note:the absolute difference between i and j is at most k"
   ]
  },
  {
   "cell_type": "code",
   "execution_count": 12,
   "metadata": {},
   "outputs": [
    {
     "name": "stdout",
     "output_type": "stream",
     "text": [
      "True\n",
      "True\n",
      "False\n",
      "True\n"
     ]
    }
   ],
   "source": [
    "#Note some of the test case does not pass\n",
    "def contains_duplicate(ls,k):\n",
    "    dic = {}\n",
    "    for i in range(len(ls)):\n",
    "        if ls[i] in dic:\n",
    "            if i-dic[ls[i]] <=k: \n",
    "                return True\n",
    "        dic[ls[i]]=i\n",
    "    return False\n",
    "print(contains_duplicate([0,2,1,3,1],3))\n",
    "print(contains_duplicate([1,0,1,1],1))\n",
    "print(contains_duplicate([1,2,3,1,2,3],2))\n",
    "print(contains_duplicate([99,99],2))      "
   ]
  },
  {
   "cell_type": "markdown",
   "metadata": {},
   "source": [
    "Time complexity : O(n)O(n). We do nn operations of search, delete and insert, each with constant time complexity.\n",
    "\n",
    "Space complexity : O(\\min(n,k))O(min(n,k)). The extra space required depends on the number of items stored in the hash<br> table, which is the size of the sliding window, \\min(n,k)min(n,k).\n",
    "       "
   ]
  },
  {
   "cell_type": "code",
   "execution_count": null,
   "metadata": {},
   "outputs": [],
   "source": []
  }
 ],
 "metadata": {
  "kernelspec": {
   "display_name": "Python 3",
   "language": "python",
   "name": "python3"
  },
  "language_info": {
   "codemirror_mode": {
    "name": "ipython",
    "version": 3
   },
   "file_extension": ".py",
   "mimetype": "text/x-python",
   "name": "python",
   "nbconvert_exporter": "python",
   "pygments_lexer": "ipython3",
   "version": "3.7.0"
  }
 },
 "nbformat": 4,
 "nbformat_minor": 2
}
