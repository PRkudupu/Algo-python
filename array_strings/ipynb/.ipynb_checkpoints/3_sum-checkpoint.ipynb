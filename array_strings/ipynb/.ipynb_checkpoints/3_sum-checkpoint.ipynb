{
 "cells": [
  {
   "cell_type": "markdown",
   "metadata": {},
   "source": [
    "Given an array nums of n integers, are there elements a, b, c in nums such that a + b + c = target \n",
    "\n",
    "Note:\n",
    "\n",
    "<b>Example:</b>\n",
    "\n",
    "Given array nums = [-8, -7, 5, 2], target=0\n",
    "\n",
    "return (-7,5,2)\n",
    "\n",
    "Ex: (1,2,2,2) target =6 <br>\n",
    "\n",
    "1) 6-1 = 5 <br>   \n",
    "       1.1) 5-2=3    store the value of j in set {2} <br> \n",
    "       1.2) 5-2=3    store the value of j in set {2} <br>\n",
    "       1.3) 5-2=3    store the value of j in set {2} <br><br>\n",
    "2) 6-2 =4 <br>\n",
    "       2.1) 4-2= 2   This value exists in set , return\n",
    "   "
   ]
  },
  {
   "cell_type": "code",
   "execution_count": 6,
   "metadata": {},
   "outputs": [],
   "source": [
    "#O(n3) . Here the time complexity is O n3"
   ]
  },
  {
   "cell_type": "code",
   "execution_count": 4,
   "metadata": {},
   "outputs": [
    {
     "name": "stdout",
     "output_type": "stream",
     "text": [
      "(2, 2, 2)\n"
     ]
    }
   ],
   "source": [
    "def three_sum(arr,target):\n",
    "    for i in range(len(arr)):\n",
    "        for j in range(i+1,len(arr)):\n",
    "            for k in range(j+1,len(arr)):\n",
    "                if arr[i]+arr[j]+arr[k] == target:\n",
    "                    return arr[i],arr[j],arr[k]\n",
    "print(three_sum([3,2,2,2],6))"
   ]
  },
  {
   "cell_type": "markdown",
   "metadata": {},
   "source": [
    "Here the time complexity is <b> O (n2) </b>"
   ]
  },
  {
   "cell_type": "code",
   "execution_count": 16,
   "metadata": {},
   "outputs": [
    {
     "name": "stdout",
     "output_type": "stream",
     "text": [
      "(-7, 5, 2)\n"
     ]
    }
   ],
   "source": [
    "def three_sum_sort(arr,target):\n",
    "    #sort\n",
    "    arr.sort\n",
    "    for i in range(len(arr)-2):\n",
    "        partial_target=target-arr[i]\n",
    "        j=i+1\n",
    "        k=len(arr)-1\n",
    "        while j < k:\n",
    "            partial_sum=arr[j]+arr[k]\n",
    "            if partial_sum == partial_target:\n",
    "                return (arr[i],arr[j],arr[k])\n",
    "            elif partial_sum > target:\n",
    "                k-=1\n",
    "            else:\n",
    "                j+=1\n",
    "    return None\n",
    "print(three_sum_sort([-8,-7,5,2],0))           "
   ]
  },
  {
   "cell_type": "markdown",
   "metadata": {},
   "source": [
    "Here the time complexity is <b> O (n2)"
   ]
  },
  {
   "cell_type": "code",
   "execution_count": 24,
   "metadata": {},
   "outputs": [
    {
     "name": "stdout",
     "output_type": "stream",
     "text": [
      "Triplet is -7 ,  2 ,  5\n",
      "True\n"
     ]
    }
   ],
   "source": [
    "# Python3 program to find a triplet using Hashing \n",
    "# returns true if there is triplet with sum equal \n",
    "# to 'sum' present in A[]. Also, prints the triplet \n",
    "def three_sum_hash(A,sum): \n",
    "    for i in range(0,len(A)-1): \n",
    "        #Find pair in subarray A[i+1..n-1]  \n",
    "        # with sum equal to sum - A[i] \n",
    "        s = set() \n",
    "        curr_sum = sum - A[i] \n",
    "        for j in range(i+1,len(A)): \n",
    "            if (curr_sum - A[j]) in s: \n",
    "                print(\"Triplet is\", A[i],  \n",
    "                        \", \", A[j], \", \", curr_sum-A[j]) \n",
    "                return True\n",
    "            s.add(A[j]) \n",
    "    return False\n",
    "print(three_sum_hash([-8,-7,5,2],0))  "
   ]
  },
  {
   "cell_type": "code",
   "execution_count": 9,
   "metadata": {
    "scrolled": true
   },
   "outputs": [
    {
     "name": "stdout",
     "output_type": "stream",
     "text": [
      "(-7, 2, 5)\n"
     ]
    }
   ],
   "source": [
    "def three_sum(num,target):\n",
    "    for i in range(0,len(num)-1):\n",
    "        s=set()\n",
    "        curr_sum = target - num[i]\n",
    "        for j in range(i+1,len(num)):\n",
    "            if(curr_sum- num[j]) in s:\n",
    "                return(num[i],num[j],curr_sum-num[j])\n",
    "            s.add(num[j])\n",
    "    return False\n",
    "\n",
    "print(three_sum([-8,-7,5,2],0)) "
   ]
  },
  {
   "cell_type": "code",
   "execution_count": 3,
   "metadata": {},
   "outputs": [
    {
     "name": "stdout",
     "output_type": "stream",
     "text": [
      "(3, 1, 1)\n"
     ]
    }
   ],
   "source": [
    "def three_sum_n(arr,target):\n",
    "    #sort the array\n",
    "    arr.sort\n",
    "    for i in range(len(arr)-2):\n",
    "        print(\"i {}\".format(i))\n",
    "        print(\"target {}\".format(target))\n",
    "        print(\"arr[i] {}\".format(arr[i]))\n",
    "        partial_target =target-arr[i]\n",
    "        print(\"partial_target {}\".format(partial_target))\n",
    "        j=i+1\n",
    "        k=len(arr) - 1\n",
    "        print (\"k {}\".format(k))\n",
    "        while j < k:\n",
    "            partial_sum = arr[j]+arr[k]\n",
    "            print(\"arr[j] {}\".format(arr[j]))\n",
    "            print(\"arr[k] {}\".format(arr[k]))\n",
    "            print(\"partial_sum {}\".format(partial_sum))\n",
    "            print(\"arr[i] {}\".format(arr[i]))\n",
    "            if partial_sum == partial_target:\n",
    "                return (arr[i],arr[j],arr[k])\n",
    "            elif partial_sum > partial_target: # Make sum smaller\n",
    "                k-=1\n",
    "            else:\n",
    "                j+=1\n",
    "    return None\n",
    "\n",
    "print(three_sum([3,5,1,1],5))\n"
   ]
  },
  {
   "cell_type": "code",
   "execution_count": 5,
   "metadata": {},
   "outputs": [
    {
     "name": "stdout",
     "output_type": "stream",
     "text": [
      "cur_sum 2\n",
      "inside cur_sum 2\n",
      "i 0\n",
      "j 1\n",
      "cur_sum-ls[j]  0\n",
      "{2}\n",
      "inside cur_sum 2\n",
      "i 0\n",
      "j 2\n",
      "cur_sum-ls[j]  0\n",
      "{2}\n",
      "inside cur_sum 2\n",
      "i 0\n",
      "j 3\n",
      "cur_sum-ls[j]  0\n",
      "{2}\n",
      "cur_sum 3\n",
      "inside cur_sum 3\n",
      "i 1\n",
      "j 2\n",
      "cur_sum-ls[j]  1\n",
      "{2}\n",
      "inside cur_sum 3\n",
      "i 1\n",
      "j 3\n",
      "cur_sum-ls[j]  1\n",
      "{2}\n",
      "cur_sum 3\n",
      "inside cur_sum 3\n",
      "i 2\n",
      "j 3\n",
      "cur_sum-ls[j]  1\n",
      "{2}\n",
      "False\n"
     ]
    }
   ],
   "source": [
    "def three_sum(ls,target):\n",
    "    s=set()\n",
    "    cur_sum=0\n",
    "    for i in range(0,len(ls)-1):\n",
    "        cur_sum =target-ls[i]\n",
    "        print(\"cur_sum\",cur_sum)\n",
    "        for j in range(i+1,len(ls)):\n",
    "            print(\"inside cur_sum\",cur_sum)\n",
    "            print('i',i)\n",
    "            print('j',j)\n",
    "            print(\"cur_sum-ls[j] \",cur_sum-ls[j])\n",
    "            if cur_sum-ls[j] in s:\n",
    "                return ls[i],ls[j],cur_sum-ls[j]\n",
    "            else:\n",
    "                s.add(ls[j])\n",
    "                print(s)\n",
    "    return False\n",
    "print(three_sum([3,2,2,2],5))\n",
    "\n",
    "#note:This does not solve all the use case\n",
    "            "
   ]
  },
  {
   "cell_type": "code",
   "execution_count": null,
   "metadata": {},
   "outputs": [],
   "source": []
  }
 ],
 "metadata": {
  "kernelspec": {
   "display_name": "Python 3",
   "language": "python",
   "name": "python3"
  },
  "language_info": {
   "codemirror_mode": {
    "name": "ipython",
    "version": 3
   },
   "file_extension": ".py",
   "mimetype": "text/x-python",
   "name": "python",
   "nbconvert_exporter": "python",
   "pygments_lexer": "ipython3",
   "version": "3.7.0"
  }
 },
 "nbformat": 4,
 "nbformat_minor": 2
}
