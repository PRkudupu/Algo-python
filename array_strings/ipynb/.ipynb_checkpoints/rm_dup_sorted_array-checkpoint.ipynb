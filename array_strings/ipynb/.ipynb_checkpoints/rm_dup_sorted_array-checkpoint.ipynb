{
 "cells": [
  {
   "cell_type": "markdown",
   "metadata": {},
   "source": [
    "Given a sorted array nums, remove the duplicates in-place such that each element appear only once and return the new length.\n",
    "\n",
    "Do not allocate extra space for another array, you must do this by modifying the input array in-place with O(1) extra memory.\n",
    "\n",
    "<b>Example 1:</b>\n",
    "\n",
    "Given nums = [1,1,2],\n",
    "\n",
    "Your function should return length = 2, with the first two elements of nums being 1 and 2 respectively.\n",
    "\n",
    "It doesn't matter what you leave beyond the returned length."
   ]
  },
  {
   "cell_type": "code",
   "execution_count": 1,
   "metadata": {},
   "outputs": [
    {
     "name": "stdout",
     "output_type": "stream",
     "text": [
      "3\n"
     ]
    }
   ],
   "source": [
    "def dup(ls):\n",
    "    pos=1\n",
    "    for i in range(1,len(ls)):\n",
    "        if ls[i]!=ls[i-1]:\n",
    "            ls[pos]=ls[i]\n",
    "            pos+=1\n",
    "    return pos\n",
    "print(dup([1,2,2,3]))"
   ]
  },
  {
   "cell_type": "code",
   "execution_count": 3,
   "metadata": {},
   "outputs": [
    {
     "data": {
      "text/plain": [
       "4"
      ]
     },
     "execution_count": 3,
     "metadata": {},
     "output_type": "execute_result"
    }
   ],
   "source": [
    "remove_dup_sorted([1,3,3,5,6])"
   ]
  },
  {
   "cell_type": "code",
   "execution_count": 16,
   "metadata": {},
   "outputs": [],
   "source": [
    "def remove_dup_sorted(A):\n",
    "    if not A:\n",
    "        return 0\n",
    "    newTail=0\n",
    "    for i in range(1,len(A)):\n",
    "        print(\"start A[i] : {}\".format(A[i]))\n",
    "        print(\"A[newTail] : {}\".format(A[newTail]))\n",
    "        print(\"newTail :{} \".format(newTail))\n",
    "        print(\"i :{}\".format(i))\n",
    "        print(\"end A[i] != A[newTail] {}\".format(A[i] != A[newTail]))\n",
    "        if A[i] != A[newTail]:\n",
    "            newTail +=1\n",
    "            A[newTail]=A[i]\n",
    "    return newTail +1"
   ]
  },
  {
   "cell_type": "code",
   "execution_count": 17,
   "metadata": {},
   "outputs": [
    {
     "name": "stdout",
     "output_type": "stream",
     "text": [
      "start A[i] : 3\n",
      "A[newTail] : 1\n",
      "newTail :0 \n",
      "i :1\n",
      "end A[i] != A[newTail] True\n",
      "start A[i] : 3\n",
      "A[newTail] : 3\n",
      "newTail :1 \n",
      "i :2\n",
      "end A[i] != A[newTail] False\n",
      "start A[i] : 5\n",
      "A[newTail] : 3\n",
      "newTail :1 \n",
      "i :3\n",
      "end A[i] != A[newTail] True\n",
      "start A[i] : 6\n",
      "A[newTail] : 5\n",
      "newTail :2 \n",
      "i :4\n",
      "end A[i] != A[newTail] True\n"
     ]
    },
    {
     "data": {
      "text/plain": [
       "4"
      ]
     },
     "execution_count": 17,
     "metadata": {},
     "output_type": "execute_result"
    }
   ],
   "source": [
    "remove_dup_sorted([1,3,3,5,6])"
   ]
  },
  {
   "cell_type": "code",
   "execution_count": null,
   "metadata": {},
   "outputs": [],
   "source": []
  }
 ],
 "metadata": {
  "kernelspec": {
   "display_name": "Python 3",
   "language": "python",
   "name": "python3"
  },
  "language_info": {
   "codemirror_mode": {
    "name": "ipython",
    "version": 3
   },
   "file_extension": ".py",
   "mimetype": "text/x-python",
   "name": "python",
   "nbconvert_exporter": "python",
   "pygments_lexer": "ipython3",
   "version": "3.7.0"
  }
 },
 "nbformat": 4,
 "nbformat_minor": 2
}
