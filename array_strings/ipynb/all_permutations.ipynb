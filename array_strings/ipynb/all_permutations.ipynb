{
 "cells": [
  {
   "cell_type": "code",
   "execution_count": 13,
   "metadata": {},
   "outputs": [
    {
     "name": "stdout",
     "output_type": "stream",
     "text": [
      "['A', 'B', 'C']\n",
      "ABC\n",
      "['A', 'C', 'B']\n",
      "ACB\n",
      "['B', 'A', 'C']\n",
      "BAC\n",
      "['B', 'C', 'A']\n",
      "BCA\n",
      "['C', 'B', 'A']\n",
      "CBA\n",
      "['C', 'A', 'B']\n",
      "CAB\n"
     ]
    }
   ],
   "source": [
    "def toString(List): \n",
    "    return ''.join(List) \n",
    "  \n",
    "# Function to print permutations of string \n",
    "# This function takes three parameters: \n",
    "# 1. String \n",
    "# 2. Starting index of the string \n",
    "# 3. Ending index of the string. \n",
    "def permute(ls, l, r): \n",
    "    if l == r: \n",
    "        print(a)\n",
    "        print(toString(a))\n",
    "    else: \n",
    "        for i in range(l, r + 1): \n",
    "            ls[l], ls[i] = ls[i], ls[l] \n",
    "            permute(ls, l + 1, r) \n",
    "            ls[l], ls[i] = ls[i], ls[l] # backtrack \n",
    "  \n",
    "# Driver program to test the above function \n",
    "string = \"ABC\"\n",
    "n = len(string)\n",
    "ls = list(string) \n",
    "permute(a, 0, n-1)"
   ]
  },
  {
   "cell_type": "code",
   "execution_count": null,
   "metadata": {},
   "outputs": [],
   "source": [
    "def tostring(ls):\n",
    "    print(''.join())"
   ]
  },
  {
   "cell_type": "code",
   "execution_count": 15,
   "metadata": {},
   "outputs": [
    {
     "name": "stdout",
     "output_type": "stream",
     "text": [
      "1:2:3:4\n"
     ]
    }
   ],
   "source": [
    "list1 = ['1','2','3','4']  \n",
    "  \n",
    "s = \"-\"\n",
    "  \n",
    "# joins elements of list1 by '-' \n",
    "# and stores in sting s \n",
    "s = s.join(list1) \n",
    "  \n",
    "# join use to join a list of \n",
    "# strings to a separator s \n",
    "print(s) "
   ]
  },
  {
   "cell_type": "code",
   "execution_count": null,
   "metadata": {},
   "outputs": [],
   "source": []
  }
 ],
 "metadata": {
  "kernelspec": {
   "display_name": "Python 3",
   "language": "python",
   "name": "python3"
  },
  "language_info": {
   "codemirror_mode": {
    "name": "ipython",
    "version": 3
   },
   "file_extension": ".py",
   "mimetype": "text/x-python",
   "name": "python",
   "nbconvert_exporter": "python",
   "pygments_lexer": "ipython3",
   "version": "3.7.0"
  }
 },
 "nbformat": 4,
 "nbformat_minor": 2
}
