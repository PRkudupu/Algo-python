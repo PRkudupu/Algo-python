{
 "cells": [
  {
   "cell_type": "code",
   "execution_count": 41,
   "metadata": {
    "scrolled": false
   },
   "outputs": [
    {
     "name": "stdout",
     "output_type": "stream",
     "text": [
      "list[i] 5\n",
      "4 0\n",
      "{4: 0}\n",
      "list[i] 2\n",
      "7 1\n",
      "{4: 0, 7: 1}\n",
      "list[i] 7\n",
      "in\n",
      "(1, 2)\n"
     ]
    }
   ],
   "source": [
    "list = [5, 2, 7, 11]\n",
    "def numsum(list, target):\n",
    "    dict = {}\n",
    "    for i in range(len(list)):\n",
    "        print(\"list[i]\",list[i])\n",
    "        if list[i] in dict:\n",
    "            print(\"in\")\n",
    "            return dict[list[i]],i\n",
    "        else:\n",
    "            print(target - list[i],i)\n",
    "            dict[target - list[i]]=i\n",
    "            print(dict)\n",
    "print(numsum(list,9)) \n"
   ]
  },
  {
   "cell_type": "markdown",
   "metadata": {},
   "source": [
    "2+5"
   ]
  },
  {
   "cell_type": "markdown",
   "metadata": {},
   "source": []
  },
  {
   "cell_type": "code",
   "execution_count": null,
   "metadata": {},
   "outputs": [],
   "source": []
  }
 ],
 "metadata": {
  "kernelspec": {
   "display_name": "Python 3",
   "language": "python",
   "name": "python3"
  },
  "language_info": {
   "codemirror_mode": {
    "name": "ipython",
    "version": 3
   },
   "file_extension": ".py",
   "mimetype": "text/x-python",
   "name": "python",
   "nbconvert_exporter": "python",
   "pygments_lexer": "ipython3",
   "version": "3.7.0"
  }
 },
 "nbformat": 4,
 "nbformat_minor": 2
}
