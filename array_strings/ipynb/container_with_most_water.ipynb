{
 "cells": [
  {
   "cell_type": "markdown",
   "metadata": {},
   "source": [
    "### Container with most water\n",
    "Given n non-negative integers a1, a2, ..., an , where each represents a point at coordinate (i, ai). n vertical lines are drawn such that the two endpoints of line i is at (i, ai) and (i, 0). Find two lines, which together with x-axis forms a container, such that the container contains the most water.\n",
    "\n",
    "Note: You may not slant the container and n is at least 2.\n",
    "\n",
    "![](image/containerWithMostWater.jpg)\n",
    " \n",
    " Example:\n",
    "\n",
    "<b>Input: [1,8,6,2,5,4,8,3,7]</b><br>\n",
    "Output: 49"
   ]
  },
  {
   "cell_type": "markdown",
   "metadata": {},
   "source": [
    "<b>hint 1</b>The aim is to maximize the area formed between the vertical lines. The area of any container is calculated using the shorter line as length and the distance between the lines as the width of the rectangle.\n",
    "Area = length of shorter vertical line * distance between lines\n",
    "\n",
    "We can definitely get the maximum width container as the outermost lines have the maximum distance between them. However, this container might not be the maximum in size as one of the vertical lines of this container could be really short.\n",
    "<b>hint 2</b>\n",
    "Start with the maximum width container and go to a shorter width container if there is a vertical line longer than the current containers shorter line. This way we are compromising on the width but we are looking forward to a longer length container."
   ]
  },
  {
   "cell_type": "markdown",
   "metadata": {},
   "source": [
    "#### Solution\n",
    "\n",
    "![](image/area_cont.jpg)\n",
    "\n",
    "We have to maximize the Area that can be formed between the vertical lines using the shorter line as length and the distance between the lines as the width of the rectangle forming the area.\n",
    "\n",
    "Initially we consider the area constituting the exterior most lines. Now, to maximize the area, we need to consider the area between the lines of larger lengths. If we try to move the pointer at the longer line inwards, we won't gain any increase in area, since it is limited by the shorter line. But moving the shorter line's pointer could turn out to be beneficial, as per the same argument, despite the reduction in the width. This is done since a relatively longer line obtained by moving the shorter line's pointer might overcome the reduction in area caused by the width reduction.\n",
    "\n",
    "<b>Complexity Analysis</b>\n",
    "\n",
    "Time complexity : O(n)O(n). Single pass.\n",
    "\n",
    "Space complexity : O(1)O(1). Constant space is used."
   ]
  },
  {
   "cell_type": "code",
   "execution_count": 40,
   "metadata": {},
   "outputs": [],
   "source": [
    "# Time complexity with 1\n",
    "def container_with_most_water(height):\n",
    "    head=0\n",
    "    tail=len(height)-1\n",
    "    max_water=0\n",
    "    while head <=tail:\n",
    "        if height[head] < height[tail]:\n",
    "            min_area=height[head]*(tail-head)\n",
    "            head+=1\n",
    "        else:\n",
    "            min_area=height[tail]*(tail-head)\n",
    "            tail-=1\n",
    "        max_water=max(max_water,min_area)\n",
    "    return max_water"
   ]
  },
  {
   "cell_type": "code",
   "execution_count": 41,
   "metadata": {},
   "outputs": [
    {
     "name": "stdout",
     "output_type": "stream",
     "text": [
      "49\n"
     ]
    }
   ],
   "source": [
    "ls=[1,8,6,2,5,4,8,3,7]\n",
    "print(container_with_most_water(ls))"
   ]
  },
  {
   "cell_type": "markdown",
   "metadata": {},
   "source": [
    "### Time Complexity \n",
    "O(N)"
   ]
  },
  {
   "cell_type": "code",
   "execution_count": 42,
   "metadata": {},
   "outputs": [
    {
     "name": "stdout",
     "output_type": "stream",
     "text": [
      "49\n"
     ]
    }
   ],
   "source": [
    "#Time compexity with n2\n",
    "def container_with_most_water(ls):\n",
    "    max_water=0\n",
    "    for i in range(len(ls)-1):\n",
    "        for j in range(i+1,len(ls)):\n",
    "            area=min(ls[i],ls[j])*(j-i)\n",
    "            max_water=max(max_water,area)\n",
    "    return max_water\n",
    "ls=[1,8,6,2,5,4,8,3,7]\n",
    "print(container_with_most_water(ls))"
   ]
  },
  {
   "cell_type": "markdown",
   "metadata": {},
   "source": [
    "### Time Complexity \n",
    "O(N)2"
   ]
  },
  {
   "cell_type": "code",
   "execution_count": 5,
   "metadata": {},
   "outputs": [],
   "source": [
    "def maxArea(height):\n",
    "    L, R, width, res = 0, len(height) - 1, len(height) - 1, 0\n",
    "    for w in range(width, 0, -1):\n",
    "        if height[L] < height[R]:\n",
    "            res, L = max(res, height[L] * w), L + 1\n",
    "        else:\n",
    "            res, R = max(res, height[R] * w), R - 1\n",
    "    return res"
   ]
  },
  {
   "cell_type": "code",
   "execution_count": 6,
   "metadata": {},
   "outputs": [
    {
     "name": "stdout",
     "output_type": "stream",
     "text": [
      "49\n"
     ]
    }
   ],
   "source": [
    "ls=[1,8,6,2,5,4,8,3,7]\n",
    "print(maxArea(ls))"
   ]
  },
  {
   "cell_type": "code",
   "execution_count": null,
   "metadata": {},
   "outputs": [],
   "source": []
  }
 ],
 "metadata": {
  "kernelspec": {
   "display_name": "Python 3",
   "language": "python",
   "name": "python3"
  },
  "language_info": {
   "codemirror_mode": {
    "name": "ipython",
    "version": 3
   },
   "file_extension": ".py",
   "mimetype": "text/x-python",
   "name": "python",
   "nbconvert_exporter": "python",
   "pygments_lexer": "ipython3",
   "version": "3.7.0"
  }
 },
 "nbformat": 4,
 "nbformat_minor": 2
}
