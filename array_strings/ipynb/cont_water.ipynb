{
 "cells": [
  {
   "cell_type": "markdown",
   "metadata": {},
   "source": [
    "<b>Problem></b>\n",
    "Given n non-negative integers a1, a2, ..., an , where each represents a point at coordinate (i, ai). n vertical lines are drawn such that the two endpoints of the line i is at (i, ai) and (i, 0). Find two lines, which, together with the x-axis forms a container, such that the container contains the most water.\n",
    "\n",
    "Notice that you may not slant the container.\n",
    "![pascal Triangle](image/container.jpg \"pascal triangle\")\n",
    "Input: height = [1,8,6,2,5,4,8,3,7]<br>\n",
    "<b>Output: 49 <br></b>\n",
    "Explanation: The above vertical lines are represented by array [1,8,6,2,5,4,8,3,7]. In this case, the max area of water (blue section) the container can contain is 49.\n",
    "\n",
    "Input: height = [1,1]<br>\n",
    "<b>Output: 1</b>\n",
    "    \n",
    "Input: height = [4,3,2,1,4]<br>\n",
    "<b>Output: 16</b>\n",
    "\n",
    "Input: height = [1,2,1]<br>\n",
    "<b>Output: 2</b>"
   ]
  },
  {
   "cell_type": "markdown",
   "metadata": {},
   "source": [
    "We have to maximize the Area that can be formed between the vertical lines using the shorter line as length and the distance between the lines as the width of the rectangle forming the area.\n",
    "![pascal Triangle](image/area.jpg \"pascal triangle\")"
   ]
  },
  {
   "cell_type": "code",
   "execution_count": 9,
   "metadata": {},
   "outputs": [],
   "source": [
    "def cont_water(ls):\n",
    "    head=0\n",
    "    tail=len(ls)-1\n",
    "    area=0\n",
    "    max_area=0\n",
    "    while head <=tail:\n",
    "        if ls[head] >ls[tail]:\n",
    "            area=(tail-head) * ls[tail]\n",
    "            tail-=1\n",
    "        else:\n",
    "            area=(tail-head) * ls[head]\n",
    "            head+=1\n",
    "        max_area=max(area,max_area)\n",
    "    return max_area      \n",
    "    "
   ]
  },
  {
   "cell_type": "code",
   "execution_count": 10,
   "metadata": {},
   "outputs": [
    {
     "name": "stdout",
     "output_type": "stream",
     "text": [
      "16\n"
     ]
    }
   ],
   "source": [
    "print(cont_water([4,3,2,1,4]))"
   ]
  },
  {
   "cell_type": "code",
   "execution_count": null,
   "metadata": {},
   "outputs": [],
   "source": []
  }
 ],
 "metadata": {
  "kernelspec": {
   "display_name": "Python 3",
   "language": "python",
   "name": "python3"
  },
  "language_info": {
   "codemirror_mode": {
    "name": "ipython",
    "version": 3
   },
   "file_extension": ".py",
   "mimetype": "text/x-python",
   "name": "python",
   "nbconvert_exporter": "python",
   "pygments_lexer": "ipython3",
   "version": "3.7.0"
  }
 },
 "nbformat": 4,
 "nbformat_minor": 2
}
