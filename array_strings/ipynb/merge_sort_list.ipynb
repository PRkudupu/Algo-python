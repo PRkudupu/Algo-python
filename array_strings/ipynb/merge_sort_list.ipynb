{
 "cells": [
  {
   "cell_type": "code",
   "execution_count": 1,
   "metadata": {},
   "outputs": [],
   "source": [
    "def mergeArrays(arr1, arr2, n1, n2): \n",
    "    arr3 = [None] * (n1 + n2) \n",
    "    i = 0\n",
    "    j = 0\n",
    "    k = 0\n",
    "  \n",
    "    # Traverse both array \n",
    "    while i < n1 and j < n2: \n",
    "      \n",
    "        # Check if current element  \n",
    "        # of first array is smaller  \n",
    "        # than current element of  \n",
    "        # second array. If yes,  \n",
    "        # store first array element  \n",
    "        # and increment first array \n",
    "        # index. Otherwise do same  \n",
    "        # with second array \n",
    "        if arr1[i] < arr2[j]: \n",
    "            arr3[k] = arr1[i] \n",
    "            k = k + 1\n",
    "            i = i + 1\n",
    "        else: \n",
    "            arr3[k] = arr2[j] \n",
    "            k = k + 1\n",
    "            j = j + 1\n",
    "      \n",
    "  \n",
    "    # Store remaining elements \n",
    "    # of first array \n",
    "    while i < n1: \n",
    "        arr3[k] = arr1[i]; \n",
    "        k = k + 1\n",
    "        i = i + 1\n",
    "  \n",
    "    # Store remaining elements  \n",
    "    # of second array \n",
    "    while j < n2: \n",
    "        arr3[k] = arr2[j]; \n",
    "        k = k + 1\n",
    "        j = j + 1\n",
    "    print(\"Array after merging\") \n",
    "    for i in range(n1 + n2): \n",
    "        print(str(arr3[i]), end = \" \")"
   ]
  },
  {
   "cell_type": "code",
   "execution_count": 2,
   "metadata": {},
   "outputs": [
    {
     "name": "stdout",
     "output_type": "stream",
     "text": [
      "Array after merging\n",
      "1 2 3 4 5 6 7 8 "
     ]
    }
   ],
   "source": [
    "arr1 = [1, 3, 5, 7] \n",
    "n1 = len(arr1) \n",
    "  \n",
    "arr2 = [2, 4, 6, 8] \n",
    "n2 = len(arr2) \n",
    "mergeArrays(arr1, arr2, n1, n2); "
   ]
  },
  {
   "cell_type": "code",
   "execution_count": null,
   "metadata": {},
   "outputs": [],
   "source": []
  }
 ],
 "metadata": {
  "kernelspec": {
   "display_name": "Python 3",
   "language": "python",
   "name": "python3"
  },
  "language_info": {
   "codemirror_mode": {
    "name": "ipython",
    "version": 3
   },
   "file_extension": ".py",
   "mimetype": "text/x-python",
   "name": "python",
   "nbconvert_exporter": "python",
   "pygments_lexer": "ipython3",
   "version": "3.7.0"
  }
 },
 "nbformat": 4,
 "nbformat_minor": 2
}
