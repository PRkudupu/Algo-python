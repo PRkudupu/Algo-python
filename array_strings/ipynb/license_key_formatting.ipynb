{
 "cells": [
  {
   "cell_type": "markdown",
   "metadata": {},
   "source": [
    "You are given a license key represented as a string S which consists only alphanumeric character and dashes. The string is separated into N+1 groups by N dashes.<br><br>\n",
    "\n",
    "Given a number K, we would want to reformat the strings such that each group contains exactly K characters, except for the first group which could be shorter than K, but still must contain at least one character. Furthermore, there must be a dash inserted between two groups and all lowercase letters should be converted to uppercase.<br>\n",
    "<br><br>\n",
    "Given a non-empty string S and a number K, format the string according to the rules described above.\n",
    "<b>\n",
    "<br>Example 1:<br>\n",
    "Input: S = \"5F3Z-2e-9-w\", K = 4\n",
    "<br>\n",
    "Output: \"5F3Z-2E9W\" \n",
    "</b><br><br>\n",
    "Explanation: The string S has been split into two parts, each part has 4 characters.<br>\n",
    "Note that the two extra dashes are not needed and can be removed.<br>\n",
    "<b>\n",
    "Example 2:\n",
    "Input: S = \"2-5g-3-J\", K = 2\n",
    "<br>\n",
    "Output: \"2-5G-3J\"<br>\n",
    "</b>\n",
    "<br>\n",
    "Explanation: The string S has been split into three parts, each part has 2 characters except the first part as it could be shorter as mentioned above.\n",
    "<br>\n",
    "Note:\n",
    "<br>\n",
    "The length of string S will not exceed 12,000, and K is a positive integer.\n",
    "String S consists only of alphanumerical characters (a-z and/or A-Z and/or 0-9) and dashes(-).\n",
    "String S is non-empty."
   ]
  },
  {
   "cell_type": "code",
   "execution_count": 4,
   "metadata": {},
   "outputs": [],
   "source": [
    "#BRUTEFORCE\n",
    "def key_formatting(ls,k):\n",
    "    keys=ls.replace(\"-\",\"\")\n",
    "    tail =len(keys)-1\n",
    "    op=[]\n",
    "    while tail >=0:\n",
    "        op.append(keys[tail])\n",
    "        if tail !=0 and (tail % k) ==0:\n",
    "            op.append(\"-\")\n",
    "        tail -=1\n",
    "    return ''.join(map(str, op[::-1])).upper()"
   ]
  },
  {
   "cell_type": "code",
   "execution_count": 6,
   "metadata": {},
   "outputs": [
    {
     "name": "stdout",
     "output_type": "stream",
     "text": [
      "5F-3Z-2E-9W\n"
     ]
    }
   ],
   "source": [
    "print(key_formatting(\"5F3Z-2e-9-w\",2))"
   ]
  },
  {
   "cell_type": "code",
   "execution_count": 7,
   "metadata": {},
   "outputs": [
    {
     "name": "stdout",
     "output_type": "stream",
     "text": [
      "2-5G-3J\n"
     ]
    }
   ],
   "source": [
    "#Note the aove solution does not pass one use case\n",
    "# when input is 2-5g-3-J\n",
    "def key_formatting(ls,k):\n",
    "    keys=ls.replace(\"-\",\"\")[::-1].upper()\n",
    "    tail =len(keys)-1\n",
    "    op=[]\n",
    "    while tail >=0:\n",
    "        op.append(keys[tail])\n",
    "        if tail !=0 and (tail % k) ==0:\n",
    "            op.append(\"-\")\n",
    "        tail -=1\n",
    "    return ''.join(map(str, op))\n",
    "print(key_formatting(\"2-5g-3-J\",2))"
   ]
  },
  {
   "cell_type": "code",
   "execution_count": null,
   "metadata": {},
   "outputs": [],
   "source": []
  }
 ],
 "metadata": {
  "kernelspec": {
   "display_name": "Python 3",
   "language": "python",
   "name": "python3"
  },
  "language_info": {
   "codemirror_mode": {
    "name": "ipython",
    "version": 3
   },
   "file_extension": ".py",
   "mimetype": "text/x-python",
   "name": "python",
   "nbconvert_exporter": "python",
   "pygments_lexer": "ipython3",
   "version": "3.7.0"
  }
 },
 "nbformat": 4,
 "nbformat_minor": 2
}
