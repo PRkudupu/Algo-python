{
 "cells": [
  {
   "cell_type": "markdown",
   "metadata": {},
   "source": [
    "A sentence is a string of single-space separated words where each word consists only of lowercase letters.<br>\n",
    "\n",
    "A word is uncommon if it appears exactly once in one of the sentences, and does not appear in the other sentence.<br>\n",
    "\n",
    "Given two sentences s1 and s2, return a list of all the uncommon words. You may return the answer in any order.<br>\n",
    "\n",
    " \n",
    "\n",
    "<b>Example 1:</b><br>\n",
    "\n",
    "Input: s1 = \"this apple is sweet\", s2 = \"this apple is sour\"<br>\n",
    "Output: [\"sweet\",\"sour\"]<br>\n",
    "\n",
    "<b>Example 2:</b><br>\n",
    "Input: s1 = \"apple apple\", s2 = \"banana\"<br>\n",
    "Output: [\"banana\"]"
   ]
  },
  {
   "cell_type": "code",
   "execution_count": 18,
   "metadata": {},
   "outputs": [
    {
     "data": {
      "text/plain": [
       "['sweet', 'sour']"
      ]
     },
     "execution_count": 18,
     "metadata": {},
     "output_type": "execute_result"
    }
   ],
   "source": [
    "def un_common_words(ls1,ls2):\n",
    "    dic={}\n",
    "    uncommon_word =[]\n",
    "    for word in ls1.split():\n",
    "        dic[word]=dic.get(word,0)+1\n",
    "    for word in ls2.split():\n",
    "        dic[word]=dic.get(word,0)+1\n",
    "    for words in dic:\n",
    "        if dic[words] ==1:\n",
    "            uncommon_word.append(words)\n",
    "    return uncommon_word\n",
    "s1=\"this apple is sweet\"\n",
    "s2=\"this apple is sour\"\n",
    "un_common_words(s1,s2)"
   ]
  },
  {
   "cell_type": "code",
   "execution_count": 17,
   "metadata": {},
   "outputs": [
    {
     "data": {
      "text/plain": [
       "['sweet', 'sour']"
      ]
     },
     "execution_count": 17,
     "metadata": {},
     "output_type": "execute_result"
    }
   ],
   "source": [
    "def un_common_words(ls1,ls2):\n",
    "    dic={}\n",
    "    uncommon_word =[]\n",
    "    for word in ls1.split():\n",
    "        dic[word]=dic.get(word,0)+1\n",
    "    for word in ls2.split():\n",
    "        dic[word]=dic.get(word,0)+1\n",
    "    return [word for word in dic if dic[word] ==1]\n",
    "s1=\"this apple is sweet\"\n",
    "s2=\"this apple is sour\"\n",
    "un_common_words(s1,s2)"
   ]
  },
  {
   "cell_type": "markdown",
   "metadata": {},
   "source": [
    "<b>Complexity Analysis</b> <br>\n",
    "Time Complexity: <b>O(M + N)</b>, where M, NM,N are the lengths of A and B respectively.<br>\n",
    "\n",
    "Space Complexity: <b>O(M + N)</b>, the space used by count."
   ]
  },
  {
   "cell_type": "code",
   "execution_count": null,
   "metadata": {},
   "outputs": [],
   "source": []
  }
 ],
 "metadata": {
  "kernelspec": {
   "display_name": "Python 3",
   "language": "python",
   "name": "python3"
  },
  "language_info": {
   "codemirror_mode": {
    "name": "ipython",
    "version": 3
   },
   "file_extension": ".py",
   "mimetype": "text/x-python",
   "name": "python",
   "nbconvert_exporter": "python",
   "pygments_lexer": "ipython3",
   "version": "3.8.5"
  }
 },
 "nbformat": 4,
 "nbformat_minor": 4
}
