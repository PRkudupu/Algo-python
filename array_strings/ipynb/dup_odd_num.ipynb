{
 "cells": [
  {
   "cell_type": "markdown",
   "metadata": {},
   "source": [
    "In given array find the duplicate odd number .\n",
    "\n",
    "Note: There is only one duplicate odd number\n",
    "\n",
    "<b> Ex [1,4,6,3,1] should return 1 </b>"
   ]
  },
  {
   "cell_type": "code",
   "execution_count": 24,
   "metadata": {},
   "outputs": [
    {
     "name": "stdout",
     "output_type": "stream",
     "text": [
      "5\n"
     ]
    }
   ],
   "source": [
    "def dup_odd_num(ls):\n",
    "    dic ={}\n",
    "    for i in ls:\n",
    "        if i % 2 != 0:\n",
    "            if i in dic:\n",
    "                 return i\n",
    "            dic[i]=1\n",
    "        else:\n",
    "            continue\n",
    "    return dic\n",
    "print(dup_odd_num([1,3,6,4,5,5]))"
   ]
  },
  {
   "cell_type": "code",
   "execution_count": null,
   "metadata": {},
   "outputs": [],
   "source": [
    "def dup_odd_num(ls):\n",
    "    s=set()\n",
    "    for i in ls:\n",
    "        if i % 2 != 0:\n",
    "            print(dic)\n",
    "            if i in dic:\n",
    "                 return i\n",
    "            dic[i]=1\n",
    "        else:\n",
    "            continue\n",
    "    return dic\n",
    "\n",
    "print(dup_odd_num([1,3,6,4,5,5]))"
   ]
  }
 ],
 "metadata": {
  "kernelspec": {
   "display_name": "Python 3",
   "language": "python",
   "name": "python3"
  },
  "language_info": {
   "codemirror_mode": {
    "name": "ipython",
    "version": 3
   },
   "file_extension": ".py",
   "mimetype": "text/x-python",
   "name": "python",
   "nbconvert_exporter": "python",
   "pygments_lexer": "ipython3",
   "version": "3.7.0"
  }
 },
 "nbformat": 4,
 "nbformat_minor": 2
}
