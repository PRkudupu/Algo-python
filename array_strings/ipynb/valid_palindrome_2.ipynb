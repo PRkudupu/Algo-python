{
 "cells": [
  {
   "cell_type": "markdown",
   "metadata": {},
   "source": [
    "Given a non-empty string s, you may delete at most one character. Judge whether you can make it a palindrome.\n",
    "\n",
    "#### Example 1:\n",
    "Input: \"aba\"\n",
    "Output: True\n",
    "\n",
    "#### Example 2:\n",
    "Input: \"abca\"\n",
    "Output: True\n",
    "Explanation: You could delete the character 'c'.\n",
    "\n",
    "[1:5] is equivalent to \"from 1 to 5\" (5 not included)\n",
    "\n",
    "[1:] is equivalent to \"1 to end\"\n",
    "\n",
    "[len(a):] is equivalent to \"from length of a to end\""
   ]
  },
  {
   "cell_type": "code",
   "execution_count": 14,
   "metadata": {},
   "outputs": [
    {
     "name": "stdout",
     "output_type": "stream",
     "text": [
      "True\n"
     ]
    }
   ],
   "source": [
    "def validPalindrome(s):\n",
    "    for i in range(len(s)):\n",
    "        t = s[:i] + s[i+1:]\n",
    "        if t == t[::-1]: return True\n",
    "    return s == s[::-1]\n",
    "print(validPalindrome(\"acba\")) "
   ]
  },
  {
   "cell_type": "code",
   "execution_count": 12,
   "metadata": {},
   "outputs": [
    {
     "name": "stdout",
     "output_type": "stream",
     "text": [
      "s[:i] \n",
      "s[i+1:] cba\n",
      "t cba\n",
      "t[::-1] abc\n",
      "s[:i] a\n",
      "s[i+1:] ba\n",
      "t aba\n",
      "t[::-1] aba\n",
      "inside if\n",
      "True\n"
     ]
    }
   ],
   "source": [
    "def validPalindrome(s):\n",
    "    for i in range(len(s)):\n",
    "        print(\"s[:i]\",s[:i])\n",
    "        print(\"s[i+1:]\",s[i+1:])\n",
    "        t = s[:i] + s[i+1:]\n",
    "        print(\"t\",t)\n",
    "        print(\"t[::-1]\",t[::-1])\n",
    "        if t == t[::-1]: \n",
    "            print(\"inside if\")\n",
    "            return True\n",
    "    print(\"outside if\")\n",
    "    return s == s[::-1]\n",
    "print(validPalindrome(\"acba\"))        "
   ]
  },
  {
   "cell_type": "code",
   "execution_count": null,
   "metadata": {},
   "outputs": [],
   "source": []
  }
 ],
 "metadata": {
  "kernelspec": {
   "display_name": "Python 3",
   "language": "python",
   "name": "python3"
  },
  "language_info": {
   "codemirror_mode": {
    "name": "ipython",
    "version": 3
   },
   "file_extension": ".py",
   "mimetype": "text/x-python",
   "name": "python",
   "nbconvert_exporter": "python",
   "pygments_lexer": "ipython3",
   "version": "3.7.0"
  }
 },
 "nbformat": 4,
 "nbformat_minor": 2
}
