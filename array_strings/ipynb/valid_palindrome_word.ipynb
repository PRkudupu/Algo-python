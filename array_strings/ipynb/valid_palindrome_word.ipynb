{
 "cells": [
  {
   "cell_type": "markdown",
   "metadata": {},
   "source": [
    "#### Given a word . Return if it is a palindrome\n",
    "1) Input <b>\"bob\"</b> return <b>True</b>\n",
    "\n",
    "2) Input <b>\"boib\"</b> return <b>False</b>\n"
   ]
  },
  {
   "cell_type": "code",
   "execution_count": 2,
   "metadata": {},
   "outputs": [
    {
     "data": {
      "text/plain": [
       "True"
      ]
     },
     "execution_count": 2,
     "metadata": {},
     "output_type": "execute_result"
    }
   ],
   "source": [
    "def isPalindrome(s):\n",
    "    if s.lower()== s[::-1].lower(): \n",
    "        return True\n",
    "    else:return False\n",
    "isPalindrome(\"bob\")"
   ]
  },
  {
   "cell_type": "code",
   "execution_count": 4,
   "metadata": {},
   "outputs": [
    {
     "data": {
      "text/plain": [
       "True"
      ]
     },
     "execution_count": 4,
     "metadata": {},
     "output_type": "execute_result"
    }
   ],
   "source": [
    "def valid_palindrome(input):\n",
    "    first =0\n",
    "    last =len(input)\n",
    "    while first <=last:\n",
    "        if input[first].lower() != input[last-1].lower():\n",
    "            return False\n",
    "        first +=1\n",
    "        last -=1\n",
    "    return True\n",
    "valid_palindrome(\"boB\")\n",
    "   "
   ]
  },
  {
   "cell_type": "code",
   "execution_count": null,
   "metadata": {},
   "outputs": [],
   "source": []
  }
 ],
 "metadata": {
  "kernelspec": {
   "display_name": "Python 3",
   "language": "python",
   "name": "python3"
  },
  "language_info": {
   "codemirror_mode": {
    "name": "ipython",
    "version": 3
   },
   "file_extension": ".py",
   "mimetype": "text/x-python",
   "name": "python",
   "nbconvert_exporter": "python",
   "pygments_lexer": "ipython3",
   "version": "3.7.0"
  }
 },
 "nbformat": 4,
 "nbformat_minor": 2
}
