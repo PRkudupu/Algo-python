{
 "cells": [
  {
   "cell_type": "markdown",
   "metadata": {},
   "source": [
    "* Validate hexadecimal in range (0, 2**16):<br>\n",
    "* 1. at least one and not more than 4 hexdigits in one chunk\n",
    "* 2. only hexdigits are allowed: 0-9, a-f, A-F\n",
    "\n",
    "valid ipv6 =\"18:36:F3:98:4F:9A\""
   ]
  },
  {
   "cell_type": "code",
   "execution_count": 1,
   "metadata": {},
   "outputs": [
    {
     "name": "stdout",
     "output_type": "stream",
     "text": [
      "IPv6\n"
     ]
    }
   ],
   "source": [
    " # Validate hexadecimal in range (0, 2**16):\n",
    " # 1. at least one and not more than 4 hexdigits in one chunk\n",
    " # 2. only hexdigits are allowed: 0-9, a-f, A-F\n",
    "def validate_IPv6(IP):\n",
    "        nums = IP.strip().split(':')\n",
    "        hexdigits = '0123456789abcdefABCDEF'\n",
    "        for x in nums:\n",
    "            # Validate hexadecimal in range (0, 2**16):\n",
    "            # 1. at least one and not more than 4 hexdigits in one chunk\n",
    "            # 2. only hexdigits are allowed: 0-9, a-f, A-F\n",
    "            print\n",
    "            if len(x) == 0 or len(x) > 4 or not all(c in hexdigits for c in x):\n",
    "                return \"Neither\"\n",
    "        return \"IPv6\"\n",
    "\n",
    "    print(validate_IPv6(\"2014:db8:3333:4444:5555:6666:7777:8888\"))        "
   ]
  },
  {
   "cell_type": "code",
   "execution_count": null,
   "metadata": {},
   "outputs": [],
   "source": []
  }
 ],
 "metadata": {
  "kernelspec": {
   "display_name": "Python 3",
   "language": "python",
   "name": "python3"
  },
  "language_info": {
   "codemirror_mode": {
    "name": "ipython",
    "version": 3
   },
   "file_extension": ".py",
   "mimetype": "text/x-python",
   "name": "python",
   "nbconvert_exporter": "python",
   "pygments_lexer": "ipython3",
   "version": "3.7.0"
  }
 },
 "nbformat": 4,
 "nbformat_minor": 2
}
