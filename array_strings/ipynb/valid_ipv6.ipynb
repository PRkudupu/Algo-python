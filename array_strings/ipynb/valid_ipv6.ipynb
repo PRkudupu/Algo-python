{
 "cells": [
  {
   "cell_type": "markdown",
   "metadata": {},
   "source": [
    "* Validate hexadecimal in range (0, 2**16):<br>\n",
    "* 1. at least one and not more than 4 hexdigits in one chunk\n",
    "* 2. only hexdigits are allowed: 0-9, a-f, A-F\n",
    "\n",
    "valid ipv6 =\"18:36:F3:98:4F:9A\""
   ]
  },
  {
   "cell_type": "code",
   "execution_count": 1,
   "metadata": {},
   "outputs": [
    {
     "name": "stdout",
     "output_type": "stream",
     "text": [
      "False\n"
     ]
    }
   ],
   "source": [
    " # Validate hexadecimal in range (0, 2**16):\n",
    " # 1. at least one and not more than 4 hexdigits in one chunk\n",
    " # 2. only hexdigits are allowed: 0-9, a-f, A-F\n",
    "def valid_ipv4(ls):\n",
    "    items=ls.split(\":\")\n",
    "    if len(items) == 0 or len(items) >6:\n",
    "        return False\n",
    "    valid=\"0123456789abcdefABCDEF\"\n",
    "    for item in items:\n",
    "        if len(item) == 0 or len(item) > 4 or not all(ch in valid for ch in item):\n",
    "            return False\n",
    "    return True\n",
    "print(valid_ipv4(\"18:36:F3:98:4F:9A\"))   "
   ]
  },
  {
   "cell_type": "code",
   "execution_count": null,
   "metadata": {},
   "outputs": [],
   "source": []
  }
 ],
 "metadata": {
  "kernelspec": {
   "display_name": "Python 3",
   "language": "python",
   "name": "python3"
  },
  "language_info": {
   "codemirror_mode": {
    "name": "ipython",
    "version": 3
   },
   "file_extension": ".py",
   "mimetype": "text/x-python",
   "name": "python",
   "nbconvert_exporter": "python",
   "pygments_lexer": "ipython3",
   "version": "3.7.0"
  }
 },
 "nbformat": 4,
 "nbformat_minor": 2
}
