{
 "cells": [
  {
   "cell_type": "markdown",
   "metadata": {},
   "source": [
    "### Multiply Strings\n",
    "![alt text](image/multiply_strings.JPG)"
   ]
  },
  {
   "cell_type": "code",
   "execution_count": 10,
   "metadata": {},
   "outputs": [
    {
     "name": "stdout",
     "output_type": "stream",
     "text": [
      "100\n"
     ]
    }
   ],
   "source": [
    "# BRUTEFORCE METHOD. note this method would work for small numbers\n",
    "\"\"\"The length of both num1 and num2 is < 110.\n",
    "Both num1 and num2 contain only digits 0-9.\n",
    "Both num1 and num2 do not contain any leading zero, except the number 0 itself.\n",
    "You must not use any built-in BigInteger library or convert the inputs to integer directly.\"\"\"\n",
    "def mul(num1,num2):\n",
    "    result=0\n",
    "    if len(num1) >110 or len(num2) > 110:\n",
    "        return \"less than 110\"\n",
    "    elif not num1.isdigit() or not num2.isdigit():\n",
    "        return \"not a digit.\"\n",
    "    for i in range(0,int(num2)):\n",
    "        result += int(num1)\n",
    "    return result\n",
    "print(mul('20','5'))\n",
    "        "
   ]
  },
  {
   "cell_type": "markdown",
   "metadata": {},
   "source": [
    "#### SOLUTION\n",
    "![alt text](image/mul.JPG)"
   ]
  },
  {
   "cell_type": "code",
   "execution_count": 23,
   "metadata": {},
   "outputs": [
    {
     "name": "stdout",
     "output_type": "stream",
     "text": [
      "437\n"
     ]
    }
   ],
   "source": [
    "#WITH COMMENTS\n",
    "def multiply(num1, num2):\n",
    "    ls = [0] * (len(num1) + len(num2))  #placeholder for multiplication ndigit by mdigit result in n+m digits\n",
    "    n = len(ls)-1 # position within the placeholder\n",
    "    for n1 in num1[::-1]:\n",
    "        tempPos = n \n",
    "        for n2 in num2[::-1]: \n",
    "            ls[tempPos] += int(n1) * int(n2) # ading the results of single multiplication\n",
    "            ls[tempPos-1] += ls[tempPos]//10   # bring out carry number to the left array\n",
    "            ls[tempPos] %= 10 # remove the carry out from the current array\n",
    "            tempPos -= 1  # first shifting the multplication to the end of the first integer\n",
    "        n -= 1   # then once first integer is exhausted shifting the second integer and starting \n",
    "        # once the second integer is exhausted we want to make sure we are not zero padding\n",
    "        pointer = 0 # pointer moves through the digit array and locate where the zero padding finishes\n",
    "        while pointer < len(ls)-1 and ls[pointer] == 0: \n",
    "            pointer += 1  # if we have zero before the numbers shift the pointer to the right\n",
    "    return ''.join(map(str, ls[pointer:])) # only report the digits to the right side of the pointer\n",
    "print(multiply('19','23'))"
   ]
  },
  {
   "cell_type": "code",
   "execution_count": 25,
   "metadata": {},
   "outputs": [
    {
     "name": "stdout",
     "output_type": "stream",
     "text": [
      "437\n"
     ]
    }
   ],
   "source": [
    "#WITHOUT COMMENTS\n",
    "def multiply(num1, num2):\n",
    "    ls = [0] * (len(num1) + len(num2)) \n",
    "    n = len(ls)-1 \n",
    "    for n1 in num1[::-1]:\n",
    "        k=n\n",
    "        for n2 in num2[::-1]: \n",
    "            ls[k] += int(n1) * int(n2) # multiply\n",
    "            ls[k-1] += ls[k]//10  #carry to the left\n",
    "            ls[k] %= 10  #remove carry out\n",
    "            k -= 1 # shift to the end\n",
    "        n -= 1 \n",
    "        pointer = 0 \n",
    "        while pointer < len(ls)-1 and ls[pointer] == 0: \n",
    "            pointer += 1\n",
    "    return ''.join(map(str, ls[pointer:]))   \n",
    "print(multiply('19','23'))"
   ]
  },
  {
   "cell_type": "code",
   "execution_count": 8,
   "metadata": {},
   "outputs": [
    {
     "name": "stdout",
     "output_type": "stream",
     "text": [
      "\n",
      "n1 * n2: 2 * 9 = 18\n",
      "b4 ls[tempPos] : 0\n",
      "after ls[tempPos] += int(n1) * int(n2)  : 18\n",
      "ls[tempPos]//10 : 1\n",
      "ls[tempPos-1],ls[tempPos] : 1 18\n",
      "after  %= 10 ls[tempPos] ls[tempPos] %= 10 : 1 8\n",
      "ls [0, 0, 1, 8]\n",
      "\n",
      "n1 * n2: 2 * 7 = 14\n",
      "b4 ls[tempPos] : 1\n",
      "after ls[tempPos] += int(n1) * int(n2)  : 15\n",
      "ls[tempPos]//10 : 1\n",
      "ls[tempPos-1],ls[tempPos] : 1 15\n",
      "after  %= 10 ls[tempPos] ls[tempPos] %= 10 : 1 5\n",
      "ls [0, 1, 5, 8]\n",
      "\n",
      "ls[pointer],ls : 1 [0, 1, 5, 8]\n",
      "\n",
      "n1 * n2: 1 * 9 = 9\n",
      "b4 ls[tempPos] : 5\n",
      "after ls[tempPos] += int(n1) * int(n2)  : 14\n",
      "ls[tempPos]//10 : 1\n",
      "ls[tempPos-1],ls[tempPos] : 2 14\n",
      "after  %= 10 ls[tempPos] ls[tempPos] %= 10 : 2 4\n",
      "ls [0, 2, 4, 8]\n",
      "\n",
      "n1 * n2: 1 * 7 = 7\n",
      "b4 ls[tempPos] : 2\n",
      "after ls[tempPos] += int(n1) * int(n2)  : 9\n",
      "ls[tempPos]//10 : 0\n",
      "ls[tempPos-1],ls[tempPos] : 0 9\n",
      "after  %= 10 ls[tempPos] ls[tempPos] %= 10 : 0 9\n",
      "ls [0, 9, 4, 8]\n",
      "\n",
      "ls[pointer],ls : 9 [0, 9, 4, 8]\n",
      "[9, 4, 8]\n",
      "948\n"
     ]
    }
   ],
   "source": [
    "#WITH COMMENTS AND PRINT\n",
    "def multiply(num1, num2):\n",
    "    ls = [0] * (len(num1) + len(num2)) \n",
    "    n = len(ls)-1 \n",
    "    for n1 in num1[::-1]:\n",
    "        tempPos = n \n",
    "        for n2 in num2[::-1]: \n",
    "            print('\\nn1 * n2:',n1,\"*\",n2,\"=\",int(n1) * int(n2))\n",
    "            print('b4 ls[tempPos] :',ls[tempPos])\n",
    "            ls[tempPos] += int(n1) * int(n2) # multiply\n",
    "            print('after ls[tempPos] += int(n1) * int(n2)  :',ls[tempPos])\n",
    "            ls[tempPos-1] += ls[tempPos]//10  #carry to the left\n",
    "            print(\"ls[tempPos]//10 :\",ls[tempPos]//10)\n",
    "            print(\"ls[tempPos-1],ls[tempPos] :\",ls[tempPos-1],ls[tempPos])\n",
    "            ls[tempPos] %= 10  #remove carry out\n",
    "            print(\"after  %= 10 ls[tempPos] ls[tempPos] %= 10 :\",ls[tempPos-1],ls[tempPos])\n",
    "            tempPos -= 1 # shift to the end\n",
    "            print(\"ls\",ls)\n",
    "        n -= 1 \n",
    "        pointer = 0 \n",
    "        while pointer < len(ls)-1 and ls[pointer] == 0: \n",
    "            pointer += 1\n",
    "            print('\\nls[pointer],ls :',ls[pointer],ls)\n",
    "    print(ls[pointer:]) \n",
    "    return ''.join(map(str, ls[pointer:]))   \n",
    "print(multiply('12','79'))"
   ]
  },
  {
   "cell_type": "code",
   "execution_count": null,
   "metadata": {},
   "outputs": [],
   "source": []
  }
 ],
 "metadata": {
  "kernelspec": {
   "display_name": "Python 3",
   "language": "python",
   "name": "python3"
  },
  "language_info": {
   "codemirror_mode": {
    "name": "ipython",
    "version": 3
   },
   "file_extension": ".py",
   "mimetype": "text/x-python",
   "name": "python",
   "nbconvert_exporter": "python",
   "pygments_lexer": "ipython3",
   "version": "3.7.0"
  }
 },
 "nbformat": 4,
 "nbformat_minor": 2
}
