{
 "cells": [
  {
   "cell_type": "markdown",
   "metadata": {},
   "source": [
    "### Multiply Strings\n",
    "![alt text](image/multiply_strings.JPG)"
   ]
  },
  {
   "cell_type": "code",
   "execution_count": 1,
   "metadata": {},
   "outputs": [
    {
     "name": "stdout",
     "output_type": "stream",
     "text": [
      "100\n"
     ]
    }
   ],
   "source": [
    "# mutliply strings\n",
    "\"\"\"The length of both num1 and num2 is < 110.\n",
    "Both num1 and num2 contain only digits 0-9.\n",
    "Both num1 and num2 do not contain any leading zero, except the number 0 itself.\n",
    "You must not use any built-in BigInteger library or convert the inputs to integer directly.\"\"\"\n",
    "def mul(num1,num2):\n",
    "    result=0\n",
    "    if len(num1) >110 or len(num2) > 110:\n",
    "        return \"less than 110\"\n",
    "    elif not num1.isdigit() or not num2.isdigit():\n",
    "        return \"not a digit.\"\n",
    "    for i in range(0,int(num2)):\n",
    "        result += int(num1)\n",
    "    return result\n",
    "print(mul('20','5'))\n",
    "        "
   ]
  },
  {
   "cell_type": "code",
   "execution_count": null,
   "metadata": {},
   "outputs": [],
   "source": []
  }
 ],
 "metadata": {
  "kernelspec": {
   "display_name": "Python 3",
   "language": "python",
   "name": "python3"
  },
  "language_info": {
   "codemirror_mode": {
    "name": "ipython",
    "version": 3
   },
   "file_extension": ".py",
   "mimetype": "text/x-python",
   "name": "python",
   "nbconvert_exporter": "python",
   "pygments_lexer": "ipython3",
   "version": "3.7.0"
  }
 },
 "nbformat": 4,
 "nbformat_minor": 2
}
