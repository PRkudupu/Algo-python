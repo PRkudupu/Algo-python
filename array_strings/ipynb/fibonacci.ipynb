{
 "cells": [
  {
   "cell_type": "markdown",
   "metadata": {},
   "source": [
    "Return fibonacci element of the series ex: 1,1,2,3\n",
    "\n",
    "<b> Input  </b> : 4\n",
    "\n",
    "<b> Output </b> : 3"
   ]
  },
  {
   "cell_type": "code",
   "execution_count": 30,
   "metadata": {},
   "outputs": [],
   "source": [
    "\"\"\"\n",
    "function which would run the test cases and provide us the time taken to run the program\n",
    "\"\"\"\n",
    "def execute():\n",
    "    import time\n",
    "    start_time = time.time()\n",
    "    print('fib(4)',fib(4))\n",
    "    print(\"--- %s seconds ---\" % (time.time() - start_time))\n",
    "    start_time = time.time()\n",
    "    print('fib(20)',fib(20))\n",
    "    print(\"--- %s seconds ---\" % (time.time() - start_time))\n",
    "    start_time = time.time()\n",
    "    print('fib(35)',fib(35))\n",
    "    print(\"--- %s seconds ---\" % (time.time() - start_time))"
   ]
  },
  {
   "cell_type": "markdown",
   "metadata": {},
   "source": [
    "#### Iterative approach"
   ]
  },
  {
   "cell_type": "code",
   "execution_count": 31,
   "metadata": {},
   "outputs": [],
   "source": [
    "def fib(n):\n",
    "    a,b=1,1\n",
    "    for i in range(n-1):\n",
    "        a,b=b,b+a\n",
    "    return a\n"
   ]
  },
  {
   "cell_type": "code",
   "execution_count": 32,
   "metadata": {},
   "outputs": [
    {
     "name": "stdout",
     "output_type": "stream",
     "text": [
      "fib(4) 3\n",
      "--- 0.0 seconds ---\n",
      "fib(20) 6765\n",
      "--- 0.0 seconds ---\n",
      "fib(35) 9227465\n",
      "--- 0.000997781753540039 seconds ---\n",
      "None\n"
     ]
    }
   ],
   "source": [
    "print(execute())"
   ]
  },
  {
   "cell_type": "markdown",
   "metadata": {},
   "source": [
    "#### Recursive approach"
   ]
  },
  {
   "cell_type": "code",
   "execution_count": 33,
   "metadata": {},
   "outputs": [],
   "source": [
    "# solution using recursion\n",
    "# Note recursive function is slow\n",
    "def fib(n):\n",
    "    if n == 1 or n == 2: return 1\n",
    "    return fib(n-1)+fib(n-2)"
   ]
  },
  {
   "cell_type": "code",
   "execution_count": 34,
   "metadata": {},
   "outputs": [
    {
     "name": "stdout",
     "output_type": "stream",
     "text": [
      "fib(4) 3\n",
      "--- 0.0 seconds ---\n",
      "fib(20) 6765\n",
      "--- 0.0029904842376708984 seconds ---\n",
      "fib(35) 9227465\n",
      "--- 2.7217564582824707 seconds ---\n",
      "None\n"
     ]
    }
   ],
   "source": [
    "print(execute())"
   ]
  },
  {
   "cell_type": "markdown",
   "metadata": {},
   "source": [
    "#### Dynamic programming"
   ]
  },
  {
   "cell_type": "code",
   "execution_count": 46,
   "metadata": {},
   "outputs": [],
   "source": [
    "def fib(n,memo):\n",
    "    if memo[n] is not None:\n",
    "        return memo[n]\n",
    "    if n == 1 or n == 2:\n",
    "        result = 1\n",
    "    else:\n",
    "        result =fib(n-1,memo)+fib(n-2,memo)\n",
    "    memo[n] = result\n",
    "    return result\n",
    "\n",
    "def fib_memo(n):\n",
    "    memo=[None] *(n+1)\n",
    "    return fib(n,memo)\n",
    "    "
   ]
  },
  {
   "cell_type": "code",
   "execution_count": 49,
   "metadata": {},
   "outputs": [],
   "source": [
    "\"\"\"\n",
    "function which would run the test cases and provide us the time taken to run the program\n",
    "\"\"\"\n",
    "def execute_memo():\n",
    "    import time\n",
    "    start_time = time.time()\n",
    "    print('fib_memo(4)',fib_memo(4))\n",
    "    print(\"--- %s seconds ---\" % (time.time() - start_time))\n",
    "    start_time = time.time()\n",
    "    print('fib_memo(20)',fib_memo(20))\n",
    "    print(\"--- %s seconds ---\" % (time.time() - start_time))\n",
    "    start_time = time.time()\n",
    "    print('fib_memo(35)',fib_memo(35))\n",
    "    print(\"--- %s seconds ---\" % (time.time() - start_time))"
   ]
  },
  {
   "cell_type": "code",
   "execution_count": 48,
   "metadata": {},
   "outputs": [
    {
     "name": "stdout",
     "output_type": "stream",
     "text": [
      "fib_memo(4) 3\n",
      "--- 0.0 seconds ---\n",
      "fib_memo(20) 6765\n",
      "--- 0.0 seconds ---\n",
      "fib_memo(35) 9227465\n",
      "--- 0.0 seconds ---\n"
     ]
    }
   ],
   "source": [
    "execute_memo()"
   ]
  },
  {
   "cell_type": "markdown",
   "metadata": {},
   "source": [
    "#### Bottom up"
   ]
  },
  {
   "cell_type": "code",
   "execution_count": 50,
   "metadata": {},
   "outputs": [],
   "source": [
    "def fib_bottom_up(n):\n",
    "    if n==1 or n==2:\n",
    "        return 1\n",
    "    bottom_up=[None]* (n+1)\n",
    "    bottom_up[1]=1\n",
    "    bottom_up[2]=1\n",
    "    for i in range(3,n+1):\n",
    "        bottom_up[i]=bottom_up[i-1]+bottom_up[i-2]\n",
    "    return bottom_up[n]"
   ]
  },
  {
   "cell_type": "code",
   "execution_count": 51,
   "metadata": {},
   "outputs": [
    {
     "data": {
      "text/plain": [
       "9227465"
      ]
     },
     "execution_count": 51,
     "metadata": {},
     "output_type": "execute_result"
    }
   ],
   "source": [
    "\"\"\"\n",
    "function which would run the test cases and provide us the time taken to run the program\n",
    "\"\"\"\n",
    "def execute_bottom_up():\n",
    "    import time\n",
    "    start_time = time.time()\n",
    "    print('fib_memo(4)',fib_memo(4))\n",
    "    print(\"--- %s seconds ---\" % (time.time() - start_time))\n",
    "    start_time = time.time()\n",
    "    print('fib_memo(20)',fib_memo(20))\n",
    "    print(\"--- %s seconds ---\" % (time.time() - start_time))\n",
    "    start_time = time.time()\n",
    "    print('fib_memo(35)',fib_memo(35))\n",
    "    print(\"--- %s seconds ---\" % (time.time() - start_time))"
   ]
  },
  {
   "cell_type": "code",
   "execution_count": null,
   "metadata": {},
   "outputs": [],
   "source": []
  }
 ],
 "metadata": {
  "kernelspec": {
   "display_name": "Python 3",
   "language": "python",
   "name": "python3"
  },
  "language_info": {
   "codemirror_mode": {
    "name": "ipython",
    "version": 3
   },
   "file_extension": ".py",
   "mimetype": "text/x-python",
   "name": "python",
   "nbconvert_exporter": "python",
   "pygments_lexer": "ipython3",
   "version": "3.7.0"
  }
 },
 "nbformat": 4,
 "nbformat_minor": 2
}
