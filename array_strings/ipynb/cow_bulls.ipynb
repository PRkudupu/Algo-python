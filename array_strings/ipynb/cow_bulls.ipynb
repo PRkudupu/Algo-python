{
 "cells": [
  {
   "cell_type": "markdown",
   "metadata": {},
   "source": [
    " You are playing the following Bulls and Cows game with your friend: You write down a number and ask your friend to guess what the number is. Each time your friend makes a guess, you provide a hint that indicates how many digits in said guess match your secret number exactly in both digit and position (called \"bulls\") and how many digits match the secret number but locate in the wrong position (called \"cows\"). Your friend will use successive guesses and hints to eventually derive the secret number.\n",
    "\n",
    "Write a function to return a hint according to the secret number and friend's guess, use A to indicate the bulls and B to indicate the cows. \n",
    "\n",
    "Please note that both secret number and friend's guess may contain duplicate digits.\n",
    "\n",
    "<code>Example 1:\n",
    "\n",
    "<b>Input: secret = \"1807\", guess = \"7810\"</b>\n",
    "\n",
    "Output: \"1A3B\"\n",
    "</code>\n",
    "\n",
    "Explanation: 1 bull and 3 cows. The bull is 8, the cows are 0, 1 and 7.\n",
    "Example 2:\n",
    "\n",
    "<code>\n",
    "<b>Input: secret = \"1123\", guess = \"0111\"</b>\n",
    "\n",
    "Output: \"1A1B\"\n",
    "</code>\n",
    "Explanation: The 1st 1 in friend's guess is a bull, the 2nd or 3rd 1 is a cow.\n",
    "Note: You may assume that the secret number and your friend's guess only contain digits, and their lengths are always                "
   ]
  },
  {
   "cell_type": "code",
   "execution_count": 4,
   "metadata": {},
   "outputs": [
    {
     "name": "stdout",
     "output_type": "stream",
     "text": [
      "1A2B\n"
     ]
    }
   ],
   "source": [
    "# Note this solution is brute force method. \n",
    "def bull_cow(sec,act):\n",
    "    cow,bull,i =0,0,0\n",
    "    n=len(sec)\n",
    "    for i in range(n):\n",
    "        if sec[i]==act[i]:\n",
    "            bull+=1\n",
    "        elif sec.count(act[i])>=1:\n",
    "            cow+=1\n",
    "    return str(bull)+'A'+str(cow)+'B'\n",
    "print(bull_cow('1123','0111'))"
   ]
  },
  {
   "cell_type": "code",
   "execution_count": 5,
   "metadata": {},
   "outputs": [
    {
     "name": "stdout",
     "output_type": "stream",
     "text": [
      "1A1B\n"
     ]
    }
   ],
   "source": [
    "# Note this solution is brute force however it also does not solve all test cases.\n",
    "def bull_cow(sec,act):\n",
    "    cow,bull,i =0,0,0\n",
    "    n=len(sec)\n",
    "    s=set()\n",
    "    for i in range(n):\n",
    "        if sec[i]==act[i]:\n",
    "            bull+=1\n",
    "        elif sec.count(act[i])>=1:\n",
    "            if act[i] not in s:\n",
    "                s.add(act[i])\n",
    "                cow+=1\n",
    "    return str(bull)+'A'+str(cow)+'B'\n",
    "print(bull_cow('1123','0111'))\n"
   ]
  },
  {
   "cell_type": "code",
   "execution_count": 6,
   "metadata": {},
   "outputs": [
    {
     "name": "stdout",
     "output_type": "stream",
     "text": [
      "1A1B\n"
     ]
    }
   ],
   "source": [
    "from collections import Counter\n",
    "def bull_cow(sec,act):\n",
    "    s, g = Counter(sec), Counter(act)\n",
    "    a = sum(i == j for i, j in zip(sec, act))\n",
    "    return '%sA%sB' % (a, sum((s & g).values()) - a)\n",
    "print(bull_cow('1123','0111'))"
   ]
  },
  {
   "cell_type": "code",
   "execution_count": null,
   "metadata": {},
   "outputs": [],
   "source": []
  }
 ],
 "metadata": {
  "kernelspec": {
   "display_name": "Python 3",
   "language": "python",
   "name": "python3"
  },
  "language_info": {
   "codemirror_mode": {
    "name": "ipython",
    "version": 3
   },
   "file_extension": ".py",
   "mimetype": "text/x-python",
   "name": "python",
   "nbconvert_exporter": "python",
   "pygments_lexer": "ipython3",
   "version": "3.7.0"
  }
 },
 "nbformat": 4,
 "nbformat_minor": 2
}
