{
 "cells": [
  {
   "cell_type": "markdown",
   "metadata": {},
   "source": [
    "### Given 2 lists,  return unique elements from both the list\n",
    "<b>Input</b>\n",
    "s1=[1,2,3]\n",
    "\n",
    "s2=[3,4,5]\n",
    "\n",
    "<b>output </b>\n",
    "[1,2,4,5]"
   ]
  },
  {
   "cell_type": "code",
   "execution_count": 5,
   "metadata": {},
   "outputs": [
    {
     "name": "stdout",
     "output_type": "stream",
     "text": [
      "[1, 2, 4, 5]\n"
     ]
    }
   ],
   "source": [
    "def unique_list(s1,s2):\n",
    "    new_list = []\n",
    "    for i in s1:\n",
    "        if i not in s2:\n",
    "            new_list.append(i)\n",
    "    for j in s2:\n",
    "        if j not in s1:\n",
    "            new_list.append(j)\n",
    "    return new_list\n",
    "\n",
    "print(no_repeat_list([1,2,3],[3,4,5]))\n",
    "            "
   ]
  },
  {
   "cell_type": "code",
   "execution_count": 1,
   "metadata": {},
   "outputs": [
    {
     "name": "stdout",
     "output_type": "stream",
     "text": [
      "[1, 2, 3, 4, 5]\n"
     ]
    }
   ],
   "source": [
    "def unique_list(ls1,ls2):\n",
    "    s = set()\n",
    "    for x in ls1:\n",
    "        s.add(x)\n",
    "    for y in ls2:\n",
    "        s.add(y)\n",
    "    return list(s)\n",
    "\n",
    "print(unique_list([1,2,3],[3,4,5]))"
   ]
  },
  {
   "cell_type": "code",
   "execution_count": null,
   "metadata": {},
   "outputs": [],
   "source": []
  }
 ],
 "metadata": {
  "kernelspec": {
   "display_name": "Python 3",
   "language": "python",
   "name": "python3"
  },
  "language_info": {
   "codemirror_mode": {
    "name": "ipython",
    "version": 3
   },
   "file_extension": ".py",
   "mimetype": "text/x-python",
   "name": "python",
   "nbconvert_exporter": "python",
   "pygments_lexer": "ipython3",
   "version": "3.7.0"
  }
 },
 "nbformat": 4,
 "nbformat_minor": 2
}
