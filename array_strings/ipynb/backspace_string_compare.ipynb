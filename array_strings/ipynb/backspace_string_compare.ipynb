{
 "cells": [
  {
   "cell_type": "markdown",
   "metadata": {},
   "source": [
    "Given two strings S and T, return if they are equal when both are typed into empty text editors. # means a backspace character.\n",
    "\n",
    "Note that after backspacing an empty text, the text will continue empty.\n",
    "\n",
    "<b>Example 1:</b>\n",
    "\n",
    "Input: S = \"ab#c\", T = \"ad#c\"<br>\n",
    "Output: true<br>\n",
    "Explanation: Both S and T become \"ac\".<br>\n",
    "<b>Example 2:<br></b>\n",
    "\n",
    "Input: S = \"ab##\", T = \"c#d#\"<br>\n",
    "Output: true<br>\n",
    "Explanation: Both S and T become \"\".<br>\n",
    "<b>Example 3:<br></b>\n",
    "\n",
    "Input: S = \"a##c\", T = \"#a#c\"<br>\n",
    "Output: true<br>\n",
    "Explanation: Both S and T become \"c\".<br>\n",
    "<b>Example 4:<br></b>\n",
    "\n",
    "Input: S = \"a#c\", T = \"b\"<br>\n",
    "Output: false<br>\n",
    "Explanation: S becomes \"c\" while T becomes \"b\".<br>\n",
    "Note:\n",
    "\n",
    "1 <= S.length <= 200<br>\n",
    "1 <= T.length <= 200<br>\n",
    "S and T only contain lowercase letters and '#' characters.<br>\n",
    "Follow up:\n",
    "\n",
    "Can you solve it in O(N) time and O(1) space?"
   ]
  },
  {
   "cell_type": "markdown",
   "metadata": {},
   "source": [
    "### Solution \n",
    "* For this solution stack is a good data structure.<br>\n",
    "* We need to simulate the result of every key stroke\n",
    "* If the character is not a # push to the stack else if stack is not empty pop from the stack\n"
   ]
  },
  {
   "cell_type": "code",
   "execution_count": 26,
   "metadata": {},
   "outputs": [
    {
     "name": "stdout",
     "output_type": "stream",
     "text": [
      "True\n",
      "True\n",
      "True\n",
      "False\n"
     ]
    }
   ],
   "source": [
    "def backspace_compare(s,t):\n",
    "    def build(s):\n",
    "        stack=[]\n",
    "        for ch in s:\n",
    "            if ch!='#':\n",
    "                stack.append(ch)\n",
    "            elif stack !=[]:\n",
    "                stack.pop()\n",
    "        return \"\".join(stack)\n",
    "    return build(s)==build(t)  \n",
    "print(backspace_compare(\"ab#c\",\"ad#c\"))   \n",
    "print(backspace_compare(\"ab##\",\"c#d#\"))       \n",
    "print(backspace_compare(\"a##c\",\"#a#c\"))       \n",
    "print(backspace_compare(\"a#c\",\"b\"))       "
   ]
  },
  {
   "cell_type": "markdown",
   "metadata": {},
   "source": [
    "### Complexity\n",
    "#### Time complexity : O(M+N) , where m,n are the lengths of s and t\n",
    "#### Space complexity : O(M+N) \n",
    "![](image/backspace_complexity.jpg)"
   ]
  },
  {
   "cell_type": "code",
   "execution_count": 27,
   "metadata": {},
   "outputs": [
    {
     "name": "stdout",
     "output_type": "stream",
     "text": [
      "\n",
      "charac a\n",
      "stack ['a']\n",
      "\n",
      "charac b\n",
      "stack ['a', 'b']\n",
      "\n",
      "charac #\n",
      "stack ['a']\n",
      "\n",
      "charac c\n",
      "stack ['a', 'c']\n",
      "\n",
      "charac a\n",
      "stack ['a']\n",
      "\n",
      "charac d\n",
      "stack ['a', 'd']\n",
      "\n",
      "charac #\n",
      "stack ['a']\n",
      "\n",
      "charac c\n",
      "stack ['a', 'c']\n",
      "True\n"
     ]
    }
   ],
   "source": [
    "def backspace_compare(s,t):\n",
    "    def build(s):\n",
    "        stack=[]\n",
    "        for ch in s:\n",
    "            print(\"\\ncharac\",ch)\n",
    "            if ch!='#':\n",
    "                stack.append(ch)\n",
    "            elif stack !=[]:\n",
    "                stack.pop()\n",
    "            print(\"stack\",stack)\n",
    "        return \"\".join(stack)\n",
    "    return build(s)==build(t)  \n",
    "print(backspace_compare(\"ab#c\",\"ad#c\"))     "
   ]
  },
  {
   "cell_type": "code",
   "execution_count": null,
   "metadata": {},
   "outputs": [],
   "source": []
  }
 ],
 "metadata": {
  "kernelspec": {
   "display_name": "Python 3",
   "language": "python",
   "name": "python3"
  },
  "language_info": {
   "codemirror_mode": {
    "name": "ipython",
    "version": 3
   },
   "file_extension": ".py",
   "mimetype": "text/x-python",
   "name": "python",
   "nbconvert_exporter": "python",
   "pygments_lexer": "ipython3",
   "version": "3.7.0"
  }
 },
 "nbformat": 4,
 "nbformat_minor": 2
}
