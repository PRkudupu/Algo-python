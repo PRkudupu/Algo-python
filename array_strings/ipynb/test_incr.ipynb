{
 "cells": [
  {
   "cell_type": "code",
   "execution_count": 1,
   "metadata": {},
   "outputs": [
    {
     "name": "stdout",
     "output_type": "stream",
     "text": [
      "3\n"
     ]
    }
   ],
   "source": [
    "def test_incr():\n",
    "    s ='x'\n",
    "    i=0\n",
    "    while len(s) < 7:\n",
    "        s +=s\n",
    "        i+=1\n",
    "    return i\n",
    "print(test_incr())"
   ]
  },
  {
   "cell_type": "code",
   "execution_count": 2,
   "metadata": {},
   "outputs": [
    {
     "name": "stdout",
     "output_type": "stream",
     "text": [
      "s x\n",
      "i 0\n",
      "after s xx\n",
      "after i 1\n",
      "s xx\n",
      "i 1\n",
      "after s xxxx\n",
      "after i 2\n",
      "s xxxx\n",
      "i 2\n",
      "after s xxxxxxxx\n",
      "after i 3\n",
      "3\n"
     ]
    }
   ],
   "source": [
    "def test_incr():\n",
    "    s ='x'\n",
    "    i=0\n",
    "    while len(s) < 7:\n",
    "        print('s',s)\n",
    "        print('i',i)\n",
    "        s +=s\n",
    "        i+=1\n",
    "        print('after s',s)\n",
    "        print('after i',i)\n",
    "    return i\n",
    "print(test_incr())"
   ]
  },
  {
   "cell_type": "code",
   "execution_count": null,
   "metadata": {},
   "outputs": [],
   "source": []
  }
 ],
 "metadata": {
  "kernelspec": {
   "display_name": "Python 3",
   "language": "python",
   "name": "python3"
  },
  "language_info": {
   "codemirror_mode": {
    "name": "ipython",
    "version": 3
   },
   "file_extension": ".py",
   "mimetype": "text/x-python",
   "name": "python",
   "nbconvert_exporter": "python",
   "pygments_lexer": "ipython3",
   "version": "3.7.0"
  }
 },
 "nbformat": 4,
 "nbformat_minor": 2
}
