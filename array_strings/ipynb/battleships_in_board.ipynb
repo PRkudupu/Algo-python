{
 "cells": [
  {
   "cell_type": "markdown",
   "metadata": {},
   "source": [
    "Given an 2D board, count how many battleships are in it. The battleships are represented with 'X's, empty slots are represented with '.'s. You may assume the following rules:\n",
    "You receive a valid board, made of only battleships or empty slots.\n",
    "Battleships can only be placed horizontally or vertically. In other words, they can only be made of the shape 1xN (1 row, N columns) or Nx1 (N rows, 1 column), where N can be of any size.\n",
    "At least one horizontal or vertical cell separates between two battleships - there are no adjacent battleships.\n",
    "Example:<br>\n",
    "<b>X..X<br>\n",
    "...X<br>\n",
    "...X<br></b>\n",
    "\n",
    "In the above board there are 2 battleships.<br>\n",
    "Invalid Example:<br>\n",
    "<b>...X<br>\n",
    "XXXX<br>\n",
    "...X<br></b>\n",
    "This is an invalid board that you will not receive - as battleships will always have a cell separating between them.\n",
    "Follow up:<br>\n",
    "Could you do it in one-pass, using only O(1) extra memory and without modifying the value of the board?"
   ]
  },
  {
   "cell_type": "code",
   "execution_count": null,
   "metadata": {},
   "outputs": [],
   "source": [
    "def count_battle_ship(board):\n",
    "    num_battle_ship=0\n",
    "    for r in range(len(board)):\n",
    "        for c in range(len(board[r])):\n",
    "            if board[r][c] !=\"X\":continue\n",
    "            if r >0 and board[r-1][c] =='X':continue\n",
    "            if c >0 and board[r][c-1] =='X':continue\n",
    "            num_battle_ship+=1\n",
    "    return num_battle_ship\n",
    "matrix_valid_1=[[\"X\",\".\",\".\",\"X\"],[\".\",\".\",\".\",\"X\"],[\".\",\".\",\".\",\"X\"]]\n",
    "matrix_valid_2=[[\".\",\".\"],[\"X\",\"X\"]]\n",
    "matrix_invalid=[[\".\",\".\",\".\",\"X\"],[\"X\",\"X\",\"X\",\"X\"],[\".\",\".\",\".\",\"X\"]]\n",
    "print(count_battle_ship(matrix_valid_1))\n",
    "print(count_battle_ship(matrix_valid_2))\n",
    "print(count_battle_ship(matrix_invalid))   "
   ]
  },
  {
   "cell_type": "code",
   "execution_count": null,
   "metadata": {},
   "outputs": [],
   "source": []
  }
 ],
 "metadata": {
  "kernelspec": {
   "display_name": "Python 3",
   "language": "python",
   "name": "python3"
  },
  "language_info": {
   "codemirror_mode": {
    "name": "ipython",
    "version": 3
   },
   "file_extension": ".py",
   "mimetype": "text/x-python",
   "name": "python",
   "nbconvert_exporter": "python",
   "pygments_lexer": "ipython3",
   "version": "3.7.0"
  }
 },
 "nbformat": 4,
 "nbformat_minor": 2
}
