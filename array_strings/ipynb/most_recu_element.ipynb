{
 "cells": [
  {
   "cell_type": "markdown",
   "metadata": {},
   "source": [
    "Print the most recurring element in a list \n",
    "\n",
    "<b>Ex for the input : \"sssaa\" </b>\n",
    "\n",
    "Expected output : <b>\"s\"</b>\n"
   ]
  },
  {
   "cell_type": "code",
   "execution_count": 1,
   "metadata": {},
   "outputs": [
    {
     "name": "stdout",
     "output_type": "stream",
     "text": [
      "4\n"
     ]
    }
   ],
   "source": [
    "def max_oc(s):\n",
    "    dic = {}\n",
    "    max_oc=0\n",
    "    for i in range(len(s)):\n",
    "        if s[i] in dic:\n",
    "            continue\n",
    "        else:\n",
    "            count =s.count(s[i])\n",
    "            dic[s[i]] =count\n",
    "            if count > max_oc:\n",
    "                max_oc=count\n",
    "    return max_oc\n",
    "print(max_oc(\"my name my name is\"))"
   ]
  },
  {
   "cell_type": "code",
   "execution_count": 11,
   "metadata": {},
   "outputs": [
    {
     "name": "stdout",
     "output_type": "stream",
     "text": [
      "dic {}\n",
      "dic {'s': 3, 'max': 's'}\n",
      "dic {'s': 3, 'max': 's'}\n",
      "dic {'s': 3, 'max': 's'}\n",
      "dic {'s': 3, 'max': 's', 'a': 2}\n",
      "s\n"
     ]
    }
   ],
   "source": [
    "def max_oc(s):\n",
    "    dic = {}\n",
    "    max_oc=0\n",
    "    for i in range(len(s)):\n",
    "        print(\"dic\",dic)\n",
    "        if s[i] in dic:\n",
    "            continue\n",
    "        else:\n",
    "            count =s.count(s[i])\n",
    "            dic[s[i]] =count\n",
    "            if count > max_oc:\n",
    "                max_oc=count\n",
    "                dic['max'] =s[i]\n",
    "    return dic['max']\n",
    "print(max_oc(\"sssaa\"))"
   ]
  }
 ],
 "metadata": {
  "kernelspec": {
   "display_name": "Python 3",
   "language": "python",
   "name": "python3"
  },
  "language_info": {
   "codemirror_mode": {
    "name": "ipython",
    "version": 3
   },
   "file_extension": ".py",
   "mimetype": "text/x-python",
   "name": "python",
   "nbconvert_exporter": "python",
   "pygments_lexer": "ipython3",
   "version": "3.7.0"
  }
 },
 "nbformat": 4,
 "nbformat_minor": 2
}
