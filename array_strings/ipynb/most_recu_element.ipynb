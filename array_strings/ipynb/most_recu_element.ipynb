{
 "cells": [
  {
   "cell_type": "markdown",
   "metadata": {},
   "source": [
    "Print the most recurring element in a list \n",
    "\n",
    "<b>Ex for the input : \"sssaa\" </b>\n",
    "\n",
    "Expected output : <b>\"s\"</b>\n"
   ]
  },
  {
   "cell_type": "code",
   "execution_count": 3,
   "metadata": {},
   "outputs": [
    {
     "name": "stdout",
     "output_type": "stream",
     "text": [
      "e\n"
     ]
    }
   ],
   "source": [
    "#Store the max count in a varible\n",
    "#when max count changes add the character to the dictionary\n",
    "def n_repeat(s):\n",
    "    dic   ={}\n",
    "    m_max = 0 \n",
    "    m_elem = \"\"\n",
    "    for ch in s:\n",
    "        if ch in dic.keys():\n",
    "            continue\n",
    "        else:\n",
    "            if m_max < s.count(ch):\n",
    "                m_max = s.count(ch)\n",
    "                dic['max']=ch\n",
    "    return dic['max']      \n",
    "print(n_repeat(\"geekgeeks\"))"
   ]
  },
  {
   "cell_type": "code",
   "execution_count": null,
   "metadata": {},
   "outputs": [],
   "source": []
  }
 ],
 "metadata": {
  "kernelspec": {
   "display_name": "Python 3",
   "language": "python",
   "name": "python3"
  },
  "language_info": {
   "codemirror_mode": {
    "name": "ipython",
    "version": 3
   },
   "file_extension": ".py",
   "mimetype": "text/x-python",
   "name": "python",
   "nbconvert_exporter": "python",
   "pygments_lexer": "ipython3",
   "version": "3.7.0"
  }
 },
 "nbformat": 4,
 "nbformat_minor": 2
}
