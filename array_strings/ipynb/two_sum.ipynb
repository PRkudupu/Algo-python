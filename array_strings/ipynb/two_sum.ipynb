{
 "cells": [
  {
   "cell_type": "markdown",
   "metadata": {},
   "source": [
    "Given an array of integers, return indices of the two numbers such that they add up to a specific target.\n",
    "\n",
    "You may assume that each input would have exactly one solution, and you may not use the same element twice.\n",
    "\n",
    "#### Example:\n",
    "\n",
    "Given nums = [2, 7, 11, 15], target = 9,\n",
    "\n",
    "Because nums[0] + nums[1] = 2 + 7 = 9,\n",
    "return [0, 1].\n",
    "\n",
    "<b>Solution</b>\n",
    "<br>2+2=4 <br>\n",
    "4-2=2\n",
    " "
   ]
  },
  {
   "cell_type": "code",
   "execution_count": 3,
   "metadata": {},
   "outputs": [
    {
     "name": "stdout",
     "output_type": "stream",
     "text": [
      "(0, 1)\n"
     ]
    }
   ],
   "source": [
    "def twosum(ls,k):\n",
    "    for i in range(len(ls)):\n",
    "        for j in range(i+1,len(ls)):\n",
    "            if ls[i]+ls[j] == k:\n",
    "                return i,j\n",
    "    return False\n",
    "num=[2,7,11,15]    \n",
    "print(twosum(num,9))"
   ]
  },
  {
   "cell_type": "code",
   "execution_count": 14,
   "metadata": {},
   "outputs": [
    {
     "data": {
      "text/plain": [
       "[0, 1]"
      ]
     },
     "execution_count": 14,
     "metadata": {},
     "output_type": "execute_result"
    }
   ],
   "source": [
    "def twosum(num,target):\n",
    "    if(len(num)<=1):\n",
    "        return\n",
    "    dic ={}\n",
    "    for i in range(len(num)):\n",
    "        if(num[i] in dic):\n",
    "            return [dic[num[i]],i]\n",
    "        else:\n",
    "            dic[target -num[i]] = i\n",
    "num=[2,7,11,15]    \n",
    "twosum(num,9)"
   ]
  },
  {
   "cell_type": "code",
   "execution_count": null,
   "metadata": {},
   "outputs": [],
   "source": []
  },
  {
   "cell_type": "code",
   "execution_count": 2,
   "metadata": {},
   "outputs": [
    {
     "name": "stdout",
     "output_type": "stream",
     "text": [
      "\n",
      "i 0\n",
      "num[i] 2\n",
      "dic {4: 0}\n",
      "\n",
      "i 1\n",
      "num[i] 3\n",
      "dic {4: 0, 3: 1}\n",
      "\n",
      "i 2\n",
      "num[i] 3\n"
     ]
    },
    {
     "data": {
      "text/plain": [
       "[1, 2]"
      ]
     },
     "execution_count": 2,
     "metadata": {},
     "output_type": "execute_result"
    }
   ],
   "source": [
    "def twosum(num,target):\n",
    "    if(len(num)<=1):\n",
    "        return\n",
    "    dic ={}\n",
    "    for i in range(len(num)):\n",
    "        print(\"\\ni\",i)\n",
    "        print(\"num[i]\",num[i])\n",
    "        if(num[i] in dic):\n",
    "            return [dic[num[i]],i]\n",
    "        else:\n",
    "            dic[target -num[i]] = i\n",
    "        print(\"dic\",dic)\n",
    "       \n",
    "num=[2,3,3]    \n",
    "twosum(num,6)"
   ]
  },
  {
   "cell_type": "code",
   "execution_count": 25,
   "metadata": {},
   "outputs": [
    {
     "name": "stdout",
     "output_type": "stream",
     "text": [
      "1\n"
     ]
    }
   ],
   "source": [
    "dic ={}\n",
    "dic[7]=0\n",
    "dic[8]=1\n",
    "\n",
    "print(dic[8])"
   ]
  },
  {
   "cell_type": "code",
   "execution_count": null,
   "metadata": {},
   "outputs": [],
   "source": []
  }
 ],
 "metadata": {
  "kernelspec": {
   "display_name": "Python 3",
   "language": "python",
   "name": "python3"
  },
  "language_info": {
   "codemirror_mode": {
    "name": "ipython",
    "version": 3
   },
   "file_extension": ".py",
   "mimetype": "text/x-python",
   "name": "python",
   "nbconvert_exporter": "python",
   "pygments_lexer": "ipython3",
   "version": "3.7.0"
  }
 },
 "nbformat": 4,
 "nbformat_minor": 2
}
