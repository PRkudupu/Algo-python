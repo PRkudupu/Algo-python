{
 "cells": [
  {
   "cell_type": "code",
   "execution_count": 21,
   "metadata": {},
   "outputs": [
    {
     "name": "stdout",
     "output_type": "stream",
     "text": [
      "{\n",
      "}\n",
      "in\n",
      "['}']\n",
      "is it ztrue True\n"
     ]
    }
   ],
   "source": [
    "def parentheseis(s):\n",
    "    stack = []\n",
    "    dict = {'(':')', '{':'}', '[':']'}\n",
    "    \n",
    "    \n",
    "    for i in s:\n",
    "        if i in dict:\n",
    "            print(i)\n",
    "            print(dict[i])\n",
    "            \n",
    "            \n",
    "            print(\"in\")\n",
    "            stack.append(dict[i])\n",
    "            print(stack)\n",
    "        else:\n",
    "            if len(stack) == 0 or stack.pop()!=i:\n",
    "                return False\n",
    "    return True\n",
    "            \n",
    "            \n",
    "print(\"is it ztrue\", parentheseis(\"{}\"))\n",
    "#print(\"is it ztrue\", parentheseis(\"{ppp}\"))\n"
   ]
  },
  {
   "cell_type": "code",
   "execution_count": null,
   "metadata": {},
   "outputs": [],
   "source": []
  },
  {
   "cell_type": "code",
   "execution_count": null,
   "metadata": {},
   "outputs": [],
   "source": []
  },
  {
   "cell_type": "code",
   "execution_count": null,
   "metadata": {},
   "outputs": [],
   "source": []
  }
 ],
 "metadata": {
  "kernelspec": {
   "display_name": "Python 3",
   "language": "python",
   "name": "python3"
  },
  "language_info": {
   "codemirror_mode": {
    "name": "ipython",
    "version": 3
   },
   "file_extension": ".py",
   "mimetype": "text/x-python",
   "name": "python",
   "nbconvert_exporter": "python",
   "pygments_lexer": "ipython3",
   "version": "3.7.0"
  }
 },
 "nbformat": 4,
 "nbformat_minor": 2
}
