{
 "cells": [
  {
   "cell_type": "markdown",
   "metadata": {},
   "source": [
    "#### Given two sorted integer arrays nums1 and nums2, merge nums2 into nums1 as one sorted array.\n",
    "\n",
    "Note:\n",
    "<p>\n",
    "The number of elements initialized in nums1 and nums2 are m and n respectively.\n",
    "<br>Note:\n",
    "    You may assume that <i><b>nums1 has enough space (size that is greater or equal to m + n) to hold additional elements from nums2.</b></i>\n",
    "</p>\n",
    "Example:\n",
    "<br><br>\n",
    "<b>\n",
    "Input:\n",
    "nums1 = [1,2,3,0,0,0], m = 3 <br>\n",
    "nums2 = [2,5,6],       n = 3 </b>\n",
    "\n",
    "Output: [1,2,2,3,5,6]"
   ]
  },
  {
   "cell_type": "markdown",
   "metadata": {},
   "source": [
    "#### Hint1\n",
    "\n",
    "You can easily solve this problem if you simply think about two elements at a time rather than two arrays. We know that each of the individual arrays is sorted. What we don't know is how they will intertwine. Can we take a local decision and arrive at an optimal solution?\n",
    "\n",
    "#### Hint2\n",
    "If you simply consider one element each at a time from the two arrays and make a decision and proceed accordingly, you will arrive at the optimal solution."
   ]
  },
  {
   "cell_type": "markdown",
   "metadata": {},
   "source": [
    "#### Approach 1 : Merge and sort\n",
    "Intuition\n",
    "\n",
    "The naive approach would be to merge both lists into one and then to sort. It's a simple solution with a pretty bad time complexity \\mathcal{O}((n + m)\\log(n + m))O((n+m)log(n+m)) because here one doesn't profit from the fact that both arrays are already sorted.\n",
    "<br><br>\n",
    "<b>Time complexity :</b> \\mathcal{O}((n + m)\\log(n + m))O((n+m)log(n+m)). <br>\n",
    "<b> Space complexity :</b> \\mathcal{O}(1)O(1).\n"
   ]
  },
  {
   "cell_type": "code",
   "execution_count": 7,
   "metadata": {},
   "outputs": [
    {
     "name": "stdout",
     "output_type": "stream",
     "text": [
      "[1, 2, 2, 3, 5, 6]\n"
     ]
    }
   ],
   "source": [
    "def merge_sorted_array(ls1,m,ls2,n):\n",
    "    ls1[:]=sorted(ls1[:m] + ls2)\n",
    "    return ls1\n",
    "print(merge_sorted_array([1,2,3,0,0,0],3,[2,5,6],3))\n"
   ]
  },
  {
   "cell_type": "markdown",
   "metadata": {},
   "source": [
    "#### Approach 2 : Two pointers / Start from the beginning\n",
    "Intuition\n",
    "\n",
    "Typically, one could achieve <i> \\mathcal{O}(n + m)O(n+m) </i> time complexity in a sorted array(s) with the help of two pointers approach.\n",
    "\n",
    "The straightforward implementation would be to set get pointer p1 in the beginning of nums1, p2 in the beginning of nums2, and push the smallest value in the output array at each step.\n",
    "\n",
    "<b>Since nums1 is an array used for output, one has to keep first m elements of nums1 somewhere aside, that means \\mathcal{O}(m)O(m) space complexity for this approach.</b>\n",
    "\n",
    "![](image/merge_sorted.jpg)\n"
   ]
  },
  {
   "cell_type": "code",
   "execution_count": 11,
   "metadata": {},
   "outputs": [
    {
     "name": "stdout",
     "output_type": "stream",
     "text": [
      "[1, 2, 2, 3, 5, 6]\n"
     ]
    }
   ],
   "source": [
    "# solution without print\n",
    "def merge_sorted_array(ls1,m,ls2,n):\n",
    "    # Make a copy of ls1.\n",
    "    ls1_copy = ls1[:m] \n",
    "    ls1[:] = []\n",
    "    \n",
    "    # Two get pointers for ls1_copy and ls2.\n",
    "    p1 = 0 \n",
    "    p2 = 0\n",
    "       \n",
    "    # Compare elements from ls1_copy and ls2\n",
    "    # and add the smallest one into ls1.\n",
    "    while p1 < m and p2 < n: \n",
    "        if ls1_copy[p1] < ls2[p2]: \n",
    "            ls1.append(ls1_copy[p1])\n",
    "            p1 += 1\n",
    "        else:\n",
    "            ls1.append(ls2[p2])\n",
    "            p2 += 1\n",
    "    # if there are still elements to add\n",
    "    if p1 < m: \n",
    "        ls1[p1 + p2:] = ls1_copy[p1:]\n",
    "    if p2 < n:\n",
    "        ls1[p1 + p2:] = ls2[p2:]\n",
    "    return ls1\n",
    "    print(merge_sorted_array([1,2,3,0,0,0],3,[2,5,6],3))\n"
   ]
  },
  {
   "cell_type": "code",
   "execution_count": 12,
   "metadata": {},
   "outputs": [
    {
     "name": "stdout",
     "output_type": "stream",
     "text": [
      "m,n 3 3\n",
      "ls1_copy [1, 2, 3]\n",
      "\n",
      "p1, p2 0 0\n",
      "ls1_copy[p1] 1\n",
      "ls2[p2] 2\n",
      "increement p1\n",
      "ls1 [1]\n",
      "\n",
      "p1, p2 1 0\n",
      "ls1_copy[p1] 2\n",
      "ls2[p2] 2\n",
      "increement p2\n",
      "ls1 [1, 2]\n",
      "\n",
      "p1, p2 1 1\n",
      "ls1_copy[p1] 2\n",
      "ls2[p2] 5\n",
      "increement p1\n",
      "ls1 [1, 2, 2]\n",
      "\n",
      "p1, p2 2 1\n",
      "ls1_copy[p1] 3\n",
      "ls2[p2] 5\n",
      "increement p1\n",
      "ls1 [1, 2, 2, 3]\n",
      "\n",
      "p1,p2 3 1\n",
      "ls1[p1 + p2:] []\n",
      "ls1_copy[p1:] []\n",
      "ls2[p2:] [5, 6]\n",
      "pointer2 is greater than n.\n",
      "[1, 2, 2, 3, 5, 6]\n"
     ]
    }
   ],
   "source": [
    "#solution with print\n",
    "def merge_sorted_array(ls1,m,ls2,n):\n",
    "    # Make a copy of ls1.\n",
    "    ls1_copy = ls1[:m] \n",
    "    ls1[:] = []\n",
    "    \n",
    "    # Two get pointers for ls1_copy and ls2.\n",
    "    p1 = 0 \n",
    "    p2 = 0\n",
    "    print('m,n',m,n)\n",
    "    print('ls1_copy',ls1_copy)\n",
    "       \n",
    "    # Compare elements from ls1_copy and ls2\n",
    "    # and add the smallest one into ls1.\n",
    "    while p1 < m and p2 < n: \n",
    "        print('\\np1, p2',p1,p2)\n",
    "        print('ls1_copy[p1]',ls1_copy[p1])\n",
    "        print('ls2[p2]',ls2[p2])\n",
    "        if ls1_copy[p1] < ls2[p2]: \n",
    "            print('increement p1')\n",
    "            ls1.append(ls1_copy[p1])\n",
    "            p1 += 1\n",
    "        else:\n",
    "            print('increement p2')\n",
    "            ls1.append(ls2[p2])\n",
    "            p2 += 1\n",
    "        print('ls1',ls1)\n",
    "    # if there are still elements to add\n",
    "    print(\"\\np1,p2\",p1,p2)\n",
    "    print('ls1[p1 + p2:]',ls1[p1 + p2:])\n",
    "    print('ls1_copy[p1:]',ls1_copy[p1:])\n",
    "    print('ls2[p2:]',ls2[p2:])\n",
    "    if p1 < m: \n",
    "        print(\"pointer 1 is greater than m.\")\n",
    "        ls1[p1 + p2:] = ls1_copy[p1:]\n",
    "    if p2 < n:\n",
    "        print(\"pointer2 is greater than n.\")\n",
    "        ls1[p1 + p2:] = ls2[p2:]\n",
    "    return ls1\n",
    "print(merge_sorted_array([1,2,3,0,0,0],3,[2,5,6],3))\n",
    "\n",
    "#nums1[:] = sorted(nums1[:m] + nums2)\n",
    "                \n",
    "                "
   ]
  },
  {
   "cell_type": "code",
   "execution_count": 8,
   "metadata": {},
   "outputs": [
    {
     "name": "stdout",
     "output_type": "stream",
     "text": [
      "m,n 3 3\n",
      "ls1_copy [1, 2, 3]\n",
      "\n",
      "p1, p2 0 0\n",
      "ls1_copy[p1] 1\n",
      "ls2[p2] 2\n",
      "increement p1\n",
      "ls1 [1]\n",
      "\n",
      "p1, p2 1 0\n",
      "ls1_copy[p1] 2\n",
      "ls2[p2] 2\n",
      "increement p2\n",
      "ls1 [1, 2]\n",
      "\n",
      "p1, p2 1 1\n",
      "ls1_copy[p1] 2\n",
      "ls2[p2] 5\n",
      "increement p1\n",
      "ls1 [1, 2, 2]\n",
      "\n",
      "p1, p2 2 1\n",
      "ls1_copy[p1] 3\n",
      "ls2[p2] 5\n",
      "increement p1\n",
      "ls1 [1, 2, 2, 3]\n",
      "\n",
      "p1,p2 3 1\n",
      "ls1[p1 + p2:] []\n",
      "ls1_copy[p1:] []\n",
      "ls2[p2:] [5, 6]\n",
      "pointer2 is greater than n.\n",
      "[1, 2, 2, 3, 5, 6]\n"
     ]
    }
   ],
   "source": [
    "# Solution with print\n",
    "def merge_sorted_array(ls1,m,ls2,n):\n",
    "    # Make a copy of ls1.\n",
    "    ls1_copy = ls1[:m] \n",
    "    ls1[:] = []\n",
    "    \n",
    "    # Two get pointers for ls1_copy and ls2.\n",
    "    p1 = 0 \n",
    "    p2 = 0\n",
    "    print('m,n',m,n)\n",
    "    print('ls1_copy',ls1_copy)\n",
    "       \n",
    "    # Compare elements from ls1_copy and ls2\n",
    "    # and add the smallest one into ls1.\n",
    "    while p1 < m and p2 < n: \n",
    "        print('\\np1, p2',p1,p2)\n",
    "        print('ls1_copy[p1]',ls1_copy[p1])\n",
    "        print('ls2[p2]',ls2[p2])\n",
    "        if ls1_copy[p1] < ls2[p2]: \n",
    "            print('increement p1')\n",
    "            ls1.append(ls1_copy[p1])\n",
    "            p1 += 1\n",
    "        else:\n",
    "            print('increement p2')\n",
    "            ls1.append(ls2[p2])\n",
    "            p2 += 1\n",
    "        print('ls1',ls1)\n",
    "    # if there are still elements to add\n",
    "    print(\"\\np1,p2\",p1,p2)\n",
    "    print('ls1[p1 + p2:]',ls1[p1 + p2:])\n",
    "    print('ls1_copy[p1:]',ls1_copy[p1:])\n",
    "    print('ls2[p2:]',ls2[p2:])\n",
    "    if p1 < m: \n",
    "        print(\"pointer 1 is greater than m.\")\n",
    "        ls1[p1 + p2:] = ls1_copy[p1:]\n",
    "    if p2 < n:\n",
    "        print(\"pointer2 is greater than n.\")\n",
    "        ls1[p1 + p2:] = ls2[p2:]\n",
    "    return ls1\n",
    "print(merge_sorted_array([1,2,3,0,0,0],3,[2,5,6],3))\n",
    "\n",
    "#nums1[:] = sorted(nums1[:m] + nums2)\n",
    "                \n",
    "                "
   ]
  },
  {
   "cell_type": "code",
   "execution_count": 5,
   "metadata": {},
   "outputs": [
    {
     "name": "stdout",
     "output_type": "stream",
     "text": [
      "[1, 2, 2, 3, 5, 6]\n"
     ]
    }
   ],
   "source": [
    "#brute force solution. 1st solution \n",
    "def merge_sorted_array(ls1,m,ls2,n):\n",
    "    i=0\n",
    "    for j in range(n) :\n",
    "        ls1[j+m]=ls2[j]\n",
    "        i+=1\n",
    "    return sorted(ls1)\n",
    "print(merge_sorted_array([1,2,3,0,0,0],3,[2,5,6],3))"
   ]
  },
  {
   "cell_type": "code",
   "execution_count": 6,
   "metadata": {},
   "outputs": [
    {
     "name": "stdout",
     "output_type": "stream",
     "text": [
      "\n",
      "j 0\n",
      "ls2[j] 2\n",
      "0\n",
      "\n",
      "j 1\n",
      "ls2[j] 5\n",
      "0\n",
      "\n",
      "j 2\n",
      "ls2[j] 6\n",
      "0\n",
      "[1, 2, 2, 3, 5, 6]\n"
     ]
    }
   ],
   "source": [
    "#brute force solution. 1st solution with print\n",
    "def merge_sorted_array(ls1,m,ls2,n):\n",
    "    i=0\n",
    "    for j in range(n) :\n",
    "        print('\\nj',j)\n",
    "        print('ls2[j]',ls2[j])\n",
    "        print(ls1[j+m])\n",
    "        ls1[j+m]=ls2[j]\n",
    "        i+=1\n",
    "    return sorted(ls1)\n",
    "print(merge_sorted_array([1,2,3,0,0,0],3,[2,5,6],3))"
   ]
  },
  {
   "cell_type": "code",
   "execution_count": null,
   "metadata": {},
   "outputs": [],
   "source": []
  }
 ],
 "metadata": {
  "kernelspec": {
   "display_name": "Python 3",
   "language": "python",
   "name": "python3"
  },
  "language_info": {
   "codemirror_mode": {
    "name": "ipython",
    "version": 3
   },
   "file_extension": ".py",
   "mimetype": "text/x-python",
   "name": "python",
   "nbconvert_exporter": "python",
   "pygments_lexer": "ipython3",
   "version": "3.7.0"
  }
 },
 "nbformat": 4,
 "nbformat_minor": 2
}
