{
 "cells": [
  {
   "cell_type": "markdown",
   "metadata": {},
   "source": [
    "## Given two binary strings, return their sum (also a binary string).\n",
    "\n",
    "The input strings are both non-empty and contains only characters 1 or 0.\n",
    "\n",
    "### Example 1:\n",
    "\n",
    "Input: a = \"11\", b = \"1\"\n",
    "Output: \"100\"\n",
    "### Example 2:\n",
    "\n",
    "Input: a = \"1010\", b = \"1011\"\n",
    "Output: \"10101\"\n"
   ]
  },
  {
   "cell_type": "code",
   "execution_count": null,
   "metadata": {},
   "outputs": [],
   "source": [
    "def add_binary(a,b):\n",
    "    return '{0:b}'.format(int(a, 2) + int(b, 2))\n",
    "\n",
    "print(add_binary('11','11'))"
   ]
  },
  {
   "cell_type": "markdown",
   "metadata": {},
   "source": [
    "This method has quite low performance in the case of large input numbers.\n",
    "\n",
    "One could use Bit Manipulation approach to speed up the solution."
   ]
  },
  {
   "cell_type": "markdown",
   "metadata": {},
   "source": [
    "<!-- HTML generated using hilite.me --><div style=\"background: #ffffff; overflow:auto;width:auto;border:solid gray;border-width:.1em .1em .1em .8em;padding:.2em .6em;\"><pre style=\"margin: 0; line-height: 125%\">Approach <span style=\"color: #0000DD; font-weight: bold\">1</span>:<b> Bit<span style=\"color: #333333\">-</span>by<span style=\"color: #333333\">-</span>Bit Computation</b>\n",
    "Algorithm\n",
    "\n",
    "That<span style=\"background-color: #fff0f0\">&#39;s a good old classical algorithm, and there is no conversion from binary string to decimal and back here. Let&#39;</span>s consider the numbers bit by bit starting <span style=\"color: #008800; font-weight: bold\">from</span> <span style=\"color: #0e84b5; font-weight: bold\">the</span> <span style=\"color: #0e84b5; font-weight: bold\">lowest</span> <span style=\"color: #0e84b5; font-weight: bold\">one</span> <span style=\"color: #0e84b5; font-weight: bold\">and</span> <span style=\"color: #0e84b5; font-weight: bold\">compute</span> <span style=\"color: #0e84b5; font-weight: bold\">the</span> <span style=\"color: #0e84b5; font-weight: bold\">carry</span> <span style=\"color: #0e84b5; font-weight: bold\">this</span> <span style=\"color: #0e84b5; font-weight: bold\">bit</span> <span style=\"color: #0e84b5; font-weight: bold\">will</span> <span style=\"color: #0e84b5; font-weight: bold\">add.</span>\n",
    "\n",
    "Start <span style=\"color: #008800; font-weight: bold\">from</span> <span style=\"color: #0e84b5; font-weight: bold\">carry</span> <span style=\"color: #333333\">=</span> <span style=\"color: #6600EE; font-weight: bold\">0.</span> If number a has <span style=\"color: #0000DD; font-weight: bold\">1</span><span style=\"color: #333333\">-</span>bit <span style=\"color: #000000; font-weight: bold\">in</span> this lowest bit, add <span style=\"color: #0000DD; font-weight: bold\">1</span> to the carry<span style=\"color: #333333\">.</span> The same <span style=\"color: #008800; font-weight: bold\">for</span> number b: <span style=\"color: #008800; font-weight: bold\">if</span> number b has <span style=\"color: #0000DD; font-weight: bold\">1</span><span style=\"color: #333333\">-</span>bit <span style=\"color: #000000; font-weight: bold\">in</span> the lowest bit, add <span style=\"color: #0000DD; font-weight: bold\">1</span> to the carry<span style=\"color: #333333\">.</span> \n",
    "The same for number b: if number b has 1-bit in the lowest bit, add 1 to the carry. At this point the carry for the lowest bit could be equal to (00)2,(01)2 or (10)2\n",
    "\n",
    "Now append the lowest bit of the carry to the answer, <span style=\"color: #000000; font-weight: bold\">and</span> move the highest bit of the carry to the <span style=\"color: #007020\">next</span> order bit<span style=\"color: #333333\">.</span>\n",
    "\n",
    "Repeat the same steps again, <span style=\"color: #000000; font-weight: bold\">and</span> again, till <span style=\"color: #007020\">all</span> bits <span style=\"color: #000000; font-weight: bold\">in</span> a <span style=\"color: #000000; font-weight: bold\">and</span> b are used up<span style=\"color: #333333\">.</span> If there <span style=\"color: #000000; font-weight: bold\">is</span> still nonzero carry to add, add it<span style=\"color: #333333\">.</span> Now reverse the answer string <span style=\"color: #000000; font-weight: bold\">and</span> the job <span style=\"color: #000000; font-weight: bold\">is</span> done<span style=\"color: #333333\">.</span>\n",
    "</pre></div>\n"
   ]
  },
  {
   "cell_type": "markdown",
   "metadata": {},
   "source": [
    "   ### Logic\n",
    "   ![title](image/add_binary.png)"
   ]
  },
  {
   "cell_type": "code",
   "execution_count": 6,
   "metadata": {},
   "outputs": [
    {
     "name": "stdout",
     "output_type": "stream",
     "text": [
      "\n",
      "length 3\n",
      "zfill a,b 010 110\n",
      "\n",
      "i 2\n",
      "\u0007[i] 0\n",
      "\b[i] 0\n",
      "carry 0\n",
      "carry % 2 0\n",
      "answer ['0']\n",
      "Carry //= 2 0\n",
      "After division 0\n",
      "\n",
      "i 1\n",
      "\u0007[i] 1\n",
      "\b[i] 1\n",
      "carry 2\n",
      "carry % 2 0\n",
      "answer ['0', '0']\n",
      "Carry //= 2 2\n",
      "After division 1\n",
      "\n",
      "i 0\n",
      "\u0007[i] 0\n",
      "\b[i] 1\n",
      "carry 2\n",
      "carry % 2 0\n",
      "answer ['0', '0', '0']\n",
      "Carry //= 2 2\n",
      "After division 1\n",
      "1000\n"
     ]
    }
   ],
   "source": [
    "# Program with comments\n",
    "def add_binary(a,b):\n",
    "    n = max(len(a), len(b))\n",
    "    print('\\nlength',n)\n",
    "    a, b = a.zfill(n), b.zfill(n)\n",
    "    print('zfill a,b',a,b)\n",
    "    carry = 0\n",
    "    result = []\n",
    "    for i in range(n - 1, -1, -1):\n",
    "        print('\\ni',i)\n",
    "        if a[i] == '1':\n",
    "            carry += 1\n",
    "        if b[i] == '1':\n",
    "            carry += 1\n",
    "\n",
    "        if carry % 2 == 1:\n",
    "            result.append('1')\n",
    "        else:\n",
    "            result.append('0')\n",
    "        print('\\a[i]',a[i])\n",
    "        print('\\b[i]',b[i])\n",
    "        print('carry',carry)\n",
    "        print('carry % 2',carry % 2)\n",
    "        print('answer',result)\n",
    "        #carry =cary//2\n",
    "        print(\"Carry //= 2\", carry)\n",
    "        carry //= 2\n",
    "        print(\"After division\", carry)\n",
    "    if carry == 1:\n",
    "        result.append('1')\n",
    "    result.reverse()\n",
    "\n",
    "    return ''.join(result)\n",
    "print(add_binary('10','110'))"
   ]
  },
  {
   "cell_type": "code",
   "execution_count": 7,
   "metadata": {},
   "outputs": [
    {
     "name": "stdout",
     "output_type": "stream",
     "text": [
      "1000\n"
     ]
    }
   ],
   "source": [
    "# Program with comments\n",
    "def add_binary(a,b):\n",
    "    n = max(len(a), len(b))\n",
    "    a, b = a.zfill(n), b.zfill(n)\n",
    "    carry = 0\n",
    "    result = []\n",
    "    for i in range(n - 1, -1, -1):\n",
    "        if a[i] == '1':\n",
    "            carry += 1\n",
    "        if b[i] == '1':\n",
    "            carry += 1\n",
    "\n",
    "        if carry % 2 == 1:\n",
    "            result.append('1')\n",
    "        else:\n",
    "            result.append('0')\n",
    "        carry //= 2\n",
    "    if carry == 1:\n",
    "        result.append('1')\n",
    "    result.reverse()\n",
    "    return ''.join(result)    \n",
    "print(add_binary('10','110'))"
   ]
  },
  {
   "cell_type": "markdown",
   "metadata": {},
   "source": [
    "<!-- HTML generated using hilite.me --><div style=\"background: #ffffff; overflow:auto;width:auto;border:solid gray;border-width:.1em .1em .1em .8em;padding:.2em .6em;\"><pre style=\"margin: 0; line-height: 125%\">Here the <span style=\"color: #007020\">input</span> <span style=\"color: #000000; font-weight: bold\">is</span> more adapted to push towards Approach <span style=\"color: #0000DD; font-weight: bold\">1</span>, but there <span style=\"color: #000000; font-weight: bold\">is</span> popular Facebook variation of this problem when interviewer provides you two numbers <span style=\"color: #000000; font-weight: bold\">and</span> asks to <span style=\"color: #007020\">sum</span> them up without using addition operation<span style=\"color: #333333\">.</span>\n",
    "\n",
    "No addition<span style=\"color: #FF0000; background-color: #FFAAAA\">?</span> OK, bit manipulation then<span style=\"color: #333333\">.</span>\n",
    "\n",
    "How to start<span style=\"color: #FF0000; background-color: #FFAAAA\">?</span> There <span style=\"color: #000000; font-weight: bold\">is</span> an interview tip <span style=\"color: #008800; font-weight: bold\">for</span> bit manipulation problems: <span style=\"color: #008800; font-weight: bold\">if</span> you don<span style=\"background-color: #fff0f0\">&#39;t know how to start, start from computing XOR for your input data. Strangely, that helps to go out for quite a lot of problems, Single Number II, Single Number III, Maximum XOR of Two Numbers in an Array, Repeated DNA Sequences, Maximum Product of Word Lengths, etc.</span>\n",
    "\n",
    "Here XOR <span style=\"color: #000000; font-weight: bold\">is</span> a key <span style=\"color: #008800; font-weight: bold\">as</span> well, because it<span style=\"background-color: #fff0f0\">&#39;s a sum of two binaries without taking carry into account.</span>\n",
    "\n",
    "</div>\n"
   ]
  },
  {
   "cell_type": "code",
   "execution_count": 10,
   "metadata": {},
   "outputs": [
    {
     "name": "stdout",
     "output_type": "stream",
     "text": [
      "110\n"
     ]
    }
   ],
   "source": [
    "def addBinary(a, b) -> str:\n",
    "        x, y = int(a, 2), int(b, 2)\n",
    "        while y:\n",
    "            answer = x ^ y\n",
    "            carry = (x & y) << 1\n",
    "            x, y = answer, carry\n",
    "        return bin(x)[2:]\n",
    "print(addBinary('001','101'))"
   ]
  },
  {
   "cell_type": "markdown",
   "metadata": {},
   "source": [
    " def addBinary( a, b):\n",
    "            if len(a)==0: return b\n",
    "            if len(b)==0: return a\n",
    "            if a[-1] == '1' and b[-1] == '1':\n",
    "                return addBinary(addBinary(a[0:-1],b[0:-1]),'1')+'0' \n",
    "            if a[-1] == '0' and b[-1] == '0':\n",
    "                return addBinary(a[0:-1],b[0:-1])+'0'\n",
    "            else:\n",
    "                return addBinary(a[0:-1],b[0:-1])+'1'"
   ]
  },
  {
   "cell_type": "code",
   "execution_count": 2,
   "metadata": {},
   "outputs": [],
   "source": [
    "#  addBinary(addBinary(1,[]),1)+'0' \n",
    "#  addBinary(addBinary(1,[]),1) + '0' ==> addBinary(1,[]) return a =1 B\n",
    "#  addBinary(1,1)+'0' \n",
    "#   return {addBinary(addBinary(a[0:-1],b[0:-1]),'1')+'0' } +'0' ==> addBinary(a[0:-1],b[0:-1]) return empty A\n",
    "# return {addBinary(empty,'1')+'0' } +'0' ===> addBinary(empty,'1') return 1 A\n",
    "#1 +'0' +'0' "
   ]
  },
  {
   "cell_type": "code",
   "execution_count": 3,
   "metadata": {},
   "outputs": [
    {
     "data": {
      "text/plain": [
       "'100'"
      ]
     },
     "execution_count": 3,
     "metadata": {},
     "output_type": "execute_result"
    }
   ],
   "source": [
    "addBinary(\"11\",\"1\")"
   ]
  },
  {
   "cell_type": "code",
   "execution_count": 14,
   "metadata": {},
   "outputs": [],
   "source": [
    "def add_binary(a,b):\n",
    "    print(\"len(a)  {}\".format(len(a)))\n",
    "    print(\"len(b) {}\".format(len(b)))\n",
    "    print(\"a[-1] {}\".format(a[-1]))  \n",
    "    print(\"b[-1] {}\".format(b[-1]))\n",
    "    print(\"a[0:-1]) {}\".format(a[0:-1]))  \n",
    "    print(\"b[0:-1]) {}\".format(b[0:-1]))\n",
    "    if len(a)==0:\n",
    "        print(\"len a==0\")\n",
    "        return b\n",
    "    if len(b)==0:\n",
    "        print(\"len b==0\")\n",
    "        return a\n",
    "    if a[-1] == '1' and b[-1] == '1':\n",
    "        print(\"First if condition 1,1\")\n",
    "        return addBinary(addBinary(a[0:-1],b[0:-1]),'1')+'0'\n",
    "    if a[-1] == '0' and b[-1] == '0':\n",
    "        print(\"Second if condition 0,0\")\n",
    "        return add_binary(a[0:-1],b[0:-1])+'0'\n",
    "    else:\n",
    "        print(\"Else\")\n",
    "        return add_binary(a[0:-1],b[0:-1])+'1'"
   ]
  },
  {
   "cell_type": "code",
   "execution_count": 17,
   "metadata": {},
   "outputs": [
    {
     "name": "stdout",
     "output_type": "stream",
     "text": [
      "len(a)  4\n",
      "len(b) 4\n",
      "a[-1] 0\n",
      "b[-1] 1\n",
      "a[0:-1]) 101\n",
      "b[0:-1]) 101\n",
      "Else\n",
      "len(a)  3\n",
      "len(b) 3\n",
      "a[-1] 1\n",
      "b[-1] 1\n",
      "a[0:-1]) 10\n",
      "b[0:-1]) 10\n",
      "First if condition 1,1\n"
     ]
    },
    {
     "data": {
      "text/plain": [
       "'10101'"
      ]
     },
     "execution_count": 17,
     "metadata": {},
     "output_type": "execute_result"
    }
   ],
   "source": [
    "add_binary(\"1010\",\"1011\")"
   ]
  },
  {
   "cell_type": "code",
   "execution_count": 12,
   "metadata": {},
   "outputs": [],
   "source": [
    "def add_binary_nums(x, y):\n",
    "        print((len(x)))\n",
    "        print((len(x)))\n",
    "        max_len = max(len(x), len(y)) \n",
    "        print(\"max_len {}\".format(max_len))\n",
    "        \n",
    "        print()\n",
    "        #Fill it with zeros\n",
    "        x = x.zfill(max_len) \n",
    "        print(\"x {}\".format(x))\n",
    "        y = y.zfill(max_len)\n",
    "        print(\"y {}\".format(y))\n",
    "        print(y)\n",
    "          \n",
    "        # initialize the result \n",
    "        result = '' \n",
    "          \n",
    "        # initialize the carry \n",
    "        carry = 0\n",
    "  \n",
    "        # Traverse the string \n",
    "        for i in range(max_len - 1, -1, -1): \n",
    "            r = carry \n",
    "            r += 1 if x[i] == '1' else 0\n",
    "            r += 1 if y[i] == '1' else 0\n",
    "            result = ('1' if r % 2 == 1 else '0') + result \n",
    "            carry = 0 if r < 2 else 1     # Compute the carry. \n",
    "          \n",
    "        if carry !=0 : result = '1' + result \n",
    "  \n",
    "        return result.zfill(max_len) \n",
    "  "
   ]
  },
  {
   "cell_type": "code",
   "execution_count": 13,
   "metadata": {},
   "outputs": [
    {
     "name": "stdout",
     "output_type": "stream",
     "text": [
      "3\n",
      "3\n",
      "max_len 3\n",
      "\n",
      "x 100\n",
      "y 010\n",
      "010\n"
     ]
    },
    {
     "data": {
      "text/plain": [
       "'110'"
      ]
     },
     "execution_count": 13,
     "metadata": {},
     "output_type": "execute_result"
    }
   ],
   "source": [
    "add_binary_nums('100','10')"
   ]
  },
  {
   "cell_type": "code",
   "execution_count": null,
   "metadata": {},
   "outputs": [],
   "source": []
  }
 ],
 "metadata": {
  "kernelspec": {
   "display_name": "Python 3",
   "language": "python",
   "name": "python3"
  },
  "language_info": {
   "codemirror_mode": {
    "name": "ipython",
    "version": 3
   },
   "file_extension": ".py",
   "mimetype": "text/x-python",
   "name": "python",
   "nbconvert_exporter": "python",
   "pygments_lexer": "ipython3",
   "version": "3.7.0"
  }
 },
 "nbformat": 4,
 "nbformat_minor": 2
}
