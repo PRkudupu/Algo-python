{
 "cells": [
  {
   "cell_type": "markdown",
   "metadata": {},
   "source": [
    "Given a list of ints, balance the list so that each int appears equally in the list. Return a dictionary where the key is the int and the value is the count needed to balance the list.<br><br>\n",
    "\n",
    "[1, 1, 2] => <b>{2: 1}</b><br>\n",
    "[1, 1, 1, 5, 3, 2, 2] => <b>{5: 2, 3: 2, 2: 1}"
   ]
  },
  {
   "cell_type": "code",
   "execution_count": 13,
   "metadata": {},
   "outputs": [
    {
     "name": "stdout",
     "output_type": "stream",
     "text": [
      "{2: 1, 3: 2, 5: 2}\n"
     ]
    }
   ],
   "source": [
    "ls = [1, 1, 1, 5, 3, 2, 2]\n",
    "def bal(ls):\n",
    "    s1 = list(set(ls))\n",
    "    dic1 = {}\n",
    "    dic2 = {}\n",
    "    \n",
    "    for el in s1:\n",
    "        dic1[el] = ls.count(el)\n",
    "    #dic1 would contain {1: 3, 2: 2, 3: 1, 5: 1}\n",
    "    maxx = max(dic1.values())\n",
    "    # max would be 3\n",
    "    # iterate through the dictionary and add to dic where values are less than max\n",
    "    for k,v in dic1.items():\n",
    "        if v < maxx:\n",
    "            dic2[k] = maxx - v\n",
    "    return dic2\n",
    "print(bal(ls))"
   ]
  },
  {
   "cell_type": "code",
   "execution_count": 11,
   "metadata": {},
   "outputs": [
    {
     "name": "stdout",
     "output_type": "stream",
     "text": [
      "s1 [1, 2, 3, 5]\n",
      "dic1 {1: 3}\n",
      "dic1 {1: 3, 2: 2}\n",
      "dic1 {1: 3, 2: 2, 3: 1}\n",
      "dic1 {1: 3, 2: 2, 3: 1, 5: 1}\n",
      "maxx 3\n",
      "v 3\n",
      "v 2\n",
      "dic2 {2: 1}\n",
      "v 1\n",
      "dic2 {2: 1, 3: 2}\n",
      "v 1\n",
      "dic2 {2: 1, 3: 2, 5: 2}\n",
      "{2: 1, 3: 2, 5: 2}\n"
     ]
    }
   ],
   "source": [
    "ls = [1, 1, 1, 5, 3, 2, 2]\n",
    "def bal(ls):\n",
    "    # get unique set of values\n",
    "    # in this example [1,2,3,5]\n",
    "    s1 = list(set(ls))\n",
    "    dic1 = {}\n",
    "    dic2 = {}\n",
    "   \n",
    "    print(\"s1\",s1)\n",
    "    for el in s1:\n",
    "        dic1[el] = ls.count(el)\n",
    "        print(\"dic1\",dic1)\n",
    "    \n",
    "    #dic1 would contain {1: 3, 2: 2, 3: 1, 5: 1}\n",
    "    maxx = max(dic1.values())\n",
    "    # max would be 3\n",
    "    print(\"maxx\",maxx)\n",
    "    \n",
    "    # iterate through the dictionary and add to dic where values are less than max\n",
    "    for k,v in dic1.items():\n",
    "        print(\"v\",v)\n",
    "        if v < maxx:\n",
    "            dic2[k] = maxx - v\n",
    "            print(\"dic2\",dic2)\n",
    "    return dic2\n",
    "print(bal(ls))"
   ]
  },
  {
   "cell_type": "code",
   "execution_count": null,
   "metadata": {},
   "outputs": [],
   "source": []
  }
 ],
 "metadata": {
  "kernelspec": {
   "display_name": "Python 3",
   "language": "python",
   "name": "python3"
  },
  "language_info": {
   "codemirror_mode": {
    "name": "ipython",
    "version": 3
   },
   "file_extension": ".py",
   "mimetype": "text/x-python",
   "name": "python",
   "nbconvert_exporter": "python",
   "pygments_lexer": "ipython3",
   "version": "3.8.5"
  }
 },
 "nbformat": 4,
 "nbformat_minor": 4
}
