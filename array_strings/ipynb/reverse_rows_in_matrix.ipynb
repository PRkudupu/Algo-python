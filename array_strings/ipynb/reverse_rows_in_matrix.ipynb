{
 "cells": [
  {
   "cell_type": "code",
   "execution_count": 6,
   "metadata": {},
   "outputs": [
    {
     "name": "stdout",
     "output_type": "stream",
     "text": [
      "[[0, 0, 1, 1], [1, 0, 0, 1], [1, 1, 1, 0], [0, 1, 0, 1]]\n"
     ]
    }
   ],
   "source": [
    "#Reverse rows using string comprehesion\n",
    "def flip_image(image):\n",
    "    return  [row[::-1]for row in image]\n",
    "\n",
    "matrix=[[1,1,0,0],[1,0,0,1],[0,1,1,1],[1,0,1,0]]\n",
    "print(flip_image(matrix))"
   ]
  },
  {
   "cell_type": "code",
   "execution_count": 5,
   "metadata": {},
   "outputs": [
    {
     "name": "stdout",
     "output_type": "stream",
     "text": [
      "[0, 0, 1, 1]\n",
      "[1, 0, 0, 1]\n",
      "[1, 1, 1, 0]\n",
      "[0, 1, 0, 1]\n",
      "None\n"
     ]
    }
   ],
   "source": [
    "#Print reverse rows\n",
    "def reverse_rows_in_matrix(image):\n",
    "    for row in image:\n",
    "        print(row[::-1])\n",
    "matrix=[[1,1,0,0],[1,0,0,1],[0,1,1,1],[1,0,1,0]]\n",
    "print(reverse_rows_in_matrix(matrix))"
   ]
  },
  {
   "cell_type": "code",
   "execution_count": null,
   "metadata": {},
   "outputs": [],
   "source": []
  }
 ],
 "metadata": {
  "kernelspec": {
   "display_name": "Python 3",
   "language": "python",
   "name": "python3"
  },
  "language_info": {
   "codemirror_mode": {
    "name": "ipython",
    "version": 3
   },
   "file_extension": ".py",
   "mimetype": "text/x-python",
   "name": "python",
   "nbconvert_exporter": "python",
   "pygments_lexer": "ipython3",
   "version": "3.7.0"
  }
 },
 "nbformat": 4,
 "nbformat_minor": 2
}
