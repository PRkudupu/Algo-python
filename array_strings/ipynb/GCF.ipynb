{
 "cells": [
  {
   "cell_type": "markdown",
   "metadata": {},
   "source": [
    "Write a function to which would return the greatest common of factor.\n",
    "\n",
    "<b> Input : 18, 27</b>\n",
    "\n",
    "<b> return: 9 </b>\n",
    "\n",
    "        "
   ]
  },
  {
   "cell_type": "markdown",
   "metadata": {},
   "source": [
    "#### Loops"
   ]
  },
  {
   "cell_type": "code",
   "execution_count": 5,
   "metadata": {},
   "outputs": [
    {
     "name": "stdout",
     "output_type": "stream",
     "text": [
      "9\n"
     ]
    }
   ],
   "source": [
    "def gcd(x,y):\n",
    "    if x > y:\n",
    "        small=y\n",
    "    else:\n",
    "        small=x\n",
    "    for i in range(1,small+1):\n",
    "        if(x % i == 0) and (y % i ==0):\n",
    "            gcd=i\n",
    "    return gcd\n",
    "print(gcd(18,27))"
   ]
  },
  {
   "cell_type": "code",
   "execution_count": 6,
   "metadata": {},
   "outputs": [
    {
     "name": "stdout",
     "output_type": "stream",
     "text": [
      "x 18\n",
      "y 27\n",
      "small 18\n",
      "i 1\n",
      "i 3\n",
      "i 9\n",
      "9\n"
     ]
    }
   ],
   "source": [
    "def gcd(x,y):\n",
    "    small=min(x,y)\n",
    "    print(\"x\",x)\n",
    "    print(\"y\",y)\n",
    "    print(\"small\",small)\n",
    "    for i in range(1,small+1):\n",
    "        if x % i == 0 and y % i == 0:\n",
    "            print(\"i\",i)\n",
    "            gcd=i\n",
    "    return gcd\n",
    "print(gcd(18,27))"
   ]
  },
  {
   "cell_type": "markdown",
   "metadata": {},
   "source": [
    "<b>Euclidean Algorithm</b>"
   ]
  },
  {
   "cell_type": "code",
   "execution_count": 13,
   "metadata": {},
   "outputs": [
    {
     "name": "stdout",
     "output_type": "stream",
     "text": [
      "9\n"
     ]
    }
   ],
   "source": [
    "def gcd(x,y):\n",
    "    while(y):\n",
    "        x , y = y,x % y\n",
    "    return x\n",
    "print(gcd(18,27))"
   ]
  },
  {
   "cell_type": "markdown",
   "metadata": {},
   "source": [
    "#### Recursion"
   ]
  },
  {
   "cell_type": "code",
   "execution_count": 12,
   "metadata": {},
   "outputs": [
    {
     "name": "stdout",
     "output_type": "stream",
     "text": [
      "9\n"
     ]
    }
   ],
   "source": [
    "def gcd(x,y):\n",
    "    if(y == 0):\n",
    "        return x\n",
    "    else:\n",
    "        return gcd(y,x % y)\n",
    "print(gcd(18,27))"
   ]
  },
  {
   "cell_type": "code",
   "execution_count": null,
   "metadata": {},
   "outputs": [],
   "source": []
  }
 ],
 "metadata": {
  "kernelspec": {
   "display_name": "Python 3",
   "language": "python",
   "name": "python3"
  },
  "language_info": {
   "codemirror_mode": {
    "name": "ipython",
    "version": 3
   },
   "file_extension": ".py",
   "mimetype": "text/x-python",
   "name": "python",
   "nbconvert_exporter": "python",
   "pygments_lexer": "ipython3",
   "version": "3.7.0"
  }
 },
 "nbformat": 4,
 "nbformat_minor": 2
}
