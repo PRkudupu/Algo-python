{
 "cells": [
  {
   "cell_type": "markdown",
   "metadata": {},
   "source": [
    "## next_permutation\n",
    "Implement next permutation, which rearranges numbers into the lexicographically next greater permutation of numbers.\n",
    "\n",
    "If such arrangement is not possible, it must rearrange it as the lowest possible order (ie, sorted in ascending order).\n",
    "\n",
    "The replacement must be in-place and use only constant extra memory.\n",
    "\n",
    "Here are some examples. Inputs are in the left-hand column and its corresponding outputs are in the right-hand column.\n",
    "\n",
    "<b>1,2,3 → 1,3,2</b><br>\n",
    "<b>3,2,1 → 1,2,3</b><br>\n",
    "<b>1,1,5 → 1,5,1</b>\n",
    "\n",
    "\n"
   ]
  },
  {
   "cell_type": "markdown",
   "metadata": {},
   "source": [
    "![alt text](\"/image/add_binary.png\")"
   ]
  },
  {
   "cell_type": "markdown",
   "metadata": {},
   "source": [
    "![](image/add_binary.jpg)"
   ]
  },
  {
   "cell_type": "markdown",
   "metadata": {},
   "source": [
    "To illustrate the algorithm with an example, consider nums = [2,3,1,5,4,2]. <br>\n",
    "It is easy to see that i = 2 is the first i (from the right) such that nums[i] < nums[i+1].<br>\n",
    "Then we swap nums[2] = 1 with the smallest number in nums[3:] that is larger than 1, which is nums[5] = 2, after which we get nums = [2,3,2,5,4,1]. <br>\n",
    "To get the lexicographically next greater permutation of nums, we just need to sort nums[3:] = [5,4,1] in-place. <br>\n",
    "Finally, we reach nums = [2,3,2,1,4,5]."
   ]
  },
  {
   "cell_type": "code",
   "execution_count": 3,
   "metadata": {},
   "outputs": [
    {
     "name": "stdout",
     "output_type": "stream",
     "text": [
      "[2, 3, 2, 1, 4, 5]\n",
      "[1, 2, 3]\n",
      "[1, 3, 2]\n",
      "[1, 5, 1]\n"
     ]
    }
   ],
   "source": [
    "#SOLUTION WITHOUT COMMENTS\n",
    "def next_perm(ls):\n",
    "    n = len(ls)\n",
    "    for i in range(n-1, 0, -1):\n",
    "        if ls[i] > ls[i-1]:\n",
    "            j = i\n",
    "            while j < n and ls[j] > ls[i-1]:\n",
    "                idx = j\n",
    "                j += 1\n",
    "            ls[idx], ls[i-1] = ls[i-1], ls[idx]\n",
    "            for k in range((n-i)//2):\n",
    "                ls[i+k], ls[n-1-k] = ls[n-1-k], ls[i+k]\n",
    "            break\n",
    "    else:\n",
    "        ls.reverse()\n",
    "    return ls\n",
    "print(next_perm([2,3,1,5,4,2]))\n",
    "print(next_perm([3,2,1]))\n",
    "print(next_perm([1,2,3]))   \n",
    "print(next_perm([1,1,5]))"
   ]
  },
  {
   "cell_type": "code",
   "execution_count": 2,
   "metadata": {},
   "outputs": [
    {
     "name": "stdout",
     "output_type": "stream",
     "text": [
      "Length of the list : 6\n",
      "Found the first decreasing element ls[i] 5\n",
      "Reset both the pointers 5 3 3\n",
      "[2, 3, 2, 1, 4, 5]\n",
      "Length of the list : 3\n",
      "[1, 2, 3]\n",
      "Length of the list : 3\n",
      "Found the first decreasing element ls[i] 5\n",
      "Reset both the pointers 5 2 2\n",
      "[1, 5, 1]\n",
      "Length of the list : 4\n",
      "[1, 2, 3, 4]\n"
     ]
    }
   ],
   "source": [
    "#SOLUTION WITH COMMENTS\n",
    "def next_perm(ls):\n",
    "    # Find the length of the list\n",
    "    n = len(ls)\n",
    "    print(\"Length of the list :\", len(ls))\n",
    "    # Decreement from last element to the first\n",
    "    for i in range(n-1, 0, -1):\n",
    "        # if last element is greater then last previous. Then  j =i\n",
    "        # find the first decreasing element .in the above example 4\n",
    "        if ls[i] > ls[i-1]:\n",
    "            print(\"Found the first decreasing element ls[i]\",ls[i])\n",
    "            j = i\n",
    "            print(\"Reset both the pointers\",ls[i], i,j)\n",
    "            #Here the pointer has been reset\n",
    "            #find the number find the next element which is greater than 4 \n",
    "            # Here we increement j till we ls[j] is greater than 4 in the above example it is 5\n",
    "            while j < n and ls[j] > ls[i-1]:\n",
    "                idx = j\n",
    "                j += 1\n",
    "            # swap the elements in the list 4 and 5\n",
    "            ls[idx], ls[i-1] = ls[i-1], ls[idx]\n",
    "            # double-slash for “floor” division (rounds down to nearest whole number)\n",
    "            for k in range((n-i)//2):\n",
    "                ls[i+k], ls[n-1-k] = ls[n-1-k], ls[i+k]\n",
    "            break\n",
    "    else:\n",
    "        \n",
    "        ls.reverse()\n",
    "    return ls\n",
    "print(next_perm([2,3,1,5,4,2]))\n",
    "print(next_perm([3,2,1]))\n",
    "print(next_perm([1,1,5]))\n",
    "#If all values are in descending order then we need to only reverse\n",
    "print(next_perm([4,3,2,1]))"
   ]
  },
  {
   "cell_type": "markdown",
   "metadata": {},
   "source": [
    "\n",
    "![alt text](image/np.JPG)"
   ]
  },
  {
   "cell_type": "code",
   "execution_count": 47,
   "metadata": {},
   "outputs": [
    {
     "name": "stdout",
     "output_type": "stream",
     "text": [
      "ls [2, 3, 1, 5, 4, 2]\n",
      "Length of the list : 6\n",
      "\n",
      "FIND FIRST DECREASING ELEMENT\n",
      "First decreasing element ls[i]:i 1 3\n",
      "Reset both the pointers 4 4\n",
      "ls [2, 4, 5, 1, 3, 2]\n",
      "\n",
      "FIND NEXT GREATEST ELEMENT\n",
      "j : 4,len n :6,ls[j]:3,ls[i-1] 1\n",
      "\n",
      "FIND NEXT GREATEST ELEMENT\n",
      "j : 5,len n :6,ls[j]:2,ls[i-1] 1\n",
      "idx is the pointer next greater num, idx 5  ls[idx] 2\n",
      "After swap idx and ls[i-1](this was 2)\n",
      "\n",
      " [2, 4, 5, 2, 3, 1]\n",
      "\n",
      "find (n-i)//2) => (6 - 4 )// 2 = 1\n",
      "\n",
      "REVERSE\n",
      "n 6\n",
      "i 4\n",
      "ls[i] 3\n",
      "(n-i)//2 1\n",
      "k 0\n",
      "ls[i+k] 3\n",
      "ls[n-1] 1\n",
      "ls[n-1-k] 1\n",
      "\n",
      "FIND FIRST DECREASING ELEMENT\n",
      "First decreasing element ls[i]:i 1 1\n",
      "Reset both the pointers 2 2\n",
      "ls [3, 1, 2, 5, 4, 2]\n",
      "\n",
      "FIND NEXT GREATEST ELEMENT\n",
      "j : 2,len n :6,ls[j]:2,ls[i-1] 1\n",
      "\n",
      "FIND NEXT GREATEST ELEMENT\n",
      "j : 3,len n :6,ls[j]:5,ls[i-1] 1\n",
      "\n",
      "FIND NEXT GREATEST ELEMENT\n",
      "j : 4,len n :6,ls[j]:4,ls[i-1] 1\n",
      "\n",
      "FIND NEXT GREATEST ELEMENT\n",
      "j : 5,len n :6,ls[j]:2,ls[i-1] 1\n",
      "idx is the pointer next greater num, idx 5  ls[idx] 2\n",
      "After swap idx and ls[i-1](this was 2)\n",
      "\n",
      " [3, 2, 2, 5, 4, 1]\n",
      "\n",
      "find (n-i)//2) => (6 - 2 )// 2 = 2\n",
      "\n",
      "REVERSE\n",
      "n 6\n",
      "i 2\n",
      "ls[i] 2\n",
      "(n-i)//2 2\n",
      "k 0\n",
      "ls[i+k] 2\n",
      "ls[n-1] 1\n",
      "ls[n-1-k] 1\n",
      "[2, 4, 5, 1, 2, 3]\n"
     ]
    },
    {
     "data": {
      "text/plain": [
       "'print(next_perm([3,2,1]))\\nprint(next_perm([1,1,5]))'"
      ]
     },
     "execution_count": 47,
     "metadata": {},
     "output_type": "execute_result"
    }
   ],
   "source": [
    "def next_perm(ls):\n",
    "    # Find the length of the list\n",
    "    print(\"ls\",ls)\n",
    "    n = len(ls)\n",
    "    print(\"Length of the list :\", len(ls))\n",
    "    # Decreement from last element to the first\n",
    "    for i in range(n-1, 0, -1):\n",
    "        # if last element is greater then last previous. Then  j =i\n",
    "        # find the first decreasing element .in the above example \n",
    "        if ls[i] > ls[i-1]:\n",
    "            print(\"\\nFIND FIRST DECREASING ELEMENT\")\n",
    "            print(\"First decreasing element ls[i]:i\",ls[i-1],i-1)\n",
    "            j = i\n",
    "            print(\"Reset both the pointers\",i,j)\n",
    "            print(\"ls\",ls)\n",
    "            #Here the pointer has been reset\n",
    "            #find the number find the next element which is greater than 4 \n",
    "            # Here we increement j till we ls[j] is greater than 4 in the above example it is 5\n",
    "            while j < n and ls[j] > ls[i-1]:\n",
    "                print(\"\\nFIND NEXT GREATEST ELEMENT\")\n",
    "                print(\"j : {},len n :{},ls[j]:{},ls[i-1] {}\".format(j,n,ls[j],ls[i-1]))\n",
    "                idx = j\n",
    "                j += 1\n",
    "            print(\"idx is the pointer next greater num, idx {}  ls[idx] {}\".format(idx,ls[idx]))\n",
    "            # swap the elements in the list 4 and 5\n",
    "            ls[idx], ls[i-1] = ls[i-1], ls[idx]\n",
    "            print(\"After swap idx and ls[i-1](this was 2)\".format(ls[idx],ls[i-1]))\n",
    "            print(\"\\n\",ls)\n",
    "            # double-slash for “floor” division (rounds down to nearest whole number)\n",
    "            print(\"\\nfind (n-i)//2) => ({} - {} )// 2 = {}\".format(n,i,(n-i)//2))\n",
    "            for k in range((n-i)//2):\n",
    "                print(\"\\nREVERSE\")\n",
    "                print(\"n\",n)\n",
    "                print(\"i\",i)\n",
    "                print(\"ls[i]\",ls[i])\n",
    "                print(\"(n-i)//2\",(n-i)//2)\n",
    "                print(\"k\",k)\n",
    "                print(\"ls[i+k]\",ls[i+k])\n",
    "                print(\"ls[n-1]\",ls[n-1])\n",
    "                print(\"ls[n-1-k]\",ls[n-1-k])\n",
    "                ls[i+k], ls[n-1-k] = ls[n-1-k], ls[i+k]\n",
    "                break\n",
    "        else:\n",
    "            ls.reverse()\n",
    "    return ls\n",
    "print(next_perm([2,3,1,5,4,2]))\n",
    "\"\"\"print(next_perm([3,2,1]))\n",
    "print(next_perm([1,1,5]))\"\"\"\n"
   ]
  },
  {
   "cell_type": "code",
   "execution_count": 35,
   "metadata": {},
   "outputs": [
    {
     "name": "stdout",
     "output_type": "stream",
     "text": [
      "[1, 2, 3]\n",
      "[1, 3, 2]\n",
      "[1, 5, 1]\n"
     ]
    }
   ],
   "source": [
    "#BRUTE FORCE. DOES NOT SOLVE ALL CASE\n",
    "def next_perm(ls):\n",
    "    # Check the max element in the list\n",
    "    max_num=max(ls)\n",
    "    min_num=min(ls)\n",
    "    head =0\n",
    "    tail =len(ls)-1\n",
    "    \n",
    "    #We know the max for the first element has been reached then swap the max element\n",
    "    if ls[0] == max_num:\n",
    "        temp= ls[-1]\n",
    "        ls[-1]=ls[0]\n",
    "        ls[0] =temp\n",
    "        return ls\n",
    "    while head <=tail:\n",
    "        if ls[tail] > ls[tail-1]:\n",
    "            temp= ls[tail]\n",
    "            ls[tail]=ls[tail-1]\n",
    "            ls[tail-1] =temp\n",
    "        return ls\n",
    "        head +=1\n",
    "        tail -=1\n",
    "    return ls\n",
    "    \n",
    "print(next_perm([3,2,1]))\n",
    "print(next_perm([1,2,3]))   \n",
    "print(next_perm([1,1,5]))"
   ]
  }
 ],
 "metadata": {
  "kernelspec": {
   "display_name": "Python 3",
   "language": "python",
   "name": "python3"
  },
  "language_info": {
   "codemirror_mode": {
    "name": "ipython",
    "version": 3
   },
   "file_extension": ".py",
   "mimetype": "text/x-python",
   "name": "python",
   "nbconvert_exporter": "python",
   "pygments_lexer": "ipython3",
   "version": "3.7.0"
  }
 },
 "nbformat": 4,
 "nbformat_minor": 2
}
