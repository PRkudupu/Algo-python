{
 "cells": [
  {
   "cell_type": "markdown",
   "metadata": {},
   "source": [
    "Given a non-empty array of digits representing a non-negative integer, increment one to the integer.\n",
    "\n",
    "The digits are stored such that the most significant digit is at the head of the list, and each element in the array <br>contains a single digit.\n",
    "\n",
    "You may assume the integer does not contain any leading zero, except the number 0 itself.\n",
    "\n",
    " \n",
    "\n",
    "<b>Example 1:</b><br>\n",
    "\n",
    "Input: digits = [1,2,3]<br>\n",
    "Output: [1,2,4]<br>\n",
    "Explanation: The array represents the integer 123.<br>\n",
    "\n",
    "<b>Example 2:</b>\n",
    "\n",
    "Input: digits = [4,3,2,1]<br>\n",
    "Output: [4,3,2,2]<br>\n",
    "Explanation: The array represents the integer 4321.<br>\n",
    "\n",
    "<b>Example 3:</b>\n",
    "\n",
    "Input: digits = [0]<br>\n",
    "Output: [1]<br>\n",
    " \n",
    "\n",
    "Constraints:<br>\n",
    "\n",
    "1 <= digits.length <= 100<br>\n",
    "0 <= digits[i] <= 9"
   ]
  },
  {
   "cell_type": "code",
   "execution_count": 11,
   "metadata": {},
   "outputs": [
    {
     "name": "stdout",
     "output_type": "stream",
     "text": [
      "[5, 9, 9, 0]\n",
      "[1, 0, 0, 0]\n"
     ]
    }
   ],
   "source": [
    "def plus_one(digits):\n",
    "    n = len(digits)\n",
    "    # move along the input array starting from the end\n",
    "    for i in range(n):\n",
    "        idx = n - 1 - i\n",
    "        # set all the nines at the end of array to zeros\n",
    "        if digits[idx] == 9:\n",
    "            digits[idx] = 0\n",
    "        # here we have the rightmost not-nine\n",
    "        else:\n",
    "            # increase this rightmost not-nine by 1 \n",
    "            digits[idx] += 1\n",
    "            # and the job is done\n",
    "            return digits\n",
    "    # we're here because all the digits are nines\n",
    "    return [1] + digits\n",
    "     \n",
    "print(plus_one([5,9,8,9]))\n",
    "print(plus_one([9,9,9])) "
   ]
  },
  {
   "cell_type": "markdown",
   "metadata": {},
   "source": [
    "Complexity Analysis<br>\n",
    "\n",
    "<b>Time complexity : \\mathcal{O}(N)O(N</b>) since it's not more than one pass along the input list.<br>\n",
    "\n",
    "<b>Space complexity : \\mathcal{O}(1)O(1)</b> when digits contains at least one not-nine digit, and \\mathcal{O}(N)O(N) otherwise."
   ]
  },
  {
   "cell_type": "code",
   "execution_count": 7,
   "metadata": {},
   "outputs": [
    {
     "name": "stdout",
     "output_type": "stream",
     "text": [
      "n 4\n",
      "\n",
      "idx 3\n",
      "digits[idx] 9\n",
      "digits[idx] after 0\n",
      "digits [5, 9, 8, 0]\n",
      "\n",
      "idx 2\n",
      "digits[idx] 8\n",
      "[5, 9, 9, 0]\n",
      "n 3\n",
      "\n",
      "idx 2\n",
      "digits[idx] 3\n",
      "[1, 2, 4]\n",
      "n 4\n",
      "\n",
      "idx 3\n",
      "digits[idx] 9\n",
      "digits[idx] after 0\n",
      "digits [4, 9, 9, 0]\n",
      "\n",
      "idx 2\n",
      "digits[idx] 9\n",
      "digits[idx] after 0\n",
      "digits [4, 9, 0, 0]\n",
      "\n",
      "idx 1\n",
      "digits[idx] 9\n",
      "digits[idx] after 0\n",
      "digits [4, 0, 0, 0]\n",
      "\n",
      "idx 0\n",
      "digits[idx] 4\n",
      "[5, 0, 0, 0]\n",
      "n 1\n",
      "\n",
      "idx 0\n",
      "digits[idx] 0\n",
      "[1]\n",
      "n 3\n",
      "\n",
      "idx 2\n",
      "digits[idx] 9\n",
      "digits[idx] after 0\n",
      "digits [9, 9, 0]\n",
      "\n",
      "idx 1\n",
      "digits[idx] 9\n",
      "digits[idx] after 0\n",
      "digits [9, 0, 0]\n",
      "\n",
      "idx 0\n",
      "digits[idx] 9\n",
      "digits[idx] after 0\n",
      "digits [0, 0, 0]\n",
      "[1, 0, 0, 0]\n"
     ]
    }
   ],
   "source": [
    "def plus_one(digits):\n",
    "    n = len(digits)\n",
    "    print(\"n\",n)\n",
    "    # move along the input array starting from the end\n",
    "    for i in range(n):\n",
    "        idx = n - 1 - i\n",
    "        print(\"\\nidx\",idx)\n",
    "        print(\"digits[idx]\",digits[idx])\n",
    "        # set all the nines at the end of array to zeros\n",
    "        if digits[idx] == 9:\n",
    "            digits[idx] = 0\n",
    "        # here we have the rightmost not-nine\n",
    "        else:\n",
    "            # increase this rightmost not-nine by 1 \n",
    "            digits[idx] += 1\n",
    "            # and the job is done\n",
    "            return digits\n",
    "        print(\"digits[idx] after\",digits[idx])  \n",
    "        print(\"digits\",digits)  \n",
    "    # we're here because all the digits are nines\n",
    "    return [1] + digits\n",
    "     \n",
    "print(plus_one([5,9,8,9]))\n",
    "    \n",
    " \n",
    "print(plus_one([1,2,3]))  \n",
    "print(plus_one([4,9,9,9]))  \n",
    "print(plus_one([0])) \n",
    "print(plus_one([9,9,9])) \n",
    "        "
   ]
  },
  {
   "cell_type": "code",
   "execution_count": 10,
   "metadata": {},
   "outputs": [
    {
     "name": "stdout",
     "output_type": "stream",
     "text": [
      "[1, 2, 4]\n",
      "[4, 9, 10, 0]\n",
      "[1]\n",
      "[9, 10, 0]\n"
     ]
    }
   ],
   "source": [
    "#brute force method.This would not satisfy all the case\n",
    "def plus_one(ls):\n",
    "    if len(ls)==1 and ls[0]==9:\n",
    "        return [10]\n",
    "    elif ls[-1]== 9:\n",
    "        ls[-2]=ls[-2]+1\n",
    "        ls[-1]=0\n",
    "    else:\n",
    "         ls[-1]=ls[-1]+1\n",
    "    return ls\n",
    "print(plus_one([1,2,3]))  \n",
    "print(plus_one([4,9,9,9]))  \n",
    "print(plus_one([0])) \n",
    "print(plus_one([9,9,9])) "
   ]
  },
  {
   "cell_type": "code",
   "execution_count": null,
   "metadata": {},
   "outputs": [],
   "source": []
  }
 ],
 "metadata": {
  "kernelspec": {
   "display_name": "Python 3",
   "language": "python",
   "name": "python3"
  },
  "language_info": {
   "codemirror_mode": {
    "name": "ipython",
    "version": 3
   },
   "file_extension": ".py",
   "mimetype": "text/x-python",
   "name": "python",
   "nbconvert_exporter": "python",
   "pygments_lexer": "ipython3",
   "version": "3.7.0"
  }
 },
 "nbformat": 4,
 "nbformat_minor": 2
}
