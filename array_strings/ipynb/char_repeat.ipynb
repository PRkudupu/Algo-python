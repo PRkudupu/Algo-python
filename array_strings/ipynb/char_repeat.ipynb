{
 "cells": [
  {
   "cell_type": "markdown",
   "metadata": {},
   "source": [
    "Write a function to return the number of times a character appears in a string. The character can be the empty string.<br>\n",
    "s=<b/>\"missi sipi\"</b>  <br>\n",
    "op= <b>\"'m': 1, 'i': 4, 's': 2, ' ': 1, 'p': 2\"</b>"
   ]
  },
  {
   "cell_type": "code",
   "execution_count": 3,
   "metadata": {},
   "outputs": [
    {
     "name": "stdout",
     "output_type": "stream",
     "text": [
      "{'m': 1, 'i': 4, 's': 2, ' ': 1, 'p': 2}\n"
     ]
    }
   ],
   "source": [
    "def char_repeat(s):\n",
    "    dic={}\n",
    "    for ch in s:\n",
    "        dic[ch]=dic.get(ch,0)+1\n",
    "    return dic\n",
    "ls=\"misi isppi\"\n",
    "print(char_repeat(ls))\n",
    "    "
   ]
  },
  {
   "cell_type": "code",
   "execution_count": null,
   "metadata": {},
   "outputs": [],
   "source": []
  }
 ],
 "metadata": {
  "kernelspec": {
   "display_name": "Python 3",
   "language": "python",
   "name": "python3"
  },
  "language_info": {
   "codemirror_mode": {
    "name": "ipython",
    "version": 3
   },
   "file_extension": ".py",
   "mimetype": "text/x-python",
   "name": "python",
   "nbconvert_exporter": "python",
   "pygments_lexer": "ipython3",
   "version": "3.8.5"
  }
 },
 "nbformat": 4,
 "nbformat_minor": 4
}
