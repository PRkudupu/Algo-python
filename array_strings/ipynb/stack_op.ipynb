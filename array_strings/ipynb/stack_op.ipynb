{
 "cells": [
  {
   "cell_type": "code",
   "execution_count": 5,
   "metadata": {},
   "outputs": [
    {
     "name": "stdout",
     "output_type": "stream",
     "text": [
      "stack[0]    open\n",
      "stack[1]    close\n",
      "stack.pop()    open\n",
      "stack[0]     close\n",
      "stack.pop()    close\n"
     ]
    }
   ],
   "source": [
    "def stack_op():\n",
    "    stack =[]\n",
    "    stack.append(\"open\")\n",
    "    stack.append(\"close\")\n",
    "    print(\"stack[0]   \",stack[0])\n",
    "    print(\"stack[1]   \",stack[1])\n",
    "    #Remove the item at the given position in the list, and return it. \n",
    "    #If no index is specified, a.pop() removes and returns the last item in the list\n",
    "    print(\"stack.pop()   \",stack.pop(0))\n",
    "    print(\"stack[0]    \",stack[0])\n",
    "    print(\"stack.pop()   \",stack.pop())\n",
    "stack_op()"
   ]
  },
  {
   "cell_type": "code",
   "execution_count": null,
   "metadata": {},
   "outputs": [],
   "source": []
  }
 ],
 "metadata": {
  "kernelspec": {
   "display_name": "Python 3",
   "language": "python",
   "name": "python3"
  },
  "language_info": {
   "codemirror_mode": {
    "name": "ipython",
    "version": 3
   },
   "file_extension": ".py",
   "mimetype": "text/x-python",
   "name": "python",
   "nbconvert_exporter": "python",
   "pygments_lexer": "ipython3",
   "version": "3.7.0"
  }
 },
 "nbformat": 4,
 "nbformat_minor": 2
}
