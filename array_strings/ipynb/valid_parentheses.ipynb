{
 "cells": [
  {
   "cell_type": "markdown",
   "metadata": {},
   "source": [
    "## Given a string containing just the characters '(', ')', '{', '}', '[' and ']', \n",
    "## determine if the input string is valid.\n",
    "\n",
    "An input string is valid if:\n",
    "\n",
    "Open brackets must be closed by the same type of brackets.\n",
    "\n",
    "Open brackets must be closed in the correct order.\n",
    "Note that an empty string is also considered valid.\n",
    "\n",
    "<b>Example 1:</b>\n",
    "\n",
    "Input: \"()\"\n",
    "Output: true\n",
    "\n",
    "<b>Example 2:</b>\n",
    "\n",
    "Input: \"()[]{}\"\n",
    "Output: true\n",
    "\n",
    "<b>Example 3:</b>\n",
    "\n",
    "Input: \"(]\"\n",
    "Output: false\n",
    "\n",
    "<b>Example 4:</b>\n",
    "\n",
    "Input: \"([)]\"\n",
    "Output: false\n",
    "\n",
    "<b>Example 5:</b>\n",
    "\n",
    "Input: \"{[]}\"\n",
    "\n",
    "<b>Output: true</b>\n",
    "\n",
    "<br>\n",
    "Note: else condition would ignore any other characters"
   ]
  },
  {
   "cell_type": "markdown",
   "metadata": {},
   "source": [
    "#### Simple Python solution with stack"
   ]
  },
  {
   "cell_type": "code",
   "execution_count": 2,
   "metadata": {},
   "outputs": [
    {
     "name": "stdout",
     "output_type": "stream",
     "text": [
      "True\n"
     ]
    }
   ],
   "source": [
    "def valid_param(ls):\n",
    "    dic = { \"}\":\"{\",\"]\":\"[\",\"(\":\")\" }\n",
    "    stack =[]\n",
    "    for ch in ls:\n",
    "        if ch in dic.values():\n",
    "            stack.append(ch)\n",
    "        elif ch in dic.keys():\n",
    "            if stack == [] or stack.pop() != dic[ch]:\n",
    "                return False\n",
    "        else:\n",
    "            continue\n",
    "    return stack == []\n",
    "print(valid_param(\"a{}dfd\"))"
   ]
  },
  {
   "cell_type": "code",
   "execution_count": 12,
   "metadata": {},
   "outputs": [
    {
     "name": "stdout",
     "output_type": "stream",
     "text": [
      "char (\n",
      "stack []\n",
      "index 0\n",
      "inside if char (\n",
      "inside if stack ['(']\n",
      "char )\n",
      "stack ['(']\n",
      "index 1\n",
      "elif stack ['(']\n",
      "char )\n",
      "dic[char] (\n",
      "char {\n",
      "stack []\n",
      "index 2\n",
      "inside if char {\n",
      "inside if stack ['{']\n"
     ]
    },
    {
     "data": {
      "text/plain": [
       "False"
      ]
     },
     "execution_count": 12,
     "metadata": {},
     "output_type": "execute_result"
    }
   ],
   "source": [
    "def is_valid_parentheses(s):\n",
    "    stack = []\n",
    "    dict = {\"]\":\"[\", \"}\":\"{\", \")\":\"(\"}\n",
    "    for char in s:\n",
    "        print(\"char {}\".format(char))\n",
    "        print(\"stack {}\".format(stack))\n",
    "        print(\"index {}\".format(s.index(char)))\n",
    "        if char in dict.values():\n",
    "            stack.append(char)\n",
    "            print(\"inside if char {}\".format(char))\n",
    "            print(\"inside if stack {}\".format(stack))\n",
    "        elif char in dict.keys():\n",
    "            print(\"elif stack {}\".format(stack))\n",
    "            print(\"char\",char)\n",
    "            print(\"dic[char]\",dict[char])\n",
    "            if stack == [] or dict[char] != stack.pop():\n",
    "                print(\"after pop {}\".format(stack))\n",
    "                return False\n",
    "        else:\n",
    "            print(\"else\")\n",
    "            return False\n",
    "    return stack == []\n",
    "is_valid_parentheses(\"(){\")"
   ]
  },
  {
   "cell_type": "code",
   "execution_count": 5,
   "metadata": {
    "scrolled": true
   },
   "outputs": [
    {
     "data": {
      "text/plain": [
       "False"
      ]
     },
     "execution_count": 5,
     "metadata": {},
     "output_type": "execute_result"
    }
   ],
   "source": []
  },
  {
   "cell_type": "code",
   "execution_count": null,
   "metadata": {},
   "outputs": [],
   "source": []
  }
 ],
 "metadata": {
  "kernelspec": {
   "display_name": "Python 3",
   "language": "python",
   "name": "python3"
  },
  "language_info": {
   "codemirror_mode": {
    "name": "ipython",
    "version": 3
   },
   "file_extension": ".py",
   "mimetype": "text/x-python",
   "name": "python",
   "nbconvert_exporter": "python",
   "pygments_lexer": "ipython3",
   "version": "3.7.0"
  }
 },
 "nbformat": 4,
 "nbformat_minor": 2
}
