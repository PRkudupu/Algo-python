{
 "cells": [
  {
   "cell_type": "markdown",
   "metadata": {},
   "source": [
    "#### Given a string, find the first non-repeating character in it and return it's index. If it doesn't exist, return -1.\n",
    "\n",
    "Examples:\n",
    "\n",
    "s = \"leetcode\"\n",
    "\n",
    "<b>return 0.</b>\n",
    "\n",
    "s = \"loveleetcode\",\n",
    "\n",
    "<b>return 2.</b>\n"
   ]
  },
  {
   "cell_type": "code",
   "execution_count": 3,
   "metadata": {},
   "outputs": [
    {
     "name": "stdout",
     "output_type": "stream",
     "text": [
      "3\n"
     ]
    }
   ],
   "source": [
    "def firstUniqChar(s):\n",
    "        \"\"\"\n",
    "        :type s: str\n",
    "        :rtype: int\n",
    "        \"\"\"\n",
    "        dic ={}\n",
    "        for i in range(len(s)):\n",
    "            if s[i] in dic.keys():\n",
    "                continue\n",
    "            else:\n",
    "                if s.count(s[i]) == 1:\n",
    "                    return i\n",
    "                else:\n",
    "                    dic[s[i]]=s.count(s[i])\n",
    "            \n",
    "        return -1\n",
    "\n",
    "print(firstUniqChar(\"saspa\"))"
   ]
  },
  {
   "cell_type": "code",
   "execution_count": 2,
   "metadata": {},
   "outputs": [
    {
     "name": "stdout",
     "output_type": "stream",
     "text": [
      "st[i] s\n",
      "dic {}\n",
      "count 2\n",
      "st[i] a\n",
      "dic {'s': 2}\n",
      "count 2\n",
      "st[i] p\n",
      "dic {'s': 2, 'a': 2}\n",
      "count 1\n",
      "2\n"
     ]
    }
   ],
   "source": [
    "def f_dup(st):\n",
    "    dic = {}\n",
    "    for i in range(len(st)):\n",
    "        print(\"st[i]\",st[i])\n",
    "        print(\"dic\",dic)\n",
    "        print(\"count\",st.count(st[i]) )\n",
    "        if st[i] in dic.keys():\n",
    "            print(\"inside if\")\n",
    "            continue\n",
    "        else:\n",
    "            if st.count(st[i]) == 1:\n",
    "                return i\n",
    "            else:\n",
    "                dic[st[i]]=st.count(st[i])\n",
    "    return -1\n",
    "print(f_dup(\"sapsa\"))"
   ]
  },
  {
   "cell_type": "code",
   "execution_count": null,
   "metadata": {},
   "outputs": [],
   "source": []
  }
 ],
 "metadata": {
  "kernelspec": {
   "display_name": "Python 3",
   "language": "python",
   "name": "python3"
  },
  "language_info": {
   "codemirror_mode": {
    "name": "ipython",
    "version": 3
   },
   "file_extension": ".py",
   "mimetype": "text/x-python",
   "name": "python",
   "nbconvert_exporter": "python",
   "pygments_lexer": "ipython3",
   "version": "3.7.0"
  }
 },
 "nbformat": 4,
 "nbformat_minor": 2
}
