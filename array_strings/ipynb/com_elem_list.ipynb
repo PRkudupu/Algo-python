{
 "cells": [
  {
   "cell_type": "markdown",
   "metadata": {},
   "source": [
    "### Given 2 list retun new list which has the elements which are not repeated in \n",
    "<b>Input</b>\n",
    "s1=[1,2,3]\n",
    "\n",
    "s2=[3,4,5]\n",
    "\n",
    "<b>output </b>\n",
    "[1,2,4,5]"
   ]
  },
  {
   "cell_type": "code",
   "execution_count": 5,
   "metadata": {},
   "outputs": [
    {
     "name": "stdout",
     "output_type": "stream",
     "text": [
      "[1, 2, 4, 5]\n"
     ]
    }
   ],
   "source": [
    "def no_repeat_list(s1,s2):\n",
    "    new_list = []\n",
    "    for i in s1:\n",
    "        if i not in s2:\n",
    "            new_list.append(i)\n",
    "    for j in s2:\n",
    "        if j not in s1:\n",
    "            new_list.append(j)\n",
    "    return new_list\n",
    "\n",
    "print(no_repeat_list([1,2,3],[3,4,5]))\n",
    "            "
   ]
  },
  {
   "cell_type": "code",
   "execution_count": null,
   "metadata": {},
   "outputs": [],
   "source": []
  }
 ],
 "metadata": {
  "kernelspec": {
   "display_name": "Python 3",
   "language": "python",
   "name": "python3"
  },
  "language_info": {
   "codemirror_mode": {
    "name": "ipython",
    "version": 3
   },
   "file_extension": ".py",
   "mimetype": "text/x-python",
   "name": "python",
   "nbconvert_exporter": "python",
   "pygments_lexer": "ipython3",
   "version": "3.7.0"
  }
 },
 "nbformat": 4,
 "nbformat_minor": 2
}
