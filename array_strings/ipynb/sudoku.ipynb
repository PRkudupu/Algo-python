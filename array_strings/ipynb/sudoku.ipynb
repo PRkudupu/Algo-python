{
 "cells": [
  {
   "cell_type": "markdown",
   "metadata": {},
   "source": [
    "Sudoku is a logic puzzle where a game is defined by a partially filled 9 x 9 square of digits where each square contains one of the digits 1, 2, 3, 4, 5, 6, 7, 8, 9. For this question we will generalize and simplify the game.\n",
    "\n",
    "Define a procedure, check_sudoku, that takes as input a square list of lists representing an n x n sudoku puzzle solution and returns the boolean True if the input is a valid sudoku square and returns the boolean False otherwise.\n",
    "\n",
    "A valid sudoku square satisfies these two properties:\n",
    "\n",
    "* Each column of the square contains each of the whole numbers from 1 to n exactly once.\n",
    "\n",
    "* Each row of the square contains each of the whole numbers from 1 to n exactly once."
   ]
  },
  {
   "cell_type": "code",
   "execution_count": 1,
   "metadata": {},
   "outputs": [
    {
     "name": "stdout",
     "output_type": "stream",
     "text": [
      "True\n"
     ]
    }
   ],
   "source": [
    "def check_sudoku(square):\n",
    "    for row in square:\n",
    "        check_list = list(range(1, len(square[0]) + 1))\n",
    "        # Create a list with the integers 1, 2, ..., n.\n",
    "        # We will check that each number in the row is in the list\n",
    "        # and remove the numbers from the list once they are verified\n",
    "        # to ensure that each number only occurs once in the row.\n",
    "        for i in row:\n",
    "            if i not in check_list:\n",
    "                return False\n",
    "            check_list.remove(i)\n",
    "    for n in range(len(square[0])):\n",
    "        # We do the same here for each column in the square.\n",
    "        check_list = list(range(1, len(square[0]) + 1))\n",
    "        for row in square:\n",
    "            if row[n] not in check_list:\n",
    "                return False\n",
    "            check_list.remove(row[n])\n",
    "    return True\n",
    "correct = [[1,2,3],\n",
    "           [2,3,1],\n",
    "           [3,1,2]]\n",
    "print(check_sudoku(correct))"
   ]
  },
  {
   "cell_type": "code",
   "execution_count": 6,
   "metadata": {},
   "outputs": [
    {
     "name": "stdout",
     "output_type": "stream",
     "text": [
      "False\n"
     ]
    }
   ],
   "source": [
    "correct = [[1,2,3],\n",
    "           [2,3,1],\n",
    "           [3,1,2]]\n",
    "\n",
    "incorrect = [[1,2,3,4],\n",
    "             [2,3,1,3],\n",
    "             [3,1,2,3],\n",
    "             [4,4,4,4]]\n",
    "\n",
    "incorrect2 = [[1,2,3,4],\n",
    "             [2,3,1,4],\n",
    "             [4,1,2,3],\n",
    "             [3,4,1,2]]\n",
    "\n",
    "incorrect3 = [[1,2,3,4,5],\n",
    "              [2,3,1,5,6],\n",
    "              [4,5,2,1,3],\n",
    "              [3,4,5,2,1],\n",
    "              [5,6,4,3,2]]\n",
    "\n",
    "incorrect4 = [['a','b','c'],\n",
    "              ['b','c','a'],\n",
    "              ['c','a','b']]\n",
    "\n",
    "incorrect5 = [ [1, 1.5],\n",
    "               [1.5, 1]]\n",
    "\n",
    "print(check_sudoku(incorrect5))\n"
   ]
  },
  {
   "cell_type": "code",
   "execution_count": 18,
   "metadata": {},
   "outputs": [],
   "source": [
    "def sudoku(square):\n",
    "    for row in square:\n",
    "        check_list = list(range(1, len(square[0]) + 1))\n",
    "        for i in row:\n",
    "            if i not in check_list:\n",
    "                return False\n",
    "            check_list.remove(i)\n",
    "        print(\"ans\",square[2][1])\n",
    "    for n in range(len(square[0])):\n",
    "        print(n)\n",
    "        check_list = list(range(1, len(square[0]) + 1))\n",
    "        for row in square:\n",
    "            print(\"row\",row)\n",
    "            print(\"row[n]\",row[n])\n",
    "            if row[n] not in check_list:\n",
    "                return False\n",
    "            check_list.remove(row[n])\n",
    "    return True"
   ]
  },
  {
   "cell_type": "code",
   "execution_count": null,
   "metadata": {},
   "outputs": [],
   "source": []
  }
 ],
 "metadata": {
  "kernelspec": {
   "display_name": "Python 3",
   "language": "python",
   "name": "python3"
  },
  "language_info": {
   "codemirror_mode": {
    "name": "ipython",
    "version": 3
   },
   "file_extension": ".py",
   "mimetype": "text/x-python",
   "name": "python",
   "nbconvert_exporter": "python",
   "pygments_lexer": "ipython3",
   "version": "3.7.0"
  }
 },
 "nbformat": 4,
 "nbformat_minor": 2
}
