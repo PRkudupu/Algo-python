{
 "cells": [
  {
   "cell_type": "markdown",
   "metadata": {},
   "source": [
    "Roman numerals are represented by seven different symbols: I, V, X, L, C, D and M.\n",
    "\n",
    "Symbol       Value\n",
    "I             1 <br>\n",
    "V             5 <br>\n",
    "X             10 <br>\n",
    "L             50 <br>\n",
    "C             100 <br>\n",
    "D             500 <br>\n",
    "M             1000 <br>\n",
    "For example, two is written as II in Roman numeral, just two one's added together. Twelve is written as, XII, which is simply X + II. The number twenty seven is written as XXVII, which is XX + V + II.\n",
    "\n",
    "Roman numerals are usually written largest to smallest from left to right. However, the numeral for four is not IIII. Instead, the number four is written as IV. Because the one is before the five we subtract it making four. The same principle applies to the number nine, which is written as IX. There are six instances where subtraction is used:\n",
    "\n",
    "I can be placed before V (5) and X (10) to make 4 and 9. \n",
    "X can be placed before L (50) and C (100) to make 40 and 90. \n",
    "C can be placed before D (500) and M (1000) to make 400 and 900.\n",
    "Given a roman numeral, convert it to an integer. Input is guaranteed to be within the range from 1 to 3999.\n",
    "\n",
    "<b>Example 1:</b>\n",
    "\n",
    "Input: \"III\"\n",
    "Output: 3\n",
    "<br>\n",
    "\n",
    "<b>Example 2: </b>\n",
    "\n",
    "Input: \"IV\"\n",
    "Output: 4\n",
    "<br>\n",
    "\n",
    "<b>Example 3:</b>\n",
    "\n",
    "Input: \"IX\"\n",
    "Output: 9\n",
    "<br>\n",
    "\n",
    "<b>Example 4:</b>\n",
    "\n",
    "Input: \"LVIII\"\n",
    "Output: 58\n",
    "Explanation: L = 50, V= 5, III = 3.\n",
    "<br>\n",
    "\n",
    "<b>Example 5:</b>\n",
    "\n",
    "Input: \"MCMXCIV\"\n",
    "Output: 1994\n",
    "Explanation: M = 1000, CM = 900, XC = 90 and IV = 4.\n",
    "<br>\n",
    "   Hide Hint #1  \n",
    "I - 1\n",
    "V - 5\n",
    "X - 10\n",
    "L - 50\n",
    "C - 100\n",
    "D - 500\n",
    "M - 1000\n",
    "<br>\n",
    "   Hide Hint #2  \n",
    "Rules:\n",
    "* If I comes before V or X, subtract 1 eg: IV = 4 and IX = 9\n",
    "* If X comes before L or C, subtract 10 eg: XL = 40 and XC = 90\n",
    "* If C comes before D or M, subtract 100 eg: CD = 400 and CM = 900\n",
    "\n",
    "<b>Solution</b>:<br>\n",
    "* we store all the roman characters as key value pairs in dictionary\n",
    "* The trick is that the last letter is always added. Except the last one, if one letter is less than its latter one, this letter is subtracted"
   ]
  },
  {
   "cell_type": "code",
   "execution_count": 5,
   "metadata": {},
   "outputs": [
    {
     "name": "stdout",
     "output_type": "stream",
     "text": [
      "5\n",
      "4\n",
      "9\n",
      "58\n",
      "1994\n"
     ]
    }
   ],
   "source": [
    "def rom_to_int(ls):\n",
    "    dic ={'I':1,'V':5,'X':10,'L':50,'C':100,'D':500,'M':1000}\n",
    "    result =0\n",
    "    ls=ls.upper()\n",
    "    for i in range(len(ls)-1):\n",
    "        if dic[ls[i]] < dic[ls[i+1]]:\n",
    "            result -= dic[ls[i]]\n",
    "        else:                    \n",
    "            result += dic[ls[i]]\n",
    "    return result  +dic[ls[-1]]\n",
    "print(rom_to_int(\"V\"))\n",
    "print(rom_to_int(\"IV\"))\n",
    "print(rom_to_int(\"IX\"))\n",
    "print(rom_to_int(\"LVIII\"))\n",
    "print(rom_to_int(\"MCMXCIV\"))"
   ]
  },
  {
   "cell_type": "code",
   "execution_count": 4,
   "metadata": {},
   "outputs": [
    {
     "name": "stdout",
     "output_type": "stream",
     "text": [
      "result -1\n",
      "ls[-1] V\n",
      "5\n",
      "4\n"
     ]
    },
    {
     "data": {
      "text/plain": [
       "'print(rom_to_int(\"IX\"))\\nprint(rom_to_int(\"LVIII\"))\\nprint(rom_to_int(\"MCMXCIV\"))'"
      ]
     },
     "execution_count": 4,
     "metadata": {},
     "output_type": "execute_result"
    }
   ],
   "source": [
    "def rom_to_Integer(ls):\n",
    "    dic ={'I':1,'V':5,'X':10,'L':50,'C':100,'D':500,'M':1000}\n",
    "    result =0\n",
    "    ls=ls.upper()\n",
    "    for i in range(len(ls)-1):\n",
    "        if dic[ls[i]] < dic[ls[i+1]]:\n",
    "            result -= dic[ls[i]]\n",
    "        else:                    \n",
    "            result += dic[ls[i]]\n",
    "        print(\"result\",result)\n",
    "    print(\"ls[-1]\",ls[-1])\n",
    "    print(dic[ls[-1]])\n",
    "    return result +  dic[ls[-1]]     \n",
    "\n",
    "print(rom_to_Integer(\"IV\"))\n",
    "#print(rom_to_int(\"IV\"))\n",
    "\"\"\"print(rom_to_int(\"IX\"))\n",
    "print(rom_to_int(\"LVIII\"))\n",
    "print(rom_to_int(\"MCMXCIV\"))\"\"\""
   ]
  },
  {
   "cell_type": "code",
   "execution_count": null,
   "metadata": {},
   "outputs": [],
   "source": []
  }
 ],
 "metadata": {
  "kernelspec": {
   "display_name": "Python 3",
   "language": "python",
   "name": "python3"
  },
  "language_info": {
   "codemirror_mode": {
    "name": "ipython",
    "version": 3
   },
   "file_extension": ".py",
   "mimetype": "text/x-python",
   "name": "python",
   "nbconvert_exporter": "python",
   "pygments_lexer": "ipython3",
   "version": "3.7.0"
  }
 },
 "nbformat": 4,
 "nbformat_minor": 2
}
