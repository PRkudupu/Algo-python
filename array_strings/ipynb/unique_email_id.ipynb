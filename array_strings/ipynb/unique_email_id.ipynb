{
 "cells": [
  {
   "cell_type": "markdown",
   "metadata": {},
   "source": [
    "<b>Every email consists of a local name and a domain name, separated by the @ sign.</b>\n",
    "\n",
    "For example, in alice@leetcode.com, alice is the local name, and leetcode.com is the domain name.\n",
    "\n",
    "Besides lowercase letters, these emails may contain '.'s or '+'s.\n",
    "\n",
    "If you add periods ('.') between some characters in the local name part of an email address, mail sent there \n",
    "\n",
    "will be forwarded to the same address without dots in the local name.  \n",
    "\n",
    "For example, \"alice.z@leetcode.com\" and \"alicez@leetcode.com\" forward to the same email address.  \n",
    "(Note that this rule does not apply for domain names.)\n",
    "\n",
    "If you add a plus ('+') in the local name, everything after the first plus sign will be ignored. \n",
    "This allows certain emails to be filtered, for example m.y+name@email.com will be forwarded to my@email.com.  \n",
    "(Again, this rule does not apply for domain names.)\n",
    "\n",
    "It is possible to use both of these rules at the same time.\n",
    "\n",
    "Given a list of emails, we send one email to each address in the list.  \n",
    "How many different addresses actually receive mails? \n",
    "\n",
    " \n",
    "\n",
    "Example 1:\n",
    "\n",
    "Input: [\"test.email+alex@leetcode.com\",\"test.e.mail+bob.cathy@leetcode.com\",\"testemail+david@lee.tcode.com\"]\n",
    "Output: 2\n",
    "Explanation: \"testemail@leetcode.com\" and \"testemail@lee.tcode.com\" actually receive mails\n",
    " \n",
    "\n",
    "Note:\n",
    "\n",
    "1 <= emails[i].length <= 100\n",
    "1 <= emails.length <= 100\n",
    "Each emails[i] contains exactly one '@' character.<b>"
   ]
  },
  {
   "cell_type": "markdown",
   "metadata": {},
   "source": [
    "<b>Solution</b><br>\n",
    "For each email address, convert it to the canonical address that actually receives the mail. This involves a few steps:\n",
    "\n",
    "* Separate the email address into a local part and the rest of the address.\n",
    "\n",
    "* If the local part has a '+' character, remove it and everything beyond it from the local part.\n",
    "\n",
    "* Remove all the zeros from the local part.\n",
    "\n",
    "* The canonical address is local + rest."
   ]
  },
  {
   "cell_type": "code",
   "execution_count": 1,
   "metadata": {},
   "outputs": [],
   "source": [
    "def unique_email(ls):\n",
    "    #use set to store unique email\n",
    "    seen=set()\n",
    "    for email in ls:\n",
    "        #split local and domain name\n",
    "        local, domain = email.split('@')\n",
    "        if '+' in local:\n",
    "            local =local[:local.index('+')]\n",
    "        seen.add(local.replace('.','')+ '@' + domain)\n",
    "    return len(seen)"
   ]
  },
  {
   "cell_type": "code",
   "execution_count": 2,
   "metadata": {},
   "outputs": [
    {
     "name": "stdout",
     "output_type": "stream",
     "text": [
      "2\n"
     ]
    }
   ],
   "source": [
    "print(unique_email([\"test.email+alex@leetcode.com\",\"test.e.mail+bob.cathy@leetcode.com\",\"testemail+david@lee.tcode.com\"]))"
   ]
  },
  {
   "cell_type": "code",
   "execution_count": null,
   "metadata": {},
   "outputs": [],
   "source": [
    "#brute force does not satisfy one condition\n",
    "def unique_email_address(email):\n",
    "    dic={}\n",
    "    for em in email:\n",
    "        user_info=em.split(\"@\")\n",
    "        user_name_filter_dot=str(user_info[0]).replace(\".\",\"\")\n",
    "        if user_name_filter_dot.find(\"+\") !=-1:\n",
    "            user_name_remove_plus=user_name_filter_dot.split(\"+\")\n",
    "            print(\"user_name_remove_plus\",user_name_remove_plus[0])\n",
    "            user_name=user_name_remove_plus[0]\n",
    "            dic[user_info[1]]=user_name\n",
    "        else:\n",
    "            dic[user_info[1]]=user_name_filter_dot\n",
    "    return len(dic)      \n",
    "\n",
    "print(unique_email_address([\"test.email+alex@leetcode.com\",\"test.e.mail+bob.cathy@leetcode.com\",\"testemail+david@lee.tcode.com\"]))\n",
    "    "
   ]
  }
 ],
 "metadata": {
  "kernelspec": {
   "display_name": "Python 3",
   "language": "python",
   "name": "python3"
  },
  "language_info": {
   "codemirror_mode": {
    "name": "ipython",
    "version": 3
   },
   "file_extension": ".py",
   "mimetype": "text/x-python",
   "name": "python",
   "nbconvert_exporter": "python",
   "pygments_lexer": "ipython3",
   "version": "3.8.5"
  }
 },
 "nbformat": 4,
 "nbformat_minor": 2
}
