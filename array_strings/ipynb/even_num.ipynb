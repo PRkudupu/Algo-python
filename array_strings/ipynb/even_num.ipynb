{
 "cells": [
  {
   "cell_type": "markdown",
   "metadata": {},
   "source": [
    "#### Even numbers\n",
    "Let’s say I give you a list saved in a variable:\n",
    "\n",
    "<b>a = [1,2,3,4,10].</b>\n",
    "Write one line of Python that takes this list a and makes a new list that has only the even elements of this list in it.\n",
    "\n",
    "output = <b>[2,4,10] </b>"
   ]
  },
  {
   "cell_type": "code",
   "execution_count": 2,
   "metadata": {},
   "outputs": [
    {
     "name": "stdout",
     "output_type": "stream",
     "text": [
      "[2, 4, 10]\n"
     ]
    }
   ],
   "source": [
    "def even_num(ls):\n",
    "    return [num for num in ls if num % 2 == 0]\n",
    "print(even_num([1,2,3,4,10]))"
   ]
  }
 ],
 "metadata": {
  "kernelspec": {
   "display_name": "Python 3",
   "language": "python",
   "name": "python3"
  },
  "language_info": {
   "codemirror_mode": {
    "name": "ipython",
    "version": 3
   },
   "file_extension": ".py",
   "mimetype": "text/x-python",
   "name": "python",
   "nbconvert_exporter": "python",
   "pygments_lexer": "ipython3",
   "version": "3.7.0"
  }
 },
 "nbformat": 4,
 "nbformat_minor": 2
}
