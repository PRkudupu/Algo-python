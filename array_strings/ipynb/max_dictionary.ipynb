{
 "cells": [
  {
   "cell_type": "markdown",
   "metadata": {},
   "source": [
    "Given an dictionary find the max value in a dictionary. Return the key with the max value<br><br>\n",
    " <b>dic ={'a':1,'b':3,'c':2} \n",
    " \n",
    "op=b"
   ]
  },
  {
   "cell_type": "code",
   "execution_count": 4,
   "metadata": {},
   "outputs": [
    {
     "name": "stdout",
     "output_type": "stream",
     "text": [
      "b\n"
     ]
    }
   ],
   "source": [
    "def max_dic_key(dic):\n",
    "    return max(dic,key=dic.get)\n",
    "dic ={'a':1,'b':3,'c':2} \n",
    "print(max_dic(dic))"
   ]
  },
  {
   "cell_type": "code",
   "execution_count": 3,
   "metadata": {},
   "outputs": [
    {
     "name": "stdout",
     "output_type": "stream",
     "text": [
      "3\n"
     ]
    }
   ],
   "source": [
    "def max_dic_value(dic):\n",
    "    max_key=max(dic,key=dic.get)\n",
    "    for k,y in dic.items():\n",
    "        if k==max_key:\n",
    "            return y\n",
    "dic ={'a':1,'b':3,'c':2} \n",
    "print(max_dic_value(dic))"
   ]
  },
  {
   "cell_type": "code",
   "execution_count": null,
   "metadata": {},
   "outputs": [],
   "source": []
  }
 ],
 "metadata": {
  "kernelspec": {
   "display_name": "Python 3",
   "language": "python",
   "name": "python3"
  },
  "language_info": {
   "codemirror_mode": {
    "name": "ipython",
    "version": 3
   },
   "file_extension": ".py",
   "mimetype": "text/x-python",
   "name": "python",
   "nbconvert_exporter": "python",
   "pygments_lexer": "ipython3",
   "version": "3.8.5"
  }
 },
 "nbformat": 4,
 "nbformat_minor": 4
}
