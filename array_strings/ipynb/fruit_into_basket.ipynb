{
 "cells": [
  {
   "cell_type": "markdown",
   "metadata": {},
   "source": [
    "n a row of trees, the i-th tree produces fruit with type tree[i].\n",
    "\n",
    "You start at any tree of your choice, then repeatedly perform the following steps:\n",
    "\n",
    "Add one piece of fruit from this tree to your baskets.  If you cannot, stop.\n",
    "Move to the next tree to the right of the current tree.  If there is no tree to the right, stop.\n",
    "Note that you do not have any choice after the initial choice of starting tree: you must perform step 1, then step 2, then back to step 1, then step 2, and so on until you stop.\n",
    "\n",
    "You have two baskets, and each basket can carry any quantity of fruit, but you want each basket to only carry one type of fruit each.\n",
    "\n",
    "What is the total amount of fruit you can collect with this procedure?\n",
    "\n",
    " \n",
    "\n",
    "Example 1:\n",
    "\n",
    "<b>Input: [1,2,1] \n",
    "\n",
    "Output: 3</b>\n",
    "\n",
    "Explanation: We can collect [1,2,1].\n",
    "\n",
    "Example 2:\n",
    "\n",
    "<b>Input: [0,1,2,2]\n",
    "\n",
    "Output: 3</b>\n",
    "Explanation: We can collect [1,2,2].\n",
    "If we started at the first tree, we would only collect [0, 1].\n",
    "\n",
    "Example 3:\n",
    "<b>\n",
    "Input: [1,2,3,2,2]\n",
    "\n",
    "Output: 4\n",
    "</b>\n",
    "\n",
    "Explanation: We can collect [2,3,2,2].\n",
    "If we started at the first tree, we would only collect [1, 2].\n",
    "Example 4:\n",
    "\n",
    "<b>\n",
    "Input: [3,3,3,1,2,1,1,2,3,3,4]\n",
    "\n",
    "Output: 5\n",
    "</b>\n",
    "\n",
    "Explanation: We can collect [1,2,1,1,2].\n",
    "If we started at the first tree or the eighth tree, we would only collect 4 fruits.\n",
    " \n",
    "\n",
    "Note:\n",
    "\n",
    "1 <= tree.length <= 40000\n",
    "0 <= tree[i] < tree.length"
   ]
  },
  {
   "cell_type": "code",
   "execution_count": null,
   "metadata": {},
   "outputs": [],
   "source": [
    "def total_fruit(tree):\n",
    "    ans=0\n",
    "    i=0\n",
    "    count"
   ]
  },
  {
   "cell_type": "code",
   "execution_count": 1,
   "metadata": {},
   "outputs": [],
   "source": [
    "class Solution(object):\n",
    "    def totalFruit(self, tree):\n",
    "        blocks = [(k, len(list(v)))\n",
    "                  for k, v in itertools.groupby(tree)]\n",
    "\n",
    "        ans = i = 0\n",
    "        while i < len(blocks):\n",
    "            # We'll start our scan at block[i].\n",
    "            # types : the different values of tree[i] seen\n",
    "            # weight : the total number of trees represented\n",
    "            #          by blocks under consideration\n",
    "            types, weight = set(), 0\n",
    "\n",
    "            # For each block from i and going forward,\n",
    "            for j in xrange(i, len(blocks)):\n",
    "                # Add each block to consideration\n",
    "                types.add(blocks[j][0])\n",
    "                weight += blocks[j][1]\n",
    "\n",
    "                # If we have 3 types, this is not a legal subarray\n",
    "                if len(types) >= 3:\n",
    "                    i = j-1\n",
    "                    break\n",
    "\n",
    "                ans = max(ans, weight)\n",
    "\n",
    "            # If we go to the last block, then stop\n",
    "            else:\n",
    "                break\n",
    "\n",
    "        return ans"
   ]
  },
  {
   "cell_type": "code",
   "execution_count": 13,
   "metadata": {},
   "outputs": [],
   "source": [
    "import collections\n",
    "class Solution(object):\n",
    "    def totalFruit(self, tree):\n",
    "        ans = i = 0\n",
    "        count = collections.Counter()\n",
    "        for j, x in enumerate(tree):\n",
    "            count[x] += 1\n",
    "            while len(count) >= 3:\n",
    "                count[tree[i]] -= 1\n",
    "                if count[tree[i]] == 0:\n",
    "                    del count[tree[i]]\n",
    "                i += 1\n",
    "            ans = max(ans, j - i + 1)\n",
    "        return ans"
   ]
  },
  {
   "cell_type": "code",
   "execution_count": 16,
   "metadata": {},
   "outputs": [
    {
     "data": {
      "text/plain": [
       "3"
      ]
     },
     "execution_count": 16,
     "metadata": {},
     "output_type": "execute_result"
    }
   ],
   "source": [
    "test = Solution()\n",
    "test.totalFruit([1,2,1])"
   ]
  },
  {
   "cell_type": "code",
   "execution_count": 4,
   "metadata": {},
   "outputs": [
    {
     "name": "stdout",
     "output_type": "stream",
     "text": [
      "count Counter({1: 1})\n",
      "len(count) 1\n",
      "j 0\n",
      "x 1\n",
      "count Counter({1: 1, 2: 1})\n",
      "len(count) 2\n",
      "j 1\n",
      "x 2\n",
      "count Counter({2: 2, 1: 1})\n",
      "len(count) 2\n",
      "j 2\n",
      "x 2\n",
      "count Counter({1: 2, 2: 2})\n",
      "len(count) 2\n",
      "j 3\n",
      "x 1\n",
      "count Counter({1: 2, 2: 2, 4: 1})\n",
      "len(count) 3\n",
      "j 4\n",
      "x 4\n",
      "tree[i] 1\n",
      "count[tree[i]] 2\n",
      "tree[i] 2\n",
      "count[tree[i]] 2\n",
      "tree[i] 2\n",
      "count[tree[i]] 1\n",
      "4\n"
     ]
    }
   ],
   "source": [
    "import collections\n",
    "def fruit(tree):\n",
    "    ans = i = 0\n",
    "    count=collections.Counter()\n",
    "    for j,x in enumerate(tree):\n",
    "        count[x] += 1\n",
    "        print(\"count\",count)\n",
    "        print(\"len(count)\",len(count))\n",
    "        print(\"j\",j)\n",
    "        print(\"x\",x)\n",
    "        while len(count) >= 3:\n",
    "            print(\"tree[i]\",tree[i])\n",
    "            print(\"count[tree[i]]\",count[tree[i]])\n",
    "            count[tree[i]] -= 1\n",
    "            if count[tree[i]] == 0:\n",
    "                del count[tree[i]]\n",
    "            i += 1\n",
    "        ans = max(ans, j - i + 1)\n",
    "    return ans\n",
    "                     \n",
    "print(fruit([1,2,2,1,4]))\n",
    "             \n",
    "    \n",
    "    \n"
   ]
  },
  {
   "cell_type": "code",
   "execution_count": null,
   "metadata": {},
   "outputs": [],
   "source": []
  }
 ],
 "metadata": {
  "kernelspec": {
   "display_name": "Python 3",
   "language": "python",
   "name": "python3"
  },
  "language_info": {
   "codemirror_mode": {
    "name": "ipython",
    "version": 3
   },
   "file_extension": ".py",
   "mimetype": "text/x-python",
   "name": "python",
   "nbconvert_exporter": "python",
   "pygments_lexer": "ipython3",
   "version": "3.7.0"
  }
 },
 "nbformat": 4,
 "nbformat_minor": 2
}
