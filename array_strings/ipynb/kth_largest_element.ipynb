{
 "cells": [
  {
   "cell_type": "markdown",
   "metadata": {},
   "source": [
    "Find the kth largest element in an unsorted array. Note that it is the kth largest element in the sorted order, not the kth distinct element.<br>\n",
    "\n",
    "<b>Example 1:</b>\n",
    "\n",
    "Input: [3,2,1,5,6,4] and k = 2<br>\n",
    "Output: 5<br>\n",
    "\n",
    "<b>Example 2:</b>\n",
    "\n",
    "Input: [3,2,3,1,2,4,5,5,6] and k = 4\n",
    "Output: 4<br>\n",
    "Note:<br>\n",
    "You may assume k is always valid, 1 ≤ k ≤ array's length."
   ]
  },
  {
   "cell_type": "code",
   "execution_count": 3,
   "metadata": {},
   "outputs": [
    {
     "name": "stdout",
     "output_type": "stream",
     "text": [
      "5\n",
      "4\n",
      "1\n"
     ]
    }
   ],
   "source": [
    " def kth_largest_element(ls,k):\n",
    "    sorted_ls=sorted(ls)\n",
    "    return sorted_ls[len(sorted_ls)-k]\n",
    "print(kth_largest_element([3,2,1,5,6,4],2))\n",
    "print(kth_largest_element([3,2,3,1,2,4,5,5,6],4))   \n",
    "print(kth_largest_element([1],1)) "
   ]
  },
  {
   "cell_type": "markdown",
   "metadata": {},
   "source": [
    "### Complexity analysis\n",
    "#### Time complexity : O(N log N) Space complexity : O(1)"
   ]
  },
  {
   "cell_type": "code",
   "execution_count": 5,
   "metadata": {},
   "outputs": [
    {
     "name": "stdout",
     "output_type": "stream",
     "text": [
      "5\n",
      "4\n",
      "1\n"
     ]
    }
   ],
   "source": [
    "#using Heap \n",
    "import heapq\n",
    "def kth_largest_element(ls,k):\n",
    "    return heapq.nlargest(k,ls)[-1]\n",
    "\n",
    "print(kth_largest_element([3,2,1,5,6,4],2))\n",
    "print(kth_largest_element([3,2,3,1,2,4,5,5,6],4))   \n",
    "print(kth_largest_element([1],1)) "
   ]
  },
  {
   "cell_type": "markdown",
   "metadata": {},
   "source": [
    "### Complexity analysis\n",
    "#### Time complexity : O(N log K) Space complexity : O(k)\n",
    "#### The time complexity of adding an element in a heap of size k is O(log k),and we do it N times that means O(Nlog k) \n",
    "We improved the time complexity we pay with O(k) space complexity"
   ]
  },
  {
   "cell_type": "code",
   "execution_count": 1,
   "metadata": {},
   "outputs": [
    {
     "name": "stdout",
     "output_type": "stream",
     "text": [
      "5\n",
      "4\n",
      "1\n"
     ]
    }
   ],
   "source": [
    "#bruteforce method.This would fail some of the test cases\n",
    "def kth_largest_element(ls,k):\n",
    "    if len(ls)==1:\n",
    "        return ls[0]\n",
    "        \n",
    "    s_ls= sorted(ls)[::-1]\n",
    "    pos=1\n",
    "    for i in range(len(s_ls)):\n",
    "        if s_ls[i] != s_ls[i+1]:\n",
    "            pos+=1\n",
    "        if pos==k:\n",
    "            return s_ls[pos-1]\n",
    "print(kth_largest_element([3,2,1,5,6,4],2))\n",
    "print(kth_largest_element([3,2,3,1,2,4,5,5,6],4))   \n",
    "print(kth_largest_element([1],1)) "
   ]
  },
  {
   "cell_type": "code",
   "execution_count": null,
   "metadata": {},
   "outputs": [],
   "source": []
  }
 ],
 "metadata": {
  "kernelspec": {
   "display_name": "Python 3",
   "language": "python",
   "name": "python3"
  },
  "language_info": {
   "codemirror_mode": {
    "name": "ipython",
    "version": 3
   },
   "file_extension": ".py",
   "mimetype": "text/x-python",
   "name": "python",
   "nbconvert_exporter": "python",
   "pygments_lexer": "ipython3",
   "version": "3.7.0"
  }
 },
 "nbformat": 4,
 "nbformat_minor": 2
}
