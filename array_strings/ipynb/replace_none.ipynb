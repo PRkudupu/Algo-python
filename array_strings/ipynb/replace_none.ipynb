{
 "cells": [
  {
   "cell_type": "markdown",
   "metadata": {},
   "source": [
    "Given an array containing None values fill in the None values <br>\n",
    "    with most recent non None value in the array<br>\n",
    "    For example:<br>\n",
    "    <b>- input array: </b>[1,None,2,3,None,None,5,None] <br>\n",
    "     <b> - output array: </b> [1,1,2,3,3,3,5,5]<br> \n",
    "    Ensure you take care of case input[None] which means None object.<br>"
   ]
  },
  {
   "cell_type": "code",
   "execution_count": 43,
   "metadata": {},
   "outputs": [],
   "source": [
    "def replace_none(ls):\n",
    "    prev = None\n",
    "    # if input parameter is none return none\n",
    "    if ls is None:\n",
    "        return None\n",
    "    #If array is empty return None\n",
    "    if not ls:\n",
    "        return []\n",
    "    for i in range(len(ls)):\n",
    "        if ls[0] is None:\n",
    "            ls[0] = None\n",
    "        #condition is true when ch is not none\n",
    "        if ls[i]:\n",
    "            prev = ls[i]\n",
    "        #condition is true when ch is none\n",
    "        else:\n",
    "            ls[i] = prev\n",
    "    return ls\n"
   ]
  },
  {
   "cell_type": "code",
   "execution_count": 44,
   "metadata": {},
   "outputs": [],
   "source": [
    "assert replace_none(None) == None\n",
    "assert replace_none([]) == []\n",
    "assert replace_none([None,8,None]) == [None,8,8]\n",
    "assert replace_none([1,None,2]) == [1,1,2]\n",
    "assert replace_none([5,None,None]) == [5,5,5]\n",
    "assert replace_none([1,None,2,3,None,None,5,None]) == [1,1,2,3,3,3,5,5]"
   ]
  },
  {
   "cell_type": "code",
   "execution_count": null,
   "metadata": {},
   "outputs": [],
   "source": []
  }
 ],
 "metadata": {
  "kernelspec": {
   "display_name": "Python 3",
   "language": "python",
   "name": "python3"
  },
  "language_info": {
   "codemirror_mode": {
    "name": "ipython",
    "version": 3
   },
   "file_extension": ".py",
   "mimetype": "text/x-python",
   "name": "python",
   "nbconvert_exporter": "python",
   "pygments_lexer": "ipython3",
   "version": "3.8.5"
  }
 },
 "nbformat": 4,
 "nbformat_minor": 4
}
