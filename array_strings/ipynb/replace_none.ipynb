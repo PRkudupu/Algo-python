{
 "cells": [
  {
   "cell_type": "markdown",
   "metadata": {},
   "source": [
    "Given an array containing None values fill in the None values <br>\n",
    "    with most recent non None value in the array<br>\n",
    "    For example:<br>\n",
    "    <b>- input array: </b>[1,None,2,3,None,None,5,None] <br>\n",
    "     <b> - output array: </b> [1,1,2,3,3,3,5,5]<br> \n",
    "    Ensure you take care of case input[None] which means None object.<br>"
   ]
  },
  {
   "cell_type": "code",
   "execution_count": 1,
   "metadata": {},
   "outputs": [
    {
     "name": "stdout",
     "output_type": "stream",
     "text": [
      "[1, 1, 2, 3, 3, 3, 5, 5]\n"
     ]
    }
   ],
   "source": [
    "def repalce_none(ls):\n",
    "    prev =0\n",
    "    if len(ls) ==1 and ls[0]==None:\n",
    "        return None\n",
    "    for i in  range(len(ls)):\n",
    "        if i > 0:\n",
    "            prev=ls[i-1]\n",
    "        if ls[i]== None:\n",
    "            ls[i]=prev\n",
    "    return ls\n",
    "\n",
    "ls_1=[1,None,2,3,None,None,5,None]\n",
    "ls_2=[None]\n",
    "print(repalce_none(ls_1))\n"
   ]
  },
  {
   "cell_type": "code",
   "execution_count": null,
   "metadata": {},
   "outputs": [],
   "source": []
  }
 ],
 "metadata": {
  "kernelspec": {
   "display_name": "Python 3",
   "language": "python",
   "name": "python3"
  },
  "language_info": {
   "codemirror_mode": {
    "name": "ipython",
    "version": 3
   },
   "file_extension": ".py",
   "mimetype": "text/x-python",
   "name": "python",
   "nbconvert_exporter": "python",
   "pygments_lexer": "ipython3",
   "version": "3.8.5"
  }
 },
 "nbformat": 4,
 "nbformat_minor": 4
}
