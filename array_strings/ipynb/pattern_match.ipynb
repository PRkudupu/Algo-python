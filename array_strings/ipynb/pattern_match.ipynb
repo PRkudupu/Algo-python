{
 "cells": [
  {
   "cell_type": "markdown",
   "metadata": {},
   "source": [
    "Find all strings that match specific pattern in a dictionary\n",
    "Difficulty Level : Medium\n",
    "Last Updated : 03 Mar, 2022\n",
    "Given a dictionary of words, find all strings that match the given pattern where every character in the pattern is uniquely mapped to a character in the dictionary.\n",
    "\n",
    "Examples:\n",
    "\n",
    "Input:  \n",
    "dict = <b>[\"abb\", \"abc\", \"xyz\", \"xyy\"];</b><br>\n",
    "pattern = \"foo\"<br>\n",
    "<b>Output: [xyy abb]</b><br>\n",
    "xyy and abb have same character at <br>\n",
    "index 1 and 2 like the pattern\n",
    "\n",
    "Input: \n",
    "dict = <b>[\"abb\", \"abc\", \"xyz\", \"xyy\"];</b><br>\n",
    "pat = \"mno\"<br>\n",
    "<b>Output: [abc xyz]</b><br>\n",
    "abc and xyz have all distinct characters,<br>\n",
    "similar to the pattern.\n",
    "\n",
    "Input:  \n",
    "dict = <b>[\"abb\", \"abc\", \"xyz\", \"xyy\"];</b><br>\n",
    "pattern = \"aba\"<br>\n",
    "<b>Output: [] </b><br>\n",
    "Pattern has same character at index 0 and 2. <br>\n",
    "No word in dictionary follows the pattern.\n",
    "\n",
    "Input:  <br>\n",
    "dict = <b>[\"abab\", \"aba\", \"xyz\", \"xyx\"];</b><br>\n",
    "pattern = \"aba\"<br>\n",
    "<b>Output: [aba xyx]<br></b>"
   ]
  },
  {
   "cell_type": "code",
   "execution_count": 1,
   "metadata": {},
   "outputs": [
    {
     "name": "stdout",
     "output_type": "stream",
     "text": [
      "abb xyy "
     ]
    }
   ],
   "source": [
    "# Python3 program to print all the\n",
    "# strings that match the\n",
    "# given pattern where every\n",
    "# character in the pattern is\n",
    "# uniquely mapped to a character\n",
    "# in the dictionary\n",
    " \n",
    "# Function to encode\n",
    "# given string\n",
    "def encodeString(Str):\n",
    "   \n",
    "    map = {}\n",
    "    res = \"\"\n",
    "    i = 0\n",
    " \n",
    "    # For each character\n",
    "    # in given string\n",
    "    for ch in Str:\n",
    " \n",
    "        # If the character is occurring\n",
    "        # for the first time, assign next\n",
    "        # unique number to that char\n",
    "        if ch not in map:\n",
    "            map[ch] = i\n",
    "            i += 1\n",
    "             \n",
    "        # Append the number associated\n",
    "        # with current character into\n",
    "        # the output string\n",
    "        res += str(map[ch])\n",
    "    return res\n",
    " \n",
    "# Function to print all\n",
    "# the strings that match the\n",
    "# given pattern where every\n",
    "# character in the pattern is\n",
    "# uniquely mapped to a character\n",
    "# in the dictionary\n",
    "def findMatchedWords(dict, pattern):\n",
    " \n",
    "    # len is length of the\n",
    "    # pattern\n",
    "    Len = len(pattern)\n",
    " \n",
    "    # Encode the string\n",
    "    hash = encodeString(pattern)\n",
    " \n",
    "    # For each word in the\n",
    "    # dictionary array\n",
    "    for word in dict:\n",
    " \n",
    "        # If size of pattern is same\n",
    "          # as size of current\n",
    "        # dictionary word and both\n",
    "        # pattern and the word\n",
    "        # has same hash, print the word\n",
    "        if(len(word) == Len and\n",
    "           encodeString(word) == hash):\n",
    "            print(word, end = \" \")\n",
    " \n",
    "# Driver code\n",
    "dict = [\"abb\", \"abc\",\"xyz\", \"xyy\" ]\n",
    "pattern = \"foo\"\n",
    "findMatchedWords(dict, pattern)\n",
    " \n"
   ]
  },
  {
   "cell_type": "markdown",
   "metadata": {},
   "source": [
    "Complexity Analysis:\n",
    "\n",
    "Time Complexity: O(N*K). \n",
    "Here ‘N’ is the number of words and ‘K’ is its length. As we have to traverse each word separately to create its hash.\n",
    "Auxiliary Space: O(N). \n",
    "The use of hash_map data structure for mapping characters takes this amount of space."
   ]
  },
  {
   "cell_type": "code",
   "execution_count": 6,
   "metadata": {},
   "outputs": [
    {
     "name": "stdout",
     "output_type": "stream",
     "text": [
      "xyy abb "
     ]
    }
   ],
   "source": [
    "# Python3 program to print all\n",
    "# the strings that match the\n",
    "# given pattern where every\n",
    "# character in the pattern is\n",
    "# uniquely mapped to a character\n",
    "# in the dictionary\n",
    "def check(pattern, word):\n",
    "     \n",
    "    if (len(pattern) != len(word)):\n",
    "        return False\n",
    " \n",
    "    ch = [0 for i in range(128)]\n",
    " \n",
    "    Len = len(word)\n",
    " \n",
    "    for i in range(Len):\n",
    "        if (ch[ord(pattern[i])] == 0):\n",
    "            ch[ord(pattern[i])] = word[i]\n",
    "        elif (ch[ord(pattern[i])] != word[i]):\n",
    "            return False\n",
    "     \n",
    "    return True\n",
    " \n",
    "# Function to print all the\n",
    "# strings that match the\n",
    "# given pattern where every\n",
    "# character in the pattern is\n",
    "# uniquely mapped to a character\n",
    "# in the dictionary\n",
    "def findMatchedWords(Dict, pattern):\n",
    "     \n",
    "    # len is length of the pattern\n",
    "    Len = len(pattern)\n",
    " \n",
    "    # For each word in the dictionary\n",
    "    for word in range(len(Dict) - 1, -1, -1):\n",
    "        if (check(pattern, Dict[word])):\n",
    "            print(Dict[word], end = \" \")\n",
    " \n",
    "#Driver code\n",
    "Dict = [ \"abb\", \"abc\", \"xyz\", \"xyy\" ]\n",
    "pattern = \"foo\"\n",
    " \n",
    "findMatchedWords(Dict, pattern)\n",
    " "
   ]
  },
  {
   "cell_type": "markdown",
   "metadata": {},
   "source": [
    "Complexity Analysis:\n",
    "\n",
    "Time Complexity: O(N*K), where ‘N’ is the number of words and ‘K’ is its length. \n",
    "To traverse each word, this will be the time requirement.\n",
    "Auxiliary Space:O(N).\n",
    "The use of hash_map data structure for mapping characters consumes N space."
   ]
  }
 ],
 "metadata": {
  "kernelspec": {
   "display_name": "Python 3",
   "language": "python",
   "name": "python3"
  },
  "language_info": {
   "codemirror_mode": {
    "name": "ipython",
    "version": 3
   },
   "file_extension": ".py",
   "mimetype": "text/x-python",
   "name": "python",
   "nbconvert_exporter": "python",
   "pygments_lexer": "ipython3",
   "version": "3.8.5"
  }
 },
 "nbformat": 4,
 "nbformat_minor": 4
}
