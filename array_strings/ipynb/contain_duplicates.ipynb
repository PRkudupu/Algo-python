{
 "cells": [
  {
   "cell_type": "markdown",
   "metadata": {},
   "source": [
    "Given an array of integers, find if the array contains any duplicates.<br>\n",
    "\n",
    "Your function should return true if any value appears at least twice in the array, and it should return false if every element is distinct.<br><br>\n",
    "\n",
    "<b>Example 1:</b> \n",
    "\n",
    "Input: [1,2,3,1]\n",
    "\n",
    "<b>Output: true \n",
    "\n",
    "Example 2:</b>\n",
    "\n",
    "Input: [1,2,3,4] <br>\n",
    "<b>Output: false <br>\n",
    "\n",
    "Example 3:</b>\n",
    "\n",
    "Input: [1,1,1,3,3,4,3,2,4,2]<br>\n",
    "<b>Output: true </b>"
   ]
  },
  {
   "cell_type": "code",
   "execution_count": 1,
   "metadata": {},
   "outputs": [],
   "source": [
    "def contain_duplicates(ls):\n",
    "    seen=set()\n",
    "    for items in ls:\n",
    "        if items in seen:\n",
    "            return True\n",
    "        seen.add(items)\n",
    "    return False"
   ]
  },
  {
   "cell_type": "code",
   "execution_count": 5,
   "metadata": {},
   "outputs": [
    {
     "name": "stdout",
     "output_type": "stream",
     "text": [
      "True\n",
      "False\n",
      "True\n"
     ]
    }
   ],
   "source": [
    "print(contain_duplicates([1,2,3,1]))\n",
    "print(contain_duplicates([1,2,3,4]))\n",
    "print(contain_duplicates([1,1,1,3,3,4,3,2,4,2]))"
   ]
  },
  {
   "cell_type": "code",
   "execution_count": null,
   "metadata": {},
   "outputs": [],
   "source": [
    "#using dictionaries\n",
    "ls=[2,3,4,1]\n",
    "def contain_dup(ls):\n",
    "    dic={}\n",
    "    for num in ls:\n",
    "        dic[num]=dic.get(num,0)+1\n",
    "    return max(dic.values()) >1\n",
    "\n",
    "print(contain_dup(ls))\n"
   ]
  }
 ],
 "metadata": {
  "kernelspec": {
   "display_name": "Python 3",
   "language": "python",
   "name": "python3"
  },
  "language_info": {
   "codemirror_mode": {
    "name": "ipython",
    "version": 3
   },
   "file_extension": ".py",
   "mimetype": "text/x-python",
   "name": "python",
   "nbconvert_exporter": "python",
   "pygments_lexer": "ipython3",
   "version": "3.8.5"
  }
 },
 "nbformat": 4,
 "nbformat_minor": 2
}
