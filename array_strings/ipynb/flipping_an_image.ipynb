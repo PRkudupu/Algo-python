{
 "cells": [
  {
   "cell_type": "markdown",
   "metadata": {},
   "source": [
    "Given a binary matrix A, we want to flip the image horizontally, then invert it, and return the resulting image.\n",
    "\n",
    "To flip an image horizontally means that each row of the image is reversed.  For example, flipping [1, 1, 0] horizontally results in [0, 1, 1].\n",
    "\n",
    "To invert an image means that each 0 is replaced by 1, and each 1 is replaced by 0. For example, inverting [0, 1, 1] results in [1, 0, 0].\n",
    "\n",
    "Example 1:\n",
    "\n",
    "<b>Input: [[1,1,0],[1,0,1],[0,0,0]] <br>\n",
    "Output: [[1,0,0],[0,1,0],[1,1,1]]</b><br>\n",
    "Explanation: First reverse each row: [[0,1,1],[1,0,1],[0,0,0]].<br>\n",
    "Then, invert the image: [[1,0,0],[0,1,0],[1,1,1]] <br>\n",
    "\n",
    "Example 2:\n",
    "\n",
    "<b>Input: [[1,1,0,0],[1,0,0,1],[0,1,1,1],[1,0,1,0]] <br>\n",
    "Output: [[1,1,0,0],[0,1,1,0],[0,0,0,1],[1,0,1,0]] <br></b>\n",
    "Explanation: First reverse each row: [[0,0,1,1],[1,0,0,1],[1,1,1,0],[0,1,0,1]].<br>\n",
    "Then invert the image: [[1,1,0,0],[0,1,1,0],[0,0,0,1],[1,0,1,0]] <br>\n",
    "Notes:\n",
    "\n",
    "1 <= A.length = A[0].length <= 20<br>\n",
    "0 <= A[i][j] <= 1"
   ]
  },
  {
   "cell_type": "markdown",
   "metadata": {},
   "source": [
    "### Solution\n",
    "1) Reverse rows <br>\n",
    "2) Invert values\n"
   ]
  },
  {
   "cell_type": "code",
   "execution_count": 1,
   "metadata": {},
   "outputs": [
    {
     "name": "stdout",
     "output_type": "stream",
     "text": [
      "[[1, 1, 0, 0], [0, 1, 1, 0], [0, 0, 0, 1], [1, 0, 1, 0]]\n"
     ]
    }
   ],
   "source": [
    "def flip_image(image):\n",
    "    return  [[1-i for i in row[::-1]] for row in image]\n",
    "\n",
    "matrix=[[1,1,0,0],[1,0,0,1],[0,1,1,1],[1,0,1,0]]\n",
    "print(flip_image(matrix))"
   ]
  },
  {
   "cell_type": "code",
   "execution_count": null,
   "metadata": {},
   "outputs": [],
   "source": []
  }
 ],
 "metadata": {
  "kernelspec": {
   "display_name": "Python 3",
   "language": "python",
   "name": "python3"
  },
  "language_info": {
   "codemirror_mode": {
    "name": "ipython",
    "version": 3
   },
   "file_extension": ".py",
   "mimetype": "text/x-python",
   "name": "python",
   "nbconvert_exporter": "python",
   "pygments_lexer": "ipython3",
   "version": "3.7.0"
  }
 },
 "nbformat": 4,
 "nbformat_minor": 2
}
