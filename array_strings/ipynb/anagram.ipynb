{
 "cells": [
  {
   "cell_type": "markdown",
   "metadata": {},
   "source": [
    "Given two strings s1 and s2, check if both the strings are anagrams of each other."
   ]
  },
  {
   "cell_type": "markdown",
   "metadata": {},
   "source": [
    "<pre style=\"background-color: #e0e0e0;\">Input : s1 = \"listen\"\n",
    "        s2 = \"silent\"\n",
    "Output : The strings are anagrams.\n",
    "\n",
    "\n",
    "Input : s1 = \"dad\"\n",
    "        s2 = \"bad\"\n",
    "Output : The strings aren't anagrams.\n",
    "</pre>"
   ]
  },
  {
   "cell_type": "code",
   "execution_count": 2,
   "metadata": {},
   "outputs": [
    {
     "name": "stdout",
     "output_type": "stream",
     "text": [
      "False\n"
     ]
    }
   ],
   "source": [
    "def anagram(str1,str2):\n",
    "    if sorted(str1) == sorted(str2):\n",
    "        return True\n",
    "    else:\n",
    "        return False\n",
    "print(anagram('ate','te'))"
   ]
  },
  {
   "cell_type": "code",
   "execution_count": null,
   "metadata": {},
   "outputs": [],
   "source": []
  }
 ],
 "metadata": {
  "kernelspec": {
   "display_name": "Python 3",
   "language": "python",
   "name": "python3"
  },
  "language_info": {
   "codemirror_mode": {
    "name": "ipython",
    "version": 3
   },
   "file_extension": ".py",
   "mimetype": "text/x-python",
   "name": "python",
   "nbconvert_exporter": "python",
   "pygments_lexer": "ipython3",
   "version": "3.7.0"
  }
 },
 "nbformat": 4,
 "nbformat_minor": 2
}
