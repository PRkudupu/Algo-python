{
 "cells": [
  {
   "cell_type": "markdown",
   "metadata": {},
   "source": [
    "Given two strings s1 and s2, check if both the strings are anagrams of each other."
   ]
  },
  {
   "cell_type": "markdown",
   "metadata": {},
   "source": [
    "<pre style=\"background-color: #e0e0e0;\">Input : s1 = \"listen\"\n",
    "        s2 = \"silent\"\n",
    "Output : The strings are anagrams.\n",
    "\n",
    "\n",
    "Input : s1 = \"dad\"\n",
    "        s2 = \"bad\"\n",
    "Output : The strings aren't anagrams.\n",
    "</pre>"
   ]
  },
  {
   "cell_type": "markdown",
   "metadata": {},
   "source": [
    "### Using Sorting"
   ]
  },
  {
   "cell_type": "code",
   "execution_count": 6,
   "metadata": {},
   "outputs": [
    {
     "name": "stdout",
     "output_type": "stream",
     "text": [
      "True\n",
      "False\n",
      "False\n"
     ]
    }
   ],
   "source": [
    "def is_anagram(str1,str2):\n",
    "    if sorted(str1) == sorted(str2):\n",
    "        return True\n",
    "    else:\n",
    "        return False\n",
    "print(is_anagram('anagram','nagaram'))\n",
    "print(is_anagram('ate','te'))\n",
    "print(is_anagram('rat','car'))"
   ]
  },
  {
   "cell_type": "markdown",
   "metadata": {},
   "source": [
    "<b>Complexity analysis</b>\n",
    "\n",
    "<b>Time complexity : O(n log n)</b>. Assume that nn is the length of ss, sorting costs O(n log n) and comparing two strings costs O(n). Sorting time dominates and the overall time complexity is O(nlogn).\n",
    "\n",
    "<b> Space complexity : O(1)O(1).</b>Space depends on the sorting implementation which, usually, costs O(1)O(1) auxiliary space if heapsort is used. Note that in Java, toCharArray() makes a copy of the string so it costs O(n)O(n) extra space, but we ignore this for complexity analysis because:\n",
    "\n",
    "It is a language dependent detail.\n",
    "It depends on how the function is designed. For example, the function parameter types can be changed to char[].\n"
   ]
  },
  {
   "cell_type": "markdown",
   "metadata": {},
   "source": [
    "### Using dictionary"
   ]
  },
  {
   "cell_type": "code",
   "execution_count": 7,
   "metadata": {},
   "outputs": [
    {
     "name": "stdout",
     "output_type": "stream",
     "text": [
      "True\n",
      "False\n",
      "False\n"
     ]
    }
   ],
   "source": [
    "def is_anagram( s, t):\n",
    "    dic1, dic2 = {}, {}\n",
    "    for item in s:\n",
    "        dic1[item] = dic1.get(item, 0) + 1\n",
    "    for item in t:\n",
    "        dic2[item] = dic2.get(item, 0) + 1\n",
    "    return dic1 == dic2\n",
    "print(is_anagram('anagram','nagaram'))\n",
    "print(is_anagram('ate','te'))\n",
    "print(is_anagram('rat','car'))"
   ]
  },
  {
   "cell_type": "code",
   "execution_count": null,
   "metadata": {},
   "outputs": [],
   "source": []
  }
 ],
 "metadata": {
  "kernelspec": {
   "display_name": "Python 3",
   "language": "python",
   "name": "python3"
  },
  "language_info": {
   "codemirror_mode": {
    "name": "ipython",
    "version": 3
   },
   "file_extension": ".py",
   "mimetype": "text/x-python",
   "name": "python",
   "nbconvert_exporter": "python",
   "pygments_lexer": "ipython3",
   "version": "3.7.0"
  }
 },
 "nbformat": 4,
 "nbformat_minor": 2
}
