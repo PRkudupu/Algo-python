{
 "cells": [
  {
   "cell_type": "markdown",
   "metadata": {},
   "source": [
    "An array is <b>monotonic</b> if it is either monotone increasing or monotone decreasing.<br>\n",
    "\n",
    "An array nums is monotone increasing if for all i <= j, nums[i] <= nums[j]. An array nums is monotone decreasing if for all i <= j, nums[i] >= nums[j]. <br>\n",
    "\n",
    "Given an integer array nums, return true if the given array is monotonic, or false otherwise.<br>\n",
    " \n",
    " <b>Example 1:</b> <br>\n",
    "Input: nums = [1,2,2,3] <br>\n",
    "Output: true <br>\n",
    "<b>Example 2:</b> <br>\n",
    "\n",
    "Input: nums = [6,5,4,4] <br>\n",
    "Output: true <br>\n",
    "<b>Example 3:</b> <br>\n",
    "\n",
    "Input: nums = [1,3,2] <br>\n",
    "Output: false"
   ]
  },
  {
   "cell_type": "code",
   "execution_count": 11,
   "metadata": {},
   "outputs": [
    {
     "name": "stdout",
     "output_type": "stream",
     "text": [
      "True\n"
     ]
    }
   ],
   "source": [
    "def monotonic(ls):\n",
    "    inc = dec =True\n",
    "    for i in range(len(ls)-1):\n",
    "        if ls[i] > ls[i+1]:\n",
    "            inc=False\n",
    "        if ls[i] < ls[i+1]:\n",
    "            dec=False\n",
    "    return inc or dec\n",
    "        \n",
    "                      \n",
    "ls = [1,3,5]\n",
    "print(monotonic(ls))"
   ]
  },
  {
   "cell_type": "markdown",
   "metadata": {},
   "source": [
    "<b>Complexity Analysis</b><br>\n",
    "Time Complexity: <b>O(N)</b>, where N is the length of A.<br>\n",
    "Space Complexity: <b>O(1)</b>\n"
   ]
  },
  {
   "cell_type": "markdown",
   "metadata": {},
   "source": []
  }
 ],
 "metadata": {
  "kernelspec": {
   "display_name": "Python 3",
   "language": "python",
   "name": "python3"
  },
  "language_info": {
   "codemirror_mode": {
    "name": "ipython",
    "version": 3
   },
   "file_extension": ".py",
   "mimetype": "text/x-python",
   "name": "python",
   "nbconvert_exporter": "python",
   "pygments_lexer": "ipython3",
   "version": "3.8.5"
  }
 },
 "nbformat": 4,
 "nbformat_minor": 4
}
