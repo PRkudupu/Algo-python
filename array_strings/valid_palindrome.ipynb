{
 "cells": [
  {
   "cell_type": "markdown",
   "metadata": {},
   "source": [
    "Given a string, determine if it is a palindrome, considering only alphanumeric characters and ignoring cases.\n",
    "\n",
    "Note: For the purpose of this problem, we define empty string as valid palindrome.\n",
    "\n",
    "Example 1:\n",
    "\n",
    "Input: \"A man, a plan, a canal: Panama\"\n",
    "Output: true\n",
    "Example 2:\n",
    "\n",
    "Input: \"race a car\"\n",
    "Output: false"
   ]
  },
  {
   "cell_type": "code",
   "execution_count": 9,
   "metadata": {},
   "outputs": [
    {
     "data": {
      "text/plain": [
       "True"
      ]
     },
     "execution_count": 9,
     "metadata": {},
     "output_type": "execute_result"
    }
   ],
   "source": [
    "def isPalindrome(s):\n",
    "    head,tail=0,len(s)-1\n",
    "    while head < tail:\n",
    "        while not s[head].isalnum():\n",
    "            head+=1\n",
    "        while not s[tail].isalnum():\n",
    "            tail-=1\n",
    "        if s[head].lower() != s[tail].lower():\n",
    "            return False\n",
    "        head+=1; tail-=1\n",
    "    return True\n",
    "isPalindrome(\"A man, a plan, a canal: Panama\")"
   ]
  },
  {
   "cell_type": "code",
   "execution_count": 11,
   "metadata": {},
   "outputs": [
    {
     "name": "stdout",
     "output_type": "stream",
     "text": [
      "head 0\n",
      "tail 6\n",
      "head 1\n",
      "tail 5\n",
      "head 2\n",
      "tail 4\n"
     ]
    },
    {
     "data": {
      "text/plain": [
       "True"
      ]
     },
     "execution_count": 11,
     "metadata": {},
     "output_type": "execute_result"
    }
   ],
   "source": [
    " def isPalindrome(s):\n",
    "    head,tail=0,len(s)-1\n",
    "    while head < tail:\n",
    "        print(\"head {}\".format(head))\n",
    "        print(\"tail {}\".format(tail))\n",
    "        while head <tail and not s[head].isalnum():\n",
    "            head+=1\n",
    "        while head <tail and not s[tail].isalnum():\n",
    "            tail-=1\n",
    "        if s[head].lower() != s[tail].lower():\n",
    "            return False\n",
    "        head+=1; tail-=1\n",
    "    return True\n",
    "isPalindrome(\"bob bob\")"
   ]
  },
  {
   "cell_type": "code",
   "execution_count": null,
   "metadata": {},
   "outputs": [],
   "source": []
  }
 ],
 "metadata": {
  "kernelspec": {
   "display_name": "Python 3",
   "language": "python",
   "name": "python3"
  },
  "language_info": {
   "codemirror_mode": {
    "name": "ipython",
    "version": 3
   },
   "file_extension": ".py",
   "mimetype": "text/x-python",
   "name": "python",
   "nbconvert_exporter": "python",
   "pygments_lexer": "ipython3",
   "version": "3.7.0"
  }
 },
 "nbformat": 4,
 "nbformat_minor": 2
}
