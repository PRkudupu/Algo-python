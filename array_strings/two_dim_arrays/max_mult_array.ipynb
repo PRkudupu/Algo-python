{
 "cells": [
  {
   "cell_type": "code",
   "execution_count": 8,
   "metadata": {},
   "outputs": [
    {
     "name": "stdout",
     "output_type": "stream",
     "text": [
      "max_num 0\n",
      "item 1\n",
      "max_num 1\n",
      "item 2\n",
      "max_num 2\n",
      "item 3\n",
      "max_num 3\n",
      "item 4\n",
      "max_num 4\n",
      "item 50\n",
      "50\n"
     ]
    }
   ],
   "source": [
    "def max_num(a):\n",
    "    max_num=0\n",
    "    for sub in a:\n",
    "        for item in sub:\n",
    "            if item > max_num:\n",
    "                print(\"max_num\",max_num)\n",
    "                print(\"item\",item)\n",
    "                max_num=item\n",
    "    return max_num\n",
    "a=[1,2,3],[4,50,6]\n",
    "print(max_num(a))"
   ]
  },
  {
   "cell_type": "code",
   "execution_count": null,
   "metadata": {},
   "outputs": [],
   "source": []
  }
 ],
 "metadata": {
  "kernelspec": {
   "display_name": "Python 3",
   "language": "python",
   "name": "python3"
  },
  "language_info": {
   "codemirror_mode": {
    "name": "ipython",
    "version": 3
   },
   "file_extension": ".py",
   "mimetype": "text/x-python",
   "name": "python",
   "nbconvert_exporter": "python",
   "pygments_lexer": "ipython3",
   "version": "3.7.0"
  }
 },
 "nbformat": 4,
 "nbformat_minor": 2
}
