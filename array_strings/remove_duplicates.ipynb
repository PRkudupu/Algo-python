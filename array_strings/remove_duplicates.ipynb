{
 "cells": [
  {
   "cell_type": "code",
   "execution_count": 10,
   "metadata": {},
   "outputs": [],
   "source": [
    "def remove_dup(dup_list):\n",
    "    new_list =[]\n",
    "    for i in dup_list:\n",
    "        if i not in new_list:\n",
    "            new_list.append(i)\n",
    "    return new_list       \n",
    "    "
   ]
  },
  {
   "cell_type": "code",
   "execution_count": 11,
   "metadata": {},
   "outputs": [
    {
     "data": {
      "text/plain": [
       "[1, 2, 4]"
      ]
     },
     "execution_count": 11,
     "metadata": {},
     "output_type": "execute_result"
    }
   ],
   "source": [
    "remove_dup([1,2,2,4])"
   ]
  },
  {
   "cell_type": "code",
   "execution_count": 19,
   "metadata": {},
   "outputs": [],
   "source": [
    "def remove_dup_sorted(A):\n",
    "    if not A:\n",
    "        return 0\n",
    "    newTail=0\n",
    "    for i in range(1,len(A)):\n",
    "        #print(\"A[i]{}\".format(A[i]))\n",
    "        #print(\"A[newTail]{}\".format(A[newTail]))\n",
    "        #print(\"newTail\".format(newTail))\n",
    "        #print(\"i\".format(i))\n",
    "        if A[i] != A[newTail]:\n",
    "            newTail +=1\n",
    "            A[newTail]=A[i]\n",
    "    return newTail +1"
   ]
  },
  {
   "cell_type": "code",
   "execution_count": 20,
   "metadata": {},
   "outputs": [
    {
     "data": {
      "text/plain": [
       "3"
      ]
     },
     "execution_count": 20,
     "metadata": {},
     "output_type": "execute_result"
    }
   ],
   "source": [
    "remove_dup_sorted([1,2,2,4])"
   ]
  },
  {
   "cell_type": "code",
   "execution_count": null,
   "metadata": {},
   "outputs": [],
   "source": []
  }
 ],
 "metadata": {
  "kernelspec": {
   "display_name": "Python 3",
   "language": "python",
   "name": "python3"
  },
  "language_info": {
   "codemirror_mode": {
    "name": "ipython",
    "version": 3
   },
   "file_extension": ".py",
   "mimetype": "text/x-python",
   "name": "python",
   "nbconvert_exporter": "python",
   "pygments_lexer": "ipython3",
   "version": "3.6.4"
  }
 },
 "nbformat": 4,
 "nbformat_minor": 2
}
