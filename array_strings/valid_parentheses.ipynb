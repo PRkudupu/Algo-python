{
 "cells": [
  {
   "cell_type": "markdown",
   "metadata": {},
   "source": [
    "## Given a string containing just the characters '(', ')', '{', '}', '[' and ']', \n",
    "## determine if the input string is valid.\n",
    "\n",
    "An input string is valid if:\n",
    "\n",
    "Open brackets must be closed by the same type of brackets.\n",
    "\n",
    "Open brackets must be closed in the correct order.\n",
    "Note that an empty string is also considered valid.\n",
    "\n",
    "<b>Example 1:</b>\n",
    "\n",
    "Input: \"()\"\n",
    "Output: true\n",
    "\n",
    "<b>Example 2:</b>\n",
    "\n",
    "Input: \"()[]{}\"\n",
    "Output: true\n",
    "\n",
    "<b>Example 3:</b>\n",
    "\n",
    "Input: \"(]\"\n",
    "Output: false\n",
    "\n",
    "<b>Example 4:</b>\n",
    "\n",
    "Input: \"([)]\"\n",
    "Output: false\n",
    "\n",
    "<b>Example 5:</b>\n",
    "\n",
    "Input: \"{[]}\"\n",
    "\n",
    "<b>Output: true</b>"
   ]
  },
  {
   "cell_type": "markdown",
   "metadata": {},
   "source": [
    "#### Simple Python solution with stack"
   ]
  },
  {
   "cell_type": "code",
   "execution_count": 2,
   "metadata": {},
   "outputs": [
    {
     "data": {
      "text/plain": [
       "True"
      ]
     },
     "execution_count": 2,
     "metadata": {},
     "output_type": "execute_result"
    }
   ],
   "source": [
    "def is_valid_parentheses(s):\n",
    "    stack = []\n",
    "    dict = {\"]\":\"[\", \"}\":\"{\", \")\":\"(\"}\n",
    "    count =0\n",
    "    for char in s:\n",
    "        count+=1\n",
    "        if char in dict.values():\n",
    "            stack.append(char)\n",
    "        elif char in dict.keys():\n",
    "            if stack == [] or dict[char] != stack.pop():\n",
    "                return False\n",
    "        else:\n",
    "            return False\n",
    "    return stack == []\n",
    "is_valid_parentheses(\"{}\")"
   ]
  },
  {
   "cell_type": "code",
   "execution_count": 3,
   "metadata": {},
   "outputs": [
    {
     "name": "stdout",
     "output_type": "stream",
     "text": [
      "char {\n",
      "stack []\n",
      "index 0\n",
      "inside if char {\n",
      "inside if stack ['{']\n",
      "char }\n",
      "stack ['{']\n",
      "index 1\n",
      "elif stack ['{']\n"
     ]
    },
    {
     "data": {
      "text/plain": [
       "True"
      ]
     },
     "execution_count": 3,
     "metadata": {},
     "output_type": "execute_result"
    }
   ],
   "source": [
    "def is_valid_parentheses(s):\n",
    "    stack = []\n",
    "    dict = {\"]\":\"[\", \"}\":\"{\", \")\":\"(\"}\n",
    "    for char in s:\n",
    "        print(\"char {}\".format(char))\n",
    "        print(\"stack {}\".format(stack))\n",
    "        print(\"index {}\".format(s.index(char)))\n",
    "        if char in dict.values():\n",
    "            stack.append(char)\n",
    "            print(\"inside if char {}\".format(char))\n",
    "            print(\"inside if stack {}\".format(stack))\n",
    "        elif char in dict.keys():\n",
    "            print(\"elif stack {}\".format(stack))\n",
    "            if stack == [] or dict[char] != stack.pop():\n",
    "                print(\"after pop {}\".format(stack))\n",
    "                return False\n",
    "        else:\n",
    "            print(\"else\")\n",
    "            return False\n",
    "    return stack == []\n",
    "is_valid_parentheses(\"{}\")"
   ]
  },
  {
   "cell_type": "code",
   "execution_count": 5,
   "metadata": {
    "scrolled": true
   },
   "outputs": [
    {
     "data": {
      "text/plain": [
       "False"
      ]
     },
     "execution_count": 5,
     "metadata": {},
     "output_type": "execute_result"
    }
   ],
   "source": [
    "def valid_param(input):\n",
    "    dic ={']':'[','}':'{',')':'('}\n",
    "    stack = [];\n",
    "    for char in input:\n",
    "        if char in dic.values():\n",
    "            stack.append(char)\n",
    "        elif char in dic.keys():\n",
    "            if stack == [] or dic[char] != stack.pop():\n",
    "                return False\n",
    "        else:\n",
    "            return False\n",
    "    return stack == []\n",
    "valid_param(\"(}\")"
   ]
  },
  {
   "cell_type": "code",
   "execution_count": null,
   "metadata": {},
   "outputs": [],
   "source": [
    "stocks=[7,1,5,2,4]\n",
    "   \n",
    "def buy_sell_once(s):\n",
    "    maxprofit=0\n",
    "    #first loop\n",
    "    for i in range(len(s)-1):\n",
    "        for j in range(i+1,len(s)):\n",
    "            if s[j] - s[i] > maxprofit:\n",
    "                maxprofit=s[j] - s[i]\n",
    "    return maxprofit\n",
    "\n",
    "m=buy_sell_once(stocks)\n",
    "print(m)"
   ]
  }
 ],
 "metadata": {
  "kernelspec": {
   "display_name": "Python 3",
   "language": "python",
   "name": "python3"
  },
  "language_info": {
   "codemirror_mode": {
    "name": "ipython",
    "version": 3
   },
   "file_extension": ".py",
   "mimetype": "text/x-python",
   "name": "python",
   "nbconvert_exporter": "python",
   "pygments_lexer": "ipython3",
   "version": "3.6.4"
  }
 },
 "nbformat": 4,
 "nbformat_minor": 2
}
