{
 "cells": [
  {
   "cell_type": "markdown",
   "metadata": {},
   "source": [
    "Given an array of integers, return indices of the two numbers such that they add up to a specific target.\n",
    "\n",
    "You may assume that each input would have exactly one solution, and you may not use the same element twice.\n",
    "\n",
    "#### Example:\n",
    "\n",
    "Given nums = [2, 7, 11, 15], target = 9,\n",
    "\n",
    "Because nums[0] + nums[1] = 2 + 7 = 9,\n",
    "return [0, 1].\n",
    " "
   ]
  },
  {
   "cell_type": "code",
   "execution_count": 14,
   "metadata": {},
   "outputs": [
    {
     "data": {
      "text/plain": [
       "[0, 1]"
      ]
     },
     "execution_count": 14,
     "metadata": {},
     "output_type": "execute_result"
    }
   ],
   "source": [
    "def twosum(num,target):\n",
    "    if(len(num)<=1):\n",
    "        return\n",
    "    dic ={}\n",
    "    for i in range(len(num)):\n",
    "        if(num[i] in dic):\n",
    "            return [dic[num[i]],i]\n",
    "        else:\n",
    "            dic[target -num[i]] = i\n",
    "num=[2,7,11,15]    \n",
    "twosum(num,9)"
   ]
  },
  {
   "cell_type": "code",
   "execution_count": 33,
   "metadata": {},
   "outputs": [
    {
     "name": "stdout",
     "output_type": "stream",
     "text": [
      "i 0\n",
      "num[i] 2\n",
      "inside else\n",
      "sub 7\n",
      "i 1\n",
      "num[i] 7\n",
      "inside if\n",
      "[0, 1]\n"
     ]
    },
    {
     "data": {
      "text/plain": [
       "[0, 1]"
      ]
     },
     "execution_count": 33,
     "metadata": {},
     "output_type": "execute_result"
    }
   ],
   "source": [
    "def twosum(num,target):\n",
    "    if(len(num)<=1):\n",
    "        return\n",
    "    dic ={}\n",
    "    for i in range(len(num)):\n",
    "        print(\"i\",i)\n",
    "        print(\"num[i]\",num[i])\n",
    "        if(num[i] in dic):\n",
    "            print(\"inside if\")\n",
    "            print([dic[num[i]],i])\n",
    "            return [dic[num[i]],i]\n",
    "        else:\n",
    "            print(\"inside else\")\n",
    "            print(\"sub {}\".format(target-num[i]))\n",
    "            dic[target -num[i]] = i\n",
    "num=[2,7,11,15]    \n",
    "twosum(num,9)"
   ]
  },
  {
   "cell_type": "code",
   "execution_count": 25,
   "metadata": {},
   "outputs": [
    {
     "name": "stdout",
     "output_type": "stream",
     "text": [
      "1\n"
     ]
    }
   ],
   "source": [
    "dic ={}\n",
    "dic[7]=0\n",
    "dic[8]=1\n",
    "\n",
    "print(dic[8])"
   ]
  },
  {
   "cell_type": "code",
   "execution_count": null,
   "metadata": {},
   "outputs": [],
   "source": []
  }
 ],
 "metadata": {
  "kernelspec": {
   "display_name": "Python 3",
   "language": "python",
   "name": "python3"
  },
  "language_info": {
   "codemirror_mode": {
    "name": "ipython",
    "version": 3
   },
   "file_extension": ".py",
   "mimetype": "text/x-python",
   "name": "python",
   "nbconvert_exporter": "python",
   "pygments_lexer": "ipython3",
   "version": "3.6.4"
  }
 },
 "nbformat": 4,
 "nbformat_minor": 2
}
