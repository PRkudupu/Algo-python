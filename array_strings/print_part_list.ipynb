{
 "cells": [
  {
   "cell_type": "markdown",
   "metadata": {},
   "source": [
    "### Print parts of the array"
   ]
  },
  {
   "cell_type": "code",
   "execution_count": 5,
   "metadata": {},
   "outputs": [
    {
     "name": "stdout",
     "output_type": "stream",
     "text": [
      "0 to 3 [1, 4, 5]\n",
      "Increement by 2 [1, 5]\n",
      "Increement by 3 [1]\n",
      "print till the end [1, 4, 5, 8, 10, 12]\n",
      "Reverse the list [15, 12, 10, 8, 5, 4, 1]\n",
      "slice slice(None, [1, 4], None)\n"
     ]
    }
   ],
   "source": [
    "def print_part(ls):\n",
    "    print(\"0 to 3\",ls[0:3])\n",
    "    print(\"Increement by 2\",ls[0:3:2])\n",
    "    print(\"Increement by 3\",ls[0:3:3])\n",
    "    print(\"print till the end\",ls[0:-1])\n",
    "    print(\"Reverse the list\",ls[::-1])\n",
    "    print(\"slice\",slice(ls[0:2]))\n",
    "print_part([1,4,5,8,10,12,15])"
   ]
  }
 ],
 "metadata": {
  "kernelspec": {
   "display_name": "Python 3",
   "language": "python",
   "name": "python3"
  },
  "language_info": {
   "codemirror_mode": {
    "name": "ipython",
    "version": 3
   },
   "file_extension": ".py",
   "mimetype": "text/x-python",
   "name": "python",
   "nbconvert_exporter": "python",
   "pygments_lexer": "ipython3",
   "version": "3.7.0"
  }
 },
 "nbformat": 4,
 "nbformat_minor": 2
}
