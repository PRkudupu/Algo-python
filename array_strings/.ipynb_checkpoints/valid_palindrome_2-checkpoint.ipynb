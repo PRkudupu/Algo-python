{
 "cells": [
  {
   "cell_type": "markdown",
   "metadata": {},
   "source": [
    "Given a non-empty string s, you may delete at most one character. Judge whether you can make it a palindrome.\n",
    "\n",
    "#### Example 1:\n",
    "Input: \"aba\"\n",
    "Output: True\n",
    "\n",
    "#### Example 2:\n",
    "Input: \"abca\"\n",
    "Output: True\n",
    "Explanation: You could delete the character 'c'.\n",
    "\n",
    "[1:5] is equivalent to \"from 1 to 5\" (5 not included)\n",
    "\n",
    "[1:] is equivalent to \"1 to end\"\n",
    "\n",
    "[len(a):] is equivalent to \"from length of a to end\""
   ]
  },
  {
   "cell_type": "code",
   "execution_count": null,
   "metadata": {},
   "outputs": [],
   "source": []
  }
 ],
 "metadata": {
  "kernelspec": {
   "display_name": "Python 3",
   "language": "python",
   "name": "python3"
  },
  "language_info": {
   "codemirror_mode": {
    "name": "ipython",
    "version": 3
   },
   "file_extension": ".py",
   "mimetype": "text/x-python",
   "name": "python",
   "nbconvert_exporter": "python",
   "pygments_lexer": "ipython3",
   "version": "3.6.4"
  }
 },
 "nbformat": 4,
 "nbformat_minor": 2
}
