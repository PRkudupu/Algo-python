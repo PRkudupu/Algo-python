{
 "cells": [
  {
   "cell_type": "markdown",
   "metadata": {},
   "source": [
    "## Given two binary strings, return their sum (also a binary string).\n",
    "\n",
    "The input strings are both non-empty and contains only characters 1 or 0.\n",
    "\n",
    "### Example 1:\n",
    "\n",
    "Input: a = \"11\", b = \"1\"\n",
    "Output: \"100\"\n",
    "### Example 2:\n",
    "\n",
    "Input: a = \"1010\", b = \"1011\"\n",
    "Output: \"10101\"\n"
   ]
  },
  {
   "cell_type": "code",
   "execution_count": 1,
   "metadata": {},
   "outputs": [],
   "source": [
    " def addBinary( a, b):\n",
    "            if len(a)==0: return b\n",
    "            if len(b)==0: return a\n",
    "            if a[-1] == '1' and b[-1] == '1':\n",
    "                return addBinary(addBinary(a[0:-1],b[0:-1]),'1')+'0' \n",
    "            if a[-1] == '0' and b[-1] == '0':\n",
    "                return addBinary(a[0:-1],b[0:-1])+'0'\n",
    "            else:\n",
    "                return addBinary(a[0:-1],b[0:-1])+'1'"
   ]
  },
  {
   "cell_type": "code",
   "execution_count": 2,
   "metadata": {},
   "outputs": [],
   "source": [
    "#  addBinary(addBinary(1,[]),1)+'0' \n",
    "#  addBinary(addBinary(1,[]),1) + '0' ==> addBinary(1,[]) return a =1 B\n",
    "#  addBinary(1,1)+'0' \n",
    "#   return {addBinary(addBinary(a[0:-1],b[0:-1]),'1')+'0' } +'0' ==> addBinary(a[0:-1],b[0:-1]) return empty A\n",
    "# return {addBinary(empty,'1')+'0' } +'0' ===> addBinary(empty,'1') return 1 A\n",
    "#1 +'0' +'0' "
   ]
  },
  {
   "cell_type": "code",
   "execution_count": 3,
   "metadata": {},
   "outputs": [
    {
     "data": {
      "text/plain": [
       "'100'"
      ]
     },
     "execution_count": 3,
     "metadata": {},
     "output_type": "execute_result"
    }
   ],
   "source": [
    "addBinary(\"11\",\"1\")"
   ]
  },
  {
   "cell_type": "code",
   "execution_count": 14,
   "metadata": {},
   "outputs": [],
   "source": [
    "def add_binary(a,b):\n",
    "    print(\"len(a)  {}\".format(len(a)))\n",
    "    print(\"len(b) {}\".format(len(b)))\n",
    "    print(\"a[-1] {}\".format(a[-1]))  \n",
    "    print(\"b[-1] {}\".format(b[-1]))\n",
    "    print(\"a[0:-1]) {}\".format(a[0:-1]))  \n",
    "    print(\"b[0:-1]) {}\".format(b[0:-1]))\n",
    "    if len(a)==0:\n",
    "        print(\"len a==0\")\n",
    "        return b\n",
    "    if len(b)==0:\n",
    "        print(\"len b==0\")\n",
    "        return a\n",
    "    if a[-1] == '1' and b[-1] == '1':\n",
    "        print(\"First if condition 1,1\")\n",
    "        return addBinary(addBinary(a[0:-1],b[0:-1]),'1')+'0'\n",
    "    if a[-1] == '0' and b[-1] == '0':\n",
    "        print(\"Second if condition 0,0\")\n",
    "        return add_binary(a[0:-1],b[0:-1])+'0'\n",
    "    else:\n",
    "        print(\"Else\")\n",
    "        return add_binary(a[0:-1],b[0:-1])+'1'"
   ]
  },
  {
   "cell_type": "code",
   "execution_count": 17,
   "metadata": {},
   "outputs": [
    {
     "name": "stdout",
     "output_type": "stream",
     "text": [
      "len(a)  4\n",
      "len(b) 4\n",
      "a[-1] 0\n",
      "b[-1] 1\n",
      "a[0:-1]) 101\n",
      "b[0:-1]) 101\n",
      "Else\n",
      "len(a)  3\n",
      "len(b) 3\n",
      "a[-1] 1\n",
      "b[-1] 1\n",
      "a[0:-1]) 10\n",
      "b[0:-1]) 10\n",
      "First if condition 1,1\n"
     ]
    },
    {
     "data": {
      "text/plain": [
       "'10101'"
      ]
     },
     "execution_count": 17,
     "metadata": {},
     "output_type": "execute_result"
    }
   ],
   "source": [
    "add_binary(\"1010\",\"1011\")"
   ]
  },
  {
   "cell_type": "code",
   "execution_count": 12,
   "metadata": {},
   "outputs": [],
   "source": [
    "def add_binary_nums(x, y):\n",
    "        print((len(x)))\n",
    "        print((len(x)))\n",
    "        max_len = max(len(x), len(y)) \n",
    "        print(\"max_len {}\".format(max_len))\n",
    "        \n",
    "        print()\n",
    "        #Fill it with zeros\n",
    "        x = x.zfill(max_len) \n",
    "        print(\"x {}\".format(x))\n",
    "        y = y.zfill(max_len)\n",
    "        print(\"y {}\".format(y))\n",
    "        print(y)\n",
    "          \n",
    "        # initialize the result \n",
    "        result = '' \n",
    "          \n",
    "        # initialize the carry \n",
    "        carry = 0\n",
    "  \n",
    "        # Traverse the string \n",
    "        for i in range(max_len - 1, -1, -1): \n",
    "            r = carry \n",
    "            r += 1 if x[i] == '1' else 0\n",
    "            r += 1 if y[i] == '1' else 0\n",
    "            result = ('1' if r % 2 == 1 else '0') + result \n",
    "            carry = 0 if r < 2 else 1     # Compute the carry. \n",
    "          \n",
    "        if carry !=0 : result = '1' + result \n",
    "  \n",
    "        return result.zfill(max_len) \n",
    "  "
   ]
  },
  {
   "cell_type": "code",
   "execution_count": 13,
   "metadata": {},
   "outputs": [
    {
     "name": "stdout",
     "output_type": "stream",
     "text": [
      "3\n",
      "3\n",
      "max_len 3\n",
      "\n",
      "x 100\n",
      "y 010\n",
      "010\n"
     ]
    },
    {
     "data": {
      "text/plain": [
       "'110'"
      ]
     },
     "execution_count": 13,
     "metadata": {},
     "output_type": "execute_result"
    }
   ],
   "source": [
    "add_binary_nums('100','10')"
   ]
  },
  {
   "cell_type": "code",
   "execution_count": null,
   "metadata": {},
   "outputs": [],
   "source": []
  }
 ],
 "metadata": {
  "kernelspec": {
   "display_name": "Python 3",
   "language": "python",
   "name": "python3"
  },
  "language_info": {
   "codemirror_mode": {
    "name": "ipython",
    "version": 3
   },
   "file_extension": ".py",
   "mimetype": "text/x-python",
   "name": "python",
   "nbconvert_exporter": "python",
   "pygments_lexer": "ipython3",
   "version": "3.6.4"
  }
 },
 "nbformat": 4,
 "nbformat_minor": 2
}
