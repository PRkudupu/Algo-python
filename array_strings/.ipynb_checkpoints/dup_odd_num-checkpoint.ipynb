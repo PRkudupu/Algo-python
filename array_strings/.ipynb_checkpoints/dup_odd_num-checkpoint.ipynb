{
 "cells": [
  {
   "cell_type": "markdown",
   "metadata": {},
   "source": [
    "In given array find the duplicate odd number .\n",
    "\n",
    "Note: There is only one duplicate odd number\n",
    "\n",
    "<b> Ex [1,4,6,3,1] should return 1 </b>"
   ]
  },
  {
   "cell_type": "code",
   "execution_count": 27,
   "metadata": {},
   "outputs": [],
   "source": [
    "def dup_odd_num(num):\n",
    "    count=0\n",
    "    dic={}\n",
    "    for i in range(len(num)):\n",
    "        if num[i] % 2 != 0:\n",
    "            dic[0]=count\n",
    "            dic[1]=num[i]\n",
    "            count+=1\n",
    "    return dic[1]"
   ]
  },
  {
   "cell_type": "code",
   "execution_count": 28,
   "metadata": {},
   "outputs": [
    {
     "name": "stdout",
     "output_type": "stream",
     "text": [
      "3\n"
     ]
    }
   ],
   "source": [
    "print(dup_odd_num([3,4,6,8,]))"
   ]
  },
  {
   "cell_type": "code",
   "execution_count": null,
   "metadata": {},
   "outputs": [],
   "source": []
  },
  {
   "cell_type": "code",
   "execution_count": null,
   "metadata": {},
   "outputs": [],
   "source": []
  }
 ],
 "metadata": {
  "kernelspec": {
   "display_name": "Python 3",
   "language": "python",
   "name": "python3"
  },
  "language_info": {
   "codemirror_mode": {
    "name": "ipython",
    "version": 3
   },
   "file_extension": ".py",
   "mimetype": "text/x-python",
   "name": "python",
   "nbconvert_exporter": "python",
   "pygments_lexer": "ipython3",
   "version": "3.6.4"
  }
 },
 "nbformat": 4,
 "nbformat_minor": 2
}
