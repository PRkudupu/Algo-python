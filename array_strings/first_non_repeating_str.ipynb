{
 "cells": [
  {
   "cell_type": "markdown",
   "metadata": {},
   "source": [
    "#### Given a string, find the first non-repeating character in it and return it's index. If it doesn't exist, return -1.\n",
    "\n",
    "Examples:\n",
    "\n",
    "s = \"leetcode\"\n",
    "\n",
    "<b>return 0.</b>\n",
    "\n",
    "s = \"loveleetcode\",\n",
    "\n",
    "<b>return 2.</b>\n"
   ]
  },
  {
   "cell_type": "code",
   "execution_count": null,
   "metadata": {},
   "outputs": [],
   "source": [
    "def firstUniqChar(s):\n",
    "        \"\"\"\n",
    "        :type s: str\n",
    "        :rtype: int\n",
    "        \"\"\"\n",
    "        dic ={}\n",
    "        for i in range(len(s)):\n",
    "            if s[i] in dic.keys():\n",
    "                continue\n",
    "            else:\n",
    "                if s.count(s[i]) == 1:\n",
    "                    return i\n",
    "                else:\n",
    "                    dic[s[i]]=s[i].count(s[i])\n",
    "            \n",
    "        return -1\n",
    "\n",
    "print(firstUniqChar(\"saspa\"))"
   ]
  }
 ],
 "metadata": {
  "kernelspec": {
   "display_name": "Python 3",
   "language": "python",
   "name": "python3"
  },
  "language_info": {
   "codemirror_mode": {
    "name": "ipython",
    "version": 3
   },
   "file_extension": ".py",
   "mimetype": "text/x-python",
   "name": "python",
   "nbconvert_exporter": "python",
   "pygments_lexer": "ipython3",
   "version": "3.7.0"
  }
 },
 "nbformat": 4,
 "nbformat_minor": 2
}
