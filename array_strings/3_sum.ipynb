{
 "cells": [
  {
   "cell_type": "markdown",
   "metadata": {},
   "source": [
    "Given an array nums of n integers, are there elements a, b, c in nums such that a + b + c = target \n",
    "\n",
    "Note:\n",
    "\n",
    "<b>Example:</b>\n",
    "\n",
    "Given array nums = [-8, -7, 5, 2], target=0\n",
    "\n",
    "return (-7,5,2)"
   ]
  },
  {
   "cell_type": "code",
   "execution_count": 6,
   "metadata": {},
   "outputs": [],
   "source": [
    "#O(n3) . Here the time complexity is O n3"
   ]
  },
  {
   "cell_type": "code",
   "execution_count": 7,
   "metadata": {},
   "outputs": [
    {
     "name": "stdout",
     "output_type": "stream",
     "text": [
      "(-7, 5, 2)\n"
     ]
    }
   ],
   "source": [
    "def three_sum(arr,target):\n",
    "    for i in range(len(arr)):\n",
    "        for j in range(i+1,len(arr)):\n",
    "            for k in range(j+1,len(arr)):\n",
    "                if arr[i]+arr[j]+arr[k] == target:\n",
    "                    return arr[i],arr[j],arr[k]\n",
    "print(three_sum([-8,-7,5,2],0))"
   ]
  },
  {
   "cell_type": "markdown",
   "metadata": {},
   "source": [
    "Here the time complexity is <b> O (n2) </b>"
   ]
  },
  {
   "cell_type": "code",
   "execution_count": 16,
   "metadata": {},
   "outputs": [
    {
     "name": "stdout",
     "output_type": "stream",
     "text": [
      "(-7, 5, 2)\n"
     ]
    }
   ],
   "source": [
    "def three_sum_sort(arr,target):\n",
    "    #sort\n",
    "    arr.sort\n",
    "    for i in range(len(arr)-2):\n",
    "        partial_target=target-arr[i]\n",
    "        j=i+1\n",
    "        k=len(arr)-1\n",
    "        while j < k:\n",
    "            partial_sum=arr[j]+arr[k]\n",
    "            if partial_sum == partial_target:\n",
    "                return (arr[i],arr[j],arr[k])\n",
    "            elif partial_sum > target:\n",
    "                k-=1\n",
    "            else:\n",
    "                j+=1\n",
    "    return None\n",
    "print(three_sum_sort([-8,-7,5,2],0))           "
   ]
  },
  {
   "cell_type": "markdown",
   "metadata": {},
   "source": [
    "Here the time complexity is <b> O (n2)"
   ]
  },
  {
   "cell_type": "code",
   "execution_count": 24,
   "metadata": {},
   "outputs": [
    {
     "name": "stdout",
     "output_type": "stream",
     "text": [
      "Triplet is -7 ,  2 ,  5\n",
      "True\n"
     ]
    }
   ],
   "source": [
    "# Python3 program to find a triplet using Hashing \n",
    "# returns true if there is triplet with sum equal \n",
    "# to 'sum' present in A[]. Also, prints the triplet \n",
    "def three_sum_hash(A,sum): \n",
    "    for i in range(0,len(A)-1): \n",
    "        #Find pair in subarray A[i+1..n-1]  \n",
    "        # with sum equal to sum - A[i] \n",
    "        s = set() \n",
    "        curr_sum = sum - A[i] \n",
    "        for j in range(i+1,len(A)): \n",
    "            if (curr_sum - A[j]) in s: \n",
    "                print(\"Triplet is\", A[i],  \n",
    "                        \", \", A[j], \", \", curr_sum-A[j]) \n",
    "                return True\n",
    "            s.add(A[j]) \n",
    "    return False\n",
    "print(three_sum_hash([-8,-7,5,2],0))  "
   ]
  },
  {
   "cell_type": "code",
   "execution_count": 17,
   "metadata": {},
   "outputs": [
    {
     "name": "stdout",
     "output_type": "stream",
     "text": [
      "i 0\n",
      "target 0\n",
      "arr[i] -8\n",
      "partial_target 8\n",
      "k 3\n",
      "arr[j] -7\n",
      "arr[k] 2\n",
      "partial_sum -5\n",
      "arr[i] -8\n",
      "arr[j] 5\n",
      "arr[k] 2\n",
      "partial_sum 7\n",
      "arr[i] -8\n",
      "i 1\n",
      "target 0\n",
      "arr[i] -7\n",
      "partial_target 7\n",
      "k 3\n",
      "arr[j] 5\n",
      "arr[k] 2\n",
      "partial_sum 7\n",
      "arr[i] -7\n",
      "(-7, 5, 2)\n"
     ]
    }
   ],
   "source": [
    "def three_sum_n(arr,target):\n",
    "    #sort the array\n",
    "    arr.sort\n",
    "    for i in range(len(arr)-2):\n",
    "        print(\"i {}\".format(i))\n",
    "        print(\"target {}\".format(target))\n",
    "        print(\"arr[i] {}\".format(arr[i]))\n",
    "        partial_target =target-arr[i]\n",
    "        print(\"partial_target {}\".format(partial_target))\n",
    "        j=i+1\n",
    "        k=len(arr) - 1\n",
    "        print (\"k {}\".format(k))\n",
    "        while j < k:\n",
    "            partial_sum = arr[j]+arr[k]\n",
    "            print(\"arr[j] {}\".format(arr[j]))\n",
    "            print(\"arr[k] {}\".format(arr[k]))\n",
    "            print(\"partial_sum {}\".format(partial_sum))\n",
    "            print(\"arr[i] {}\".format(arr[i]))\n",
    "            if partial_sum == partial_target:\n",
    "                return (arr[i],arr[j],arr[k])\n",
    "            elif partial_sum > partial_target: # Make sum smaller\n",
    "                k-=1\n",
    "            else:\n",
    "                j+=1\n",
    "    return None\n",
    "\n",
    "print(three_sum_n([-8,-7,5,2],0))\n"
   ]
  },
  {
   "cell_type": "code",
   "execution_count": null,
   "metadata": {},
   "outputs": [],
   "source": []
  }
 ],
 "metadata": {
  "kernelspec": {
   "display_name": "Python 3",
   "language": "python",
   "name": "python3"
  },
  "language_info": {
   "codemirror_mode": {
    "name": "ipython",
    "version": 3
   },
   "file_extension": ".py",
   "mimetype": "text/x-python",
   "name": "python",
   "nbconvert_exporter": "python",
   "pygments_lexer": "ipython3",
   "version": "3.6.4"
  }
 },
 "nbformat": 4,
 "nbformat_minor": 2
}
