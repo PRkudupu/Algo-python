{
 "cells": [
  {
   "cell_type": "markdown",
   "metadata": {},
   "source": [
    "### Check if a string is substring of another\n",
    "Given two strings s1 and s2, find if s1 is substring of s2. If yes, return true of first occurrence, else return false.\n",
    "\n",
    "#### Examples :\n",
    "\n",
    "Input : s1 = \"for\", s2 = \"geeksforgeeks\"\n",
    "Output : True\n",
    "String \"for\" is present as a substring\n",
    "of s2.\n",
    "\n",
    "Input : s1 = \"practice\", s2 = \"geeksforgeeks\"\n",
    "Output : False."
   ]
  },
  {
   "cell_type": "code",
   "execution_count": null,
   "metadata": {},
   "outputs": [],
   "source": [
    "def sub(s1,s2):\n",
    "    if s1 in s2:\n",
    "        return True\n",
    "    else:\n",
    "        return False\n",
    "print(sub(\"sam\",\"I am sam\")) \n",
    "    "
   ]
  },
  {
   "cell_type": "code",
   "execution_count": 13,
   "metadata": {},
   "outputs": [
    {
     "name": "stdout",
     "output_type": "stream",
     "text": [
      "False\n"
     ]
    }
   ],
   "source": [
    "def sub(s1,s2):\n",
    "    if s2.find(s1) != -1:\n",
    "        return True\n",
    "    else:\n",
    "        return False\n",
    "print(sub(\"sam\",\"I am sam\"))"
   ]
  },
  {
   "cell_type": "code",
   "execution_count": 25,
   "metadata": {},
   "outputs": [
    {
     "name": "stdout",
     "output_type": "stream",
     "text": [
      "True\n"
     ]
    }
   ],
   "source": [
    "def sub(s1,s2):\n",
    "    sub_str=len(s1)\n",
    "    main_str=len(s2)\n",
    "    out_loop=main_str-sub_str+1\n",
    "    \n",
    "    for i in range(out_loop):\n",
    "        for j in range(sub_str):\n",
    "            if s2[i+j] != s1[j]:\n",
    "                break;\n",
    "            if j+1 == sub_str:\n",
    "                return True\n",
    "    return False\n",
    "print(sub(\"sam\",\"I am sam\"))            "
   ]
  },
  {
   "cell_type": "code",
   "execution_count": null,
   "metadata": {},
   "outputs": [],
   "source": []
  },
  {
   "cell_type": "code",
   "execution_count": null,
   "metadata": {},
   "outputs": [],
   "source": []
  }
 ],
 "metadata": {
  "kernelspec": {
   "display_name": "Python 3",
   "language": "python",
   "name": "python3"
  },
  "language_info": {
   "codemirror_mode": {
    "name": "ipython",
    "version": 3
   },
   "file_extension": ".py",
   "mimetype": "text/x-python",
   "name": "python",
   "nbconvert_exporter": "python",
   "pygments_lexer": "ipython3",
   "version": "3.7.0"
  }
 },
 "nbformat": 4,
 "nbformat_minor": 2
}
