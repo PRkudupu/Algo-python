{
 "cells": [
  {
   "cell_type": "markdown",
   "metadata": {},
   "source": [
    "Iteration through loops"
   ]
  },
  {
   "cell_type": "code",
   "execution_count": 4,
   "metadata": {},
   "outputs": [
    {
     "name": "stdout",
     "output_type": "stream",
     "text": [
      "The value in the list 0\n",
      "The value in the list 1\n",
      "The value in the list 2\n",
      "The value in the list 3\n",
      "The value in the list 4\n",
      "The value in the list 5\n",
      " The index value in the list0The value at index i is0\n",
      " The index value in the list1The value at index i is1\n",
      " The index value in the list2The value at index i is2\n",
      " The index value in the list3The value at index i is3\n",
      " The index value in the list4The value at index i is4\n",
      " The index value in the list5The value at index i is5\n"
     ]
    }
   ],
   "source": [
    "mylist =[0,1,2,3,4,5]\n",
    "\n",
    "# iterate using for.Here we are printing each value in the list using in\n",
    "for value in mylist:\n",
    "    print(\"The value in the list\",value)\n"
   ]
  },
  {
   "cell_type": "code",
   "execution_count": 8,
   "metadata": {},
   "outputs": [
    {
     "name": "stdout",
     "output_type": "stream",
     "text": [
      " The index value in the list :0.The value at index i is :0\n",
      " The index value in the list :1.The value at index i is :1\n",
      " The index value in the list :2.The value at index i is :2\n",
      " The index value in the list :3.The value at index i is :3\n",
      " The index value in the list :4.The value at index i is :4\n",
      " The index value in the list :5.The value at index i is :5\n"
     ]
    }
   ],
   "source": [
    "# print value and the index from the list using enumerate\n",
    "for index,value in enumerate(mylist):\n",
    "    print(\" The index value in the list :\"+ str(index) + \".The value at index i is :\" +str(value))"
   ]
  },
  {
   "cell_type": "code",
   "execution_count": null,
   "metadata": {},
   "outputs": [],
   "source": []
  }
 ],
 "metadata": {
  "kernelspec": {
   "display_name": "Python 3",
   "language": "python",
   "name": "python3"
  },
  "language_info": {
   "codemirror_mode": {
    "name": "ipython",
    "version": 3
   },
   "file_extension": ".py",
   "mimetype": "text/x-python",
   "name": "python",
   "nbconvert_exporter": "python",
   "pygments_lexer": "ipython3",
   "version": "3.7.0"
  }
 },
 "nbformat": 4,
 "nbformat_minor": 2
}
