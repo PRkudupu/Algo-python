{
 "cells": [
  {
   "cell_type": "markdown",
   "metadata": {},
   "source": [
    "### Iteration with Loops\n",
    "\n",
    "To iterate in Python, there are several options. A for loop can be used to iterate through a list or dictionary. Instead of the traditional for loop where we initialize a value i and increase / decrease it till it reaches an end value, Python's for loops are for-each in nature. This means that when you are iterating using a for loop over a list, you actually iterate over the items of that list.\n",
    "\n",
    "If you also need the index values from the list while iterating, another possibility is to use enumerate, which is shown in an example below.\n",
    "\n",
    "An additional way to iterate in Python is with a while loop. Just as in other programming languages, the while loop will repeat while some conditional statement is true. You will see more on conditional statements shortly, but first, here are examples of iteration with for and while loops."
   ]
  },
  {
   "cell_type": "code",
   "execution_count": 9,
   "metadata": {},
   "outputs": [
    {
     "name": "stdout",
     "output_type": "stream",
     "text": [
      "The value in the list 0\n",
      "The value in the list 1\n",
      "The value in the list 2\n",
      "The value in the list 3\n",
      "The value in the list 4\n",
      "The value in the list 5\n"
     ]
    }
   ],
   "source": [
    "mylist =[0,1,2,3,4,5]\n",
    "\n",
    "# iterate using for.Here we are printing each value in the list using in\n",
    "for value in mylist:\n",
    "    print(\"The value in the list\",value)\n"
   ]
  },
  {
   "cell_type": "code",
   "execution_count": 10,
   "metadata": {},
   "outputs": [
    {
     "name": "stdout",
     "output_type": "stream",
     "text": [
      " The index value in the list :0.The value at index i is :0\n",
      " The index value in the list :1.The value at index i is :1\n",
      " The index value in the list :2.The value at index i is :2\n",
      " The index value in the list :3.The value at index i is :3\n",
      " The index value in the list :4.The value at index i is :4\n",
      " The index value in the list :5.The value at index i is :5\n"
     ]
    }
   ],
   "source": [
    "# print value and the index from the list using enumerate\n",
    "for index,value in enumerate(mylist):\n",
    "    print(\" The index value in the list :\"+ str(index) + \".The value at index i is :\" +str(value))"
   ]
  },
  {
   "cell_type": "code",
   "execution_count": 11,
   "metadata": {},
   "outputs": [
    {
     "name": "stdout",
     "output_type": "stream",
     "text": [
      "0\n",
      "1\n",
      "2\n",
      "3\n",
      "4\n",
      "5\n",
      "6\n",
      "7\n",
      "8\n",
      "9\n"
     ]
    }
   ],
   "source": [
    "# print number from 0 to 9 using while loop\n",
    "i=0\n",
    "while (i<10):\n",
    "    print(i)\n",
    "    i+=1"
   ]
  },
  {
   "cell_type": "code",
   "execution_count": 20,
   "metadata": {},
   "outputs": [
    {
     "name": "stdout",
     "output_type": "stream",
     "text": [
      "The value of key: 1:first\n",
      "The value of key: 2:second\n",
      "The value of key: 3:third\n"
     ]
    }
   ],
   "source": [
    "# Print key and dictionary value\n",
    "dict ={'1':'first','2':'second','3':'third'}\n",
    "\n",
    "for key in dict:\n",
    "    print(\"The value of key: \"+key +\":\"+ dict[key])"
   ]
  },
  {
   "cell_type": "markdown",
   "metadata": {},
   "source": [
    "### Conditional Statements\n",
    "Conditional statements use boolean logic to help guide our decision process: the statement is true or false. These statements are structured using comparison operators: greater than (>), less than (<), and equal to (==).\n",
    "\n",
    "Using conditional statements for control flow is accomplished in Python with the keywords: if, else, and elif. When doing multiple comparisons in Python, one after the other, the first comparison always usesif and the last comparison generally uses else. If additional control flow is needed, elif statements can be used; elif stands for \"else if\"."
   ]
  },
  {
   "cell_type": "code",
   "execution_count": 22,
   "metadata": {},
   "outputs": [
    {
     "name": "stdout",
     "output_type": "stream",
     "text": [
      "Number is greater than 10\n"
     ]
    }
   ],
   "source": [
    "num = 12\n",
    "if num > 10:\n",
    "    print(\"Number is greater than 10\")\n",
    "elif num < 10:\n",
    "    print(\"Number is lesser than 10\")\n",
    "else:\n",
    "    print(\"number is 10\")"
   ]
  },
  {
   "cell_type": "code",
   "execution_count": null,
   "metadata": {},
   "outputs": [],
   "source": []
  }
 ],
 "metadata": {
  "kernelspec": {
   "display_name": "Python 3",
   "language": "python",
   "name": "python3"
  },
  "language_info": {
   "codemirror_mode": {
    "name": "ipython",
    "version": 3
   },
   "file_extension": ".py",
   "mimetype": "text/x-python",
   "name": "python",
   "nbconvert_exporter": "python",
   "pygments_lexer": "ipython3",
   "version": "3.7.0"
  }
 },
 "nbformat": 4,
 "nbformat_minor": 2
}
