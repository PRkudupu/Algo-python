{
 "cells": [
  {
   "cell_type": "markdown",
   "metadata": {},
   "source": [
    "Iteration through loops"
   ]
  },
  {
   "cell_type": "code",
   "execution_count": 9,
   "metadata": {},
   "outputs": [
    {
     "name": "stdout",
     "output_type": "stream",
     "text": [
      "The value in the list 0\n",
      "The value in the list 1\n",
      "The value in the list 2\n",
      "The value in the list 3\n",
      "The value in the list 4\n",
      "The value in the list 5\n"
     ]
    }
   ],
   "source": [
    "mylist =[0,1,2,3,4,5]\n",
    "\n",
    "# iterate using for.Here we are printing each value in the list using in\n",
    "for value in mylist:\n",
    "    print(\"The value in the list\",value)\n"
   ]
  },
  {
   "cell_type": "code",
   "execution_count": 10,
   "metadata": {},
   "outputs": [
    {
     "name": "stdout",
     "output_type": "stream",
     "text": [
      " The index value in the list :0.The value at index i is :0\n",
      " The index value in the list :1.The value at index i is :1\n",
      " The index value in the list :2.The value at index i is :2\n",
      " The index value in the list :3.The value at index i is :3\n",
      " The index value in the list :4.The value at index i is :4\n",
      " The index value in the list :5.The value at index i is :5\n"
     ]
    }
   ],
   "source": [
    "# print value and the index from the list using enumerate\n",
    "for index,value in enumerate(mylist):\n",
    "    print(\" The index value in the list :\"+ str(index) + \".The value at index i is :\" +str(value))"
   ]
  },
  {
   "cell_type": "code",
   "execution_count": 11,
   "metadata": {},
   "outputs": [
    {
     "name": "stdout",
     "output_type": "stream",
     "text": [
      "0\n",
      "1\n",
      "2\n",
      "3\n",
      "4\n",
      "5\n",
      "6\n",
      "7\n",
      "8\n",
      "9\n"
     ]
    }
   ],
   "source": [
    "# print number from 0 to 9 using while loop\n",
    "i=0\n",
    "while (i<10):\n",
    "    print(i)\n",
    "    i+=1"
   ]
  },
  {
   "cell_type": "code",
   "execution_count": 20,
   "metadata": {},
   "outputs": [
    {
     "name": "stdout",
     "output_type": "stream",
     "text": [
      "The value of key: 1:first\n",
      "The value of key: 2:second\n",
      "The value of key: 3:third\n"
     ]
    }
   ],
   "source": [
    "# Print key and dictionary value\n",
    "dict ={'1':'first','2':'second','3':'third'}\n",
    "\n",
    "for key in dict:\n",
    "    print(\"The value of key: \"+key +\":\"+ dict[key])"
   ]
  },
  {
   "cell_type": "code",
   "execution_count": null,
   "metadata": {},
   "outputs": [],
   "source": []
  }
 ],
 "metadata": {
  "kernelspec": {
   "display_name": "Python 3",
   "language": "python",
   "name": "python3"
  },
  "language_info": {
   "codemirror_mode": {
    "name": "ipython",
    "version": 3
   },
   "file_extension": ".py",
   "mimetype": "text/x-python",
   "name": "python",
   "nbconvert_exporter": "python",
   "pygments_lexer": "ipython3",
   "version": "3.7.0"
  }
 },
 "nbformat": 4,
 "nbformat_minor": 2
}
