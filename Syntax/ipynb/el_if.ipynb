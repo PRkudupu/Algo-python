{
 "cells": [
  {
   "cell_type": "code",
   "execution_count": 3,
   "metadata": {},
   "outputs": [
    {
     "name": "stdout",
     "output_type": "stream",
     "text": [
      "three\n",
      "None\n"
     ]
    }
   ],
   "source": [
    "def if_else(val):\n",
    "    if val == \"1\":\n",
    "        print(\"one\")\n",
    "    else:\n",
    "        if val == \"2\":\n",
    "            print(\"two\")\n",
    "        else:\n",
    "            print(\"three\")\n",
    "print(if_else(\"4\"))\n",
    "    "
   ]
  },
  {
   "cell_type": "code",
   "execution_count": 4,
   "metadata": {},
   "outputs": [
    {
     "name": "stdout",
     "output_type": "stream",
     "text": [
      "three\n",
      "None\n"
     ]
    }
   ],
   "source": [
    "def el_if(val):\n",
    "    if val == \"1\":\n",
    "        print(\"one\")\n",
    "    #Eliminatest the need for nested else\n",
    "    elif val == \"2\":\n",
    "        print(\"two\")\n",
    "    else:\n",
    "        print(\"three\")\n",
    "print(el_if(\"4\")) "
   ]
  },
  {
   "cell_type": "code",
   "execution_count": null,
   "metadata": {},
   "outputs": [],
   "source": []
  }
 ],
 "metadata": {
  "kernelspec": {
   "display_name": "Python 3",
   "language": "python",
   "name": "python3"
  },
  "language_info": {
   "codemirror_mode": {
    "name": "ipython",
    "version": 3
   },
   "file_extension": ".py",
   "mimetype": "text/x-python",
   "name": "python",
   "nbconvert_exporter": "python",
   "pygments_lexer": "ipython3",
   "version": "3.7.0"
  }
 },
 "nbformat": 4,
 "nbformat_minor": 2
}
