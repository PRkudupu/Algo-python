{
 "cells": [
  {
   "cell_type": "code",
   "execution_count": 9,
   "metadata": {},
   "outputs": [
    {
     "name": "stdout",
     "output_type": "stream",
     "text": [
      "i 2\n",
      "j 4\n",
      "outside j loop\n",
      "4 2\n",
      "i 1\n",
      "j 3\n",
      "j 2\n",
      "j 1\n",
      "j 0\n",
      "outside j loop\n",
      "0 1\n",
      "i 0\n",
      "outside j loop\n",
      "0 0\n"
     ]
    }
   ],
   "source": [
    "# Example for break\n",
    "i=3\n",
    "j=5\n",
    "\n",
    "while i:\n",
    "    i-=1\n",
    "    print(\"i\",i)\n",
    "    while j:\n",
    "        j -=1\n",
    "        print(\"j\",j)\n",
    "        if j == 4:\n",
    "            break\n",
    "    print(\"outside j loop\")\n",
    "    print(j,i)\n",
    "\n",
    "        "
   ]
  },
  {
   "cell_type": "code",
   "execution_count": null,
   "metadata": {},
   "outputs": [],
   "source": []
  }
 ],
 "metadata": {
  "kernelspec": {
   "display_name": "Python 3",
   "language": "python",
   "name": "python3"
  },
  "language_info": {
   "codemirror_mode": {
    "name": "ipython",
    "version": 3
   },
   "file_extension": ".py",
   "mimetype": "text/x-python",
   "name": "python",
   "nbconvert_exporter": "python",
   "pygments_lexer": "ipython3",
   "version": "3.7.0"
  }
 },
 "nbformat": 4,
 "nbformat_minor": 2
}
