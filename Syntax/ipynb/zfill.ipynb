{
 "cells": [
  {
   "cell_type": "markdown",
   "metadata": {},
   "source": [
    "<!-- HTML generated using hilite.me --><div style=\"background: #ffffff; overflow:auto;width:auto;border:solid gray;border-width:.1em .1em .1em .8em;padding:.2em .6em;\"><pre style=\"margin: 0; line-height: 125%\">Description\n",
    "Python string method zfill() pads string on the left <span style=\"color: #008800; font-weight: bold\">with</span> zeros to fill width<span style=\"color: #333333\">.</span>\n",
    "\n",
    "Syntax\n",
    "Following <span style=\"color: #000000; font-weight: bold\">is</span> the syntax <span style=\"color: #008800; font-weight: bold\">for</span> zfill() method <span style=\"color: #FF0000; background-color: #FFAAAA\">−</span>\n",
    "\n",
    "<span style=\"color: #007020\">str</span><span style=\"color: #333333\">.</span>zfill(width)\n",
    "Parameters\n",
    "width <span style=\"color: #FF0000; background-color: #FFAAAA\">−</span> This <span style=\"color: #000000; font-weight: bold\">is</span> final width of the string<span style=\"color: #333333\">.</span> This <span style=\"color: #000000; font-weight: bold\">is</span> the width which we would get after filling zeros<span style=\"color: #333333\">.</span>\n",
    "\n",
    "Return Value\n",
    "This method returns padded string<span style=\"color: #333333\">.</span>\n",
    "</pre></div>\n"
   ]
  },
  {
   "cell_type": "code",
   "execution_count": 8,
   "metadata": {},
   "outputs": [
    {
     "name": "stdout",
     "output_type": "stream",
     "text": [
      "00011\n",
      "0000000011\n",
      "111\n",
      "000000000000my name is prathap\n"
     ]
    }
   ],
   "source": [
    "def szfill(str,width):\n",
    "    return str.zfill(width)\n",
    "\n",
    "print(szfill('11',5))\n",
    "print(szfill('11',10))\n",
    "print(szfill('111',1))\n",
    "print(szfill('my name is prathap',30))"
   ]
  }
 ],
 "metadata": {
  "kernelspec": {
   "display_name": "Python 3",
   "language": "python",
   "name": "python3"
  },
  "language_info": {
   "codemirror_mode": {
    "name": "ipython",
    "version": 3
   },
   "file_extension": ".py",
   "mimetype": "text/x-python",
   "name": "python",
   "nbconvert_exporter": "python",
   "pygments_lexer": "ipython3",
   "version": "3.7.0"
  }
 },
 "nbformat": 4,
 "nbformat_minor": 2
}
