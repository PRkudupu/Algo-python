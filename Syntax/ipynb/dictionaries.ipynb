{
 "cells": [
  {
   "cell_type": "code",
   "execution_count": 4,
   "metadata": {},
   "outputs": [
    {
     "name": "stdout",
     "output_type": "stream",
     "text": [
      "2222\n",
      "111\n"
     ]
    }
   ],
   "source": [
    "#Simple dictionary\n",
    "dic ={'first':111,'second':2222}\n",
    "#Fetch the value for the second\n",
    "print(dic['second'])\n",
    "#Fetcht the value for first\n",
    "print(dic['first'])\n"
   ]
  },
  {
   "cell_type": "code",
   "execution_count": 13,
   "metadata": {},
   "outputs": [
    {
     "name": "stdout",
     "output_type": "stream",
     "text": [
      "keys-> first\n",
      "values 111\n",
      "keys-> second\n",
      "values 2222\n"
     ]
    }
   ],
   "source": [
    "#Iterate through dic\n",
    "for keys in dic:\n",
    "    #print only keys\n",
    "    print(\"keys->\",keys)\n",
    "    #print only values\n",
    "    print(\"values\",dic[keys])"
   ]
  },
  {
   "cell_type": "code",
   "execution_count": null,
   "metadata": {},
   "outputs": [],
   "source": []
  }
 ],
 "metadata": {
  "kernelspec": {
   "display_name": "Python 3",
   "language": "python",
   "name": "python3"
  },
  "language_info": {
   "codemirror_mode": {
    "name": "ipython",
    "version": 3
   },
   "file_extension": ".py",
   "mimetype": "text/x-python",
   "name": "python",
   "nbconvert_exporter": "python",
   "pygments_lexer": "ipython3",
   "version": "3.7.0"
  }
 },
 "nbformat": 4,
 "nbformat_minor": 2
}
