{
 "cells": [
  {
   "cell_type": "markdown",
   "metadata": {},
   "source": [
    "#### dic ={\"first\":1,\"second\":2,\"third\":3,\"fourth\":4}\n",
    "* Loop through all the keys\n",
    "* Loop through all the values \n",
    "* Loop through keys and values using item\n",
    "* Loop through dictionary\n",
    "* Acces the items by refering its key name\n",
    "* Acces the items by refering its key name using get\n",
    "* Change values of a specific keys\n",
    "* Print all the values in dictionary\n",
    "* Add items to the existing dictionaries\n",
    "* Remove item from the dic\n",
    "* Remove last item in the list\n",
    "* Remove item using del\n",
    "* Delete dictionary\n",
    "\n",
    "<p>Method\tDescription\n",
    "    clear()\t   <b>Removes all the elements from the dictionary</b>\n",
    "<br>copy()\t<b>Returns a copy of the dictionary</b>\n",
    "<br>fromkeys()\t<b>Returns a dictionary with the specified keys and values</b>\n",
    "<br>get()\t<b>Returns the value of the specified key</b>\n",
    "<br>items()\t<b>Returns a list containing a tuple for each key value pair</b>\n",
    "<br>keys()\t<b>Returns a list containing the dictionary's keys</b>\n",
    "<br>pop()\t<b>Removes the element with the specified key</b>\n",
    "<br>popitem()\t<b>Removes the last inserted key-value pair</b>\n",
    "<br>setdefault()\t<b>Returns the value of the specified key. If the key does not exist: insert the key, with the specified value</b>\n",
    "<br>update()\t<b>Updates the dictionary with the specified key-value pairs</b>\n",
    "<br>values()\t<b>Returns a list of all the values in the dictionary</p>"
   ]
  },
  {
   "cell_type": "code",
   "execution_count": 11,
   "metadata": {},
   "outputs": [
    {
     "name": "stdout",
     "output_type": "stream",
     "text": [
      "keys : first\n",
      "keys : second\n",
      "keys : third\n",
      "keys : fourth\n",
      "\n",
      "\n",
      "values: 1\n",
      "values: 2\n",
      "values: 3\n",
      "values: 4\n",
      "\n",
      "Loop throuh keys and values using item\n",
      "first 1\n",
      "second 2\n",
      "third 3\n",
      "fourth 4\n",
      "\n",
      "Loop through the dictionary\n",
      "keys:  first\n",
      "keys:  second\n",
      "keys:  third\n",
      "keys:  fourth\n"
     ]
    }
   ],
   "source": [
    "dic ={\"first\":1,\"second\":2,\"third\":3,\"fourth\":4}\n",
    "\n",
    "# loop through all the keys\n",
    "for keys in dic.keys():\n",
    "    print(\"keys :\",keys)\n",
    "# loop through all the values \n",
    "print(\"\\n\")\n",
    "for values in dic.values():\n",
    "    print(\"values:\",values)\n",
    "\n",
    "#loop through keys and values using item\n",
    "print(\"\\nLoop throuh keys and values using item\")\n",
    "for x,y in dic.items():\n",
    "    print(x,y)\n",
    "print(\"\\nLoop through the dictionary\")\n",
    "# loop through dictionary\n",
    "for i in dic:\n",
    "    print(\"keys: \",i)"
   ]
  },
  {
   "cell_type": "code",
   "execution_count": 12,
   "metadata": {},
   "outputs": [
    {
     "name": "stdout",
     "output_type": "stream",
     "text": [
      "Access values based on key  2\n",
      "Access values based on key using get 2\n"
     ]
    }
   ],
   "source": [
    "# Acces the items by refering its key name\n",
    "print(\"Access values based on key \",dic[\"second\"])\n",
    "# Acces the items by refering its key name using get\n",
    "print(\"Access values based on key using get\",dic.get(\"second\"))"
   ]
  },
  {
   "cell_type": "code",
   "execution_count": 7,
   "metadata": {},
   "outputs": [
    {
     "name": "stdout",
     "output_type": "stream",
     "text": [
      "Updated dictionaries values. 10\n",
      "\n",
      "Print all the values in dictionary\n",
      "1\n",
      "10\n",
      "3\n",
      "4\n",
      "\n",
      "Check if key exits.\n",
      "Exists\n"
     ]
    }
   ],
   "source": [
    "#Change values of a specific keys\n",
    "dic[\"second\"] = 10\n",
    "print(\"Updated dictionaries values.\",dic[\"second\"])\n",
    "\n",
    "#Print all the values in dictionary\n",
    "print(\"\\nPrint all the values in dictionary\") \n",
    "\n",
    "for j in dic:\n",
    "    print(dic[j])\n",
    "    \n",
    "print(\"\\nCheck if key exits.\") \n",
    "if \"second\" in dic:\n",
    "    print(\"Exists\")\n",
    "else:\n",
    "    print(\"Does not Exist\")"
   ]
  },
  {
   "cell_type": "code",
   "execution_count": 8,
   "metadata": {},
   "outputs": [
    {
     "name": "stdout",
     "output_type": "stream",
     "text": [
      "\n",
      " Add item to the exsting dic.\n",
      "{'first': 1, 'second': 10, 'third': 3, 'fourth': 2}\n"
     ]
    }
   ],
   "source": [
    "#Add items to the existing dictionaries\n",
    "print(\"\\n Add item to the exsting dic.\")\n",
    "dic[\"fourth\"] = 2\n",
    "print(dic)\n"
   ]
  },
  {
   "cell_type": "code",
   "execution_count": 13,
   "metadata": {},
   "outputs": [
    {
     "name": "stdout",
     "output_type": "stream",
     "text": [
      "\n",
      "Remove item from the list.\n",
      "{'first': 1, 'second': 2, 'third': 3}\n"
     ]
    }
   ],
   "source": [
    "print(\"\\nRemove item from the list.\")\n",
    "dic.pop(\"fourth\")\n",
    "print(dic)"
   ]
  },
  {
   "cell_type": "code",
   "execution_count": 14,
   "metadata": {},
   "outputs": [
    {
     "name": "stdout",
     "output_type": "stream",
     "text": [
      "\n",
      "Remove last item in the list\n",
      "{'first': 1, 'second': 2}\n"
     ]
    }
   ],
   "source": [
    "print(\"\\nRemove last item in the list\")\n",
    "dic.popitem()\n",
    "print(dic)"
   ]
  },
  {
   "cell_type": "code",
   "execution_count": 15,
   "metadata": {},
   "outputs": [
    {
     "name": "stdout",
     "output_type": "stream",
     "text": [
      "\n",
      "Remove item using del\n",
      "{'first': 1}\n"
     ]
    }
   ],
   "source": [
    "print(\"\\nRemove item using del\")\n",
    "del dic[\"second\"]\n",
    "print(dic)"
   ]
  },
  {
   "cell_type": "code",
   "execution_count": null,
   "metadata": {},
   "outputs": [],
   "source": [
    "#We can delete a dictionary using delete keyword\n",
    "#del dictionary name"
   ]
  }
 ],
 "metadata": {
  "kernelspec": {
   "display_name": "Python 3",
   "language": "python",
   "name": "python3"
  },
  "language_info": {
   "codemirror_mode": {
    "name": "ipython",
    "version": 3
   },
   "file_extension": ".py",
   "mimetype": "text/x-python",
   "name": "python",
   "nbconvert_exporter": "python",
   "pygments_lexer": "ipython3",
   "version": "3.7.0"
  }
 },
 "nbformat": 4,
 "nbformat_minor": 2
}
